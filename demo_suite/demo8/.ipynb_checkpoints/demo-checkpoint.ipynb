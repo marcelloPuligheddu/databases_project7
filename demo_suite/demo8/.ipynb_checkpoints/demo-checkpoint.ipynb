{
 "cells": [
  {
   "cell_type": "code",
   "execution_count": 1,
   "metadata": {},
   "outputs": [],
   "source": [
    "from pandas import pandas as pd\n",
    "import numpy as np\n",
    "import random\n",
    "import csv, sqlite3\n",
    "import logging\n",
    "import cProfile\n",
    "import lazypandas\n",
    "import matplotlib.pyplot as plt\n",
    "import datetime, warnings, scipy \n"
   ]
  },
  {
   "cell_type": "code",
   "execution_count": 2,
   "metadata": {},
   "outputs": [
    {
     "name": "stdout",
     "output_type": "stream",
     "text": [
      "LZ Creating engine\n"
     ]
    }
   ],
   "source": [
    "lz = lazypandas.lazy_pandas()"
   ]
  },
  {
   "cell_type": "code",
   "execution_count": 3,
   "metadata": {},
   "outputs": [
    {
     "name": "stdout",
     "output_type": "stream",
     "text": [
      "table name airlines\n",
      "[]\n",
      "new_stack\n",
      "140473091974032\n",
      "new lzpd stack select airlines.IATA_CODE, airlines.AIRLINE\n",
      "from airlines\n",
      "\n",
      "table name airports\n",
      "['airlines']\n",
      "new_stack\n",
      "140473096331160\n",
      "new lzpd stack select airports.IATA_CODE, airports.AIRPORT, airports.CITY, airports.STATE, airports.COUNTRY, airports.LATITUDE, airports.LONGITUDE\n",
      "from airports\n",
      "\n",
      "table name red_flights\n",
      "['airlines', 'airports']\n",
      "new_stack\n",
      "140473091625088\n",
      "new lzpd stack select red_flights.YEAR, red_flights.MONTH, red_flights.DAY, red_flights.DAY_OF_WEEK, red_flights.AIRLINE, red_flights.FLIGHT_NUMBER, red_flights.TAIL_NUMBER, red_flights.ORIGIN_AIRPORT, red_flights.DESTINATION_AIRPORT, red_flights.SCHEDULED_DEPARTURE, red_flights.DEPARTURE_TIME, red_flights.DEPARTURE_DELAY, red_flights.TAXI_OUT, red_flights.WHEELS_OFF, red_flights.SCHEDULED_TIME, red_flights.ELAPSED_TIME, red_flights.AIR_TIME, red_flights.DISTANCE, red_flights.WHEELS_ON, red_flights.TAXI_IN, red_flights.SCHEDULED_ARRIVAL, red_flights.ARRIVAL_TIME, red_flights.ARRIVAL_DELAY, red_flights.DIVERTED, red_flights.CANCELLED, red_flights.CANCELLATION_REASON, red_flights.AIR_SYSTEM_DELAY, red_flights.SECURITY_DELAY, red_flights.AIRLINE_DELAY, red_flights.LATE_AIRCRAFT_DELAY, red_flights.WEATHER_DELAY\n",
      "from red_flights\n",
      "\n"
     ]
    }
   ],
   "source": [
    "airlines = lz.read_csv('../dot/airlines.csv')\n",
    "airports = lz.read_csv('../dot/airports.csv')\n",
    "data  = lz.read_csv('../dot/red_flights.csv')"
   ]
  },
  {
   "cell_type": "code",
   "execution_count": 4,
   "metadata": {},
   "outputs": [
    {
     "name": "stdout",
     "output_type": "stream",
     "text": [
      "lazyDataFrame\n",
      "tables\n",
      "  red_flights :\n",
      "    YEAR : REAL\n",
      "    MONTH : REAL\n",
      "    DAY : REAL\n",
      "    DAY_OF_WEEK : REAL\n",
      "    AIRLINE : TEXT\n",
      "    FLIGHT_NUMBER : REAL\n",
      "    TAIL_NUMBER : TEXT\n",
      "    ORIGIN_AIRPORT : TEXT\n",
      "    DESTINATION_AIRPORT : TEXT\n",
      "    SCHEDULED_DEPARTURE : REAL\n",
      "    DEPARTURE_TIME : REAL\n",
      "    DEPARTURE_DELAY : REAL\n",
      "    TAXI_OUT : REAL\n",
      "    WHEELS_OFF : REAL\n",
      "    SCHEDULED_TIME : REAL\n",
      "    ELAPSED_TIME : REAL\n",
      "    AIR_TIME : REAL\n",
      "    DISTANCE : REAL\n",
      "    WHEELS_ON : REAL\n",
      "    TAXI_IN : REAL\n",
      "    SCHEDULED_ARRIVAL : REAL\n",
      "    ARRIVAL_TIME : REAL\n",
      "    ARRIVAL_DELAY : REAL\n",
      "    DIVERTED : REAL\n",
      "    CANCELLED : REAL\n",
      "    CANCELLATION_REASON : TEXT\n",
      "    AIR_SYSTEM_DELAY : REAL\n",
      "    SECURITY_DELAY : REAL\n",
      "    AIRLINE_DELAY : REAL\n",
      "    LATE_AIRCRAFT_DELAY : REAL\n",
      "    WEATHER_DELAY : REAL\n",
      "\n"
     ]
    }
   ],
   "source": [
    "data.info()"
   ]
  },
  {
   "cell_type": "code",
   "execution_count": 5,
   "metadata": {},
   "outputs": [
    {
     "name": "stdout",
     "output_type": "stream",
     "text": [
      "pre ['red_flights.YEAR', 'red_flights.MONTH', 'red_flights.DAY', 'red_flights.DAY_OF_WEEK', 'red_flights.AIRLINE', 'red_flights.FLIGHT_NUMBER', 'red_flights.TAIL_NUMBER', 'red_flights.ORIGIN_AIRPORT', 'red_flights.DESTINATION_AIRPORT', 'red_flights.SCHEDULED_DEPARTURE', 'red_flights.DEPARTURE_TIME', 'red_flights.DEPARTURE_DELAY', 'red_flights.TAXI_OUT', 'red_flights.WHEELS_OFF', 'red_flights.SCHEDULED_TIME', 'red_flights.ELAPSED_TIME', 'red_flights.AIR_TIME', 'red_flights.DISTANCE', 'red_flights.WHEELS_ON', 'red_flights.TAXI_IN', 'red_flights.SCHEDULED_ARRIVAL', 'red_flights.ARRIVAL_TIME', 'red_flights.ARRIVAL_DELAY', 'red_flights.DIVERTED', 'red_flights.CANCELLED', 'red_flights.CANCELLATION_REASON', 'red_flights.AIR_SYSTEM_DELAY', 'red_flights.SECURITY_DELAY', 'red_flights.AIRLINE_DELAY', 'red_flights.LATE_AIRCRAFT_DELAY', 'red_flights.WEATHER_DELAY'] ['red_flights'] []\n",
      "pre select count(*)\n",
      "from red_flights\n",
      "\n"
     ]
    },
    {
     "data": {
      "text/plain": [
       "(31, (99999,))"
      ]
     },
     "execution_count": 5,
     "metadata": {},
     "output_type": "execute_result"
    }
   ],
   "source": [
    "data.shape"
   ]
  },
  {
   "cell_type": "code",
   "execution_count": 6,
   "metadata": {
    "scrolled": true
   },
   "outputs": [
    {
     "name": "stdout",
     "output_type": "stream",
     "text": [
      "pre ['airports.IATA_CODE', 'airports.AIRPORT', 'airports.CITY', 'airports.STATE', 'airports.COUNTRY', 'airports.LATITUDE', 'airports.LONGITUDE'] ['airports'] []\n",
      "pre select count(*)\n",
      "from airports\n",
      "\n"
     ]
    },
    {
     "data": {
      "text/plain": [
       "(7, (322,))"
      ]
     },
     "execution_count": 6,
     "metadata": {},
     "output_type": "execute_result"
    }
   ],
   "source": [
    "airports.shape"
   ]
  },
  {
   "cell_type": "code",
   "execution_count": 7,
   "metadata": {
    "scrolled": true
   },
   "outputs": [
    {
     "name": "stdout",
     "output_type": "stream",
     "text": [
      "\n",
      "0    True\n",
      "1    True\n",
      "2    True\n",
      "3    True\n",
      "4    True\n",
      "Name: MONTH, dtype: bool\n",
      "\n",
      "   YEAR  MONTH  DAY  DAY_OF_WEEK AIRLINE  FLIGHT_NUMBER TAIL_NUMBER  \\\n",
      "0  2015      1    1            4      AS             98      N407AS   \n",
      "1  2015      1    1            4      AA           2336      N3KUAA   \n",
      "2  2015      1    1            4      US            840      N171US   \n",
      "3  2015      1    1            4      AA            258      N3HYAA   \n",
      "4  2015      1    1            4      AS            135      N527AS   \n",
      "\n",
      "  ORIGIN_AIRPORT DESTINATION_AIRPORT  SCHEDULED_DEPARTURE      ...        \\\n",
      "0            ANC                 SEA                    5      ...         \n",
      "1            LAX                 PBI                   10      ...         \n",
      "2            SFO                 CLT                   20      ...         \n",
      "3            LAX                 MIA                   20      ...         \n",
      "4            SEA                 ANC                   25      ...         \n",
      "\n",
      "   ARRIVAL_TIME  ARRIVAL_DELAY  DIVERTED  CANCELLED  CANCELLATION_REASON  \\\n",
      "0         408.0          -22.0         0          0                 None   \n",
      "1         741.0           -9.0         0          0                 None   \n",
      "2         811.0            5.0         0          0                 None   \n",
      "3         756.0           -9.0         0          0                 None   \n",
      "4         259.0          -21.0         0          0                 None   \n",
      "\n",
      "   AIR_SYSTEM_DELAY  SECURITY_DELAY  AIRLINE_DELAY  LATE_AIRCRAFT_DELAY  \\\n",
      "0               NaN             NaN            NaN                  NaN   \n",
      "1               NaN             NaN            NaN                  NaN   \n",
      "2               NaN             NaN            NaN                  NaN   \n",
      "3               NaN             NaN            NaN                  NaN   \n",
      "4               NaN             NaN            NaN                  NaN   \n",
      "\n",
      "   WEATHER_DELAY  \n",
      "0            NaN  \n",
      "1            NaN  \n",
      "2            NaN  \n",
      "3            NaN  \n",
      "4            NaN  \n",
      "\n",
      "[5 rows x 31 columns]\n"
     ]
    }
   ],
   "source": [
    "temp = data.to_pd()\n",
    "a = temp['MONTH'] == 1\n",
    "b = temp[a]\n",
    "print()\n",
    "print(a.head())\n",
    "print()\n",
    "print(b.head())"
   ]
  },
  {
   "cell_type": "code",
   "execution_count": 8,
   "metadata": {},
   "outputs": [
    {
     "name": "stdout",
     "output_type": "stream",
     "text": [
      "select red_flights.YEAR, red_flights.MONTH, red_flights.DAY, red_flights.DAY_OF_WEEK, red_flights.AIRLINE, red_flights.FLIGHT_NUMBER, red_flights.TAIL_NUMBER, red_flights.ORIGIN_AIRPORT, red_flights.DESTINATION_AIRPORT, red_flights.SCHEDULED_DEPARTURE, red_flights.DEPARTURE_TIME, red_flights.DEPARTURE_DELAY, red_flights.TAXI_OUT, red_flights.WHEELS_OFF, red_flights.SCHEDULED_TIME, red_flights.ELAPSED_TIME, red_flights.AIR_TIME, red_flights.DISTANCE, red_flights.WHEELS_ON, red_flights.TAXI_IN, red_flights.SCHEDULED_ARRIVAL, red_flights.ARRIVAL_TIME, red_flights.ARRIVAL_DELAY, red_flights.DIVERTED, red_flights.CANCELLED, red_flights.CANCELLATION_REASON, red_flights.AIR_SYSTEM_DELAY, red_flights.SECURITY_DELAY, red_flights.AIRLINE_DELAY, red_flights.LATE_AIRCRAFT_DELAY, red_flights.WEATHER_DELAY\n",
      "from red_flights\n",
      "\n",
      "caught get [] 2\n",
      "col_name MONTH\n",
      "new lzpd stack select MONTH\n",
      "from red_flights\n",
      "\n",
      "select MONTH\n",
      "from red_flights\n",
      "\n",
      "caught get [] 2\n",
      "col_name DAY\n",
      "new lzpd stack select DAY\n",
      "from red_flights\n",
      "\n",
      "caught get [] 2\n",
      "col_name DAY\n",
      "new lzpd stack select DAY\n",
      "from red_flights\n",
      "\n",
      "140473090654952\n",
      "140473090655232\n",
      "140473091710200\n",
      "140474019679424\n"
     ]
    }
   ],
   "source": [
    "print(data.stack)\n",
    "a = data['MONTH']\n",
    "print(data.stack)\n",
    "b = data['DAY']\n",
    "c = data['DAY']\n",
    "print(id(a.RA))\n",
    "print(id(b.RA))\n",
    "print(id(c.RA))\n",
    "print(id(data.RA))\n"
   ]
  },
  {
   "cell_type": "code",
   "execution_count": null,
   "metadata": {
    "collapsed": true
   },
   "outputs": [],
   "source": [
    "stop here please"
   ]
  },
  {
   "cell_type": "code",
   "execution_count": 9,
   "metadata": {
    "scrolled": true
   },
   "outputs": [
    {
     "name": "stdout",
     "output_type": "stream",
     "text": [
      "caught drop na subset () {'subset': ['LATITUDE', 'LONGITUDE']}\n",
      "new lzpd stack select airports.IATA_CODE, airports.AIRPORT, airports.CITY, airports.STATE, airports.COUNTRY, airports.LATITUDE, airports.LONGITUDE\n",
      "from airports\n",
      "where (LATITUDE is not null) and (LONGITUDE is not null)\n",
      "\n"
     ]
    }
   ],
   "source": [
    "airports = airports.dropna(subset = ['LATITUDE','LONGITUDE'])"
   ]
  },
  {
   "cell_type": "code",
   "execution_count": 10,
   "metadata": {},
   "outputs": [
    {
     "name": "stdout",
     "output_type": "stream",
     "text": [
      "caught drop na subset () {'subset': ['TAIL_NUMBER', 'DEPARTURE_TIME', 'DEPARTURE_DELAY', 'TAXI_OUT', 'WHEELS_OFF', 'SCHEDULED_TIME', 'ELAPSED_TIME', 'AIR_TIME', 'WHEELS_ON', 'TAXI_IN', 'ARRIVAL_TIME', 'ARRIVAL_DELAY']}\n",
      "new lzpd stack select DAY\n",
      "from red_flights\n",
      "where (TAIL_NUMBER is not null) and (DEPARTURE_TIME is not null) and (DEPARTURE_DELAY is not null) and (TAXI_OUT is not null) and (WHEELS_OFF is not null) and (SCHEDULED_TIME is not null) and (ELAPSED_TIME is not null) and (AIR_TIME is not null) and (WHEELS_ON is not null) and (TAXI_IN is not null) and (ARRIVAL_TIME is not null) and (ARRIVAL_DELAY is not null)\n",
      "\n"
     ]
    }
   ],
   "source": [
    "data1 = data.dropna(subset = [\"TAIL_NUMBER\",'DEPARTURE_TIME','DEPARTURE_DELAY','TAXI_OUT','WHEELS_OFF','SCHEDULED_TIME',\n",
    "             'ELAPSED_TIME','AIR_TIME','WHEELS_ON','TAXI_IN','ARRIVAL_TIME','ARRIVAL_DELAY'])"
   ]
  },
  {
   "cell_type": "code",
   "execution_count": 11,
   "metadata": {},
   "outputs": [
    {
     "name": "stdout",
     "output_type": "stream",
     "text": [
      "caught drop na subset () {'subset': ['AIR_SYSTEM_DELAY', 'SECURITY_DELAY', 'AIRLINE_DELAY', 'LATE_AIRCRAFT_DELAY', 'WEATHER_DELAY']}\n",
      "new lzpd stack select DAY\n",
      "from red_flights\n",
      "where (TAIL_NUMBER is not null) and (DEPARTURE_TIME is not null) and (DEPARTURE_DELAY is not null) and (TAXI_OUT is not null) and (WHEELS_OFF is not null) and (SCHEDULED_TIME is not null) and (ELAPSED_TIME is not null) and (AIR_TIME is not null) and (WHEELS_ON is not null) and (TAXI_IN is not null) and (ARRIVAL_TIME is not null) and (ARRIVAL_DELAY is not null) and (AIR_SYSTEM_DELAY is not null) and (SECURITY_DELAY is not null) and (AIRLINE_DELAY is not null) and (LATE_AIRCRAFT_DELAY is not null) and (WEATHER_DELAY is not null)\n",
      "\n",
      "caught drop  labels (['YEAR', 'MONTH', 'DAY', 'DAY_OF_WEEK', 'TAIL_NUMBER', 'SCHEDULED_DEPARTURE', 'DEPARTURE_TIME', 'SCHEDULED_TIME', 'SCHEDULED_ARRIVAL', 'ARRIVAL_TIME', 'DIVERTED', 'CANCELLED', 'CANCELLATION_REASON', 'FLIGHT_NUMBER', 'WHEELS_OFF', 'WHEELS_ON', 'AIR_TIME'],) {'axis': 1}\n",
      "new lzpd stack select DAY\n",
      "from red_flights\n",
      "where (TAIL_NUMBER is not null) and (DEPARTURE_TIME is not null) and (DEPARTURE_DELAY is not null) and (TAXI_OUT is not null) and (WHEELS_OFF is not null) and (SCHEDULED_TIME is not null) and (ELAPSED_TIME is not null) and (AIR_TIME is not null) and (WHEELS_ON is not null) and (TAXI_IN is not null) and (ARRIVAL_TIME is not null) and (ARRIVAL_DELAY is not null) and (AIR_SYSTEM_DELAY is not null) and (SECURITY_DELAY is not null) and (AIRLINE_DELAY is not null) and (LATE_AIRCRAFT_DELAY is not null) and (WEATHER_DELAY is not null)\n",
      "\n"
     ]
    }
   ],
   "source": [
    "data11 = data1.dropna(subset = ['AIR_SYSTEM_DELAY','SECURITY_DELAY','AIRLINE_DELAY','LATE_AIRCRAFT_DELAY','WEATHER_DELAY'])\n",
    "data11 = data11.drop(['YEAR','MONTH','DAY','DAY_OF_WEEK','TAIL_NUMBER','SCHEDULED_DEPARTURE','DEPARTURE_TIME','SCHEDULED_TIME',\n",
    "                     'SCHEDULED_ARRIVAL','ARRIVAL_TIME','DIVERTED','CANCELLED','CANCELLATION_REASON','FLIGHT_NUMBER','WHEELS_OFF',\n",
    "                     'WHEELS_ON','AIR_TIME'],axis = 1)"
   ]
  },
  {
   "cell_type": "code",
   "execution_count": 12,
   "metadata": {
    "collapsed": true
   },
   "outputs": [],
   "source": [
    "# The other Dataset\n",
    "Flight_Delays = data11"
   ]
  },
  {
   "cell_type": "code",
   "execution_count": 13,
   "metadata": {},
   "outputs": [
    {
     "name": "stdout",
     "output_type": "stream",
     "text": [
      "caught drop  labels (['CANCELLATION_REASON', 'AIR_SYSTEM_DELAY', 'SECURITY_DELAY', 'AIRLINE_DELAY', 'LATE_AIRCRAFT_DELAY', 'WEATHER_DELAY'],) {'axis': 1}\n",
      "new lzpd stack select DAY\n",
      "from red_flights\n",
      "where (TAIL_NUMBER is not null) and (DEPARTURE_TIME is not null) and (DEPARTURE_DELAY is not null) and (TAXI_OUT is not null) and (WHEELS_OFF is not null) and (SCHEDULED_TIME is not null) and (ELAPSED_TIME is not null) and (AIR_TIME is not null) and (WHEELS_ON is not null) and (TAXI_IN is not null) and (ARRIVAL_TIME is not null) and (ARRIVAL_DELAY is not null) and (AIR_SYSTEM_DELAY is not null) and (SECURITY_DELAY is not null) and (AIRLINE_DELAY is not null) and (LATE_AIRCRAFT_DELAY is not null) and (WEATHER_DELAY is not null)\n",
      "\n"
     ]
    }
   ],
   "source": [
    "# Creating Dataset by removing null values by not focussing fully on different types of Delays\n",
    "data2 = data1.drop(['CANCELLATION_REASON','AIR_SYSTEM_DELAY','SECURITY_DELAY','AIRLINE_DELAY',\n",
    "                    'LATE_AIRCRAFT_DELAY','WEATHER_DELAY'],axis = 1)"
   ]
  },
  {
   "cell_type": "code",
   "execution_count": 14,
   "metadata": {},
   "outputs": [
    {
     "name": "stdout",
     "output_type": "stream",
     "text": [
      "pre ['DAY'] ['red_flights'] ['TAIL_NUMBER is not null', 'DEPARTURE_TIME is not null', 'DEPARTURE_DELAY is not null', 'TAXI_OUT is not null', 'WHEELS_OFF is not null', 'SCHEDULED_TIME is not null', 'ELAPSED_TIME is not null', 'AIR_TIME is not null', 'WHEELS_ON is not null', 'TAXI_IN is not null', 'ARRIVAL_TIME is not null', 'ARRIVAL_DELAY is not null', 'AIR_SYSTEM_DELAY is not null', 'SECURITY_DELAY is not null', 'AIRLINE_DELAY is not null', 'LATE_AIRCRAFT_DELAY is not null', 'WEATHER_DELAY is not null']\n",
      "pre select count(*)\n",
      "from red_flights\n",
      "where (TAIL_NUMBER is not null) and (DEPARTURE_TIME is not null) and (DEPARTURE_DELAY is not null) and (TAXI_OUT is not null) and (WHEELS_OFF is not null) and (SCHEDULED_TIME is not null) and (ELAPSED_TIME is not null) and (AIR_TIME is not null) and (WHEELS_ON is not null) and (TAXI_IN is not null) and (ARRIVAL_TIME is not null) and (ARRIVAL_DELAY is not null) and (AIR_SYSTEM_DELAY is not null) and (SECURITY_DELAY is not null) and (AIRLINE_DELAY is not null) and (LATE_AIRCRAFT_DELAY is not null) and (WEATHER_DELAY is not null)\n",
      "\n"
     ]
    },
    {
     "data": {
      "text/plain": [
       "(1, (34625,))"
      ]
     },
     "execution_count": 14,
     "metadata": {},
     "output_type": "execute_result"
    }
   ],
   "source": [
    "data2.shape"
   ]
  },
  {
   "cell_type": "code",
   "execution_count": 15,
   "metadata": {
    "scrolled": true
   },
   "outputs": [
    {
     "name": "stdout",
     "output_type": "stream",
     "text": [
      "lazyDataFrame\n",
      "tables\n",
      "  red_flights :\n",
      "    YEAR : REAL\n",
      "    MONTH : REAL\n",
      "    DAY : REAL\n",
      "    DAY_OF_WEEK : REAL\n",
      "    AIRLINE : TEXT\n",
      "    FLIGHT_NUMBER : REAL\n",
      "    TAIL_NUMBER : TEXT\n",
      "    ORIGIN_AIRPORT : TEXT\n",
      "    DESTINATION_AIRPORT : TEXT\n",
      "    SCHEDULED_DEPARTURE : REAL\n",
      "    DEPARTURE_TIME : REAL\n",
      "    DEPARTURE_DELAY : REAL\n",
      "    TAXI_OUT : REAL\n",
      "    WHEELS_OFF : REAL\n",
      "    SCHEDULED_TIME : REAL\n",
      "    ELAPSED_TIME : REAL\n",
      "    AIR_TIME : REAL\n",
      "    DISTANCE : REAL\n",
      "    WHEELS_ON : REAL\n",
      "    TAXI_IN : REAL\n",
      "    SCHEDULED_ARRIVAL : REAL\n",
      "    ARRIVAL_TIME : REAL\n",
      "    ARRIVAL_DELAY : REAL\n",
      "    DIVERTED : REAL\n",
      "    CANCELLED : REAL\n",
      "    CANCELLATION_REASON : TEXT\n",
      "    AIR_SYSTEM_DELAY : REAL\n",
      "    SECURITY_DELAY : REAL\n",
      "    AIRLINE_DELAY : REAL\n",
      "    LATE_AIRCRAFT_DELAY : REAL\n",
      "    WEATHER_DELAY : REAL\n",
      "\n"
     ]
    }
   ],
   "source": [
    "data2.info()"
   ]
  },
  {
   "cell_type": "code",
   "execution_count": 16,
   "metadata": {
    "collapsed": true
   },
   "outputs": [],
   "source": [
    "# Creating a function to change the way of representation of time in the column\n",
    "@np.vectorize\n",
    "def Format_Hourmin(hours):\n",
    "        if hours == 2400:\n",
    "            hours = 0\n",
    "        else:\n",
    "            hours = \"{0:04d}\".format(int(hours))\n",
    "            Hourmin = datetime.time(int(hours[0:2]), int(hours[2:4]))\n",
    "            return Hourmin"
   ]
  },
  {
   "cell_type": "code",
   "execution_count": 17,
   "metadata": {},
   "outputs": [
    {
     "name": "stdout",
     "output_type": "stream",
     "text": [
      "caught get [] 1\n",
      "1 dim. Reverting to numpy\n"
     ]
    },
    {
     "ename": "IndexError",
     "evalue": "only integers, slices (`:`), ellipsis (`...`), numpy.newaxis (`None`) and integer or boolean arrays are valid indices",
     "output_type": "error",
     "traceback": [
      "\u001b[0;31m---------------------------------------------------------------------------\u001b[0m",
      "\u001b[0;31mIndexError\u001b[0m                                Traceback (most recent call last)",
      "\u001b[0;32m<ipython-input-17-902668f8c592>\u001b[0m in \u001b[0;36m<module>\u001b[0;34m()\u001b[0m\n\u001b[0;32m----> 1\u001b[0;31m \u001b[0mdata1\u001b[0m\u001b[0;34m[\u001b[0m\u001b[0;34m'CANCELLED'\u001b[0m\u001b[0;34m]\u001b[0m\u001b[0;34m\u001b[0m\u001b[0;34m\u001b[0m\u001b[0m\n\u001b[0m",
      "\u001b[0;32m~/Desktop/DataBases_class/P7/databases_project7/demo_suite/demo8/lazypandas.py\u001b[0m in \u001b[0;36m__getitem__\u001b[0;34m(self, attribute)\u001b[0m\n\u001b[1;32m     40\u001b[0m         \u001b[0;32mif\u001b[0m \u001b[0mself\u001b[0m\u001b[0;34m.\u001b[0m\u001b[0mndim\u001b[0m \u001b[0;34m==\u001b[0m \u001b[0;36m1\u001b[0m\u001b[0;34m:\u001b[0m\u001b[0;34m\u001b[0m\u001b[0;34m\u001b[0m\u001b[0m\n\u001b[1;32m     41\u001b[0m             \u001b[0mprint\u001b[0m\u001b[0;34m(\u001b[0m\u001b[0;34m'1 dim. Reverting to numpy'\u001b[0m\u001b[0;34m)\u001b[0m\u001b[0;34m\u001b[0m\u001b[0;34m\u001b[0m\u001b[0m\n\u001b[0;32m---> 42\u001b[0;31m             \u001b[0;32mreturn\u001b[0m \u001b[0mself\u001b[0m\u001b[0;34m.\u001b[0m\u001b[0m__array__\u001b[0m\u001b[0;34m(\u001b[0m\u001b[0;34m)\u001b[0m\u001b[0;34m[\u001b[0m\u001b[0mattribute\u001b[0m\u001b[0;34m]\u001b[0m\u001b[0;34m\u001b[0m\u001b[0;34m\u001b[0m\u001b[0m\n\u001b[0m\u001b[1;32m     43\u001b[0m         ret = lazyDf(self.table_names, self.dotted_fields, self.dotted_datatype, \n\u001b[1;32m     44\u001b[0m                      RA.RA_project(self, attribute), self.con)\n",
      "\u001b[0;31mIndexError\u001b[0m: only integers, slices (`:`), ellipsis (`...`), numpy.newaxis (`None`) and integer or boolean arrays are valid indices"
     ]
    }
   ],
   "source": [
    "data1['CANCELLED']"
   ]
  },
  {
   "cell_type": "code",
   "execution_count": null,
   "metadata": {
    "collapsed": true,
    "scrolled": true
   },
   "outputs": [],
   "source": [
    "out = data1.execute('select month, airline, AVG(CANCELLED) from red_flights group by airline, month ').fetchall()\n",
    "m, a, rel = list(map(list, zip(*out)))\n"
   ]
  },
  {
   "cell_type": "code",
   "execution_count": null,
   "metadata": {},
   "outputs": [],
   "source": [
    "print(a)\n",
    "plt.plot(a, rel)\n",
    "plt.show()"
   ]
  },
  {
   "cell_type": "code",
   "execution_count": null,
   "metadata": {
    "scrolled": true
   },
   "outputs": [],
   "source": [
    "x = data1['DEPARTURE_TIME'].apply(Format_Hourmin)\n",
    "#data2['Actual_Departure'] = x\n",
    "x"
   ]
  },
  {
   "cell_type": "code",
   "execution_count": null,
   "metadata": {},
   "outputs": [],
   "source": [
    "plt.plot(data['ELAPSED_TIME'], data['DISTANCE'], '.')\n",
    "plt.show()"
   ]
  },
  {
   "cell_type": "code",
   "execution_count": null,
   "metadata": {},
   "outputs": [],
   "source": [
    "data = data.dropna(['DISTANCE', 'ARRIVAL_DELAY'])\n",
    "type(a)"
   ]
  },
  {
   "cell_type": "code",
   "execution_count": null,
   "metadata": {},
   "outputs": [],
   "source": [
    "x = data['DISTANCE'].to_pd().values.flatten()\n",
    "y = data['ARRIVAL_DELAY'].to_pd().values.flatten()\n",
    "\n",
    "heatmap, xedges, yedges = np.histogram2d(x, y, bins=16)\n",
    "plt.imshow(heatmap.T, origin='lower')\n",
    "plt.show()"
   ]
  },
  {
   "cell_type": "code",
   "execution_count": null,
   "metadata": {},
   "outputs": [],
   "source": [
    "a = data['DISTANCE']\n",
    "a.generate_stack()"
   ]
  },
  {
   "cell_type": "code",
   "execution_count": null,
   "metadata": {},
   "outputs": [],
   "source": [
    "from util import csvToDb, out_to_pd\n",
    "out = data.execute('select min(AIRLINE_DELAY) from red_flights')\n",
    "print(out.description[0])\n",
    "out.fetchone()\n",
    "#data.dotted_datatype"
   ]
  },
  {
   "cell_type": "code",
   "execution_count": null,
   "metadata": {
    "scrolled": true
   },
   "outputs": [],
   "source": [
    "a = data.to_pd()\n",
    "a.describe()"
   ]
  },
  {
   "cell_type": "code",
   "execution_count": null,
   "metadata": {},
   "outputs": [],
   "source": [
    "flights.info()"
   ]
  },
  {
   "cell_type": "code",
   "execution_count": null,
   "metadata": {
    "collapsed": true
   },
   "outputs": [],
   "source": [
    "a = data.DAG.nodes[0].generate_stack()"
   ]
  },
  {
   "cell_type": "code",
   "execution_count": null,
   "metadata": {
    "collapsed": true
   },
   "outputs": [],
   "source": [
    "boh, index = np.unique(a.select_stack, return_inverse=True)\n",
    "boh, boh[index]"
   ]
  },
  {
   "cell_type": "code",
   "execution_count": null,
   "metadata": {
    "collapsed": true
   },
   "outputs": [],
   "source": [
    "a.select_stack"
   ]
  },
  {
   "cell_type": "code",
   "execution_count": null,
   "metadata": {},
   "outputs": [],
   "source": [
    "# Merging on AIRLINE and IATA_CODE\n",
    "data2 = data2.merge(airlines, left_on='AIRLINE', right_on='IATA_CODE', how='inner')"
   ]
  },
  {
   "cell_type": "code",
   "execution_count": null,
   "metadata": {},
   "outputs": [],
   "source": [
    "data2['AIRLINE']"
   ]
  },
  {
   "cell_type": "code",
   "execution_count": null,
   "metadata": {
    "collapsed": true
   },
   "outputs": [],
   "source": []
  }
 ],
 "metadata": {
  "kernelspec": {
   "display_name": "Python 3",
   "language": "python",
   "name": "python3"
  },
  "language_info": {
   "codemirror_mode": {
    "name": "ipython",
    "version": 3
   },
   "file_extension": ".py",
   "mimetype": "text/x-python",
   "name": "python",
   "nbconvert_exporter": "python",
   "pygments_lexer": "ipython3",
   "version": "3.6.7"
  }
 },
 "nbformat": 4,
 "nbformat_minor": 2
}

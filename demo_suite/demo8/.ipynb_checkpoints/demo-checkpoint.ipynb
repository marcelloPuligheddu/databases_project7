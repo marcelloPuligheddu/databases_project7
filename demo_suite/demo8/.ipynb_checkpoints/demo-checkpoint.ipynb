{
 "cells": [
  {
   "cell_type": "code",
   "execution_count": 1,
   "metadata": {
    "collapsed": true
   },
   "outputs": [],
   "source": [
    "from pandas import pandas as pd\n",
    "import numpy as np\n",
    "import random\n",
    "import csv, sqlite3\n",
    "import logging\n",
    "import cProfile\n",
    "import lazypandas\n",
    "import matplotlib.pyplot as plt\n",
    "import datetime, scipy "
   ]
  },
  {
   "cell_type": "code",
   "execution_count": 2,
   "metadata": {},
   "outputs": [
    {
     "name": "stdout",
     "output_type": "stream",
     "text": [
      "LZ Creating engine\n"
     ]
    }
   ],
   "source": [
    "lz = lazypandas.lazy_pandas()"
   ]
  },
  {
   "cell_type": "code",
   "execution_count": 3,
   "metadata": {},
   "outputs": [
    {
     "name": "stdout",
     "output_type": "stream",
     "text": [
      "table name airlines\n",
      "new_stack\n",
      "139977242238088\n",
      "new lzpd stack select airlines.AIRLINE, airlines.IATA_CODE, airlines.auto_index\n",
      "from airlines\n",
      "\n",
      "table name airports\n",
      "new_stack\n",
      "139977238144728\n",
      "new lzpd stack select airports.AIRPORT, airports.CITY, airports.COUNTRY, airports.IATA_CODE, airports.LATITUDE, airports.LONGITUDE, airports.STATE, airports.auto_index\n",
      "from airports\n",
      "\n",
      "table name red_flights\n",
      "new_stack\n",
      "139977237861992\n",
      "new lzpd stack select red_flights.AIRLINE, red_flights.AIRLINE_DELAY, red_flights.AIR_SYSTEM_DELAY, red_flights.AIR_TIME, red_flights.ARRIVAL_DELAY, red_flights.ARRIVAL_TIME, red_flights.CANCELLATION_REASON, red_flights.CANCELLED, red_flights.DAY, red_flights.DAY_OF_WEEK, red_flights.DEPARTURE_DELAY, red_flights.DEPARTURE_TIME, red_flights.DESTINATION_AIRPORT, red_flights.DISTANCE, red_flights.DIVERTED, red_flights.ELAPSED_TIME, red_flights.FLIGHT_NUMBER, red_flights.LATE_AIRCRAFT_DELAY, red_flights.MONTH, red_flights.ORIGIN_AIRPORT, red_flights.SCHEDULED_ARRIVAL, red_flights.SCHEDULED_DEPARTURE, red_flights.SCHEDULED_TIME, red_flights.SECURITY_DELAY, red_flights.TAIL_NUMBER, red_flights.TAXI_IN, red_flights.TAXI_OUT, red_flights.WEATHER_DELAY, red_flights.WHEELS_OFF, red_flights.WHEELS_ON, red_flights.YEAR, red_flights.auto_index\n",
      "from red_flights\n",
      "\n"
     ]
    }
   ],
   "source": [
    "airlines = lz.read_csv('../dot/airlines.csv')\n",
    "airports = lz.read_csv('../dot/airports.csv')\n",
    "data  = lz.read_csv('../dot/red_flights.csv')"
   ]
  },
  {
   "cell_type": "code",
   "execution_count": 4,
   "metadata": {},
   "outputs": [
    {
     "data": {
      "text/plain": [
       "[(0,), (1,), (2,), (3,), (4,)]"
      ]
     },
     "execution_count": 4,
     "metadata": {},
     "output_type": "execute_result"
    }
   ],
   "source": [
    "data.execute('select auto_index from red_flights limit 5 ').fetchall()"
   ]
  },
  {
   "cell_type": "code",
   "execution_count": 5,
   "metadata": {},
   "outputs": [
    {
     "name": "stdout",
     "output_type": "stream",
     "text": [
      "caught get [ airline ]\n",
      "col_name airline\n",
      "simple project airline\n",
      "new lzpd stack select airline\n",
      "from red_flights\n",
      "\n",
      "1D\n"
     ]
    },
    {
     "data": {
      "text/plain": [
       "['AS' 'AA' 'US' ... 'NK' 'OO' 'UA']"
      ]
     },
     "execution_count": 5,
     "metadata": {},
     "output_type": "execute_result"
    }
   ],
   "source": [
    "data['airline']"
   ]
  },
  {
   "cell_type": "code",
   "execution_count": 6,
   "metadata": {},
   "outputs": [
    {
     "name": "stdout",
     "output_type": "stream",
     "text": [
      "lazyDataFrame\n",
      "tables\n",
      "  red_flights :\n",
      "    YEAR : REAL\n",
      "    MONTH : REAL\n",
      "    DAY : REAL\n",
      "    DAY_OF_WEEK : REAL\n",
      "    AIRLINE : TEXT\n",
      "    FLIGHT_NUMBER : REAL\n",
      "    TAIL_NUMBER : TEXT\n",
      "    ORIGIN_AIRPORT : TEXT\n",
      "    DESTINATION_AIRPORT : TEXT\n",
      "    SCHEDULED_DEPARTURE : REAL\n",
      "    DEPARTURE_TIME : REAL\n",
      "    DEPARTURE_DELAY : REAL\n",
      "    TAXI_OUT : REAL\n",
      "    WHEELS_OFF : REAL\n",
      "    SCHEDULED_TIME : REAL\n",
      "    ELAPSED_TIME : REAL\n",
      "    AIR_TIME : REAL\n",
      "    DISTANCE : REAL\n",
      "    WHEELS_ON : REAL\n",
      "    TAXI_IN : REAL\n",
      "    SCHEDULED_ARRIVAL : REAL\n",
      "    ARRIVAL_TIME : REAL\n",
      "    ARRIVAL_DELAY : REAL\n",
      "    DIVERTED : REAL\n",
      "    CANCELLED : REAL\n",
      "    CANCELLATION_REASON : TEXT\n",
      "    AIR_SYSTEM_DELAY : REAL\n",
      "    SECURITY_DELAY : REAL\n",
      "    AIRLINE_DELAY : REAL\n",
      "    LATE_AIRCRAFT_DELAY : REAL\n",
      "    WEATHER_DELAY : REAL\n",
      "    auto_index : INTEGER\n",
      "\n"
     ]
    }
   ],
   "source": [
    "data.info()"
   ]
  },
  {
   "cell_type": "code",
   "execution_count": 7,
   "metadata": {},
   "outputs": [
    {
     "data": {
      "text/plain": [
       "select red_flights.AIRLINE, red_flights.AIRLINE_DELAY, red_flights.AIR_SYSTEM_DELAY, red_flights.AIR_TIME, red_flights.ARRIVAL_DELAY, red_flights.ARRIVAL_TIME, red_flights.CANCELLATION_REASON, red_flights.CANCELLED, red_flights.DAY, red_flights.DAY_OF_WEEK, red_flights.DEPARTURE_DELAY, red_flights.DEPARTURE_TIME, red_flights.DESTINATION_AIRPORT, red_flights.DISTANCE, red_flights.DIVERTED, red_flights.ELAPSED_TIME, red_flights.FLIGHT_NUMBER, red_flights.LATE_AIRCRAFT_DELAY, red_flights.MONTH, red_flights.ORIGIN_AIRPORT, red_flights.SCHEDULED_ARRIVAL, red_flights.SCHEDULED_DEPARTURE, red_flights.SCHEDULED_TIME, red_flights.SECURITY_DELAY, red_flights.TAIL_NUMBER, red_flights.TAXI_IN, red_flights.TAXI_OUT, red_flights.WEATHER_DELAY, red_flights.WHEELS_OFF, red_flights.WHEELS_ON, red_flights.YEAR, red_flights.auto_index\n",
       "from red_flights"
      ]
     },
     "execution_count": 7,
     "metadata": {},
     "output_type": "execute_result"
    }
   ],
   "source": [
    "data.stack"
   ]
  },
  {
   "cell_type": "code",
   "execution_count": 8,
   "metadata": {},
   "outputs": [
    {
     "name": "stdout",
     "output_type": "stream",
     "text": [
      "caught groupby DAY\n",
      "R: looking for  DAY in red_flights ['YEAR', 'MONTH', 'DAY', 'DAY_OF_WEEK', 'AIRLINE', 'FLIGHT_NUMBER', 'TAIL_NUMBER', 'ORIGIN_AIRPORT', 'DESTINATION_AIRPORT', 'SCHEDULED_DEPARTURE', 'DEPARTURE_TIME', 'DEPARTURE_DELAY', 'TAXI_OUT', 'WHEELS_OFF', 'SCHEDULED_TIME', 'ELAPSED_TIME', 'AIR_TIME', 'DISTANCE', 'WHEELS_ON', 'TAXI_IN', 'SCHEDULED_ARRIVAL', 'ARRIVAL_TIME', 'ARRIVAL_DELAY', 'DIVERTED', 'CANCELLED', 'CANCELLATION_REASON', 'AIR_SYSTEM_DELAY', 'SECURITY_DELAY', 'AIRLINE_DELAY', 'LATE_AIRCRAFT_DELAY', 'WEATHER_DELAY', 'auto_index']\n",
      "new lzpd stack select red_flights.AIRLINE, red_flights.AIRLINE_DELAY, red_flights.AIR_SYSTEM_DELAY, red_flights.AIR_TIME, red_flights.ARRIVAL_DELAY, red_flights.ARRIVAL_TIME, red_flights.CANCELLATION_REASON, red_flights.CANCELLED, red_flights.DAY, red_flights.DAY_OF_WEEK, red_flights.DEPARTURE_DELAY, red_flights.DEPARTURE_TIME, red_flights.DESTINATION_AIRPORT, red_flights.DISTANCE, red_flights.DIVERTED, red_flights.ELAPSED_TIME, red_flights.FLIGHT_NUMBER, red_flights.LATE_AIRCRAFT_DELAY, red_flights.MONTH, red_flights.ORIGIN_AIRPORT, red_flights.SCHEDULED_ARRIVAL, red_flights.SCHEDULED_DEPARTURE, red_flights.SCHEDULED_TIME, red_flights.SECURITY_DELAY, red_flights.TAIL_NUMBER, red_flights.TAXI_IN, red_flights.TAXI_OUT, red_flights.WEATHER_DELAY, red_flights.WHEELS_OFF, red_flights.WHEELS_ON, red_flights.YEAR, red_flights.auto_index\n",
      "from red_flights\n",
      "group by (red_flights.DAY)\n",
      "\n"
     ]
    }
   ],
   "source": [
    "byday = data.groupby('DAY')"
   ]
  },
  {
   "cell_type": "code",
   "execution_count": 9,
   "metadata": {},
   "outputs": [
    {
     "data": {
      "text/plain": [
       "select red_flights.AIRLINE, red_flights.AIRLINE_DELAY, red_flights.AIR_SYSTEM_DELAY, red_flights.AIR_TIME, red_flights.ARRIVAL_DELAY, red_flights.ARRIVAL_TIME, red_flights.CANCELLATION_REASON, red_flights.CANCELLED, red_flights.DAY, red_flights.DAY_OF_WEEK, red_flights.DEPARTURE_DELAY, red_flights.DEPARTURE_TIME, red_flights.DESTINATION_AIRPORT, red_flights.DISTANCE, red_flights.DIVERTED, red_flights.ELAPSED_TIME, red_flights.FLIGHT_NUMBER, red_flights.LATE_AIRCRAFT_DELAY, red_flights.MONTH, red_flights.ORIGIN_AIRPORT, red_flights.SCHEDULED_ARRIVAL, red_flights.SCHEDULED_DEPARTURE, red_flights.SCHEDULED_TIME, red_flights.SECURITY_DELAY, red_flights.TAIL_NUMBER, red_flights.TAXI_IN, red_flights.TAXI_OUT, red_flights.WEATHER_DELAY, red_flights.WHEELS_OFF, red_flights.WHEELS_ON, red_flights.YEAR, red_flights.auto_index\n",
       "from red_flights"
      ]
     },
     "execution_count": 9,
     "metadata": {},
     "output_type": "execute_result"
    }
   ],
   "source": [
    "data.stack"
   ]
  },
  {
   "cell_type": "code",
   "execution_count": 10,
   "metadata": {},
   "outputs": [
    {
     "name": "stdout",
     "output_type": "stream",
     "text": [
      "caught get [ ELAPSED_TIME ]\n",
      "col_name ELAPSED_TIME\n",
      "empty aggr func stak []\n",
      "aggr project red_flights.DAY ELAPSED_TIME ELAPSED_TIME\n",
      "new lzpd stack select ELAPSED_TIME\n",
      "from red_flights\n",
      "group by (red_flights.DAY)\n",
      "\n",
      "caught max\n",
      "new lzpd stack select max(ELAPSED_TIME)\n",
      "from red_flights\n",
      "group by (red_flights.DAY)\n",
      "\n"
     ]
    },
    {
     "data": {
      "text/plain": [
       "select max(ELAPSED_TIME)\n",
       "from red_flights\n",
       "group by (red_flights.DAY)"
      ]
     },
     "execution_count": 10,
     "metadata": {},
     "output_type": "execute_result"
    }
   ],
   "source": [
    "a = byday['ELAPSED_TIME'].max()\n",
    "a.generate_stack()"
   ]
  },
  {
   "cell_type": "code",
   "execution_count": 14,
   "metadata": {
    "scrolled": true
   },
   "outputs": [
    {
     "name": "stdout",
     "output_type": "stream",
     "text": [
      "caught get [ ELAPSED_TIME ]\n",
      "col_name ELAPSED_TIME\n",
      "empty aggr func stak []\n",
      "aggr project red_flights.DAY ELAPSED_TIME ELAPSED_TIME\n",
      "new lzpd stack select ELAPSED_TIME\n",
      "from red_flights\n",
      "group by (red_flights.DAY)\n",
      "\n",
      "caught get [ DAY ]\n",
      "col_name DAY\n",
      "empty aggr func stak []\n",
      "aggr project red_flights.DAY DAY DAY\n",
      "new lzpd stack select DAY\n",
      "from red_flights\n",
      "group by (red_flights.DAY)\n",
      "\n",
      "1D\n",
      "caught max\n",
      "new lzpd stack select max(ELAPSED_TIME)\n",
      "from red_flights\n",
      "group by (red_flights.DAY)\n",
      "\n",
      "1D\n",
      "caught get [ DAY ]\n",
      "col_name DAY\n",
      "empty aggr func stak []\n",
      "aggr project red_flights.DAY DAY DAY\n",
      "new lzpd stack select DAY\n",
      "from red_flights\n",
      "group by (red_flights.DAY)\n",
      "\n",
      "1D\n",
      "caught min\n",
      "new lzpd stack select min(ELAPSED_TIME)\n",
      "from red_flights\n",
      "group by (red_flights.DAY)\n",
      "\n",
      "1D\n",
      "caught get [ DAY ]\n",
      "col_name DAY\n",
      "empty aggr func stak []\n",
      "aggr project red_flights.DAY DAY DAY\n",
      "new lzpd stack select DAY\n",
      "from red_flights\n",
      "group by (red_flights.DAY)\n",
      "\n",
      "1D\n",
      "caught min\n",
      "new lzpd stack select avg(ELAPSED_TIME)\n",
      "from red_flights\n",
      "group by (red_flights.DAY)\n",
      "\n",
      "1D\n",
      "caught sum\n",
      "new lzpd stack select sum(ELAPSED_TIME)\n",
      "from red_flights\n",
      "group by (red_flights.DAY)\n",
      "\n",
      "1D\n",
      "caught min\n",
      "new lzpd stack select avg(ELAPSED_TIME)\n",
      "from red_flights\n",
      "group by (red_flights.DAY)\n",
      "\n",
      "1D\n",
      "caught max\n",
      "new lzpd stack select count(ELAPSED_TIME)\n",
      "from red_flights\n",
      "group by (red_flights.DAY)\n",
      "\n",
      "1D\n",
      "caught get [ DAY ]\n",
      "col_name DAY\n",
      "empty aggr func stak []\n",
      "aggr project red_flights.DAY DAY DAY\n",
      "new lzpd stack select DAY\n",
      "from red_flights\n",
      "group by (red_flights.DAY)\n",
      "\n",
      "1D\n",
      "caught min\n",
      "new lzpd stack select avg(ELAPSED_TIME)\n",
      "from red_flights\n",
      "group by (red_flights.DAY)\n",
      "\n",
      "1D\n"
     ]
    },
    {
     "data": {
      "image/png": "[encoded data removed]",
      "text/plain": [
       "<Figure size 432x288 with 1 Axes>"
      ]
     },
     "metadata": {},
     "output_type": "display_data"
    }
   ],
   "source": [
    "a = byday['ELAPSED_TIME']\n",
    "plt.plot(byday['DAY'].array, a.max().array)\n",
    "plt.plot(byday['DAY'].array, a.min().array)\n",
    "plt.plot(byday['DAY'].array, a.avg().array)\n",
    "std = np.sqrt(a.sum().array**2 - a.avg().array**2)/a.count().array\n",
    "plt.errorbar(byday['DAY'].array, a.avg().array, std)\n",
    "plt.show()"
   ]
  },
  {
   "cell_type": "code",
   "execution_count": null,
   "metadata": {
    "scrolled": true
   },
   "outputs": [],
   "source": [
    "data['new'] = 1"
   ]
  },
  {
   "cell_type": "code",
   "execution_count": null,
   "metadata": {},
   "outputs": [],
   "source": [
    "hei = data.groupby('AIRLINE')\n",
    "hei.generate_query()"
   ]
  },
  {
   "cell_type": "code",
   "execution_count": null,
   "metadata": {},
   "outputs": [],
   "source": [
    "lol = hei.RA.ra_stack.groupby_stack\n",
    "print(lol)"
   ]
  },
  {
   "cell_type": "code",
   "execution_count": null,
   "metadata": {},
   "outputs": [],
   "source": [
    "data['new'] = 1"
   ]
  },
  {
   "cell_type": "code",
   "execution_count": null,
   "metadata": {},
   "outputs": [],
   "source": [
    "data.execute(\"\"\"\n",
    "    select red_flights.auto_index\n",
    "    from red_flights, auto_generated_table_new\n",
    "    where (auto_generated_table_new.auto_index = red_flights.auto_index)\n",
    "    limit 5 \"\"\").description"
   ]
  },
  {
   "cell_type": "code",
   "execution_count": null,
   "metadata": {},
   "outputs": [],
   "source": [
    "data.to_pd().describe()"
   ]
  },
  {
   "cell_type": "code",
   "execution_count": null,
   "metadata": {},
   "outputs": [],
   "source": [
    "data.generate_query()"
   ]
  },
  {
   "cell_type": "code",
   "execution_count": null,
   "metadata": {
    "scrolled": true
   },
   "outputs": [],
   "source": [
    "data.info()"
   ]
  },
  {
   "cell_type": "code",
   "execution_count": null,
   "metadata": {},
   "outputs": [],
   "source": [
    "data2 = data.merge(airlines, left_on='AIRLINE', right_on='IATA_CODE')\n",
    "data2.shape"
   ]
  },
  {
   "cell_type": "code",
   "execution_count": null,
   "metadata": {
    "scrolled": true
   },
   "outputs": [],
   "source": [
    "airports.shape"
   ]
  },
  {
   "cell_type": "code",
   "execution_count": null,
   "metadata": {},
   "outputs": [],
   "source": [
    "a = data['MONTH'] == 1\n",
    "b = data['DAY']\n",
    "c = data['DAY']\n",
    "print((a))\n",
    "print((b.stack))\n",
    "print((c.stack))\n",
    "print((data.stack))\n"
   ]
  },
  {
   "cell_type": "code",
   "execution_count": null,
   "metadata": {
    "scrolled": true
   },
   "outputs": [],
   "source": [
    "airports = airports.dropna(subset = ['LATITUDE','LONGITUDE'])"
   ]
  },
  {
   "cell_type": "code",
   "execution_count": null,
   "metadata": {},
   "outputs": [],
   "source": [
    "data1 = data.dropna(subset = [\"TAIL_NUMBER\",'DEPARTURE_TIME','DEPARTURE_DELAY','TAXI_OUT','WHEELS_OFF','SCHEDULED_TIME',\n",
    "             'ELAPSED_TIME','AIR_TIME','WHEELS_ON','TAXI_IN','ARRIVAL_TIME','ARRIVAL_DELAY'])"
   ]
  },
  {
   "cell_type": "code",
   "execution_count": null,
   "metadata": {},
   "outputs": [],
   "source": [
    "data11 = data1.dropna(subset = ['AIR_SYSTEM_DELAY','SECURITY_DELAY','AIRLINE_DELAY','LATE_AIRCRAFT_DELAY','WEATHER_DELAY'])\n",
    "data11 = data11.drop(['YEAR','MONTH','DAY','DAY_OF_WEEK','TAIL_NUMBER','SCHEDULED_DEPARTURE','DEPARTURE_TIME','SCHEDULED_TIME',\n",
    "                     'SCHEDULED_ARRIVAL','ARRIVAL_TIME','DIVERTED','CANCELLED','CANCELLATION_REASON','FLIGHT_NUMBER','WHEELS_OFF',\n",
    "                     'WHEELS_ON','AIR_TIME'],axis = 1)"
   ]
  },
  {
   "cell_type": "code",
   "execution_count": null,
   "metadata": {
    "collapsed": true
   },
   "outputs": [],
   "source": [
    "# The other Dataset\n",
    "Flight_Delays = data11"
   ]
  },
  {
   "cell_type": "code",
   "execution_count": null,
   "metadata": {},
   "outputs": [],
   "source": [
    "# Creating Dataset by removing null values by not focussing fully on different types of Delays\n",
    "data2 = data1.drop(['CANCELLATION_REASON','AIR_SYSTEM_DELAY','SECURITY_DELAY','AIRLINE_DELAY',\n",
    "                    'LATE_AIRCRAFT_DELAY','WEATHER_DELAY'],axis = 1)"
   ]
  },
  {
   "cell_type": "code",
   "execution_count": null,
   "metadata": {},
   "outputs": [],
   "source": [
    "data2.shape"
   ]
  },
  {
   "cell_type": "code",
   "execution_count": null,
   "metadata": {
    "scrolled": true
   },
   "outputs": [],
   "source": [
    "data2.info()"
   ]
  },
  {
   "cell_type": "code",
   "execution_count": null,
   "metadata": {
    "collapsed": true
   },
   "outputs": [],
   "source": [
    "# Creating a function to change the way of representation of time in the column\n",
    "@np.vectorize\n",
    "def Format_Hourmin(hours):\n",
    "        if hours == 2400:\n",
    "            hours = 0\n",
    "        else:\n",
    "            hours = \"{0:04d}\".format(int(hours))\n",
    "            Hourmin = datetime.time(int(hours[0:2]), int(hours[2:4]))\n",
    "            return Hourmin"
   ]
  },
  {
   "cell_type": "code",
   "execution_count": null,
   "metadata": {},
   "outputs": [],
   "source": [
    "data1['CANCELLED']"
   ]
  },
  {
   "cell_type": "code",
   "execution_count": null,
   "metadata": {
    "collapsed": true,
    "scrolled": true
   },
   "outputs": [],
   "source": [
    "out = data1.execute('select month, airline, AVG(CANCELLED) from red_flights group by airline, month ').fetchall()\n",
    "m, a, rel = list(map(list, zip(*out)))\n"
   ]
  },
  {
   "cell_type": "code",
   "execution_count": null,
   "metadata": {},
   "outputs": [],
   "source": [
    "print(a)\n",
    "plt.plot(a, rel)\n",
    "plt.show()"
   ]
  },
  {
   "cell_type": "code",
   "execution_count": null,
   "metadata": {
    "scrolled": true
   },
   "outputs": [],
   "source": [
    "x = data1['DEPARTURE_TIME'].apply(Format_Hourmin)\n",
    "#data2['Actual_Departure'] = x\n",
    "x"
   ]
  },
  {
   "cell_type": "code",
   "execution_count": null,
   "metadata": {},
   "outputs": [],
   "source": [
    "plt.plot(data['ELAPSED_TIME'].array, data['DISTANCE'].array, '.')\n",
    "plt.show()"
   ]
  },
  {
   "cell_type": "code",
   "execution_count": null,
   "metadata": {},
   "outputs": [],
   "source": [
    "data = data.dropna(['DISTANCE', 'ARRIVAL_DELAY'])\n",
    "type(a)"
   ]
  },
  {
   "cell_type": "code",
   "execution_count": null,
   "metadata": {},
   "outputs": [],
   "source": [
    "x = data['DISTANCE'].to_pd().values.flatten()\n",
    "y = data['ARRIVAL_DELAY'].to_pd().values.flatten()\n",
    "\n",
    "heatmap, xedges, yedges = np.histogram2d(x, y, bins=16)\n",
    "plt.imshow(heatmap.T, origin='lower')\n",
    "plt.show()"
   ]
  },
  {
   "cell_type": "code",
   "execution_count": null,
   "metadata": {},
   "outputs": [],
   "source": [
    "a = data['DISTANCE']\n",
    "a.generate_stack()"
   ]
  },
  {
   "cell_type": "code",
   "execution_count": null,
   "metadata": {},
   "outputs": [],
   "source": [
    "from util import csvToDb, out_to_pd\n",
    "out = data.execute('select min(AIRLINE_DELAY) from red_flights')\n",
    "print(out.description[0])\n",
    "out.fetchone()\n",
    "#data.dotted_datatype"
   ]
  },
  {
   "cell_type": "code",
   "execution_count": null,
   "metadata": {
    "scrolled": true
   },
   "outputs": [],
   "source": [
    "a = data.to_pd()\n",
    "a.describe()"
   ]
  },
  {
   "cell_type": "code",
   "execution_count": null,
   "metadata": {},
   "outputs": [],
   "source": [
    "data.info()"
   ]
  },
  {
   "cell_type": "code",
   "execution_count": null,
   "metadata": {},
   "outputs": [],
   "source": [
    "# Merging on AIRLINE and IATA_CODE\n",
    "data2 = data2.merge(airlines, left_on='AIRLINE', right_on='IATA_CODE', how='inner')"
   ]
  },
  {
   "cell_type": "code",
   "execution_count": null,
   "metadata": {},
   "outputs": [],
   "source": [
    "data2['airlines.AIRLINE']"
   ]
  },
  {
   "cell_type": "code",
   "execution_count": null,
   "metadata": {
    "collapsed": true
   },
   "outputs": [],
   "source": []
  }
 ],
 "metadata": {
  "kernelspec": {
   "display_name": "Python 3",
   "language": "python",
   "name": "python3"
  },
  "language_info": {
   "codemirror_mode": {
    "name": "ipython",
    "version": 3
   },
   "file_extension": ".py",
   "mimetype": "text/x-python",
   "name": "python",
   "nbconvert_exporter": "python",
   "pygments_lexer": "ipython3",
   "version": "3.6.7"
  }
 },
 "nbformat": 4,
 "nbformat_minor": 2
}

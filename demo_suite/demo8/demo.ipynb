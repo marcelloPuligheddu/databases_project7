{
 "cells": [
  {
   "cell_type": "code",
   "execution_count": 1,
   "metadata": {
    "collapsed": true
   },
   "outputs": [],
   "source": [
    "from pandas import pandas as pd\n",
    "import numpy as np\n",
    "import random\n",
    "import csv, sqlite3\n",
    "import logging\n",
    "import cProfile\n",
    "import lazypandas\n",
    "import matplotlib.pyplot as plt\n",
    "import datetime, scipy "
   ]
  },
  {
   "cell_type": "code",
   "execution_count": 2,
   "metadata": {},
   "outputs": [
    {
     "name": "stdout",
     "output_type": "stream",
     "text": [
      "LZ Creating engine\n"
     ]
    }
   ],
   "source": [
    "lz = lazypandas.lazy_pandas()"
   ]
  },
  {
   "cell_type": "code",
   "execution_count": 3,
   "metadata": {},
   "outputs": [
    {
     "name": "stdout",
     "output_type": "stream",
     "text": [
      "table name airlines\n",
      "new_stack\n",
      "140371221582960\n",
      "new lzpd stack {'airlines': ['IATA_CODE', 'AIRLINE', 'auto_index']} select airlines.IATA_CODE, airlines.AIRLINE, airlines.auto_index\n",
      "from airlines\n",
      "\n",
      "table name airports\n",
      "new_stack\n",
      "140371216774872\n",
      "new lzpd stack {'airports': ['IATA_CODE', 'AIRPORT', 'CITY', 'STATE', 'COUNTRY', 'LATITUDE', 'LONGITUDE', 'auto_index']} select airports.IATA_CODE, airports.AIRPORT, airports.CITY, airports.STATE, airports.COUNTRY, airports.LATITUDE, airports.LONGITUDE, airports.auto_index\n",
      "from airports\n",
      "\n",
      "table name red_flights\n",
      "new_stack\n",
      "140371221049976\n",
      "new lzpd stack {'red_flights': ['YEAR', 'MONTH', 'DAY', 'DAY_OF_WEEK', 'AIRLINE', 'FLIGHT_NUMBER', 'TAIL_NUMBER', 'ORIGIN_AIRPORT', 'DESTINATION_AIRPORT', 'SCHEDULED_DEPARTURE', 'DEPARTURE_TIME', 'DEPARTURE_DELAY', 'TAXI_OUT', 'WHEELS_OFF', 'SCHEDULED_TIME', 'ELAPSED_TIME', 'AIR_TIME', 'DISTANCE', 'WHEELS_ON', 'TAXI_IN', 'SCHEDULED_ARRIVAL', 'ARRIVAL_TIME', 'ARRIVAL_DELAY', 'DIVERTED', 'CANCELLED', 'CANCELLATION_REASON', 'AIR_SYSTEM_DELAY', 'SECURITY_DELAY', 'AIRLINE_DELAY', 'LATE_AIRCRAFT_DELAY', 'WEATHER_DELAY', 'auto_index']} select red_flights.YEAR, red_flights.MONTH, red_flights.DAY, red_flights.DAY_OF_WEEK, red_flights.AIRLINE, red_flights.FLIGHT_NUMBER, red_flights.TAIL_NUMBER, red_flights.ORIGIN_AIRPORT, red_flights.DESTINATION_AIRPORT, red_flights.SCHEDULED_DEPARTURE, red_flights.DEPARTURE_TIME, red_flights.DEPARTURE_DELAY, red_flights.TAXI_OUT, red_flights.WHEELS_OFF, red_flights.SCHEDULED_TIME, red_flights.ELAPSED_TIME, red_flights.AIR_TIME, red_flights.DISTANCE, red_flights.WHEELS_ON, red_flights.TAXI_IN, red_flights.SCHEDULED_ARRIVAL, red_flights.ARRIVAL_TIME, red_flights.ARRIVAL_DELAY, red_flights.DIVERTED, red_flights.CANCELLED, red_flights.CANCELLATION_REASON, red_flights.AIR_SYSTEM_DELAY, red_flights.SECURITY_DELAY, red_flights.AIRLINE_DELAY, red_flights.LATE_AIRCRAFT_DELAY, red_flights.WEATHER_DELAY, red_flights.auto_index\n",
      "from red_flights\n",
      "\n"
     ]
    }
   ],
   "source": [
    "airlines = lz.read_csv('../dot/airlines.csv')\n",
    "airports = lz.read_csv('../dot/airports.csv')\n",
    "data  = lz.read_csv('../dot/red_flights.csv')"
   ]
  },
  {
   "cell_type": "code",
   "execution_count": 4,
   "metadata": {},
   "outputs": [
    {
     "data": {
      "text/plain": [
       "[(0,), (1,), (2,), (3,), (4,)]"
      ]
     },
     "execution_count": 4,
     "metadata": {},
     "output_type": "execute_result"
    }
   ],
   "source": [
    "data.execute('select auto_index from red_flights limit 5 ').fetchall()"
   ]
  },
  {
   "cell_type": "code",
   "execution_count": 5,
   "metadata": {},
   "outputs": [
    {
     "name": "stdout",
     "output_type": "stream",
     "text": [
      "caught get [ airline ]\n",
      "col_name airline\n",
      "simple project airline\n",
      "new lzpd stack {'red_flights': ['YEAR', 'MONTH', 'DAY', 'DAY_OF_WEEK', 'AIRLINE', 'FLIGHT_NUMBER', 'TAIL_NUMBER', 'ORIGIN_AIRPORT', 'DESTINATION_AIRPORT', 'SCHEDULED_DEPARTURE', 'DEPARTURE_TIME', 'DEPARTURE_DELAY', 'TAXI_OUT', 'WHEELS_OFF', 'SCHEDULED_TIME', 'ELAPSED_TIME', 'AIR_TIME', 'DISTANCE', 'WHEELS_ON', 'TAXI_IN', 'SCHEDULED_ARRIVAL', 'ARRIVAL_TIME', 'ARRIVAL_DELAY', 'DIVERTED', 'CANCELLED', 'CANCELLATION_REASON', 'AIR_SYSTEM_DELAY', 'SECURITY_DELAY', 'AIRLINE_DELAY', 'LATE_AIRCRAFT_DELAY', 'WEATHER_DELAY', 'auto_index']} select airline\n",
      "from red_flights\n",
      "\n",
      "1D\n"
     ]
    },
    {
     "data": {
      "text/plain": [
       "['AS' 'AA' 'US' ... 'NK' 'OO' 'UA']"
      ]
     },
     "execution_count": 5,
     "metadata": {},
     "output_type": "execute_result"
    }
   ],
   "source": [
    "data['airline']"
   ]
  },
  {
   "cell_type": "code",
   "execution_count": 6,
   "metadata": {},
   "outputs": [
    {
     "name": "stdout",
     "output_type": "stream",
     "text": [
      "lazyDataFrame\n",
      "tables\n",
      "  red_flights :\n",
      "    YEAR : REAL\n",
      "    MONTH : REAL\n",
      "    DAY : REAL\n",
      "    DAY_OF_WEEK : REAL\n",
      "    AIRLINE : TEXT\n",
      "    FLIGHT_NUMBER : REAL\n",
      "    TAIL_NUMBER : TEXT\n",
      "    ORIGIN_AIRPORT : TEXT\n",
      "    DESTINATION_AIRPORT : TEXT\n",
      "    SCHEDULED_DEPARTURE : REAL\n",
      "    DEPARTURE_TIME : REAL\n",
      "    DEPARTURE_DELAY : REAL\n",
      "    TAXI_OUT : REAL\n",
      "    WHEELS_OFF : REAL\n",
      "    SCHEDULED_TIME : REAL\n",
      "    ELAPSED_TIME : REAL\n",
      "    AIR_TIME : REAL\n",
      "    DISTANCE : REAL\n",
      "    WHEELS_ON : REAL\n",
      "    TAXI_IN : REAL\n",
      "    SCHEDULED_ARRIVAL : REAL\n",
      "    ARRIVAL_TIME : REAL\n",
      "    ARRIVAL_DELAY : REAL\n",
      "    DIVERTED : REAL\n",
      "    CANCELLED : REAL\n",
      "    CANCELLATION_REASON : TEXT\n",
      "    AIR_SYSTEM_DELAY : REAL\n",
      "    SECURITY_DELAY : REAL\n",
      "    AIRLINE_DELAY : REAL\n",
      "    LATE_AIRCRAFT_DELAY : REAL\n",
      "    WEATHER_DELAY : REAL\n",
      "    auto_index : INTEGER\n",
      "\n"
     ]
    }
   ],
   "source": [
    "data.info()"
   ]
  },
  {
   "cell_type": "code",
   "execution_count": 7,
   "metadata": {},
   "outputs": [
    {
     "data": {
      "text/plain": [
       "['red_flights.YEAR',\n",
       " 'red_flights.MONTH',\n",
       " 'red_flights.DAY',\n",
       " 'red_flights.DAY_OF_WEEK',\n",
       " 'red_flights.AIRLINE',\n",
       " 'red_flights.FLIGHT_NUMBER',\n",
       " 'red_flights.TAIL_NUMBER',\n",
       " 'red_flights.ORIGIN_AIRPORT',\n",
       " 'red_flights.DESTINATION_AIRPORT',\n",
       " 'red_flights.SCHEDULED_DEPARTURE',\n",
       " 'red_flights.DEPARTURE_TIME',\n",
       " 'red_flights.DEPARTURE_DELAY',\n",
       " 'red_flights.TAXI_OUT',\n",
       " 'red_flights.WHEELS_OFF',\n",
       " 'red_flights.SCHEDULED_TIME',\n",
       " 'red_flights.ELAPSED_TIME',\n",
       " 'red_flights.AIR_TIME',\n",
       " 'red_flights.DISTANCE',\n",
       " 'red_flights.WHEELS_ON',\n",
       " 'red_flights.TAXI_IN',\n",
       " 'red_flights.SCHEDULED_ARRIVAL',\n",
       " 'red_flights.ARRIVAL_TIME',\n",
       " 'red_flights.ARRIVAL_DELAY',\n",
       " 'red_flights.DIVERTED',\n",
       " 'red_flights.CANCELLED',\n",
       " 'red_flights.CANCELLATION_REASON',\n",
       " 'red_flights.AIR_SYSTEM_DELAY',\n",
       " 'red_flights.SECURITY_DELAY',\n",
       " 'red_flights.AIRLINE_DELAY',\n",
       " 'red_flights.LATE_AIRCRAFT_DELAY',\n",
       " 'red_flights.WEATHER_DELAY',\n",
       " 'red_flights.auto_index']"
      ]
     },
     "execution_count": 7,
     "metadata": {},
     "output_type": "execute_result"
    }
   ],
   "source": [
    "data.stack.select_stack"
   ]
  },
  {
   "cell_type": "code",
   "execution_count": 8,
   "metadata": {},
   "outputs": [
    {
     "name": "stdout",
     "output_type": "stream",
     "text": [
      "caught groupby DAY\n",
      "R: looking for  DAY in red_flights ['YEAR', 'MONTH', 'DAY', 'DAY_OF_WEEK', 'AIRLINE', 'FLIGHT_NUMBER', 'TAIL_NUMBER', 'ORIGIN_AIRPORT', 'DESTINATION_AIRPORT', 'SCHEDULED_DEPARTURE', 'DEPARTURE_TIME', 'DEPARTURE_DELAY', 'TAXI_OUT', 'WHEELS_OFF', 'SCHEDULED_TIME', 'ELAPSED_TIME', 'AIR_TIME', 'DISTANCE', 'WHEELS_ON', 'TAXI_IN', 'SCHEDULED_ARRIVAL', 'ARRIVAL_TIME', 'ARRIVAL_DELAY', 'DIVERTED', 'CANCELLED', 'CANCELLATION_REASON', 'AIR_SYSTEM_DELAY', 'SECURITY_DELAY', 'AIRLINE_DELAY', 'LATE_AIRCRAFT_DELAY', 'WEATHER_DELAY', 'auto_index']\n",
      "new lzpd stack {'red_flights': ['YEAR', 'MONTH', 'DAY', 'DAY_OF_WEEK', 'AIRLINE', 'FLIGHT_NUMBER', 'TAIL_NUMBER', 'ORIGIN_AIRPORT', 'DESTINATION_AIRPORT', 'SCHEDULED_DEPARTURE', 'DEPARTURE_TIME', 'DEPARTURE_DELAY', 'TAXI_OUT', 'WHEELS_OFF', 'SCHEDULED_TIME', 'ELAPSED_TIME', 'AIR_TIME', 'DISTANCE', 'WHEELS_ON', 'TAXI_IN', 'SCHEDULED_ARRIVAL', 'ARRIVAL_TIME', 'ARRIVAL_DELAY', 'DIVERTED', 'CANCELLED', 'CANCELLATION_REASON', 'AIR_SYSTEM_DELAY', 'SECURITY_DELAY', 'AIRLINE_DELAY', 'LATE_AIRCRAFT_DELAY', 'WEATHER_DELAY', 'auto_index']} select red_flights.YEAR, red_flights.MONTH, red_flights.DAY, red_flights.DAY_OF_WEEK, red_flights.AIRLINE, red_flights.FLIGHT_NUMBER, red_flights.TAIL_NUMBER, red_flights.ORIGIN_AIRPORT, red_flights.DESTINATION_AIRPORT, red_flights.SCHEDULED_DEPARTURE, red_flights.DEPARTURE_TIME, red_flights.DEPARTURE_DELAY, red_flights.TAXI_OUT, red_flights.WHEELS_OFF, red_flights.SCHEDULED_TIME, red_flights.ELAPSED_TIME, red_flights.AIR_TIME, red_flights.DISTANCE, red_flights.WHEELS_ON, red_flights.TAXI_IN, red_flights.SCHEDULED_ARRIVAL, red_flights.ARRIVAL_TIME, red_flights.ARRIVAL_DELAY, red_flights.DIVERTED, red_flights.CANCELLED, red_flights.CANCELLATION_REASON, red_flights.AIR_SYSTEM_DELAY, red_flights.SECURITY_DELAY, red_flights.AIRLINE_DELAY, red_flights.LATE_AIRCRAFT_DELAY, red_flights.WEATHER_DELAY, red_flights.auto_index\n",
      "from red_flights\n",
      "group by (red_flights.DAY)\n",
      "\n"
     ]
    }
   ],
   "source": [
    "byday = data.groupby('DAY')"
   ]
  },
  {
   "cell_type": "code",
   "execution_count": 9,
   "metadata": {},
   "outputs": [
    {
     "data": {
      "text/html": [
       "<div>\n",
       "<style>\n",
       "    .dataframe thead tr:only-child th {\n",
       "        text-align: right;\n",
       "    }\n",
       "\n",
       "    .dataframe thead th {\n",
       "        text-align: left;\n",
       "    }\n",
       "\n",
       "    .dataframe tbody tr th {\n",
       "        vertical-align: top;\n",
       "    }\n",
       "</style>\n",
       "<table border=\"1\" class=\"dataframe\">\n",
       "  <thead>\n",
       "    <tr style=\"text-align: right;\">\n",
       "      <th></th>\n",
       "      <th>YEAR</th>\n",
       "      <th>MONTH</th>\n",
       "      <th>DAY</th>\n",
       "      <th>DAY_OF_WEEK</th>\n",
       "      <th>FLIGHT_NUMBER</th>\n",
       "      <th>SCHEDULED_DEPARTURE</th>\n",
       "      <th>DEPARTURE_TIME</th>\n",
       "      <th>DEPARTURE_DELAY</th>\n",
       "      <th>TAXI_OUT</th>\n",
       "      <th>WHEELS_OFF</th>\n",
       "      <th>...</th>\n",
       "      <th>ARRIVAL_TIME</th>\n",
       "      <th>ARRIVAL_DELAY</th>\n",
       "      <th>DIVERTED</th>\n",
       "      <th>CANCELLED</th>\n",
       "      <th>AIR_SYSTEM_DELAY</th>\n",
       "      <th>SECURITY_DELAY</th>\n",
       "      <th>AIRLINE_DELAY</th>\n",
       "      <th>LATE_AIRCRAFT_DELAY</th>\n",
       "      <th>WEATHER_DELAY</th>\n",
       "      <th>auto_index</th>\n",
       "    </tr>\n",
       "  </thead>\n",
       "  <tbody>\n",
       "    <tr>\n",
       "      <th>count</th>\n",
       "      <td>99999.0</td>\n",
       "      <td>99999.0</td>\n",
       "      <td>99999.000000</td>\n",
       "      <td>99999.000000</td>\n",
       "      <td>99999.000000</td>\n",
       "      <td>99999.000000</td>\n",
       "      <td>97701.000000</td>\n",
       "      <td>97701.000000</td>\n",
       "      <td>97628.000000</td>\n",
       "      <td>97628.000000</td>\n",
       "      <td>...</td>\n",
       "      <td>97559.000000</td>\n",
       "      <td>97386.000000</td>\n",
       "      <td>99999.000000</td>\n",
       "      <td>99999.000000</td>\n",
       "      <td>34625.000000</td>\n",
       "      <td>34625.000000</td>\n",
       "      <td>34625.000000</td>\n",
       "      <td>34625.000000</td>\n",
       "      <td>34625.000000</td>\n",
       "      <td>99999.000000</td>\n",
       "    </tr>\n",
       "    <tr>\n",
       "      <th>mean</th>\n",
       "      <td>2015.0</td>\n",
       "      <td>1.0</td>\n",
       "      <td>3.733887</td>\n",
       "      <td>4.107321</td>\n",
       "      <td>2240.849648</td>\n",
       "      <td>1306.350254</td>\n",
       "      <td>1326.267930</td>\n",
       "      <td>19.938046</td>\n",
       "      <td>17.155908</td>\n",
       "      <td>1348.428514</td>\n",
       "      <td>...</td>\n",
       "      <td>1458.032442</td>\n",
       "      <td>18.342575</td>\n",
       "      <td>0.002240</td>\n",
       "      <td>0.023890</td>\n",
       "      <td>14.026801</td>\n",
       "      <td>0.070787</td>\n",
       "      <td>17.853921</td>\n",
       "      <td>26.014556</td>\n",
       "      <td>2.751971</td>\n",
       "      <td>49999.000000</td>\n",
       "    </tr>\n",
       "    <tr>\n",
       "      <th>std</th>\n",
       "      <td>0.0</td>\n",
       "      <td>0.0</td>\n",
       "      <td>1.815522</td>\n",
       "      <td>2.098459</td>\n",
       "      <td>1818.708843</td>\n",
       "      <td>482.327514</td>\n",
       "      <td>503.511173</td>\n",
       "      <td>45.843719</td>\n",
       "      <td>10.738428</td>\n",
       "      <td>504.144849</td>\n",
       "      <td>...</td>\n",
       "      <td>538.213952</td>\n",
       "      <td>48.878412</td>\n",
       "      <td>0.047276</td>\n",
       "      <td>0.152708</td>\n",
       "      <td>25.965405</td>\n",
       "      <td>1.692526</td>\n",
       "      <td>43.527539</td>\n",
       "      <td>42.593343</td>\n",
       "      <td>17.265760</td>\n",
       "      <td>28867.369122</td>\n",
       "    </tr>\n",
       "    <tr>\n",
       "      <th>min</th>\n",
       "      <td>2015.0</td>\n",
       "      <td>1.0</td>\n",
       "      <td>1.000000</td>\n",
       "      <td>1.000000</td>\n",
       "      <td>1.000000</td>\n",
       "      <td>5.000000</td>\n",
       "      <td>1.000000</td>\n",
       "      <td>-39.000000</td>\n",
       "      <td>1.000000</td>\n",
       "      <td>1.000000</td>\n",
       "      <td>...</td>\n",
       "      <td>1.000000</td>\n",
       "      <td>-65.000000</td>\n",
       "      <td>0.000000</td>\n",
       "      <td>0.000000</td>\n",
       "      <td>0.000000</td>\n",
       "      <td>0.000000</td>\n",
       "      <td>0.000000</td>\n",
       "      <td>0.000000</td>\n",
       "      <td>0.000000</td>\n",
       "      <td>0.000000</td>\n",
       "    </tr>\n",
       "    <tr>\n",
       "      <th>25%</th>\n",
       "      <td>2015.0</td>\n",
       "      <td>1.0</td>\n",
       "      <td>2.000000</td>\n",
       "      <td>2.000000</td>\n",
       "      <td>759.000000</td>\n",
       "      <td>904.000000</td>\n",
       "      <td>911.000000</td>\n",
       "      <td>-3.000000</td>\n",
       "      <td>11.000000</td>\n",
       "      <td>928.000000</td>\n",
       "      <td>...</td>\n",
       "      <td>1050.000000</td>\n",
       "      <td>-8.000000</td>\n",
       "      <td>0.000000</td>\n",
       "      <td>0.000000</td>\n",
       "      <td>0.000000</td>\n",
       "      <td>0.000000</td>\n",
       "      <td>0.000000</td>\n",
       "      <td>0.000000</td>\n",
       "      <td>0.000000</td>\n",
       "      <td>24999.500000</td>\n",
       "    </tr>\n",
       "    <tr>\n",
       "      <th>50%</th>\n",
       "      <td>2015.0</td>\n",
       "      <td>1.0</td>\n",
       "      <td>4.000000</td>\n",
       "      <td>4.000000</td>\n",
       "      <td>1693.000000</td>\n",
       "      <td>1300.000000</td>\n",
       "      <td>1317.000000</td>\n",
       "      <td>3.000000</td>\n",
       "      <td>14.000000</td>\n",
       "      <td>1330.000000</td>\n",
       "      <td>...</td>\n",
       "      <td>1455.000000</td>\n",
       "      <td>4.000000</td>\n",
       "      <td>0.000000</td>\n",
       "      <td>0.000000</td>\n",
       "      <td>4.000000</td>\n",
       "      <td>0.000000</td>\n",
       "      <td>4.000000</td>\n",
       "      <td>10.000000</td>\n",
       "      <td>0.000000</td>\n",
       "      <td>49999.000000</td>\n",
       "    </tr>\n",
       "    <tr>\n",
       "      <th>75%</th>\n",
       "      <td>2015.0</td>\n",
       "      <td>1.0</td>\n",
       "      <td>5.000000</td>\n",
       "      <td>6.000000</td>\n",
       "      <td>3394.000000</td>\n",
       "      <td>1720.000000</td>\n",
       "      <td>1739.000000</td>\n",
       "      <td>25.000000</td>\n",
       "      <td>20.000000</td>\n",
       "      <td>1753.000000</td>\n",
       "      <td>...</td>\n",
       "      <td>1911.000000</td>\n",
       "      <td>27.000000</td>\n",
       "      <td>0.000000</td>\n",
       "      <td>0.000000</td>\n",
       "      <td>19.000000</td>\n",
       "      <td>0.000000</td>\n",
       "      <td>19.000000</td>\n",
       "      <td>35.000000</td>\n",
       "      <td>0.000000</td>\n",
       "      <td>74998.500000</td>\n",
       "    </tr>\n",
       "    <tr>\n",
       "      <th>max</th>\n",
       "      <td>2015.0</td>\n",
       "      <td>1.0</td>\n",
       "      <td>7.000000</td>\n",
       "      <td>7.000000</td>\n",
       "      <td>7438.000000</td>\n",
       "      <td>2359.000000</td>\n",
       "      <td>2400.000000</td>\n",
       "      <td>1380.000000</td>\n",
       "      <td>176.000000</td>\n",
       "      <td>2400.000000</td>\n",
       "      <td>...</td>\n",
       "      <td>2400.000000</td>\n",
       "      <td>1384.000000</td>\n",
       "      <td>1.000000</td>\n",
       "      <td>1.000000</td>\n",
       "      <td>590.000000</td>\n",
       "      <td>107.000000</td>\n",
       "      <td>1380.000000</td>\n",
       "      <td>891.000000</td>\n",
       "      <td>562.000000</td>\n",
       "      <td>99998.000000</td>\n",
       "    </tr>\n",
       "  </tbody>\n",
       "</table>\n",
       "<p>8 rows × 27 columns</p>\n",
       "</div>"
      ],
      "text/plain": [
       "          YEAR    MONTH           DAY   DAY_OF_WEEK  FLIGHT_NUMBER  \\\n",
       "count  99999.0  99999.0  99999.000000  99999.000000   99999.000000   \n",
       "mean    2015.0      1.0      3.733887      4.107321    2240.849648   \n",
       "std        0.0      0.0      1.815522      2.098459    1818.708843   \n",
       "min     2015.0      1.0      1.000000      1.000000       1.000000   \n",
       "25%     2015.0      1.0      2.000000      2.000000     759.000000   \n",
       "50%     2015.0      1.0      4.000000      4.000000    1693.000000   \n",
       "75%     2015.0      1.0      5.000000      6.000000    3394.000000   \n",
       "max     2015.0      1.0      7.000000      7.000000    7438.000000   \n",
       "\n",
       "       SCHEDULED_DEPARTURE  DEPARTURE_TIME  DEPARTURE_DELAY      TAXI_OUT  \\\n",
       "count         99999.000000    97701.000000     97701.000000  97628.000000   \n",
       "mean           1306.350254     1326.267930        19.938046     17.155908   \n",
       "std             482.327514      503.511173        45.843719     10.738428   \n",
       "min               5.000000        1.000000       -39.000000      1.000000   \n",
       "25%             904.000000      911.000000        -3.000000     11.000000   \n",
       "50%            1300.000000     1317.000000         3.000000     14.000000   \n",
       "75%            1720.000000     1739.000000        25.000000     20.000000   \n",
       "max            2359.000000     2400.000000      1380.000000    176.000000   \n",
       "\n",
       "         WHEELS_OFF      ...       ARRIVAL_TIME  ARRIVAL_DELAY      DIVERTED  \\\n",
       "count  97628.000000      ...       97559.000000   97386.000000  99999.000000   \n",
       "mean    1348.428514      ...        1458.032442      18.342575      0.002240   \n",
       "std      504.144849      ...         538.213952      48.878412      0.047276   \n",
       "min        1.000000      ...           1.000000     -65.000000      0.000000   \n",
       "25%      928.000000      ...        1050.000000      -8.000000      0.000000   \n",
       "50%     1330.000000      ...        1455.000000       4.000000      0.000000   \n",
       "75%     1753.000000      ...        1911.000000      27.000000      0.000000   \n",
       "max     2400.000000      ...        2400.000000    1384.000000      1.000000   \n",
       "\n",
       "          CANCELLED  AIR_SYSTEM_DELAY  SECURITY_DELAY  AIRLINE_DELAY  \\\n",
       "count  99999.000000      34625.000000    34625.000000   34625.000000   \n",
       "mean       0.023890         14.026801        0.070787      17.853921   \n",
       "std        0.152708         25.965405        1.692526      43.527539   \n",
       "min        0.000000          0.000000        0.000000       0.000000   \n",
       "25%        0.000000          0.000000        0.000000       0.000000   \n",
       "50%        0.000000          4.000000        0.000000       4.000000   \n",
       "75%        0.000000         19.000000        0.000000      19.000000   \n",
       "max        1.000000        590.000000      107.000000    1380.000000   \n",
       "\n",
       "       LATE_AIRCRAFT_DELAY  WEATHER_DELAY    auto_index  \n",
       "count         34625.000000   34625.000000  99999.000000  \n",
       "mean             26.014556       2.751971  49999.000000  \n",
       "std              42.593343      17.265760  28867.369122  \n",
       "min               0.000000       0.000000      0.000000  \n",
       "25%               0.000000       0.000000  24999.500000  \n",
       "50%              10.000000       0.000000  49999.000000  \n",
       "75%              35.000000       0.000000  74998.500000  \n",
       "max             891.000000     562.000000  99998.000000  \n",
       "\n",
       "[8 rows x 27 columns]"
      ]
     },
     "execution_count": 9,
     "metadata": {},
     "output_type": "execute_result"
    }
   ],
   "source": [
    "data.describe()"
   ]
  },
  {
   "cell_type": "code",
   "execution_count": 10,
   "metadata": {},
   "outputs": [
    {
     "name": "stdout",
     "output_type": "stream",
     "text": [
      "caught get [ ELAPSED_TIME ]\n",
      "col_name ELAPSED_TIME\n",
      "empty aggr func stak []\n",
      "aggr project red_flights.DAY ELAPSED_TIME ELAPSED_TIME\n",
      "new lzpd stack {'red_flights': ['YEAR', 'MONTH', 'DAY', 'DAY_OF_WEEK', 'AIRLINE', 'FLIGHT_NUMBER', 'TAIL_NUMBER', 'ORIGIN_AIRPORT', 'DESTINATION_AIRPORT', 'SCHEDULED_DEPARTURE', 'DEPARTURE_TIME', 'DEPARTURE_DELAY', 'TAXI_OUT', 'WHEELS_OFF', 'SCHEDULED_TIME', 'ELAPSED_TIME', 'AIR_TIME', 'DISTANCE', 'WHEELS_ON', 'TAXI_IN', 'SCHEDULED_ARRIVAL', 'ARRIVAL_TIME', 'ARRIVAL_DELAY', 'DIVERTED', 'CANCELLED', 'CANCELLATION_REASON', 'AIR_SYSTEM_DELAY', 'SECURITY_DELAY', 'AIRLINE_DELAY', 'LATE_AIRCRAFT_DELAY', 'WEATHER_DELAY', 'auto_index']} select ELAPSED_TIME\n",
      "from red_flights\n",
      "group by (red_flights.DAY)\n",
      "\n",
      "caught max\n",
      "new lzpd stack {'red_flights': ['YEAR', 'MONTH', 'DAY', 'DAY_OF_WEEK', 'AIRLINE', 'FLIGHT_NUMBER', 'TAIL_NUMBER', 'ORIGIN_AIRPORT', 'DESTINATION_AIRPORT', 'SCHEDULED_DEPARTURE', 'DEPARTURE_TIME', 'DEPARTURE_DELAY', 'TAXI_OUT', 'WHEELS_OFF', 'SCHEDULED_TIME', 'ELAPSED_TIME', 'AIR_TIME', 'DISTANCE', 'WHEELS_ON', 'TAXI_IN', 'SCHEDULED_ARRIVAL', 'ARRIVAL_TIME', 'ARRIVAL_DELAY', 'DIVERTED', 'CANCELLED', 'CANCELLATION_REASON', 'AIR_SYSTEM_DELAY', 'SECURITY_DELAY', 'AIRLINE_DELAY', 'LATE_AIRCRAFT_DELAY', 'WEATHER_DELAY', 'auto_index']} select max(ELAPSED_TIME)\n",
      "from red_flights\n",
      "group by (red_flights.DAY)\n",
      "\n"
     ]
    },
    {
     "data": {
      "text/plain": [
       "select max(ELAPSED_TIME)\n",
       "from red_flights\n",
       "group by (red_flights.DAY)"
      ]
     },
     "execution_count": 10,
     "metadata": {},
     "output_type": "execute_result"
    }
   ],
   "source": [
    "a = byday['ELAPSED_TIME'].max()\n",
    "a.generate_stack()"
   ]
  },
  {
   "cell_type": "code",
   "execution_count": 11,
   "metadata": {
    "scrolled": true
   },
   "outputs": [
    {
     "name": "stdout",
     "output_type": "stream",
     "text": [
      "caught get [ DISTANCE ]\n",
      "col_name DISTANCE\n",
      "empty aggr func stak []\n",
      "aggr project red_flights.DAY DISTANCE DISTANCE\n",
      "new lzpd stack {'red_flights': ['YEAR', 'MONTH', 'DAY', 'DAY_OF_WEEK', 'AIRLINE', 'FLIGHT_NUMBER', 'TAIL_NUMBER', 'ORIGIN_AIRPORT', 'DESTINATION_AIRPORT', 'SCHEDULED_DEPARTURE', 'DEPARTURE_TIME', 'DEPARTURE_DELAY', 'TAXI_OUT', 'WHEELS_OFF', 'SCHEDULED_TIME', 'ELAPSED_TIME', 'AIR_TIME', 'DISTANCE', 'WHEELS_ON', 'TAXI_IN', 'SCHEDULED_ARRIVAL', 'ARRIVAL_TIME', 'ARRIVAL_DELAY', 'DIVERTED', 'CANCELLED', 'CANCELLATION_REASON', 'AIR_SYSTEM_DELAY', 'SECURITY_DELAY', 'AIRLINE_DELAY', 'LATE_AIRCRAFT_DELAY', 'WEATHER_DELAY', 'auto_index']} select DISTANCE\n",
      "from red_flights\n",
      "group by (red_flights.DAY)\n",
      "\n",
      "caught get [ DAY ]\n",
      "col_name DAY\n",
      "empty aggr func stak []\n",
      "aggr project red_flights.DAY DAY DAY\n",
      "new lzpd stack {'red_flights': ['YEAR', 'MONTH', 'DAY', 'DAY_OF_WEEK', 'AIRLINE', 'FLIGHT_NUMBER', 'TAIL_NUMBER', 'ORIGIN_AIRPORT', 'DESTINATION_AIRPORT', 'SCHEDULED_DEPARTURE', 'DEPARTURE_TIME', 'DEPARTURE_DELAY', 'TAXI_OUT', 'WHEELS_OFF', 'SCHEDULED_TIME', 'ELAPSED_TIME', 'AIR_TIME', 'DISTANCE', 'WHEELS_ON', 'TAXI_IN', 'SCHEDULED_ARRIVAL', 'ARRIVAL_TIME', 'ARRIVAL_DELAY', 'DIVERTED', 'CANCELLED', 'CANCELLATION_REASON', 'AIR_SYSTEM_DELAY', 'SECURITY_DELAY', 'AIRLINE_DELAY', 'LATE_AIRCRAFT_DELAY', 'WEATHER_DELAY', 'auto_index']} select DAY\n",
      "from red_flights\n",
      "group by (red_flights.DAY)\n",
      "\n",
      "1D\n",
      "caught max\n",
      "new lzpd stack {'red_flights': ['YEAR', 'MONTH', 'DAY', 'DAY_OF_WEEK', 'AIRLINE', 'FLIGHT_NUMBER', 'TAIL_NUMBER', 'ORIGIN_AIRPORT', 'DESTINATION_AIRPORT', 'SCHEDULED_DEPARTURE', 'DEPARTURE_TIME', 'DEPARTURE_DELAY', 'TAXI_OUT', 'WHEELS_OFF', 'SCHEDULED_TIME', 'ELAPSED_TIME', 'AIR_TIME', 'DISTANCE', 'WHEELS_ON', 'TAXI_IN', 'SCHEDULED_ARRIVAL', 'ARRIVAL_TIME', 'ARRIVAL_DELAY', 'DIVERTED', 'CANCELLED', 'CANCELLATION_REASON', 'AIR_SYSTEM_DELAY', 'SECURITY_DELAY', 'AIRLINE_DELAY', 'LATE_AIRCRAFT_DELAY', 'WEATHER_DELAY', 'auto_index']} select max(DISTANCE)\n",
      "from red_flights\n",
      "group by (red_flights.DAY)\n",
      "\n",
      "1D\n",
      "caught get [ DAY ]\n",
      "col_name DAY\n",
      "empty aggr func stak []\n",
      "aggr project red_flights.DAY DAY DAY\n",
      "new lzpd stack {'red_flights': ['YEAR', 'MONTH', 'DAY', 'DAY_OF_WEEK', 'AIRLINE', 'FLIGHT_NUMBER', 'TAIL_NUMBER', 'ORIGIN_AIRPORT', 'DESTINATION_AIRPORT', 'SCHEDULED_DEPARTURE', 'DEPARTURE_TIME', 'DEPARTURE_DELAY', 'TAXI_OUT', 'WHEELS_OFF', 'SCHEDULED_TIME', 'ELAPSED_TIME', 'AIR_TIME', 'DISTANCE', 'WHEELS_ON', 'TAXI_IN', 'SCHEDULED_ARRIVAL', 'ARRIVAL_TIME', 'ARRIVAL_DELAY', 'DIVERTED', 'CANCELLED', 'CANCELLATION_REASON', 'AIR_SYSTEM_DELAY', 'SECURITY_DELAY', 'AIRLINE_DELAY', 'LATE_AIRCRAFT_DELAY', 'WEATHER_DELAY', 'auto_index']} select DAY\n",
      "from red_flights\n",
      "group by (red_flights.DAY)\n",
      "\n",
      "1D\n",
      "caught min\n",
      "new lzpd stack {'red_flights': ['YEAR', 'MONTH', 'DAY', 'DAY_OF_WEEK', 'AIRLINE', 'FLIGHT_NUMBER', 'TAIL_NUMBER', 'ORIGIN_AIRPORT', 'DESTINATION_AIRPORT', 'SCHEDULED_DEPARTURE', 'DEPARTURE_TIME', 'DEPARTURE_DELAY', 'TAXI_OUT', 'WHEELS_OFF', 'SCHEDULED_TIME', 'ELAPSED_TIME', 'AIR_TIME', 'DISTANCE', 'WHEELS_ON', 'TAXI_IN', 'SCHEDULED_ARRIVAL', 'ARRIVAL_TIME', 'ARRIVAL_DELAY', 'DIVERTED', 'CANCELLED', 'CANCELLATION_REASON', 'AIR_SYSTEM_DELAY', 'SECURITY_DELAY', 'AIRLINE_DELAY', 'LATE_AIRCRAFT_DELAY', 'WEATHER_DELAY', 'auto_index']} select min(DISTANCE)\n",
      "from red_flights\n",
      "group by (red_flights.DAY)\n",
      "\n",
      "1D\n",
      "caught get [ DAY ]\n",
      "col_name DAY\n",
      "empty aggr func stak []\n",
      "aggr project red_flights.DAY DAY DAY\n",
      "new lzpd stack {'red_flights': ['YEAR', 'MONTH', 'DAY', 'DAY_OF_WEEK', 'AIRLINE', 'FLIGHT_NUMBER', 'TAIL_NUMBER', 'ORIGIN_AIRPORT', 'DESTINATION_AIRPORT', 'SCHEDULED_DEPARTURE', 'DEPARTURE_TIME', 'DEPARTURE_DELAY', 'TAXI_OUT', 'WHEELS_OFF', 'SCHEDULED_TIME', 'ELAPSED_TIME', 'AIR_TIME', 'DISTANCE', 'WHEELS_ON', 'TAXI_IN', 'SCHEDULED_ARRIVAL', 'ARRIVAL_TIME', 'ARRIVAL_DELAY', 'DIVERTED', 'CANCELLED', 'CANCELLATION_REASON', 'AIR_SYSTEM_DELAY', 'SECURITY_DELAY', 'AIRLINE_DELAY', 'LATE_AIRCRAFT_DELAY', 'WEATHER_DELAY', 'auto_index']} select DAY\n",
      "from red_flights\n",
      "group by (red_flights.DAY)\n",
      "\n",
      "1D\n",
      "caught min\n",
      "new lzpd stack {'red_flights': ['YEAR', 'MONTH', 'DAY', 'DAY_OF_WEEK', 'AIRLINE', 'FLIGHT_NUMBER', 'TAIL_NUMBER', 'ORIGIN_AIRPORT', 'DESTINATION_AIRPORT', 'SCHEDULED_DEPARTURE', 'DEPARTURE_TIME', 'DEPARTURE_DELAY', 'TAXI_OUT', 'WHEELS_OFF', 'SCHEDULED_TIME', 'ELAPSED_TIME', 'AIR_TIME', 'DISTANCE', 'WHEELS_ON', 'TAXI_IN', 'SCHEDULED_ARRIVAL', 'ARRIVAL_TIME', 'ARRIVAL_DELAY', 'DIVERTED', 'CANCELLED', 'CANCELLATION_REASON', 'AIR_SYSTEM_DELAY', 'SECURITY_DELAY', 'AIRLINE_DELAY', 'LATE_AIRCRAFT_DELAY', 'WEATHER_DELAY', 'auto_index']} select avg(DISTANCE)\n",
      "from red_flights\n",
      "group by (red_flights.DAY)\n",
      "\n",
      "1D\n"
     ]
    },
    {
     "data": {
      "image/png": "[encoded data removed]",
      "text/plain": [
       "<Figure size 432x288 with 1 Axes>"
      ]
     },
     "metadata": {},
     "output_type": "display_data"
    }
   ],
   "source": [
    "a = byday['DISTANCE']\n",
    "plt.plot(byday['DAY'].array, a.max().array)\n",
    "plt.plot(byday['DAY'].array, a.min().array)\n",
    "plt.plot(byday['DAY'].array, a.avg().array)\n",
    "plt.show()"
   ]
  },
  {
   "cell_type": "code",
   "execution_count": 12,
   "metadata": {
    "scrolled": true
   },
   "outputs": [
    {
     "name": "stdout",
     "output_type": "stream",
     "text": [
      "caught set [] new 1\n",
      "R: looking for  new in red_flights ['YEAR', 'MONTH', 'DAY', 'DAY_OF_WEEK', 'AIRLINE', 'FLIGHT_NUMBER', 'TAIL_NUMBER', 'ORIGIN_AIRPORT', 'DESTINATION_AIRPORT', 'SCHEDULED_DEPARTURE', 'DEPARTURE_TIME', 'DEPARTURE_DELAY', 'TAXI_OUT', 'WHEELS_OFF', 'SCHEDULED_TIME', 'ELAPSED_TIME', 'AIR_TIME', 'DISTANCE', 'WHEELS_ON', 'TAXI_IN', 'SCHEDULED_ARRIVAL', 'ARRIVAL_TIME', 'ARRIVAL_DELAY', 'DIVERTED', 'CANCELLED', 'CANCELLATION_REASON', 'AIR_SYSTEM_DELAY', 'SECURITY_DELAY', 'AIRLINE_DELAY', 'LATE_AIRCRAFT_DELAY', 'WEATHER_DELAY', 'auto_index']\n",
      "caught get [ red_flights.auto_index ]\n",
      "col_name red_flights.auto_index\n",
      "simple project red_flights.auto_index\n",
      "new lzpd stack {'red_flights': ['YEAR', 'MONTH', 'DAY', 'DAY_OF_WEEK', 'AIRLINE', 'FLIGHT_NUMBER', 'TAIL_NUMBER', 'ORIGIN_AIRPORT', 'DESTINATION_AIRPORT', 'SCHEDULED_DEPARTURE', 'DEPARTURE_TIME', 'DEPARTURE_DELAY', 'TAXI_OUT', 'WHEELS_OFF', 'SCHEDULED_TIME', 'ELAPSED_TIME', 'AIR_TIME', 'DISTANCE', 'WHEELS_ON', 'TAXI_IN', 'SCHEDULED_ARRIVAL', 'ARRIVAL_TIME', 'ARRIVAL_DELAY', 'DIVERTED', 'CANCELLED', 'CANCELLATION_REASON', 'AIR_SYSTEM_DELAY', 'SECURITY_DELAY', 'AIRLINE_DELAY', 'LATE_AIRCRAFT_DELAY', 'WEATHER_DELAY', 'auto_index']} select red_flights.auto_index\n",
      "from red_flights\n",
      "\n",
      "1D\n",
      "new_stack\n",
      "140371200133440\n",
      "new lzpd stack {'auto_generated_table_new': ['new', 'auto_index']} select auto_generated_table_new.new, auto_generated_table_new.auto_index\n",
      "from auto_generated_table_new\n",
      "\n",
      "caught merge\n",
      "merge ['red_flights'] ['auto_generated_table_new']\n",
      "new_stack\n",
      "140371200133608\n",
      "R: looking for  auto_index in red_flights\n",
      "L: looking for  auto_index in auto_generated_table_new\n",
      "new lzpd stack {'red_flights': ['YEAR', 'MONTH', 'DAY', 'DAY_OF_WEEK', 'AIRLINE', 'FLIGHT_NUMBER', 'TAIL_NUMBER', 'ORIGIN_AIRPORT', 'DESTINATION_AIRPORT', 'SCHEDULED_DEPARTURE', 'DEPARTURE_TIME', 'DEPARTURE_DELAY', 'TAXI_OUT', 'WHEELS_OFF', 'SCHEDULED_TIME', 'ELAPSED_TIME', 'AIR_TIME', 'DISTANCE', 'WHEELS_ON', 'TAXI_IN', 'SCHEDULED_ARRIVAL', 'ARRIVAL_TIME', 'ARRIVAL_DELAY', 'DIVERTED', 'CANCELLED', 'CANCELLATION_REASON', 'AIR_SYSTEM_DELAY', 'SECURITY_DELAY', 'AIRLINE_DELAY', 'LATE_AIRCRAFT_DELAY', 'WEATHER_DELAY', 'auto_index'], 'auto_generated_table_new': ['new', 'auto_index']} select red_flights.YEAR, red_flights.MONTH, red_flights.DAY, red_flights.DAY_OF_WEEK, red_flights.AIRLINE, red_flights.FLIGHT_NUMBER, red_flights.TAIL_NUMBER, red_flights.ORIGIN_AIRPORT, red_flights.DESTINATION_AIRPORT, red_flights.SCHEDULED_DEPARTURE, red_flights.DEPARTURE_TIME, red_flights.DEPARTURE_DELAY, red_flights.TAXI_OUT, red_flights.WHEELS_OFF, red_flights.SCHEDULED_TIME, red_flights.ELAPSED_TIME, red_flights.AIR_TIME, red_flights.DISTANCE, red_flights.WHEELS_ON, red_flights.TAXI_IN, red_flights.SCHEDULED_ARRIVAL, red_flights.ARRIVAL_TIME, red_flights.ARRIVAL_DELAY, red_flights.DIVERTED, red_flights.CANCELLED, red_flights.CANCELLATION_REASON, red_flights.AIR_SYSTEM_DELAY, red_flights.SECURITY_DELAY, red_flights.AIRLINE_DELAY, red_flights.LATE_AIRCRAFT_DELAY, red_flights.WEATHER_DELAY, red_flights.auto_index, auto_generated_table_new.new, auto_generated_table_new.auto_index\n",
      "from red_flights, auto_generated_table_new\n",
      "where (auto_generated_table_new.auto_index = red_flights.auto_index)\n",
      "\n",
      "new lzpd stack {'red_flights': ['YEAR', 'MONTH', 'DAY', 'DAY_OF_WEEK', 'AIRLINE', 'FLIGHT_NUMBER', 'TAIL_NUMBER', 'ORIGIN_AIRPORT', 'DESTINATION_AIRPORT', 'SCHEDULED_DEPARTURE', 'DEPARTURE_TIME', 'DEPARTURE_DELAY', 'TAXI_OUT', 'WHEELS_OFF', 'SCHEDULED_TIME', 'ELAPSED_TIME', 'AIR_TIME', 'DISTANCE', 'WHEELS_ON', 'TAXI_IN', 'SCHEDULED_ARRIVAL', 'ARRIVAL_TIME', 'ARRIVAL_DELAY', 'DIVERTED', 'CANCELLED', 'CANCELLATION_REASON', 'AIR_SYSTEM_DELAY', 'SECURITY_DELAY', 'AIRLINE_DELAY', 'LATE_AIRCRAFT_DELAY', 'WEATHER_DELAY', 'auto_index'], 'auto_generated_table_new': ['new', 'auto_index']} select red_flights.YEAR, red_flights.MONTH, red_flights.DAY, red_flights.DAY_OF_WEEK, red_flights.AIRLINE, red_flights.FLIGHT_NUMBER, red_flights.TAIL_NUMBER, red_flights.ORIGIN_AIRPORT, red_flights.DESTINATION_AIRPORT, red_flights.SCHEDULED_DEPARTURE, red_flights.DEPARTURE_TIME, red_flights.DEPARTURE_DELAY, red_flights.TAXI_OUT, red_flights.WHEELS_OFF, red_flights.SCHEDULED_TIME, red_flights.ELAPSED_TIME, red_flights.AIR_TIME, red_flights.DISTANCE, red_flights.WHEELS_ON, red_flights.TAXI_IN, red_flights.SCHEDULED_ARRIVAL, red_flights.ARRIVAL_TIME, red_flights.ARRIVAL_DELAY, red_flights.DIVERTED, red_flights.CANCELLED, red_flights.CANCELLATION_REASON, red_flights.AIR_SYSTEM_DELAY, red_flights.SECURITY_DELAY, red_flights.AIRLINE_DELAY, red_flights.LATE_AIRCRAFT_DELAY, red_flights.WEATHER_DELAY, red_flights.auto_index, auto_generated_table_new.new, auto_generated_table_new.auto_index\n",
      "from red_flights, auto_generated_table_new\n",
      "where (auto_generated_table_new.auto_index = red_flights.auto_index)\n",
      "\n"
     ]
    }
   ],
   "source": [
    "data['new'] = 1"
   ]
  },
  {
   "cell_type": "code",
   "execution_count": 13,
   "metadata": {},
   "outputs": [
    {
     "name": "stdout",
     "output_type": "stream",
     "text": [
      "caught groupby AIRLINE\n",
      "R: looking for  AIRLINE in red_flights ['YEAR', 'MONTH', 'DAY', 'DAY_OF_WEEK', 'AIRLINE', 'FLIGHT_NUMBER', 'TAIL_NUMBER', 'ORIGIN_AIRPORT', 'DESTINATION_AIRPORT', 'SCHEDULED_DEPARTURE', 'DEPARTURE_TIME', 'DEPARTURE_DELAY', 'TAXI_OUT', 'WHEELS_OFF', 'SCHEDULED_TIME', 'ELAPSED_TIME', 'AIR_TIME', 'DISTANCE', 'WHEELS_ON', 'TAXI_IN', 'SCHEDULED_ARRIVAL', 'ARRIVAL_TIME', 'ARRIVAL_DELAY', 'DIVERTED', 'CANCELLED', 'CANCELLATION_REASON', 'AIR_SYSTEM_DELAY', 'SECURITY_DELAY', 'AIRLINE_DELAY', 'LATE_AIRCRAFT_DELAY', 'WEATHER_DELAY', 'auto_index']\n",
      "new lzpd stack {'red_flights': ['YEAR', 'MONTH', 'DAY', 'DAY_OF_WEEK', 'AIRLINE', 'FLIGHT_NUMBER', 'TAIL_NUMBER', 'ORIGIN_AIRPORT', 'DESTINATION_AIRPORT', 'SCHEDULED_DEPARTURE', 'DEPARTURE_TIME', 'DEPARTURE_DELAY', 'TAXI_OUT', 'WHEELS_OFF', 'SCHEDULED_TIME', 'ELAPSED_TIME', 'AIR_TIME', 'DISTANCE', 'WHEELS_ON', 'TAXI_IN', 'SCHEDULED_ARRIVAL', 'ARRIVAL_TIME', 'ARRIVAL_DELAY', 'DIVERTED', 'CANCELLED', 'CANCELLATION_REASON', 'AIR_SYSTEM_DELAY', 'SECURITY_DELAY', 'AIRLINE_DELAY', 'LATE_AIRCRAFT_DELAY', 'WEATHER_DELAY', 'auto_index'], 'auto_generated_table_new': ['new', 'auto_index']} select red_flights.YEAR, red_flights.MONTH, red_flights.DAY, red_flights.DAY_OF_WEEK, red_flights.AIRLINE, red_flights.FLIGHT_NUMBER, red_flights.TAIL_NUMBER, red_flights.ORIGIN_AIRPORT, red_flights.DESTINATION_AIRPORT, red_flights.SCHEDULED_DEPARTURE, red_flights.DEPARTURE_TIME, red_flights.DEPARTURE_DELAY, red_flights.TAXI_OUT, red_flights.WHEELS_OFF, red_flights.SCHEDULED_TIME, red_flights.ELAPSED_TIME, red_flights.AIR_TIME, red_flights.DISTANCE, red_flights.WHEELS_ON, red_flights.TAXI_IN, red_flights.SCHEDULED_ARRIVAL, red_flights.ARRIVAL_TIME, red_flights.ARRIVAL_DELAY, red_flights.DIVERTED, red_flights.CANCELLED, red_flights.CANCELLATION_REASON, red_flights.AIR_SYSTEM_DELAY, red_flights.SECURITY_DELAY, red_flights.AIRLINE_DELAY, red_flights.LATE_AIRCRAFT_DELAY, red_flights.WEATHER_DELAY, red_flights.auto_index, auto_generated_table_new.new\n",
      "from red_flights, auto_generated_table_new\n",
      "where (auto_generated_table_new.auto_index = red_flights.auto_index)\n",
      "group by (red_flights.AIRLINE)\n",
      "\n"
     ]
    },
    {
     "data": {
      "text/plain": [
       "'select red_flights.YEAR, red_flights.MONTH, red_flights.DAY, red_flights.DAY_OF_WEEK, red_flights.AIRLINE, red_flights.FLIGHT_NUMBER, red_flights.TAIL_NUMBER, red_flights.ORIGIN_AIRPORT, red_flights.DESTINATION_AIRPORT, red_flights.SCHEDULED_DEPARTURE, red_flights.DEPARTURE_TIME, red_flights.DEPARTURE_DELAY, red_flights.TAXI_OUT, red_flights.WHEELS_OFF, red_flights.SCHEDULED_TIME, red_flights.ELAPSED_TIME, red_flights.AIR_TIME, red_flights.DISTANCE, red_flights.WHEELS_ON, red_flights.TAXI_IN, red_flights.SCHEDULED_ARRIVAL, red_flights.ARRIVAL_TIME, red_flights.ARRIVAL_DELAY, red_flights.DIVERTED, red_flights.CANCELLED, red_flights.CANCELLATION_REASON, red_flights.AIR_SYSTEM_DELAY, red_flights.SECURITY_DELAY, red_flights.AIRLINE_DELAY, red_flights.LATE_AIRCRAFT_DELAY, red_flights.WEATHER_DELAY, red_flights.auto_index, auto_generated_table_new.new\\nfrom red_flights, auto_generated_table_new\\nwhere (auto_generated_table_new.auto_index = red_flights.auto_index)\\ngroup by (red_flights.AIRLINE)\\n'"
      ]
     },
     "execution_count": 13,
     "metadata": {},
     "output_type": "execute_result"
    }
   ],
   "source": [
    "hei = data.groupby('AIRLINE')\n",
    "hei.generate_query()"
   ]
  },
  {
   "cell_type": "code",
   "execution_count": null,
   "metadata": {},
   "outputs": [
    {
     "name": "stdout",
     "output_type": "stream",
     "text": [
      "['red_flights.AIRLINE']\n"
     ]
    }
   ],
   "source": [
    "lol = hei.RA.ra_stack.groupby_stack\n",
    "print(lol)"
   ]
  },
  {
   "cell_type": "code",
   "execution_count": null,
   "metadata": {},
   "outputs": [],
   "source": [
    "data['new'] = 1"
   ]
  },
  {
   "cell_type": "code",
   "execution_count": null,
   "metadata": {},
   "outputs": [],
   "source": [
    "data.execute(\"\"\"\n",
    "    select red_flights.auto_index\n",
    "    from red_flights, auto_generated_table_new\n",
    "    where (auto_generated_table_new.auto_index = red_flights.auto_index)\n",
    "    limit 5 \"\"\").description"
   ]
  },
  {
   "cell_type": "code",
   "execution_count": null,
   "metadata": {},
   "outputs": [],
   "source": [
    "data.to_pd().describe()"
   ]
  },
  {
   "cell_type": "code",
   "execution_count": null,
   "metadata": {},
   "outputs": [],
   "source": [
    "data.generate_query()"
   ]
  },
  {
   "cell_type": "code",
   "execution_count": null,
   "metadata": {
    "scrolled": true
   },
   "outputs": [],
   "source": [
    "data.info()"
   ]
  },
  {
   "cell_type": "code",
   "execution_count": null,
   "metadata": {},
   "outputs": [],
   "source": [
    "data2 = data.merge(airlines, left_on='AIRLINE', right_on='IATA_CODE')\n",
    "data2.shape"
   ]
  },
  {
   "cell_type": "code",
   "execution_count": null,
   "metadata": {
    "scrolled": true
   },
   "outputs": [],
   "source": [
    "airports.shape"
   ]
  },
  {
   "cell_type": "code",
   "execution_count": null,
   "metadata": {},
   "outputs": [],
   "source": [
    "a = data['MONTH'] == 1\n",
    "b = data['DAY']\n",
    "c = data['DAY']\n",
    "print((a))\n",
    "print((b.stack))\n",
    "print((c.stack))\n",
    "print((data.stack))\n"
   ]
  },
  {
   "cell_type": "code",
   "execution_count": null,
   "metadata": {
    "scrolled": true
   },
   "outputs": [],
   "source": [
    "airports = airports.dropna(subset = ['LATITUDE','LONGITUDE'])"
   ]
  },
  {
   "cell_type": "code",
   "execution_count": null,
   "metadata": {},
   "outputs": [],
   "source": [
    "data1 = data.dropna(subset = [\"TAIL_NUMBER\",'DEPARTURE_TIME','DEPARTURE_DELAY','TAXI_OUT','WHEELS_OFF','SCHEDULED_TIME',\n",
    "             'ELAPSED_TIME','AIR_TIME','WHEELS_ON','TAXI_IN','ARRIVAL_TIME','ARRIVAL_DELAY'])"
   ]
  },
  {
   "cell_type": "code",
   "execution_count": null,
   "metadata": {},
   "outputs": [],
   "source": [
    "data11 = data1.dropna(subset = ['AIR_SYSTEM_DELAY','SECURITY_DELAY','AIRLINE_DELAY','LATE_AIRCRAFT_DELAY','WEATHER_DELAY'])\n",
    "data11 = data11.drop(['YEAR','MONTH','DAY','DAY_OF_WEEK','TAIL_NUMBER','SCHEDULED_DEPARTURE','DEPARTURE_TIME','SCHEDULED_TIME',\n",
    "                     'SCHEDULED_ARRIVAL','ARRIVAL_TIME','DIVERTED','CANCELLED','CANCELLATION_REASON','FLIGHT_NUMBER','WHEELS_OFF',\n",
    "                     'WHEELS_ON','AIR_TIME'],axis = 1)"
   ]
  },
  {
   "cell_type": "code",
   "execution_count": null,
   "metadata": {
    "collapsed": true
   },
   "outputs": [],
   "source": [
    "# The other Dataset\n",
    "Flight_Delays = data11"
   ]
  },
  {
   "cell_type": "code",
   "execution_count": null,
   "metadata": {},
   "outputs": [],
   "source": [
    "# Creating Dataset by removing null values by not focussing fully on different types of Delays\n",
    "data2 = data1.drop(['CANCELLATION_REASON','AIR_SYSTEM_DELAY','SECURITY_DELAY','AIRLINE_DELAY',\n",
    "                    'LATE_AIRCRAFT_DELAY','WEATHER_DELAY'],axis = 1)"
   ]
  },
  {
   "cell_type": "code",
   "execution_count": null,
   "metadata": {},
   "outputs": [],
   "source": [
    "data2.shape"
   ]
  },
  {
   "cell_type": "code",
   "execution_count": null,
   "metadata": {
    "scrolled": true
   },
   "outputs": [],
   "source": [
    "data2.info()"
   ]
  },
  {
   "cell_type": "code",
   "execution_count": null,
   "metadata": {
    "collapsed": true
   },
   "outputs": [],
   "source": [
    "# Creating a function to change the way of representation of time in the column\n",
    "@np.vectorize\n",
    "def Format_Hourmin(hours):\n",
    "        if hours == 2400:\n",
    "            hours = 0\n",
    "        else:\n",
    "            hours = \"{0:04d}\".format(int(hours))\n",
    "            Hourmin = datetime.time(int(hours[0:2]), int(hours[2:4]))\n",
    "            return Hourmin"
   ]
  },
  {
   "cell_type": "code",
   "execution_count": null,
   "metadata": {},
   "outputs": [],
   "source": [
    "data1['CANCELLED']"
   ]
  },
  {
   "cell_type": "code",
   "execution_count": null,
   "metadata": {
    "collapsed": true,
    "scrolled": true
   },
   "outputs": [],
   "source": [
    "out = data1.execute('select month, airline, AVG(CANCELLED) from red_flights group by airline, month ').fetchall()\n",
    "m, a, rel = list(map(list, zip(*out)))\n"
   ]
  },
  {
   "cell_type": "code",
   "execution_count": null,
   "metadata": {},
   "outputs": [],
   "source": [
    "print(a)\n",
    "plt.plot(a, rel)\n",
    "plt.show()"
   ]
  },
  {
   "cell_type": "code",
   "execution_count": null,
   "metadata": {
    "scrolled": true
   },
   "outputs": [],
   "source": [
    "x = data1['DEPARTURE_TIME'].apply(Format_Hourmin)\n",
    "#data2['Actual_Departure'] = x\n",
    "x"
   ]
  },
  {
   "cell_type": "code",
   "execution_count": null,
   "metadata": {},
   "outputs": [],
   "source": [
    "plt.plot(data['ELAPSED_TIME'].array, data['DISTANCE'].array, '.')\n",
    "plt.show()"
   ]
  },
  {
   "cell_type": "code",
   "execution_count": null,
   "metadata": {},
   "outputs": [],
   "source": [
    "data = data.dropna(['DISTANCE', 'ARRIVAL_DELAY'])\n",
    "type(a)"
   ]
  },
  {
   "cell_type": "code",
   "execution_count": null,
   "metadata": {},
   "outputs": [],
   "source": [
    "x = data['DISTANCE'].to_pd().values.flatten()\n",
    "y = data['ARRIVAL_DELAY'].to_pd().values.flatten()\n",
    "\n",
    "heatmap, xedges, yedges = np.histogram2d(x, y, bins=16)\n",
    "plt.imshow(heatmap.T, origin='lower')\n",
    "plt.show()"
   ]
  },
  {
   "cell_type": "code",
   "execution_count": null,
   "metadata": {},
   "outputs": [],
   "source": [
    "a = data['DISTANCE']\n",
    "a.generate_stack()"
   ]
  },
  {
   "cell_type": "code",
   "execution_count": null,
   "metadata": {},
   "outputs": [],
   "source": [
    "from util import csvToDb, out_to_pd\n",
    "out = data.execute('select min(AIRLINE_DELAY) from red_flights')\n",
    "print(out.description[0])\n",
    "out.fetchone()\n",
    "#data.dotted_datatype"
   ]
  },
  {
   "cell_type": "code",
   "execution_count": null,
   "metadata": {
    "scrolled": true
   },
   "outputs": [],
   "source": [
    "a = data.to_pd()\n",
    "a.describe()"
   ]
  },
  {
   "cell_type": "code",
   "execution_count": null,
   "metadata": {},
   "outputs": [],
   "source": [
    "data.info()"
   ]
  },
  {
   "cell_type": "code",
   "execution_count": null,
   "metadata": {},
   "outputs": [],
   "source": [
    "# Merging on AIRLINE and IATA_CODE\n",
    "data2 = data2.merge(airlines, left_on='AIRLINE', right_on='IATA_CODE', how='inner')"
   ]
  },
  {
   "cell_type": "code",
   "execution_count": null,
   "metadata": {},
   "outputs": [],
   "source": [
    "data2['airlines.AIRLINE']"
   ]
  },
  {
   "cell_type": "code",
   "execution_count": null,
   "metadata": {
    "collapsed": true
   },
   "outputs": [],
   "source": []
  }
 ],
 "metadata": {
  "kernelspec": {
   "display_name": "Python 3",
   "language": "python",
   "name": "python3"
  },
  "language_info": {
   "codemirror_mode": {
    "name": "ipython",
    "version": 3
   },
   "file_extension": ".py",
   "mimetype": "text/x-python",
   "name": "python",
   "nbconvert_exporter": "python",
   "pygments_lexer": "ipython3",
   "version": "3.6.7"
  }
 },
 "nbformat": 4,
 "nbformat_minor": 2
}

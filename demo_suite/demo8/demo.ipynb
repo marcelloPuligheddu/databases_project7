{
 "cells": [
  {
   "cell_type": "code",
   "execution_count": 1,
   "metadata": {
    "collapsed": true
   },
   "outputs": [],
   "source": [
    "from pandas import pandas as pd\n",
    "import numpy as np\n",
    "import random\n",
    "import csv, sqlite3\n",
    "import logging\n",
    "import cProfile\n",
    "import lazypandas\n",
    "import matplotlib.pyplot as plt\n",
    "import datetime, scipy "
   ]
  },
  {
   "cell_type": "code",
   "execution_count": 2,
   "metadata": {},
   "outputs": [
    {
     "name": "stdout",
     "output_type": "stream",
     "text": [
      "LZ Creating engine\n"
     ]
    }
   ],
   "source": [
    "lz = lazypandas.lazy_pandas()"
   ]
  },
  {
   "cell_type": "code",
   "execution_count": 3,
   "metadata": {},
   "outputs": [
    {
     "name": "stdout",
     "output_type": "stream",
     "text": [
      "table name airlines\n",
      "new_stack\n",
      "140618974099160\n",
      "new lzpd stack select airlines.AIRLINE, airlines.IATA_CODE, airlines.auto_index\n",
      "from airlines\n",
      "\n",
      "table name airports\n",
      "new_stack\n",
      "140618970026560\n",
      "new lzpd stack select airports.AIRPORT, airports.CITY, airports.COUNTRY, airports.IATA_CODE, airports.LATITUDE, airports.LONGITUDE, airports.STATE, airports.auto_index\n",
      "from airports\n",
      "\n",
      "table name red_flights\n",
      "new_stack\n",
      "140618970026840\n",
      "new lzpd stack select red_flights.AIRLINE, red_flights.AIRLINE_DELAY, red_flights.AIR_SYSTEM_DELAY, red_flights.AIR_TIME, red_flights.ARRIVAL_DELAY, red_flights.ARRIVAL_TIME, red_flights.CANCELLATION_REASON, red_flights.CANCELLED, red_flights.DAY, red_flights.DAY_OF_WEEK, red_flights.DEPARTURE_DELAY, red_flights.DEPARTURE_TIME, red_flights.DESTINATION_AIRPORT, red_flights.DISTANCE, red_flights.DIVERTED, red_flights.ELAPSED_TIME, red_flights.FLIGHT_NUMBER, red_flights.LATE_AIRCRAFT_DELAY, red_flights.MONTH, red_flights.ORIGIN_AIRPORT, red_flights.SCHEDULED_ARRIVAL, red_flights.SCHEDULED_DEPARTURE, red_flights.SCHEDULED_TIME, red_flights.SECURITY_DELAY, red_flights.TAIL_NUMBER, red_flights.TAXI_IN, red_flights.TAXI_OUT, red_flights.WEATHER_DELAY, red_flights.WHEELS_OFF, red_flights.WHEELS_ON, red_flights.YEAR, red_flights.auto_index\n",
      "from red_flights\n",
      "\n"
     ]
    }
   ],
   "source": [
    "airlines = lz.read_csv('../dot/airlines.csv')\n",
    "airports = lz.read_csv('../dot/airports.csv')\n",
    "data  = lz.read_csv('../dot/red_flights.csv')"
   ]
  },
  {
   "cell_type": "code",
   "execution_count": 4,
   "metadata": {},
   "outputs": [
    {
     "data": {
      "text/plain": [
       "[(0,), (1,), (2,), (3,), (4,)]"
      ]
     },
     "execution_count": 4,
     "metadata": {},
     "output_type": "execute_result"
    }
   ],
   "source": [
    "data.execute('select auto_index from red_flights limit 5 ').fetchall()"
   ]
  },
  {
   "cell_type": "code",
   "execution_count": 5,
   "metadata": {},
   "outputs": [
    {
     "name": "stdout",
     "output_type": "stream",
     "text": [
      "caught get [ airline ]\n",
      "col_name airline\n",
      "simple project airline\n",
      "new lzpd stack select airline\n",
      "from red_flights\n",
      "\n",
      "1D\n"
     ]
    },
    {
     "data": {
      "text/plain": [
       "['AS' 'AA' 'US' ... 'NK' 'OO' 'UA']"
      ]
     },
     "execution_count": 5,
     "metadata": {},
     "output_type": "execute_result"
    }
   ],
   "source": [
    "data['airline']"
   ]
  },
  {
   "cell_type": "code",
   "execution_count": 6,
   "metadata": {},
   "outputs": [
    {
     "name": "stdout",
     "output_type": "stream",
     "text": [
      "lazyDataFrame\n",
      "tables\n",
      "  red_flights :\n",
      "    YEAR : REAL\n",
      "    MONTH : REAL\n",
      "    DAY : REAL\n",
      "    DAY_OF_WEEK : REAL\n",
      "    AIRLINE : TEXT\n",
      "    FLIGHT_NUMBER : REAL\n",
      "    TAIL_NUMBER : TEXT\n",
      "    ORIGIN_AIRPORT : TEXT\n",
      "    DESTINATION_AIRPORT : TEXT\n",
      "    SCHEDULED_DEPARTURE : REAL\n",
      "    DEPARTURE_TIME : REAL\n",
      "    DEPARTURE_DELAY : REAL\n",
      "    TAXI_OUT : REAL\n",
      "    WHEELS_OFF : REAL\n",
      "    SCHEDULED_TIME : REAL\n",
      "    ELAPSED_TIME : REAL\n",
      "    AIR_TIME : REAL\n",
      "    DISTANCE : REAL\n",
      "    WHEELS_ON : REAL\n",
      "    TAXI_IN : REAL\n",
      "    SCHEDULED_ARRIVAL : REAL\n",
      "    ARRIVAL_TIME : REAL\n",
      "    ARRIVAL_DELAY : REAL\n",
      "    DIVERTED : REAL\n",
      "    CANCELLED : REAL\n",
      "    CANCELLATION_REASON : TEXT\n",
      "    AIR_SYSTEM_DELAY : REAL\n",
      "    SECURITY_DELAY : REAL\n",
      "    AIRLINE_DELAY : REAL\n",
      "    LATE_AIRCRAFT_DELAY : REAL\n",
      "    WEATHER_DELAY : REAL\n",
      "    auto_index : INTEGER\n",
      "\n"
     ]
    }
   ],
   "source": [
    "data.info()"
   ]
  },
  {
   "cell_type": "code",
   "execution_count": 7,
   "metadata": {},
   "outputs": [
    {
     "data": {
      "text/plain": [
       "select red_flights.AIRLINE, red_flights.AIRLINE_DELAY, red_flights.AIR_SYSTEM_DELAY, red_flights.AIR_TIME, red_flights.ARRIVAL_DELAY, red_flights.ARRIVAL_TIME, red_flights.CANCELLATION_REASON, red_flights.CANCELLED, red_flights.DAY, red_flights.DAY_OF_WEEK, red_flights.DEPARTURE_DELAY, red_flights.DEPARTURE_TIME, red_flights.DESTINATION_AIRPORT, red_flights.DISTANCE, red_flights.DIVERTED, red_flights.ELAPSED_TIME, red_flights.FLIGHT_NUMBER, red_flights.LATE_AIRCRAFT_DELAY, red_flights.MONTH, red_flights.ORIGIN_AIRPORT, red_flights.SCHEDULED_ARRIVAL, red_flights.SCHEDULED_DEPARTURE, red_flights.SCHEDULED_TIME, red_flights.SECURITY_DELAY, red_flights.TAIL_NUMBER, red_flights.TAXI_IN, red_flights.TAXI_OUT, red_flights.WEATHER_DELAY, red_flights.WHEELS_OFF, red_flights.WHEELS_ON, red_flights.YEAR, red_flights.auto_index\n",
       "from red_flights"
      ]
     },
     "execution_count": 7,
     "metadata": {},
     "output_type": "execute_result"
    }
   ],
   "source": [
    "data.stack"
   ]
  },
  {
   "cell_type": "code",
   "execution_count": 8,
   "metadata": {},
   "outputs": [
    {
     "name": "stdout",
     "output_type": "stream",
     "text": [
      "caught groupby DAY\n",
      "R: looking for  DAY in red_flights ['YEAR', 'MONTH', 'DAY', 'DAY_OF_WEEK', 'AIRLINE', 'FLIGHT_NUMBER', 'TAIL_NUMBER', 'ORIGIN_AIRPORT', 'DESTINATION_AIRPORT', 'SCHEDULED_DEPARTURE', 'DEPARTURE_TIME', 'DEPARTURE_DELAY', 'TAXI_OUT', 'WHEELS_OFF', 'SCHEDULED_TIME', 'ELAPSED_TIME', 'AIR_TIME', 'DISTANCE', 'WHEELS_ON', 'TAXI_IN', 'SCHEDULED_ARRIVAL', 'ARRIVAL_TIME', 'ARRIVAL_DELAY', 'DIVERTED', 'CANCELLED', 'CANCELLATION_REASON', 'AIR_SYSTEM_DELAY', 'SECURITY_DELAY', 'AIRLINE_DELAY', 'LATE_AIRCRAFT_DELAY', 'WEATHER_DELAY', 'auto_index']\n",
      "new lzpd stack select red_flights.AIRLINE, red_flights.AIRLINE_DELAY, red_flights.AIR_SYSTEM_DELAY, red_flights.AIR_TIME, red_flights.ARRIVAL_DELAY, red_flights.ARRIVAL_TIME, red_flights.CANCELLATION_REASON, red_flights.CANCELLED, red_flights.DAY, red_flights.DAY_OF_WEEK, red_flights.DEPARTURE_DELAY, red_flights.DEPARTURE_TIME, red_flights.DESTINATION_AIRPORT, red_flights.DISTANCE, red_flights.DIVERTED, red_flights.ELAPSED_TIME, red_flights.FLIGHT_NUMBER, red_flights.LATE_AIRCRAFT_DELAY, red_flights.MONTH, red_flights.ORIGIN_AIRPORT, red_flights.SCHEDULED_ARRIVAL, red_flights.SCHEDULED_DEPARTURE, red_flights.SCHEDULED_TIME, red_flights.SECURITY_DELAY, red_flights.TAIL_NUMBER, red_flights.TAXI_IN, red_flights.TAXI_OUT, red_flights.WEATHER_DELAY, red_flights.WHEELS_OFF, red_flights.WHEELS_ON, red_flights.YEAR, red_flights.auto_index\n",
      "from red_flights\n",
      "group by (red_flights.DAY)\n",
      "\n"
     ]
    }
   ],
   "source": [
    "byday = data.groupby('DAY')"
   ]
  },
  {
   "cell_type": "code",
   "execution_count": 9,
   "metadata": {},
   "outputs": [
    {
     "data": {
      "text/plain": [
       "select red_flights.AIRLINE, red_flights.AIRLINE_DELAY, red_flights.AIR_SYSTEM_DELAY, red_flights.AIR_TIME, red_flights.ARRIVAL_DELAY, red_flights.ARRIVAL_TIME, red_flights.CANCELLATION_REASON, red_flights.CANCELLED, red_flights.DAY, red_flights.DAY_OF_WEEK, red_flights.DEPARTURE_DELAY, red_flights.DEPARTURE_TIME, red_flights.DESTINATION_AIRPORT, red_flights.DISTANCE, red_flights.DIVERTED, red_flights.ELAPSED_TIME, red_flights.FLIGHT_NUMBER, red_flights.LATE_AIRCRAFT_DELAY, red_flights.MONTH, red_flights.ORIGIN_AIRPORT, red_flights.SCHEDULED_ARRIVAL, red_flights.SCHEDULED_DEPARTURE, red_flights.SCHEDULED_TIME, red_flights.SECURITY_DELAY, red_flights.TAIL_NUMBER, red_flights.TAXI_IN, red_flights.TAXI_OUT, red_flights.WEATHER_DELAY, red_flights.WHEELS_OFF, red_flights.WHEELS_ON, red_flights.YEAR, red_flights.auto_index\n",
       "from red_flights"
      ]
     },
     "execution_count": 9,
     "metadata": {},
     "output_type": "execute_result"
    }
   ],
   "source": [
    "data.stack"
   ]
  },
  {
   "cell_type": "code",
   "execution_count": 10,
   "metadata": {},
   "outputs": [
    {
     "name": "stdout",
     "output_type": "stream",
     "text": [
      "caught get [ ELAPSED_TIME ]\n",
      "col_name ELAPSED_TIME\n",
      "empty aggr func stak []\n",
      "aggr project red_flights.DAY ELAPSED_TIME ELAPSED_TIME\n",
      "new lzpd stack select ELAPSED_TIME\n",
      "from red_flights\n",
      "group by (red_flights.DAY)\n",
      "\n",
      "caught max\n",
      "new lzpd stack select max(ELAPSED_TIME)\n",
      "from red_flights\n",
      "group by (red_flights.DAY)\n",
      "\n"
     ]
    },
    {
     "data": {
      "text/plain": [
       "select max(ELAPSED_TIME)\n",
       "from red_flights\n",
       "group by (red_flights.DAY)"
      ]
     },
     "execution_count": 10,
     "metadata": {},
     "output_type": "execute_result"
    }
   ],
   "source": [
    "a = byday['ELAPSED_TIME'].max()\n",
    "a.generate_stack()"
   ]
  },
  {
   "cell_type": "code",
   "execution_count": 11,
   "metadata": {},
   "outputs": [
    {
     "name": "stdout",
     "output_type": "stream",
     "text": [
      "caught get [ DAY ]\n",
      "col_name DAY\n",
      "empty aggr func stak []\n",
      "aggr project red_flights.DAY DAY DAY\n",
      "new lzpd stack select DAY\n",
      "from red_flights\n",
      "group by (red_flights.DAY)\n",
      "\n",
      "1D\n",
      "caught get [ ELAPSED_TIME ]\n",
      "col_name ELAPSED_TIME\n",
      "empty aggr func stak []\n",
      "aggr project red_flights.DAY ELAPSED_TIME ELAPSED_TIME\n",
      "new lzpd stack select ELAPSED_TIME\n",
      "from red_flights\n",
      "group by (red_flights.DAY)\n",
      "\n",
      "caught max\n",
      "new lzpd stack select max(ELAPSED_TIME)\n",
      "from red_flights\n",
      "group by (red_flights.DAY)\n",
      "\n",
      "1D\n",
      "caught get [ DAY ]\n",
      "col_name DAY\n",
      "empty aggr func stak []\n",
      "aggr project red_flights.DAY DAY DAY\n",
      "new lzpd stack select DAY\n",
      "from red_flights\n",
      "group by (red_flights.DAY)\n",
      "\n",
      "1D\n",
      "caught get [ ELAPSED_TIME ]\n",
      "col_name ELAPSED_TIME\n",
      "empty aggr func stak []\n",
      "aggr project red_flights.DAY ELAPSED_TIME ELAPSED_TIME\n",
      "new lzpd stack select ELAPSED_TIME\n",
      "from red_flights\n",
      "group by (red_flights.DAY)\n",
      "\n",
      "caught min\n",
      "new lzpd stack select min(ELAPSED_TIME)\n",
      "from red_flights\n",
      "group by (red_flights.DAY)\n",
      "\n",
      "1D\n"
     ]
    },
    {
     "data": {
      "image/png": "[encoded data removed]",
      "text/plain": [
       "<Figure size 432x288 with 1 Axes>"
      ]
     },
     "metadata": {},
     "output_type": "display_data"
    }
   ],
   "source": [
    "plt.plot(byday['DAY'].array, byday['ELAPSED_TIME'].max().array)\n",
    "plt.plot(byday['DAY'].array, byday['ELAPSED_TIME'].min().array)\n",
    "plt.show()"
   ]
  },
  {
   "cell_type": "code",
   "execution_count": 12,
   "metadata": {
    "scrolled": true
   },
   "outputs": [
    {
     "name": "stdout",
     "output_type": "stream",
     "text": [
      "caught set [] new 1\n",
      "R: looking for  new in red_flights ['YEAR', 'MONTH', 'DAY', 'DAY_OF_WEEK', 'AIRLINE', 'FLIGHT_NUMBER', 'TAIL_NUMBER', 'ORIGIN_AIRPORT', 'DESTINATION_AIRPORT', 'SCHEDULED_DEPARTURE', 'DEPARTURE_TIME', 'DEPARTURE_DELAY', 'TAXI_OUT', 'WHEELS_OFF', 'SCHEDULED_TIME', 'ELAPSED_TIME', 'AIR_TIME', 'DISTANCE', 'WHEELS_ON', 'TAXI_IN', 'SCHEDULED_ARRIVAL', 'ARRIVAL_TIME', 'ARRIVAL_DELAY', 'DIVERTED', 'CANCELLED', 'CANCELLATION_REASON', 'AIR_SYSTEM_DELAY', 'SECURITY_DELAY', 'AIRLINE_DELAY', 'LATE_AIRCRAFT_DELAY', 'WEATHER_DELAY', 'auto_index']\n",
      "caught get [ red_flights.auto_index ]\n",
      "col_name red_flights.auto_index\n",
      "simple project red_flights.auto_index\n",
      "new lzpd stack select red_flights.auto_index\n",
      "from red_flights\n",
      "\n",
      "1D\n",
      "new_stack\n",
      "140618953634144\n",
      "new lzpd stack select auto_generated_table_new.auto_index, auto_generated_table_new.new\n",
      "from auto_generated_table_new\n",
      "\n",
      "caught merge\n",
      "merge ['red_flights'] ['auto_generated_table_new']\n",
      "new_stack\n",
      "140618953637280\n",
      "R: looking for  auto_index in red_flights\n",
      "L: looking for  auto_index in auto_generated_table_new\n",
      "new lzpd stack select auto_generated_table_new.auto_index, auto_generated_table_new.new, red_flights.AIRLINE, red_flights.AIRLINE_DELAY, red_flights.AIR_SYSTEM_DELAY, red_flights.AIR_TIME, red_flights.ARRIVAL_DELAY, red_flights.ARRIVAL_TIME, red_flights.CANCELLATION_REASON, red_flights.CANCELLED, red_flights.DAY, red_flights.DAY_OF_WEEK, red_flights.DEPARTURE_DELAY, red_flights.DEPARTURE_TIME, red_flights.DESTINATION_AIRPORT, red_flights.DISTANCE, red_flights.DIVERTED, red_flights.ELAPSED_TIME, red_flights.FLIGHT_NUMBER, red_flights.LATE_AIRCRAFT_DELAY, red_flights.MONTH, red_flights.ORIGIN_AIRPORT, red_flights.SCHEDULED_ARRIVAL, red_flights.SCHEDULED_DEPARTURE, red_flights.SCHEDULED_TIME, red_flights.SECURITY_DELAY, red_flights.TAIL_NUMBER, red_flights.TAXI_IN, red_flights.TAXI_OUT, red_flights.WEATHER_DELAY, red_flights.WHEELS_OFF, red_flights.WHEELS_ON, red_flights.YEAR, red_flights.auto_index\n",
      "from auto_generated_table_new, red_flights\n",
      "where (auto_generated_table_new.auto_index = red_flights.auto_index)\n",
      "\n",
      "new lzpd stack select auto_generated_table_new.auto_index, auto_generated_table_new.new, red_flights.AIRLINE, red_flights.AIRLINE_DELAY, red_flights.AIR_SYSTEM_DELAY, red_flights.AIR_TIME, red_flights.ARRIVAL_DELAY, red_flights.ARRIVAL_TIME, red_flights.CANCELLATION_REASON, red_flights.CANCELLED, red_flights.DAY, red_flights.DAY_OF_WEEK, red_flights.DEPARTURE_DELAY, red_flights.DEPARTURE_TIME, red_flights.DESTINATION_AIRPORT, red_flights.DISTANCE, red_flights.DIVERTED, red_flights.ELAPSED_TIME, red_flights.FLIGHT_NUMBER, red_flights.LATE_AIRCRAFT_DELAY, red_flights.MONTH, red_flights.ORIGIN_AIRPORT, red_flights.SCHEDULED_ARRIVAL, red_flights.SCHEDULED_DEPARTURE, red_flights.SCHEDULED_TIME, red_flights.SECURITY_DELAY, red_flights.TAIL_NUMBER, red_flights.TAXI_IN, red_flights.TAXI_OUT, red_flights.WEATHER_DELAY, red_flights.WHEELS_OFF, red_flights.WHEELS_ON, red_flights.YEAR, red_flights.auto_index\n",
      "from auto_generated_table_new, red_flights\n",
      "where (auto_generated_table_new.auto_index = red_flights.auto_index)\n",
      "\n"
     ]
    }
   ],
   "source": [
    "data['new'] = 1"
   ]
  },
  {
   "cell_type": "code",
   "execution_count": 13,
   "metadata": {},
   "outputs": [
    {
     "name": "stdout",
     "output_type": "stream",
     "text": [
      "caught groupby AIRLINE\n",
      "R: looking for  AIRLINE in red_flights ['YEAR', 'MONTH', 'DAY', 'DAY_OF_WEEK', 'AIRLINE', 'FLIGHT_NUMBER', 'TAIL_NUMBER', 'ORIGIN_AIRPORT', 'DESTINATION_AIRPORT', 'SCHEDULED_DEPARTURE', 'DEPARTURE_TIME', 'DEPARTURE_DELAY', 'TAXI_OUT', 'WHEELS_OFF', 'SCHEDULED_TIME', 'ELAPSED_TIME', 'AIR_TIME', 'DISTANCE', 'WHEELS_ON', 'TAXI_IN', 'SCHEDULED_ARRIVAL', 'ARRIVAL_TIME', 'ARRIVAL_DELAY', 'DIVERTED', 'CANCELLED', 'CANCELLATION_REASON', 'AIR_SYSTEM_DELAY', 'SECURITY_DELAY', 'AIRLINE_DELAY', 'LATE_AIRCRAFT_DELAY', 'WEATHER_DELAY', 'auto_index']\n",
      "new lzpd stack select auto_generated_table_new.new, red_flights.AIRLINE, red_flights.AIRLINE_DELAY, red_flights.AIR_SYSTEM_DELAY, red_flights.AIR_TIME, red_flights.ARRIVAL_DELAY, red_flights.ARRIVAL_TIME, red_flights.CANCELLATION_REASON, red_flights.CANCELLED, red_flights.DAY, red_flights.DAY_OF_WEEK, red_flights.DEPARTURE_DELAY, red_flights.DEPARTURE_TIME, red_flights.DESTINATION_AIRPORT, red_flights.DISTANCE, red_flights.DIVERTED, red_flights.ELAPSED_TIME, red_flights.FLIGHT_NUMBER, red_flights.LATE_AIRCRAFT_DELAY, red_flights.MONTH, red_flights.ORIGIN_AIRPORT, red_flights.SCHEDULED_ARRIVAL, red_flights.SCHEDULED_DEPARTURE, red_flights.SCHEDULED_TIME, red_flights.SECURITY_DELAY, red_flights.TAIL_NUMBER, red_flights.TAXI_IN, red_flights.TAXI_OUT, red_flights.WEATHER_DELAY, red_flights.WHEELS_OFF, red_flights.WHEELS_ON, red_flights.YEAR, red_flights.auto_index\n",
      "from auto_generated_table_new, red_flights\n",
      "where (auto_generated_table_new.auto_index = red_flights.auto_index)\n",
      "group by (red_flights.AIRLINE)\n",
      "\n"
     ]
    },
    {
     "data": {
      "text/plain": [
       "'select auto_generated_table_new.new, red_flights.AIRLINE, red_flights.AIRLINE_DELAY, red_flights.AIR_SYSTEM_DELAY, red_flights.AIR_TIME, red_flights.ARRIVAL_DELAY, red_flights.ARRIVAL_TIME, red_flights.CANCELLATION_REASON, red_flights.CANCELLED, red_flights.DAY, red_flights.DAY_OF_WEEK, red_flights.DEPARTURE_DELAY, red_flights.DEPARTURE_TIME, red_flights.DESTINATION_AIRPORT, red_flights.DISTANCE, red_flights.DIVERTED, red_flights.ELAPSED_TIME, red_flights.FLIGHT_NUMBER, red_flights.LATE_AIRCRAFT_DELAY, red_flights.MONTH, red_flights.ORIGIN_AIRPORT, red_flights.SCHEDULED_ARRIVAL, red_flights.SCHEDULED_DEPARTURE, red_flights.SCHEDULED_TIME, red_flights.SECURITY_DELAY, red_flights.TAIL_NUMBER, red_flights.TAXI_IN, red_flights.TAXI_OUT, red_flights.WEATHER_DELAY, red_flights.WHEELS_OFF, red_flights.WHEELS_ON, red_flights.YEAR, red_flights.auto_index\\nfrom auto_generated_table_new, red_flights\\nwhere (auto_generated_table_new.auto_index = red_flights.auto_index)\\ngroup by (red_flights.AIRLINE)\\n'"
      ]
     },
     "execution_count": 13,
     "metadata": {},
     "output_type": "execute_result"
    }
   ],
   "source": [
    "hei = data.groupby('AIRLINE')\n",
    "hei.generate_query()"
   ]
  },
  {
   "cell_type": "code",
   "execution_count": 14,
   "metadata": {},
   "outputs": [
    {
     "name": "stdout",
     "output_type": "stream",
     "text": [
      "['red_flights.AIRLINE']\n"
     ]
    }
   ],
   "source": [
    "lol = hei.RA.ra_stack.groupby_stack\n",
    "print(lol)"
   ]
  },
  {
   "cell_type": "code",
   "execution_count": 15,
   "metadata": {},
   "outputs": [
    {
     "name": "stdout",
     "output_type": "stream",
     "text": [
      "caught set [] new 1\n",
      "R: looking for  new in red_flights ['YEAR', 'MONTH', 'DAY', 'DAY_OF_WEEK', 'AIRLINE', 'FLIGHT_NUMBER', 'TAIL_NUMBER', 'ORIGIN_AIRPORT', 'DESTINATION_AIRPORT', 'SCHEDULED_DEPARTURE', 'DEPARTURE_TIME', 'DEPARTURE_DELAY', 'TAXI_OUT', 'WHEELS_OFF', 'SCHEDULED_TIME', 'ELAPSED_TIME', 'AIR_TIME', 'DISTANCE', 'WHEELS_ON', 'TAXI_IN', 'SCHEDULED_ARRIVAL', 'ARRIVAL_TIME', 'ARRIVAL_DELAY', 'DIVERTED', 'CANCELLED', 'CANCELLATION_REASON', 'AIR_SYSTEM_DELAY', 'SECURITY_DELAY', 'AIRLINE_DELAY', 'LATE_AIRCRAFT_DELAY', 'WEATHER_DELAY', 'auto_index']\n",
      "R: looking for  new in auto_generated_table_new ['new', 'auto_index']\n",
      "caught get [ red_flights.auto_index ]\n",
      "col_name red_flights.auto_index\n",
      "simple project red_flights.auto_index\n",
      "new lzpd stack select red_flights.auto_index\n",
      "from auto_generated_table_new, red_flights\n",
      "where (auto_generated_table_new.auto_index = red_flights.auto_index)\n",
      "\n",
      "1D\n"
     ]
    }
   ],
   "source": [
    "data['new'] = 1"
   ]
  },
  {
   "cell_type": "code",
   "execution_count": 16,
   "metadata": {},
   "outputs": [
    {
     "data": {
      "text/plain": [
       "(('auto_index', None, None, None, None, None, None),)"
      ]
     },
     "execution_count": 16,
     "metadata": {},
     "output_type": "execute_result"
    }
   ],
   "source": [
    "data.execute(\"\"\"\n",
    "    select red_flights.auto_index\n",
    "    from red_flights, auto_generated_table_new\n",
    "    where (auto_generated_table_new.auto_index = red_flights.auto_index)\n",
    "    limit 5 \"\"\").description"
   ]
  },
  {
   "cell_type": "code",
   "execution_count": 17,
   "metadata": {},
   "outputs": [
    {
     "data": {
      "text/html": [
       "<div>\n",
       "<style>\n",
       "    .dataframe thead tr:only-child th {\n",
       "        text-align: right;\n",
       "    }\n",
       "\n",
       "    .dataframe thead th {\n",
       "        text-align: left;\n",
       "    }\n",
       "\n",
       "    .dataframe tbody tr th {\n",
       "        vertical-align: top;\n",
       "    }\n",
       "</style>\n",
       "<table border=\"1\" class=\"dataframe\">\n",
       "  <thead>\n",
       "    <tr style=\"text-align: right;\">\n",
       "      <th></th>\n",
       "      <th>new</th>\n",
       "      <th>AIRLINE_DELAY</th>\n",
       "      <th>AIR_SYSTEM_DELAY</th>\n",
       "      <th>AIR_TIME</th>\n",
       "      <th>ARRIVAL_DELAY</th>\n",
       "      <th>ARRIVAL_TIME</th>\n",
       "      <th>CANCELLED</th>\n",
       "      <th>DAY</th>\n",
       "      <th>DAY_OF_WEEK</th>\n",
       "      <th>DEPARTURE_DELAY</th>\n",
       "      <th>...</th>\n",
       "      <th>SCHEDULED_DEPARTURE</th>\n",
       "      <th>SCHEDULED_TIME</th>\n",
       "      <th>SECURITY_DELAY</th>\n",
       "      <th>TAXI_IN</th>\n",
       "      <th>TAXI_OUT</th>\n",
       "      <th>WEATHER_DELAY</th>\n",
       "      <th>WHEELS_OFF</th>\n",
       "      <th>WHEELS_ON</th>\n",
       "      <th>YEAR</th>\n",
       "      <th>auto_index</th>\n",
       "    </tr>\n",
       "  </thead>\n",
       "  <tbody>\n",
       "    <tr>\n",
       "      <th>count</th>\n",
       "      <td>99999.0</td>\n",
       "      <td>34625.000000</td>\n",
       "      <td>34625.000000</td>\n",
       "      <td>97386.000000</td>\n",
       "      <td>97386.000000</td>\n",
       "      <td>97559.000000</td>\n",
       "      <td>99999.000000</td>\n",
       "      <td>99999.000000</td>\n",
       "      <td>99999.000000</td>\n",
       "      <td>97701.000000</td>\n",
       "      <td>...</td>\n",
       "      <td>99999.000000</td>\n",
       "      <td>99999.000000</td>\n",
       "      <td>34625.000000</td>\n",
       "      <td>97559.000000</td>\n",
       "      <td>97628.000000</td>\n",
       "      <td>34625.000000</td>\n",
       "      <td>97628.000000</td>\n",
       "      <td>97559.000000</td>\n",
       "      <td>99999.0</td>\n",
       "      <td>99999.000000</td>\n",
       "    </tr>\n",
       "    <tr>\n",
       "      <th>mean</th>\n",
       "      <td>1.0</td>\n",
       "      <td>17.853921</td>\n",
       "      <td>14.026801</td>\n",
       "      <td>117.098762</td>\n",
       "      <td>18.342575</td>\n",
       "      <td>1458.032442</td>\n",
       "      <td>0.023890</td>\n",
       "      <td>3.733887</td>\n",
       "      <td>4.107321</td>\n",
       "      <td>19.938046</td>\n",
       "      <td>...</td>\n",
       "      <td>1306.350254</td>\n",
       "      <td>143.040060</td>\n",
       "      <td>0.070787</td>\n",
       "      <td>8.117877</td>\n",
       "      <td>17.155908</td>\n",
       "      <td>2.751971</td>\n",
       "      <td>1348.428514</td>\n",
       "      <td>1454.531258</td>\n",
       "      <td>2015.0</td>\n",
       "      <td>49999.000000</td>\n",
       "    </tr>\n",
       "    <tr>\n",
       "      <th>std</th>\n",
       "      <td>0.0</td>\n",
       "      <td>43.527539</td>\n",
       "      <td>25.965405</td>\n",
       "      <td>74.306678</td>\n",
       "      <td>48.878412</td>\n",
       "      <td>538.213952</td>\n",
       "      <td>0.152708</td>\n",
       "      <td>1.815522</td>\n",
       "      <td>2.098459</td>\n",
       "      <td>45.843719</td>\n",
       "      <td>...</td>\n",
       "      <td>482.327514</td>\n",
       "      <td>76.235025</td>\n",
       "      <td>1.692526</td>\n",
       "      <td>7.561171</td>\n",
       "      <td>10.738428</td>\n",
       "      <td>17.265760</td>\n",
       "      <td>504.144849</td>\n",
       "      <td>532.928144</td>\n",
       "      <td>0.0</td>\n",
       "      <td>28867.369122</td>\n",
       "    </tr>\n",
       "    <tr>\n",
       "      <th>min</th>\n",
       "      <td>1.0</td>\n",
       "      <td>0.000000</td>\n",
       "      <td>0.000000</td>\n",
       "      <td>8.000000</td>\n",
       "      <td>-65.000000</td>\n",
       "      <td>1.000000</td>\n",
       "      <td>0.000000</td>\n",
       "      <td>1.000000</td>\n",
       "      <td>1.000000</td>\n",
       "      <td>-39.000000</td>\n",
       "      <td>...</td>\n",
       "      <td>5.000000</td>\n",
       "      <td>23.000000</td>\n",
       "      <td>0.000000</td>\n",
       "      <td>1.000000</td>\n",
       "      <td>1.000000</td>\n",
       "      <td>0.000000</td>\n",
       "      <td>1.000000</td>\n",
       "      <td>1.000000</td>\n",
       "      <td>2015.0</td>\n",
       "      <td>0.000000</td>\n",
       "    </tr>\n",
       "    <tr>\n",
       "      <th>25%</th>\n",
       "      <td>1.0</td>\n",
       "      <td>0.000000</td>\n",
       "      <td>0.000000</td>\n",
       "      <td>62.000000</td>\n",
       "      <td>-8.000000</td>\n",
       "      <td>1050.000000</td>\n",
       "      <td>0.000000</td>\n",
       "      <td>2.000000</td>\n",
       "      <td>2.000000</td>\n",
       "      <td>-3.000000</td>\n",
       "      <td>...</td>\n",
       "      <td>904.000000</td>\n",
       "      <td>86.000000</td>\n",
       "      <td>0.000000</td>\n",
       "      <td>4.000000</td>\n",
       "      <td>11.000000</td>\n",
       "      <td>0.000000</td>\n",
       "      <td>928.000000</td>\n",
       "      <td>1046.000000</td>\n",
       "      <td>2015.0</td>\n",
       "      <td>24999.500000</td>\n",
       "    </tr>\n",
       "    <tr>\n",
       "      <th>50%</th>\n",
       "      <td>1.0</td>\n",
       "      <td>4.000000</td>\n",
       "      <td>4.000000</td>\n",
       "      <td>98.000000</td>\n",
       "      <td>4.000000</td>\n",
       "      <td>1455.000000</td>\n",
       "      <td>0.000000</td>\n",
       "      <td>4.000000</td>\n",
       "      <td>4.000000</td>\n",
       "      <td>3.000000</td>\n",
       "      <td>...</td>\n",
       "      <td>1300.000000</td>\n",
       "      <td>125.000000</td>\n",
       "      <td>0.000000</td>\n",
       "      <td>6.000000</td>\n",
       "      <td>14.000000</td>\n",
       "      <td>0.000000</td>\n",
       "      <td>1330.000000</td>\n",
       "      <td>1452.000000</td>\n",
       "      <td>2015.0</td>\n",
       "      <td>49999.000000</td>\n",
       "    </tr>\n",
       "    <tr>\n",
       "      <th>75%</th>\n",
       "      <td>1.0</td>\n",
       "      <td>19.000000</td>\n",
       "      <td>19.000000</td>\n",
       "      <td>150.000000</td>\n",
       "      <td>27.000000</td>\n",
       "      <td>1911.000000</td>\n",
       "      <td>0.000000</td>\n",
       "      <td>5.000000</td>\n",
       "      <td>6.000000</td>\n",
       "      <td>25.000000</td>\n",
       "      <td>...</td>\n",
       "      <td>1720.000000</td>\n",
       "      <td>175.000000</td>\n",
       "      <td>0.000000</td>\n",
       "      <td>9.000000</td>\n",
       "      <td>20.000000</td>\n",
       "      <td>0.000000</td>\n",
       "      <td>1753.000000</td>\n",
       "      <td>1907.000000</td>\n",
       "      <td>2015.0</td>\n",
       "      <td>74998.500000</td>\n",
       "    </tr>\n",
       "    <tr>\n",
       "      <th>max</th>\n",
       "      <td>1.0</td>\n",
       "      <td>1380.000000</td>\n",
       "      <td>590.000000</td>\n",
       "      <td>676.000000</td>\n",
       "      <td>1384.000000</td>\n",
       "      <td>2400.000000</td>\n",
       "      <td>1.000000</td>\n",
       "      <td>7.000000</td>\n",
       "      <td>7.000000</td>\n",
       "      <td>1380.000000</td>\n",
       "      <td>...</td>\n",
       "      <td>2359.000000</td>\n",
       "      <td>718.000000</td>\n",
       "      <td>107.000000</td>\n",
       "      <td>179.000000</td>\n",
       "      <td>176.000000</td>\n",
       "      <td>562.000000</td>\n",
       "      <td>2400.000000</td>\n",
       "      <td>2400.000000</td>\n",
       "      <td>2015.0</td>\n",
       "      <td>99998.000000</td>\n",
       "    </tr>\n",
       "  </tbody>\n",
       "</table>\n",
       "<p>8 rows × 28 columns</p>\n",
       "</div>"
      ],
      "text/plain": [
       "           new  AIRLINE_DELAY  AIR_SYSTEM_DELAY      AIR_TIME  ARRIVAL_DELAY  \\\n",
       "count  99999.0   34625.000000      34625.000000  97386.000000   97386.000000   \n",
       "mean       1.0      17.853921         14.026801    117.098762      18.342575   \n",
       "std        0.0      43.527539         25.965405     74.306678      48.878412   \n",
       "min        1.0       0.000000          0.000000      8.000000     -65.000000   \n",
       "25%        1.0       0.000000          0.000000     62.000000      -8.000000   \n",
       "50%        1.0       4.000000          4.000000     98.000000       4.000000   \n",
       "75%        1.0      19.000000         19.000000    150.000000      27.000000   \n",
       "max        1.0    1380.000000        590.000000    676.000000    1384.000000   \n",
       "\n",
       "       ARRIVAL_TIME     CANCELLED           DAY   DAY_OF_WEEK  \\\n",
       "count  97559.000000  99999.000000  99999.000000  99999.000000   \n",
       "mean    1458.032442      0.023890      3.733887      4.107321   \n",
       "std      538.213952      0.152708      1.815522      2.098459   \n",
       "min        1.000000      0.000000      1.000000      1.000000   \n",
       "25%     1050.000000      0.000000      2.000000      2.000000   \n",
       "50%     1455.000000      0.000000      4.000000      4.000000   \n",
       "75%     1911.000000      0.000000      5.000000      6.000000   \n",
       "max     2400.000000      1.000000      7.000000      7.000000   \n",
       "\n",
       "       DEPARTURE_DELAY      ...       SCHEDULED_DEPARTURE  SCHEDULED_TIME  \\\n",
       "count     97701.000000      ...              99999.000000    99999.000000   \n",
       "mean         19.938046      ...               1306.350254      143.040060   \n",
       "std          45.843719      ...                482.327514       76.235025   \n",
       "min         -39.000000      ...                  5.000000       23.000000   \n",
       "25%          -3.000000      ...                904.000000       86.000000   \n",
       "50%           3.000000      ...               1300.000000      125.000000   \n",
       "75%          25.000000      ...               1720.000000      175.000000   \n",
       "max        1380.000000      ...               2359.000000      718.000000   \n",
       "\n",
       "       SECURITY_DELAY       TAXI_IN      TAXI_OUT  WEATHER_DELAY  \\\n",
       "count    34625.000000  97559.000000  97628.000000   34625.000000   \n",
       "mean         0.070787      8.117877     17.155908       2.751971   \n",
       "std          1.692526      7.561171     10.738428      17.265760   \n",
       "min          0.000000      1.000000      1.000000       0.000000   \n",
       "25%          0.000000      4.000000     11.000000       0.000000   \n",
       "50%          0.000000      6.000000     14.000000       0.000000   \n",
       "75%          0.000000      9.000000     20.000000       0.000000   \n",
       "max        107.000000    179.000000    176.000000     562.000000   \n",
       "\n",
       "         WHEELS_OFF     WHEELS_ON     YEAR    auto_index  \n",
       "count  97628.000000  97559.000000  99999.0  99999.000000  \n",
       "mean    1348.428514   1454.531258   2015.0  49999.000000  \n",
       "std      504.144849    532.928144      0.0  28867.369122  \n",
       "min        1.000000      1.000000   2015.0      0.000000  \n",
       "25%      928.000000   1046.000000   2015.0  24999.500000  \n",
       "50%     1330.000000   1452.000000   2015.0  49999.000000  \n",
       "75%     1753.000000   1907.000000   2015.0  74998.500000  \n",
       "max     2400.000000   2400.000000   2015.0  99998.000000  \n",
       "\n",
       "[8 rows x 28 columns]"
      ]
     },
     "execution_count": 17,
     "metadata": {},
     "output_type": "execute_result"
    }
   ],
   "source": [
    "data.to_pd().describe()"
   ]
  },
  {
   "cell_type": "code",
   "execution_count": 18,
   "metadata": {},
   "outputs": [
    {
     "data": {
      "text/plain": [
       "'select auto_generated_table_new.new, red_flights.AIRLINE, red_flights.AIRLINE_DELAY, red_flights.AIR_SYSTEM_DELAY, red_flights.AIR_TIME, red_flights.ARRIVAL_DELAY, red_flights.ARRIVAL_TIME, red_flights.CANCELLATION_REASON, red_flights.CANCELLED, red_flights.DAY, red_flights.DAY_OF_WEEK, red_flights.DEPARTURE_DELAY, red_flights.DEPARTURE_TIME, red_flights.DESTINATION_AIRPORT, red_flights.DISTANCE, red_flights.DIVERTED, red_flights.ELAPSED_TIME, red_flights.FLIGHT_NUMBER, red_flights.LATE_AIRCRAFT_DELAY, red_flights.MONTH, red_flights.ORIGIN_AIRPORT, red_flights.SCHEDULED_ARRIVAL, red_flights.SCHEDULED_DEPARTURE, red_flights.SCHEDULED_TIME, red_flights.SECURITY_DELAY, red_flights.TAIL_NUMBER, red_flights.TAXI_IN, red_flights.TAXI_OUT, red_flights.WEATHER_DELAY, red_flights.WHEELS_OFF, red_flights.WHEELS_ON, red_flights.YEAR, red_flights.auto_index\\nfrom auto_generated_table_new, red_flights\\nwhere (auto_generated_table_new.auto_index = red_flights.auto_index)\\n'"
      ]
     },
     "execution_count": 18,
     "metadata": {},
     "output_type": "execute_result"
    }
   ],
   "source": [
    "data.generate_query()"
   ]
  },
  {
   "cell_type": "code",
   "execution_count": 19,
   "metadata": {
    "scrolled": true
   },
   "outputs": [
    {
     "name": "stdout",
     "output_type": "stream",
     "text": [
      "lazyDataFrame\n",
      "tables\n",
      "  red_flights :\n",
      "    YEAR : REAL\n",
      "    MONTH : REAL\n",
      "    DAY : REAL\n",
      "    DAY_OF_WEEK : REAL\n",
      "    AIRLINE : TEXT\n",
      "    FLIGHT_NUMBER : REAL\n",
      "    TAIL_NUMBER : TEXT\n",
      "    ORIGIN_AIRPORT : TEXT\n",
      "    DESTINATION_AIRPORT : TEXT\n",
      "    SCHEDULED_DEPARTURE : REAL\n",
      "    DEPARTURE_TIME : REAL\n",
      "    DEPARTURE_DELAY : REAL\n",
      "    TAXI_OUT : REAL\n",
      "    WHEELS_OFF : REAL\n",
      "    SCHEDULED_TIME : REAL\n",
      "    ELAPSED_TIME : REAL\n",
      "    AIR_TIME : REAL\n",
      "    DISTANCE : REAL\n",
      "    WHEELS_ON : REAL\n",
      "    TAXI_IN : REAL\n",
      "    SCHEDULED_ARRIVAL : REAL\n",
      "    ARRIVAL_TIME : REAL\n",
      "    ARRIVAL_DELAY : REAL\n",
      "    DIVERTED : REAL\n",
      "    CANCELLED : REAL\n",
      "    CANCELLATION_REASON : TEXT\n",
      "    AIR_SYSTEM_DELAY : REAL\n",
      "    SECURITY_DELAY : REAL\n",
      "    AIRLINE_DELAY : REAL\n",
      "    LATE_AIRCRAFT_DELAY : REAL\n",
      "    WEATHER_DELAY : REAL\n",
      "    auto_index : INTEGER\n",
      "\n",
      "  auto_generated_table_new :\n",
      "    new : REAL\n",
      "    auto_index : INTEGER\n",
      "\n"
     ]
    }
   ],
   "source": [
    "data.info()"
   ]
  },
  {
   "cell_type": "code",
   "execution_count": 20,
   "metadata": {},
   "outputs": [
    {
     "name": "stdout",
     "output_type": "stream",
     "text": [
      "caught merge\n",
      "merge ['red_flights', 'auto_generated_table_new'] ['airlines']\n",
      "new_stack\n",
      "140618895625800\n",
      "R: looking for  AIRLINE in red_flights\n",
      "R: looking for  AIRLINE in auto_generated_table_new\n",
      "L: looking for  IATA_CODE in airlines\n",
      "new lzpd stack select airlines.AIRLINE, airlines.IATA_CODE, airlines.auto_index, auto_generated_table_new.new, red_flights.AIRLINE, red_flights.AIRLINE_DELAY, red_flights.AIR_SYSTEM_DELAY, red_flights.AIR_TIME, red_flights.ARRIVAL_DELAY, red_flights.ARRIVAL_TIME, red_flights.CANCELLATION_REASON, red_flights.CANCELLED, red_flights.DAY, red_flights.DAY_OF_WEEK, red_flights.DEPARTURE_DELAY, red_flights.DEPARTURE_TIME, red_flights.DESTINATION_AIRPORT, red_flights.DISTANCE, red_flights.DIVERTED, red_flights.ELAPSED_TIME, red_flights.FLIGHT_NUMBER, red_flights.LATE_AIRCRAFT_DELAY, red_flights.MONTH, red_flights.ORIGIN_AIRPORT, red_flights.SCHEDULED_ARRIVAL, red_flights.SCHEDULED_DEPARTURE, red_flights.SCHEDULED_TIME, red_flights.SECURITY_DELAY, red_flights.TAIL_NUMBER, red_flights.TAXI_IN, red_flights.TAXI_OUT, red_flights.WEATHER_DELAY, red_flights.WHEELS_OFF, red_flights.WHEELS_ON, red_flights.YEAR, red_flights.auto_index\n",
      "from airlines, auto_generated_table_new, red_flights\n",
      "where (airlines.IATA_CODE = red_flights.AIRLINE) and (auto_generated_table_new.auto_index = red_flights.auto_index)\n",
      "\n"
     ]
    },
    {
     "data": {
      "text/plain": [
       "(99999, 36)"
      ]
     },
     "execution_count": 20,
     "metadata": {},
     "output_type": "execute_result"
    }
   ],
   "source": [
    "data2 = data.merge(airlines, left_on='AIRLINE', right_on='IATA_CODE')\n",
    "data2.shape"
   ]
  },
  {
   "cell_type": "code",
   "execution_count": 21,
   "metadata": {
    "scrolled": true
   },
   "outputs": [
    {
     "data": {
      "text/plain": [
       "(322, 8)"
      ]
     },
     "execution_count": 21,
     "metadata": {},
     "output_type": "execute_result"
    }
   ],
   "source": [
    "airports.shape"
   ]
  },
  {
   "cell_type": "code",
   "execution_count": 22,
   "metadata": {},
   "outputs": [
    {
     "name": "stdout",
     "output_type": "stream",
     "text": [
      "caught get [ MONTH ]\n",
      "col_name MONTH\n",
      "simple project MONTH\n",
      "new lzpd stack select MONTH\n",
      "from auto_generated_table_new, red_flights\n",
      "where (auto_generated_table_new.auto_index = red_flights.auto_index)\n",
      "\n",
      "caught eq 1\n",
      "new lzpd stack select MONTH\n",
      "from auto_generated_table_new, red_flights\n",
      "where (MONTH = 1) and (auto_generated_table_new.auto_index = red_flights.auto_index)\n",
      "\n",
      "caught get [ DAY ]\n",
      "col_name DAY\n",
      "simple project DAY\n",
      "new lzpd stack select DAY\n",
      "from auto_generated_table_new, red_flights\n",
      "where (auto_generated_table_new.auto_index = red_flights.auto_index)\n",
      "\n",
      "caught get [ DAY ]\n",
      "col_name DAY\n",
      "simple project DAY\n",
      "new lzpd stack select DAY\n",
      "from auto_generated_table_new, red_flights\n",
      "where (auto_generated_table_new.auto_index = red_flights.auto_index)\n",
      "\n",
      "1D\n",
      "[1 1 1 ... 1 1 1]\n",
      "select DAY\n",
      "from auto_generated_table_new, red_flights\n",
      "where (auto_generated_table_new.auto_index = red_flights.auto_index)\n",
      "\n",
      "select DAY\n",
      "from auto_generated_table_new, red_flights\n",
      "where (auto_generated_table_new.auto_index = red_flights.auto_index)\n",
      "\n",
      "select auto_generated_table_new.new, red_flights.AIRLINE, red_flights.AIRLINE_DELAY, red_flights.AIR_SYSTEM_DELAY, red_flights.AIR_TIME, red_flights.ARRIVAL_DELAY, red_flights.ARRIVAL_TIME, red_flights.CANCELLATION_REASON, red_flights.CANCELLED, red_flights.DAY, red_flights.DAY_OF_WEEK, red_flights.DEPARTURE_DELAY, red_flights.DEPARTURE_TIME, red_flights.DESTINATION_AIRPORT, red_flights.DISTANCE, red_flights.DIVERTED, red_flights.ELAPSED_TIME, red_flights.FLIGHT_NUMBER, red_flights.LATE_AIRCRAFT_DELAY, red_flights.MONTH, red_flights.ORIGIN_AIRPORT, red_flights.SCHEDULED_ARRIVAL, red_flights.SCHEDULED_DEPARTURE, red_flights.SCHEDULED_TIME, red_flights.SECURITY_DELAY, red_flights.TAIL_NUMBER, red_flights.TAXI_IN, red_flights.TAXI_OUT, red_flights.WEATHER_DELAY, red_flights.WHEELS_OFF, red_flights.WHEELS_ON, red_flights.YEAR, red_flights.auto_index\n",
      "from auto_generated_table_new, red_flights\n",
      "where (auto_generated_table_new.auto_index = red_flights.auto_index)\n",
      "\n"
     ]
    }
   ],
   "source": [
    "a = data['MONTH'] == 1\n",
    "b = data['DAY']\n",
    "c = data['DAY']\n",
    "print((a))\n",
    "print((b.stack))\n",
    "print((c.stack))\n",
    "print((data.stack))\n"
   ]
  },
  {
   "cell_type": "code",
   "execution_count": 23,
   "metadata": {
    "scrolled": true
   },
   "outputs": [
    {
     "name": "stdout",
     "output_type": "stream",
     "text": [
      "caught drop na subset () {'subset': ['LATITUDE', 'LONGITUDE']}\n",
      "new lzpd stack select airports.AIRPORT, airports.CITY, airports.COUNTRY, airports.IATA_CODE, airports.LATITUDE, airports.LONGITUDE, airports.STATE, airports.auto_index\n",
      "from airports\n",
      "where (LATITUDE is not null) and (LONGITUDE is not null)\n",
      "\n"
     ]
    }
   ],
   "source": [
    "airports = airports.dropna(subset = ['LATITUDE','LONGITUDE'])"
   ]
  },
  {
   "cell_type": "code",
   "execution_count": 24,
   "metadata": {},
   "outputs": [
    {
     "name": "stdout",
     "output_type": "stream",
     "text": [
      "caught drop na subset () {'subset': ['TAIL_NUMBER', 'DEPARTURE_TIME', 'DEPARTURE_DELAY', 'TAXI_OUT', 'WHEELS_OFF', 'SCHEDULED_TIME', 'ELAPSED_TIME', 'AIR_TIME', 'WHEELS_ON', 'TAXI_IN', 'ARRIVAL_TIME', 'ARRIVAL_DELAY']}\n",
      "new lzpd stack select auto_generated_table_new.new, red_flights.AIRLINE, red_flights.AIRLINE_DELAY, red_flights.AIR_SYSTEM_DELAY, red_flights.AIR_TIME, red_flights.ARRIVAL_DELAY, red_flights.ARRIVAL_TIME, red_flights.CANCELLATION_REASON, red_flights.CANCELLED, red_flights.DAY, red_flights.DAY_OF_WEEK, red_flights.DEPARTURE_DELAY, red_flights.DEPARTURE_TIME, red_flights.DESTINATION_AIRPORT, red_flights.DISTANCE, red_flights.DIVERTED, red_flights.ELAPSED_TIME, red_flights.FLIGHT_NUMBER, red_flights.LATE_AIRCRAFT_DELAY, red_flights.MONTH, red_flights.ORIGIN_AIRPORT, red_flights.SCHEDULED_ARRIVAL, red_flights.SCHEDULED_DEPARTURE, red_flights.SCHEDULED_TIME, red_flights.SECURITY_DELAY, red_flights.TAIL_NUMBER, red_flights.TAXI_IN, red_flights.TAXI_OUT, red_flights.WEATHER_DELAY, red_flights.WHEELS_OFF, red_flights.WHEELS_ON, red_flights.YEAR, red_flights.auto_index\n",
      "from auto_generated_table_new, red_flights\n",
      "where (AIR_TIME is not null) and (ARRIVAL_DELAY is not null) and (ARRIVAL_TIME is not null) and (DEPARTURE_DELAY is not null) and (DEPARTURE_TIME is not null) and (ELAPSED_TIME is not null) and (SCHEDULED_TIME is not null) and (TAIL_NUMBER is not null) and (TAXI_IN is not null) and (TAXI_OUT is not null) and (WHEELS_OFF is not null) and (WHEELS_ON is not null) and (auto_generated_table_new.auto_index = red_flights.auto_index)\n",
      "\n"
     ]
    }
   ],
   "source": [
    "data1 = data.dropna(subset = [\"TAIL_NUMBER\",'DEPARTURE_TIME','DEPARTURE_DELAY','TAXI_OUT','WHEELS_OFF','SCHEDULED_TIME',\n",
    "             'ELAPSED_TIME','AIR_TIME','WHEELS_ON','TAXI_IN','ARRIVAL_TIME','ARRIVAL_DELAY'])"
   ]
  },
  {
   "cell_type": "code",
   "execution_count": 25,
   "metadata": {},
   "outputs": [
    {
     "name": "stdout",
     "output_type": "stream",
     "text": [
      "caught drop na subset () {'subset': ['AIR_SYSTEM_DELAY', 'SECURITY_DELAY', 'AIRLINE_DELAY', 'LATE_AIRCRAFT_DELAY', 'WEATHER_DELAY']}\n",
      "new lzpd stack select auto_generated_table_new.new, red_flights.AIRLINE, red_flights.AIRLINE_DELAY, red_flights.AIR_SYSTEM_DELAY, red_flights.AIR_TIME, red_flights.ARRIVAL_DELAY, red_flights.ARRIVAL_TIME, red_flights.CANCELLATION_REASON, red_flights.CANCELLED, red_flights.DAY, red_flights.DAY_OF_WEEK, red_flights.DEPARTURE_DELAY, red_flights.DEPARTURE_TIME, red_flights.DESTINATION_AIRPORT, red_flights.DISTANCE, red_flights.DIVERTED, red_flights.ELAPSED_TIME, red_flights.FLIGHT_NUMBER, red_flights.LATE_AIRCRAFT_DELAY, red_flights.MONTH, red_flights.ORIGIN_AIRPORT, red_flights.SCHEDULED_ARRIVAL, red_flights.SCHEDULED_DEPARTURE, red_flights.SCHEDULED_TIME, red_flights.SECURITY_DELAY, red_flights.TAIL_NUMBER, red_flights.TAXI_IN, red_flights.TAXI_OUT, red_flights.WEATHER_DELAY, red_flights.WHEELS_OFF, red_flights.WHEELS_ON, red_flights.YEAR, red_flights.auto_index\n",
      "from auto_generated_table_new, red_flights\n",
      "where (AIRLINE_DELAY is not null) and (AIR_SYSTEM_DELAY is not null) and (AIR_TIME is not null) and (ARRIVAL_DELAY is not null) and (ARRIVAL_TIME is not null) and (DEPARTURE_DELAY is not null) and (DEPARTURE_TIME is not null) and (ELAPSED_TIME is not null) and (LATE_AIRCRAFT_DELAY is not null) and (SCHEDULED_TIME is not null) and (SECURITY_DELAY is not null) and (TAIL_NUMBER is not null) and (TAXI_IN is not null) and (TAXI_OUT is not null) and (WEATHER_DELAY is not null) and (WHEELS_OFF is not null) and (WHEELS_ON is not null) and (auto_generated_table_new.auto_index = red_flights.auto_index)\n",
      "\n",
      "caught drop  labels (['YEAR', 'MONTH', 'DAY', 'DAY_OF_WEEK', 'TAIL_NUMBER', 'SCHEDULED_DEPARTURE', 'DEPARTURE_TIME', 'SCHEDULED_TIME', 'SCHEDULED_ARRIVAL', 'ARRIVAL_TIME', 'DIVERTED', 'CANCELLED', 'CANCELLATION_REASON', 'FLIGHT_NUMBER', 'WHEELS_OFF', 'WHEELS_ON', 'AIR_TIME'],) {'axis': 1}\n",
      "new lzpd stack select auto_generated_table_new.new, red_flights.AIRLINE, red_flights.AIRLINE_DELAY, red_flights.AIR_SYSTEM_DELAY, red_flights.AIR_TIME, red_flights.ARRIVAL_DELAY, red_flights.ARRIVAL_TIME, red_flights.CANCELLATION_REASON, red_flights.CANCELLED, red_flights.DAY, red_flights.DAY_OF_WEEK, red_flights.DEPARTURE_DELAY, red_flights.DEPARTURE_TIME, red_flights.DESTINATION_AIRPORT, red_flights.DISTANCE, red_flights.DIVERTED, red_flights.ELAPSED_TIME, red_flights.FLIGHT_NUMBER, red_flights.LATE_AIRCRAFT_DELAY, red_flights.MONTH, red_flights.ORIGIN_AIRPORT, red_flights.SCHEDULED_ARRIVAL, red_flights.SCHEDULED_DEPARTURE, red_flights.SCHEDULED_TIME, red_flights.SECURITY_DELAY, red_flights.TAIL_NUMBER, red_flights.TAXI_IN, red_flights.TAXI_OUT, red_flights.WEATHER_DELAY, red_flights.WHEELS_OFF, red_flights.WHEELS_ON, red_flights.YEAR, red_flights.auto_index\n",
      "from auto_generated_table_new, red_flights\n",
      "where (AIRLINE_DELAY is not null) and (AIR_SYSTEM_DELAY is not null) and (AIR_TIME is not null) and (ARRIVAL_DELAY is not null) and (ARRIVAL_TIME is not null) and (DEPARTURE_DELAY is not null) and (DEPARTURE_TIME is not null) and (ELAPSED_TIME is not null) and (LATE_AIRCRAFT_DELAY is not null) and (SCHEDULED_TIME is not null) and (SECURITY_DELAY is not null) and (TAIL_NUMBER is not null) and (TAXI_IN is not null) and (TAXI_OUT is not null) and (WEATHER_DELAY is not null) and (WHEELS_OFF is not null) and (WHEELS_ON is not null) and (auto_generated_table_new.auto_index = red_flights.auto_index)\n",
      "\n"
     ]
    }
   ],
   "source": [
    "data11 = data1.dropna(subset = ['AIR_SYSTEM_DELAY','SECURITY_DELAY','AIRLINE_DELAY','LATE_AIRCRAFT_DELAY','WEATHER_DELAY'])\n",
    "data11 = data11.drop(['YEAR','MONTH','DAY','DAY_OF_WEEK','TAIL_NUMBER','SCHEDULED_DEPARTURE','DEPARTURE_TIME','SCHEDULED_TIME',\n",
    "                     'SCHEDULED_ARRIVAL','ARRIVAL_TIME','DIVERTED','CANCELLED','CANCELLATION_REASON','FLIGHT_NUMBER','WHEELS_OFF',\n",
    "                     'WHEELS_ON','AIR_TIME'],axis = 1)"
   ]
  },
  {
   "cell_type": "code",
   "execution_count": 26,
   "metadata": {
    "collapsed": true
   },
   "outputs": [],
   "source": [
    "# The other Dataset\n",
    "Flight_Delays = data11"
   ]
  },
  {
   "cell_type": "code",
   "execution_count": 27,
   "metadata": {},
   "outputs": [
    {
     "name": "stdout",
     "output_type": "stream",
     "text": [
      "caught drop  labels (['CANCELLATION_REASON', 'AIR_SYSTEM_DELAY', 'SECURITY_DELAY', 'AIRLINE_DELAY', 'LATE_AIRCRAFT_DELAY', 'WEATHER_DELAY'],) {'axis': 1}\n",
      "new lzpd stack select auto_generated_table_new.new, red_flights.AIRLINE, red_flights.AIRLINE_DELAY, red_flights.AIR_SYSTEM_DELAY, red_flights.AIR_TIME, red_flights.ARRIVAL_DELAY, red_flights.ARRIVAL_TIME, red_flights.CANCELLATION_REASON, red_flights.CANCELLED, red_flights.DAY, red_flights.DAY_OF_WEEK, red_flights.DEPARTURE_DELAY, red_flights.DEPARTURE_TIME, red_flights.DESTINATION_AIRPORT, red_flights.DISTANCE, red_flights.DIVERTED, red_flights.ELAPSED_TIME, red_flights.FLIGHT_NUMBER, red_flights.LATE_AIRCRAFT_DELAY, red_flights.MONTH, red_flights.ORIGIN_AIRPORT, red_flights.SCHEDULED_ARRIVAL, red_flights.SCHEDULED_DEPARTURE, red_flights.SCHEDULED_TIME, red_flights.SECURITY_DELAY, red_flights.TAIL_NUMBER, red_flights.TAXI_IN, red_flights.TAXI_OUT, red_flights.WEATHER_DELAY, red_flights.WHEELS_OFF, red_flights.WHEELS_ON, red_flights.YEAR, red_flights.auto_index\n",
      "from auto_generated_table_new, red_flights\n",
      "where (AIR_TIME is not null) and (ARRIVAL_DELAY is not null) and (ARRIVAL_TIME is not null) and (DEPARTURE_DELAY is not null) and (DEPARTURE_TIME is not null) and (ELAPSED_TIME is not null) and (SCHEDULED_TIME is not null) and (TAIL_NUMBER is not null) and (TAXI_IN is not null) and (TAXI_OUT is not null) and (WHEELS_OFF is not null) and (WHEELS_ON is not null) and (auto_generated_table_new.auto_index = red_flights.auto_index)\n",
      "\n"
     ]
    }
   ],
   "source": [
    "# Creating Dataset by removing null values by not focussing fully on different types of Delays\n",
    "data2 = data1.drop(['CANCELLATION_REASON','AIR_SYSTEM_DELAY','SECURITY_DELAY','AIRLINE_DELAY',\n",
    "                    'LATE_AIRCRAFT_DELAY','WEATHER_DELAY'],axis = 1)"
   ]
  },
  {
   "cell_type": "code",
   "execution_count": 28,
   "metadata": {},
   "outputs": [
    {
     "data": {
      "text/plain": [
       "(97386, 33)"
      ]
     },
     "execution_count": 28,
     "metadata": {},
     "output_type": "execute_result"
    }
   ],
   "source": [
    "data2.shape"
   ]
  },
  {
   "cell_type": "code",
   "execution_count": 29,
   "metadata": {
    "scrolled": true
   },
   "outputs": [
    {
     "name": "stdout",
     "output_type": "stream",
     "text": [
      "lazyDataFrame\n",
      "tables\n",
      "  red_flights :\n",
      "    YEAR : REAL\n",
      "    MONTH : REAL\n",
      "    DAY : REAL\n",
      "    DAY_OF_WEEK : REAL\n",
      "    AIRLINE : TEXT\n",
      "    FLIGHT_NUMBER : REAL\n",
      "    TAIL_NUMBER : TEXT\n",
      "    ORIGIN_AIRPORT : TEXT\n",
      "    DESTINATION_AIRPORT : TEXT\n",
      "    SCHEDULED_DEPARTURE : REAL\n",
      "    DEPARTURE_TIME : REAL\n",
      "    DEPARTURE_DELAY : REAL\n",
      "    TAXI_OUT : REAL\n",
      "    WHEELS_OFF : REAL\n",
      "    SCHEDULED_TIME : REAL\n",
      "    ELAPSED_TIME : REAL\n",
      "    AIR_TIME : REAL\n",
      "    DISTANCE : REAL\n",
      "    WHEELS_ON : REAL\n",
      "    TAXI_IN : REAL\n",
      "    SCHEDULED_ARRIVAL : REAL\n",
      "    ARRIVAL_TIME : REAL\n",
      "    ARRIVAL_DELAY : REAL\n",
      "    DIVERTED : REAL\n",
      "    CANCELLED : REAL\n",
      "    CANCELLATION_REASON : TEXT\n",
      "    AIR_SYSTEM_DELAY : REAL\n",
      "    SECURITY_DELAY : REAL\n",
      "    AIRLINE_DELAY : REAL\n",
      "    LATE_AIRCRAFT_DELAY : REAL\n",
      "    WEATHER_DELAY : REAL\n",
      "    auto_index : INTEGER\n",
      "\n",
      "  auto_generated_table_new :\n",
      "    new : REAL\n",
      "    auto_index : INTEGER\n",
      "\n"
     ]
    }
   ],
   "source": [
    "data2.info()"
   ]
  },
  {
   "cell_type": "code",
   "execution_count": 30,
   "metadata": {
    "collapsed": true
   },
   "outputs": [],
   "source": [
    "# Creating a function to change the way of representation of time in the column\n",
    "@np.vectorize\n",
    "def Format_Hourmin(hours):\n",
    "        if hours == 2400:\n",
    "            hours = 0\n",
    "        else:\n",
    "            hours = \"{0:04d}\".format(int(hours))\n",
    "            Hourmin = datetime.time(int(hours[0:2]), int(hours[2:4]))\n",
    "            return Hourmin"
   ]
  },
  {
   "cell_type": "code",
   "execution_count": 31,
   "metadata": {},
   "outputs": [
    {
     "name": "stdout",
     "output_type": "stream",
     "text": [
      "caught get [ CANCELLED ]\n",
      "col_name CANCELLED\n",
      "simple project CANCELLED\n",
      "new lzpd stack select CANCELLED\n",
      "from auto_generated_table_new, red_flights\n",
      "where (AIR_TIME is not null) and (ARRIVAL_DELAY is not null) and (ARRIVAL_TIME is not null) and (DEPARTURE_DELAY is not null) and (DEPARTURE_TIME is not null) and (ELAPSED_TIME is not null) and (SCHEDULED_TIME is not null) and (TAIL_NUMBER is not null) and (TAXI_IN is not null) and (TAXI_OUT is not null) and (WHEELS_OFF is not null) and (WHEELS_ON is not null) and (auto_generated_table_new.auto_index = red_flights.auto_index)\n",
      "\n",
      "1D\n"
     ]
    },
    {
     "data": {
      "text/plain": [
       "[0 0 0 ... 0 0 0]"
      ]
     },
     "execution_count": 31,
     "metadata": {},
     "output_type": "execute_result"
    }
   ],
   "source": [
    "data1['CANCELLED']"
   ]
  },
  {
   "cell_type": "code",
   "execution_count": 32,
   "metadata": {
    "collapsed": true,
    "scrolled": true
   },
   "outputs": [],
   "source": [
    "out = data1.execute('select month, airline, AVG(CANCELLED) from red_flights group by airline, month ').fetchall()\n",
    "m, a, rel = list(map(list, zip(*out)))\n"
   ]
  },
  {
   "cell_type": "code",
   "execution_count": 33,
   "metadata": {},
   "outputs": [
    {
     "name": "stdout",
     "output_type": "stream",
     "text": [
      "['AA', 'AS', 'B6', 'DL', 'EV', 'F9', 'HA', 'MQ', 'NK', 'OO', 'UA', 'US', 'VX', 'WN']\n"
     ]
    },
    {
     "data": {
      "image/png": "[encoded data removed]",
      "text/plain": [
       "<Figure size 432x288 with 1 Axes>"
      ]
     },
     "metadata": {},
     "output_type": "display_data"
    }
   ],
   "source": [
    "print(a)\n",
    "plt.plot(a, rel)\n",
    "plt.show()"
   ]
  },
  {
   "cell_type": "code",
   "execution_count": 34,
   "metadata": {
    "scrolled": true
   },
   "outputs": [
    {
     "name": "stdout",
     "output_type": "stream",
     "text": [
      "caught get [ DEPARTURE_TIME ]\n",
      "col_name DEPARTURE_TIME\n",
      "simple project DEPARTURE_TIME\n",
      "new lzpd stack select DEPARTURE_TIME\n",
      "from auto_generated_table_new, red_flights\n",
      "where (AIR_TIME is not null) and (ARRIVAL_DELAY is not null) and (ARRIVAL_TIME is not null) and (DEPARTURE_DELAY is not null) and (DEPARTURE_TIME is not null) and (ELAPSED_TIME is not null) and (SCHEDULED_TIME is not null) and (TAIL_NUMBER is not null) and (TAXI_IN is not null) and (TAXI_OUT is not null) and (WHEELS_OFF is not null) and (WHEELS_ON is not null) and (auto_generated_table_new.auto_index = red_flights.auto_index)\n",
      "\n"
     ]
    },
    {
     "data": {
      "text/html": [
       "<div>\n",
       "<style>\n",
       "    .dataframe thead tr:only-child th {\n",
       "        text-align: right;\n",
       "    }\n",
       "\n",
       "    .dataframe thead th {\n",
       "        text-align: left;\n",
       "    }\n",
       "\n",
       "    .dataframe tbody tr th {\n",
       "        vertical-align: top;\n",
       "    }\n",
       "</style>\n",
       "<table border=\"1\" class=\"dataframe\">\n",
       "  <thead>\n",
       "    <tr style=\"text-align: right;\">\n",
       "      <th></th>\n",
       "      <th>DEPARTURE_TIME</th>\n",
       "    </tr>\n",
       "  </thead>\n",
       "  <tbody>\n",
       "    <tr>\n",
       "      <th>0</th>\n",
       "      <td>23:54:00</td>\n",
       "    </tr>\n",
       "    <tr>\n",
       "      <th>1</th>\n",
       "      <td>00:02:00</td>\n",
       "    </tr>\n",
       "    <tr>\n",
       "      <th>2</th>\n",
       "      <td>00:18:00</td>\n",
       "    </tr>\n",
       "    <tr>\n",
       "      <th>3</th>\n",
       "      <td>00:15:00</td>\n",
       "    </tr>\n",
       "    <tr>\n",
       "      <th>4</th>\n",
       "      <td>00:24:00</td>\n",
       "    </tr>\n",
       "    <tr>\n",
       "      <th>5</th>\n",
       "      <td>00:20:00</td>\n",
       "    </tr>\n",
       "    <tr>\n",
       "      <th>6</th>\n",
       "      <td>00:19:00</td>\n",
       "    </tr>\n",
       "    <tr>\n",
       "      <th>7</th>\n",
       "      <td>00:44:00</td>\n",
       "    </tr>\n",
       "    <tr>\n",
       "      <th>8</th>\n",
       "      <td>00:19:00</td>\n",
       "    </tr>\n",
       "    <tr>\n",
       "      <th>9</th>\n",
       "      <td>00:33:00</td>\n",
       "    </tr>\n",
       "    <tr>\n",
       "      <th>10</th>\n",
       "      <td>00:24:00</td>\n",
       "    </tr>\n",
       "    <tr>\n",
       "      <th>11</th>\n",
       "      <td>00:27:00</td>\n",
       "    </tr>\n",
       "    <tr>\n",
       "      <th>12</th>\n",
       "      <td>00:35:00</td>\n",
       "    </tr>\n",
       "    <tr>\n",
       "      <th>13</th>\n",
       "      <td>00:34:00</td>\n",
       "    </tr>\n",
       "    <tr>\n",
       "      <th>14</th>\n",
       "      <td>00:39:00</td>\n",
       "    </tr>\n",
       "    <tr>\n",
       "      <th>15</th>\n",
       "      <td>00:41:00</td>\n",
       "    </tr>\n",
       "    <tr>\n",
       "      <th>16</th>\n",
       "      <td>00:31:00</td>\n",
       "    </tr>\n",
       "    <tr>\n",
       "      <th>17</th>\n",
       "      <td>00:42:00</td>\n",
       "    </tr>\n",
       "    <tr>\n",
       "      <th>18</th>\n",
       "      <td>00:46:00</td>\n",
       "    </tr>\n",
       "    <tr>\n",
       "      <th>19</th>\n",
       "      <td>00:45:00</td>\n",
       "    </tr>\n",
       "    <tr>\n",
       "      <th>20</th>\n",
       "      <td>01:20:00</td>\n",
       "    </tr>\n",
       "    <tr>\n",
       "      <th>21</th>\n",
       "      <td>00:52:00</td>\n",
       "    </tr>\n",
       "    <tr>\n",
       "      <th>22</th>\n",
       "      <td>01:02:00</td>\n",
       "    </tr>\n",
       "    <tr>\n",
       "      <th>23</th>\n",
       "      <td>01:03:00</td>\n",
       "    </tr>\n",
       "    <tr>\n",
       "      <th>24</th>\n",
       "      <td>01:02:00</td>\n",
       "    </tr>\n",
       "    <tr>\n",
       "      <th>25</th>\n",
       "      <td>01:12:00</td>\n",
       "    </tr>\n",
       "    <tr>\n",
       "      <th>26</th>\n",
       "      <td>01:07:00</td>\n",
       "    </tr>\n",
       "    <tr>\n",
       "      <th>27</th>\n",
       "      <td>01:27:00</td>\n",
       "    </tr>\n",
       "    <tr>\n",
       "      <th>28</th>\n",
       "      <td>01:10:00</td>\n",
       "    </tr>\n",
       "    <tr>\n",
       "      <th>29</th>\n",
       "      <td>01:41:00</td>\n",
       "    </tr>\n",
       "    <tr>\n",
       "      <th>...</th>\n",
       "      <td>...</td>\n",
       "    </tr>\n",
       "    <tr>\n",
       "      <th>97356</th>\n",
       "      <td>12:00:00</td>\n",
       "    </tr>\n",
       "    <tr>\n",
       "      <th>97357</th>\n",
       "      <td>11:02:00</td>\n",
       "    </tr>\n",
       "    <tr>\n",
       "      <th>97358</th>\n",
       "      <td>10:58:00</td>\n",
       "    </tr>\n",
       "    <tr>\n",
       "      <th>97359</th>\n",
       "      <td>12:06:00</td>\n",
       "    </tr>\n",
       "    <tr>\n",
       "      <th>97360</th>\n",
       "      <td>13:28:00</td>\n",
       "    </tr>\n",
       "    <tr>\n",
       "      <th>97361</th>\n",
       "      <td>11:09:00</td>\n",
       "    </tr>\n",
       "    <tr>\n",
       "      <th>97362</th>\n",
       "      <td>11:06:00</td>\n",
       "    </tr>\n",
       "    <tr>\n",
       "      <th>97363</th>\n",
       "      <td>11:12:00</td>\n",
       "    </tr>\n",
       "    <tr>\n",
       "      <th>97364</th>\n",
       "      <td>12:33:00</td>\n",
       "    </tr>\n",
       "    <tr>\n",
       "      <th>97365</th>\n",
       "      <td>15:23:00</td>\n",
       "    </tr>\n",
       "    <tr>\n",
       "      <th>97366</th>\n",
       "      <td>11:54:00</td>\n",
       "    </tr>\n",
       "    <tr>\n",
       "      <th>97367</th>\n",
       "      <td>11:13:00</td>\n",
       "    </tr>\n",
       "    <tr>\n",
       "      <th>97368</th>\n",
       "      <td>10:58:00</td>\n",
       "    </tr>\n",
       "    <tr>\n",
       "      <th>97369</th>\n",
       "      <td>11:01:00</td>\n",
       "    </tr>\n",
       "    <tr>\n",
       "      <th>97370</th>\n",
       "      <td>11:17:00</td>\n",
       "    </tr>\n",
       "    <tr>\n",
       "      <th>97371</th>\n",
       "      <td>12:47:00</td>\n",
       "    </tr>\n",
       "    <tr>\n",
       "      <th>97372</th>\n",
       "      <td>10:55:00</td>\n",
       "    </tr>\n",
       "    <tr>\n",
       "      <th>97373</th>\n",
       "      <td>11:05:00</td>\n",
       "    </tr>\n",
       "    <tr>\n",
       "      <th>97374</th>\n",
       "      <td>11:05:00</td>\n",
       "    </tr>\n",
       "    <tr>\n",
       "      <th>97375</th>\n",
       "      <td>12:16:00</td>\n",
       "    </tr>\n",
       "    <tr>\n",
       "      <th>97376</th>\n",
       "      <td>11:03:00</td>\n",
       "    </tr>\n",
       "    <tr>\n",
       "      <th>97377</th>\n",
       "      <td>11:04:00</td>\n",
       "    </tr>\n",
       "    <tr>\n",
       "      <th>97378</th>\n",
       "      <td>11:05:00</td>\n",
       "    </tr>\n",
       "    <tr>\n",
       "      <th>97379</th>\n",
       "      <td>11:31:00</td>\n",
       "    </tr>\n",
       "    <tr>\n",
       "      <th>97380</th>\n",
       "      <td>11:01:00</td>\n",
       "    </tr>\n",
       "    <tr>\n",
       "      <th>97381</th>\n",
       "      <td>11:13:00</td>\n",
       "    </tr>\n",
       "    <tr>\n",
       "      <th>97382</th>\n",
       "      <td>11:02:00</td>\n",
       "    </tr>\n",
       "    <tr>\n",
       "      <th>97383</th>\n",
       "      <td>11:17:00</td>\n",
       "    </tr>\n",
       "    <tr>\n",
       "      <th>97384</th>\n",
       "      <td>11:01:00</td>\n",
       "    </tr>\n",
       "    <tr>\n",
       "      <th>97385</th>\n",
       "      <td>11:16:00</td>\n",
       "    </tr>\n",
       "  </tbody>\n",
       "</table>\n",
       "<p>97386 rows × 1 columns</p>\n",
       "</div>"
      ],
      "text/plain": [
       "      DEPARTURE_TIME\n",
       "0           23:54:00\n",
       "1           00:02:00\n",
       "2           00:18:00\n",
       "3           00:15:00\n",
       "4           00:24:00\n",
       "5           00:20:00\n",
       "6           00:19:00\n",
       "7           00:44:00\n",
       "8           00:19:00\n",
       "9           00:33:00\n",
       "10          00:24:00\n",
       "11          00:27:00\n",
       "12          00:35:00\n",
       "13          00:34:00\n",
       "14          00:39:00\n",
       "15          00:41:00\n",
       "16          00:31:00\n",
       "17          00:42:00\n",
       "18          00:46:00\n",
       "19          00:45:00\n",
       "20          01:20:00\n",
       "21          00:52:00\n",
       "22          01:02:00\n",
       "23          01:03:00\n",
       "24          01:02:00\n",
       "25          01:12:00\n",
       "26          01:07:00\n",
       "27          01:27:00\n",
       "28          01:10:00\n",
       "29          01:41:00\n",
       "...              ...\n",
       "97356       12:00:00\n",
       "97357       11:02:00\n",
       "97358       10:58:00\n",
       "97359       12:06:00\n",
       "97360       13:28:00\n",
       "97361       11:09:00\n",
       "97362       11:06:00\n",
       "97363       11:12:00\n",
       "97364       12:33:00\n",
       "97365       15:23:00\n",
       "97366       11:54:00\n",
       "97367       11:13:00\n",
       "97368       10:58:00\n",
       "97369       11:01:00\n",
       "97370       11:17:00\n",
       "97371       12:47:00\n",
       "97372       10:55:00\n",
       "97373       11:05:00\n",
       "97374       11:05:00\n",
       "97375       12:16:00\n",
       "97376       11:03:00\n",
       "97377       11:04:00\n",
       "97378       11:05:00\n",
       "97379       11:31:00\n",
       "97380       11:01:00\n",
       "97381       11:13:00\n",
       "97382       11:02:00\n",
       "97383       11:17:00\n",
       "97384       11:01:00\n",
       "97385       11:16:00\n",
       "\n",
       "[97386 rows x 1 columns]"
      ]
     },
     "execution_count": 34,
     "metadata": {},
     "output_type": "execute_result"
    }
   ],
   "source": [
    "x = data1['DEPARTURE_TIME'].apply(Format_Hourmin)\n",
    "#data2['Actual_Departure'] = x\n",
    "x"
   ]
  },
  {
   "cell_type": "code",
   "execution_count": 35,
   "metadata": {},
   "outputs": [
    {
     "name": "stdout",
     "output_type": "stream",
     "text": [
      "caught get [ ELAPSED_TIME ]\n",
      "col_name ELAPSED_TIME\n",
      "simple project ELAPSED_TIME\n",
      "new lzpd stack select ELAPSED_TIME\n",
      "from auto_generated_table_new, red_flights\n",
      "where (auto_generated_table_new.auto_index = red_flights.auto_index)\n",
      "\n",
      "1D\n",
      "caught get [ DISTANCE ]\n",
      "col_name DISTANCE\n",
      "simple project DISTANCE\n",
      "new lzpd stack select DISTANCE\n",
      "from auto_generated_table_new, red_flights\n",
      "where (auto_generated_table_new.auto_index = red_flights.auto_index)\n",
      "\n",
      "1D\n"
     ]
    },
    {
     "data": {
      "image/png": "[encoded data removed]",
      "text/plain": [
       "<Figure size 432x288 with 1 Axes>"
      ]
     },
     "metadata": {},
     "output_type": "display_data"
    }
   ],
   "source": [
    "plt.plot(data['ELAPSED_TIME'].array, data['DISTANCE'].array, '.')\n",
    "plt.show()"
   ]
  },
  {
   "cell_type": "code",
   "execution_count": 36,
   "metadata": {},
   "outputs": [
    {
     "name": "stdout",
     "output_type": "stream",
     "text": [
      "caught drop na subset (['DISTANCE', 'ARRIVAL_DELAY'],) {}\n",
      "new lzpd stack select auto_generated_table_new.new, red_flights.AIRLINE, red_flights.AIRLINE_DELAY, red_flights.AIR_SYSTEM_DELAY, red_flights.AIR_TIME, red_flights.ARRIVAL_DELAY, red_flights.ARRIVAL_TIME, red_flights.CANCELLATION_REASON, red_flights.CANCELLED, red_flights.DAY, red_flights.DAY_OF_WEEK, red_flights.DEPARTURE_DELAY, red_flights.DEPARTURE_TIME, red_flights.DESTINATION_AIRPORT, red_flights.DISTANCE, red_flights.DIVERTED, red_flights.ELAPSED_TIME, red_flights.FLIGHT_NUMBER, red_flights.LATE_AIRCRAFT_DELAY, red_flights.MONTH, red_flights.ORIGIN_AIRPORT, red_flights.SCHEDULED_ARRIVAL, red_flights.SCHEDULED_DEPARTURE, red_flights.SCHEDULED_TIME, red_flights.SECURITY_DELAY, red_flights.TAIL_NUMBER, red_flights.TAXI_IN, red_flights.TAXI_OUT, red_flights.WEATHER_DELAY, red_flights.WHEELS_OFF, red_flights.WHEELS_ON, red_flights.YEAR, red_flights.auto_index\n",
      "from auto_generated_table_new, red_flights\n",
      "where (ARRIVAL_DELAY is not null) and (DISTANCE is not null) and (auto_generated_table_new.auto_index = red_flights.auto_index)\n",
      "\n"
     ]
    },
    {
     "data": {
      "text/plain": [
       "list"
      ]
     },
     "execution_count": 36,
     "metadata": {},
     "output_type": "execute_result"
    }
   ],
   "source": [
    "data = data.dropna(['DISTANCE', 'ARRIVAL_DELAY'])\n",
    "type(a)"
   ]
  },
  {
   "cell_type": "code",
   "execution_count": 37,
   "metadata": {},
   "outputs": [
    {
     "name": "stdout",
     "output_type": "stream",
     "text": [
      "caught get [ DISTANCE ]\n",
      "col_name DISTANCE\n",
      "simple project DISTANCE\n",
      "new lzpd stack select DISTANCE\n",
      "from auto_generated_table_new, red_flights\n",
      "where (ARRIVAL_DELAY is not null) and (DISTANCE is not null) and (auto_generated_table_new.auto_index = red_flights.auto_index)\n",
      "\n",
      "caught get [ ARRIVAL_DELAY ]\n",
      "col_name ARRIVAL_DELAY\n",
      "simple project ARRIVAL_DELAY\n",
      "new lzpd stack select ARRIVAL_DELAY\n",
      "from auto_generated_table_new, red_flights\n",
      "where (ARRIVAL_DELAY is not null) and (DISTANCE is not null) and (auto_generated_table_new.auto_index = red_flights.auto_index)\n",
      "\n"
     ]
    },
    {
     "data": {
      "image/png": "[encoded data removed]",
      "text/plain": [
       "<Figure size 432x288 with 1 Axes>"
      ]
     },
     "metadata": {},
     "output_type": "display_data"
    }
   ],
   "source": [
    "x = data['DISTANCE'].to_pd().values.flatten()\n",
    "y = data['ARRIVAL_DELAY'].to_pd().values.flatten()\n",
    "\n",
    "heatmap, xedges, yedges = np.histogram2d(x, y, bins=16)\n",
    "plt.imshow(heatmap.T, origin='lower')\n",
    "plt.show()"
   ]
  },
  {
   "cell_type": "code",
   "execution_count": 38,
   "metadata": {},
   "outputs": [
    {
     "name": "stdout",
     "output_type": "stream",
     "text": [
      "caught get [ DISTANCE ]\n",
      "col_name DISTANCE\n",
      "simple project DISTANCE\n",
      "new lzpd stack select DISTANCE\n",
      "from auto_generated_table_new, red_flights\n",
      "where (ARRIVAL_DELAY is not null) and (DISTANCE is not null) and (auto_generated_table_new.auto_index = red_flights.auto_index)\n",
      "\n"
     ]
    },
    {
     "data": {
      "text/plain": [
       "select DISTANCE\n",
       "from auto_generated_table_new, red_flights\n",
       "where (ARRIVAL_DELAY is not null) and (DISTANCE is not null) and (auto_generated_table_new.auto_index = red_flights.auto_index)"
      ]
     },
     "execution_count": 38,
     "metadata": {},
     "output_type": "execute_result"
    }
   ],
   "source": [
    "a = data['DISTANCE']\n",
    "a.generate_stack()"
   ]
  },
  {
   "cell_type": "code",
   "execution_count": 39,
   "metadata": {},
   "outputs": [
    {
     "name": "stdout",
     "output_type": "stream",
     "text": [
      "('min(AIRLINE_DELAY)', None, None, None, None, None, None)\n"
     ]
    },
    {
     "data": {
      "text/plain": [
       "(0.0,)"
      ]
     },
     "execution_count": 39,
     "metadata": {},
     "output_type": "execute_result"
    }
   ],
   "source": [
    "from util import csvToDb, out_to_pd\n",
    "out = data.execute('select min(AIRLINE_DELAY) from red_flights')\n",
    "print(out.description[0])\n",
    "out.fetchone()\n",
    "#data.dotted_datatype"
   ]
  },
  {
   "cell_type": "code",
   "execution_count": 40,
   "metadata": {
    "scrolled": true
   },
   "outputs": [
    {
     "data": {
      "text/html": [
       "<div>\n",
       "<style>\n",
       "    .dataframe thead tr:only-child th {\n",
       "        text-align: right;\n",
       "    }\n",
       "\n",
       "    .dataframe thead th {\n",
       "        text-align: left;\n",
       "    }\n",
       "\n",
       "    .dataframe tbody tr th {\n",
       "        vertical-align: top;\n",
       "    }\n",
       "</style>\n",
       "<table border=\"1\" class=\"dataframe\">\n",
       "  <thead>\n",
       "    <tr style=\"text-align: right;\">\n",
       "      <th></th>\n",
       "      <th>new</th>\n",
       "      <th>AIRLINE_DELAY</th>\n",
       "      <th>AIR_SYSTEM_DELAY</th>\n",
       "      <th>AIR_TIME</th>\n",
       "      <th>ARRIVAL_DELAY</th>\n",
       "      <th>ARRIVAL_TIME</th>\n",
       "      <th>CANCELLED</th>\n",
       "      <th>DAY</th>\n",
       "      <th>DAY_OF_WEEK</th>\n",
       "      <th>DEPARTURE_DELAY</th>\n",
       "      <th>...</th>\n",
       "      <th>SCHEDULED_DEPARTURE</th>\n",
       "      <th>SCHEDULED_TIME</th>\n",
       "      <th>SECURITY_DELAY</th>\n",
       "      <th>TAXI_IN</th>\n",
       "      <th>TAXI_OUT</th>\n",
       "      <th>WEATHER_DELAY</th>\n",
       "      <th>WHEELS_OFF</th>\n",
       "      <th>WHEELS_ON</th>\n",
       "      <th>YEAR</th>\n",
       "      <th>auto_index</th>\n",
       "    </tr>\n",
       "  </thead>\n",
       "  <tbody>\n",
       "    <tr>\n",
       "      <th>count</th>\n",
       "      <td>97386.0</td>\n",
       "      <td>34625.000000</td>\n",
       "      <td>34625.000000</td>\n",
       "      <td>97386.000000</td>\n",
       "      <td>97386.000000</td>\n",
       "      <td>97386.000000</td>\n",
       "      <td>97386.0</td>\n",
       "      <td>97386.000000</td>\n",
       "      <td>97386.000000</td>\n",
       "      <td>97386.000000</td>\n",
       "      <td>...</td>\n",
       "      <td>97386.000000</td>\n",
       "      <td>97386.000000</td>\n",
       "      <td>34625.000000</td>\n",
       "      <td>97386.000000</td>\n",
       "      <td>97386.000000</td>\n",
       "      <td>34625.000000</td>\n",
       "      <td>97386.000000</td>\n",
       "      <td>97386.000000</td>\n",
       "      <td>97386.0</td>\n",
       "      <td>97386.000000</td>\n",
       "    </tr>\n",
       "    <tr>\n",
       "      <th>mean</th>\n",
       "      <td>1.0</td>\n",
       "      <td>17.853921</td>\n",
       "      <td>14.026801</td>\n",
       "      <td>117.098762</td>\n",
       "      <td>18.342575</td>\n",
       "      <td>1458.088904</td>\n",
       "      <td>0.0</td>\n",
       "      <td>3.735167</td>\n",
       "      <td>4.109502</td>\n",
       "      <td>19.849023</td>\n",
       "      <td>...</td>\n",
       "      <td>1306.490420</td>\n",
       "      <td>143.870166</td>\n",
       "      <td>0.070787</td>\n",
       "      <td>8.115674</td>\n",
       "      <td>17.149282</td>\n",
       "      <td>2.751971</td>\n",
       "      <td>1348.261896</td>\n",
       "      <td>1454.537747</td>\n",
       "      <td>2015.0</td>\n",
       "      <td>50018.594829</td>\n",
       "    </tr>\n",
       "    <tr>\n",
       "      <th>std</th>\n",
       "      <td>0.0</td>\n",
       "      <td>43.527539</td>\n",
       "      <td>25.965405</td>\n",
       "      <td>74.306678</td>\n",
       "      <td>48.878412</td>\n",
       "      <td>537.848526</td>\n",
       "      <td>0.0</td>\n",
       "      <td>1.815567</td>\n",
       "      <td>2.096948</td>\n",
       "      <td>45.727082</td>\n",
       "      <td>...</td>\n",
       "      <td>481.964622</td>\n",
       "      <td>76.477557</td>\n",
       "      <td>1.692526</td>\n",
       "      <td>7.553067</td>\n",
       "      <td>10.729890</td>\n",
       "      <td>17.265760</td>\n",
       "      <td>504.108128</td>\n",
       "      <td>532.573888</td>\n",
       "      <td>0.0</td>\n",
       "      <td>28851.096818</td>\n",
       "    </tr>\n",
       "    <tr>\n",
       "      <th>min</th>\n",
       "      <td>1.0</td>\n",
       "      <td>0.000000</td>\n",
       "      <td>0.000000</td>\n",
       "      <td>8.000000</td>\n",
       "      <td>-65.000000</td>\n",
       "      <td>1.000000</td>\n",
       "      <td>0.0</td>\n",
       "      <td>1.000000</td>\n",
       "      <td>1.000000</td>\n",
       "      <td>-39.000000</td>\n",
       "      <td>...</td>\n",
       "      <td>5.000000</td>\n",
       "      <td>23.000000</td>\n",
       "      <td>0.000000</td>\n",
       "      <td>1.000000</td>\n",
       "      <td>1.000000</td>\n",
       "      <td>0.000000</td>\n",
       "      <td>1.000000</td>\n",
       "      <td>1.000000</td>\n",
       "      <td>2015.0</td>\n",
       "      <td>0.000000</td>\n",
       "    </tr>\n",
       "    <tr>\n",
       "      <th>25%</th>\n",
       "      <td>1.0</td>\n",
       "      <td>0.000000</td>\n",
       "      <td>0.000000</td>\n",
       "      <td>62.000000</td>\n",
       "      <td>-8.000000</td>\n",
       "      <td>1050.000000</td>\n",
       "      <td>0.0</td>\n",
       "      <td>2.000000</td>\n",
       "      <td>2.000000</td>\n",
       "      <td>-3.000000</td>\n",
       "      <td>...</td>\n",
       "      <td>905.000000</td>\n",
       "      <td>87.000000</td>\n",
       "      <td>0.000000</td>\n",
       "      <td>4.000000</td>\n",
       "      <td>11.000000</td>\n",
       "      <td>0.000000</td>\n",
       "      <td>928.000000</td>\n",
       "      <td>1046.000000</td>\n",
       "      <td>2015.0</td>\n",
       "      <td>25011.250000</td>\n",
       "    </tr>\n",
       "    <tr>\n",
       "      <th>50%</th>\n",
       "      <td>1.0</td>\n",
       "      <td>4.000000</td>\n",
       "      <td>4.000000</td>\n",
       "      <td>98.000000</td>\n",
       "      <td>4.000000</td>\n",
       "      <td>1455.000000</td>\n",
       "      <td>0.0</td>\n",
       "      <td>4.000000</td>\n",
       "      <td>4.000000</td>\n",
       "      <td>3.000000</td>\n",
       "      <td>...</td>\n",
       "      <td>1300.000000</td>\n",
       "      <td>125.000000</td>\n",
       "      <td>0.000000</td>\n",
       "      <td>6.000000</td>\n",
       "      <td>14.000000</td>\n",
       "      <td>0.000000</td>\n",
       "      <td>1330.000000</td>\n",
       "      <td>1452.000000</td>\n",
       "      <td>2015.0</td>\n",
       "      <td>49936.500000</td>\n",
       "    </tr>\n",
       "    <tr>\n",
       "      <th>75%</th>\n",
       "      <td>1.0</td>\n",
       "      <td>19.000000</td>\n",
       "      <td>19.000000</td>\n",
       "      <td>150.000000</td>\n",
       "      <td>27.000000</td>\n",
       "      <td>1911.000000</td>\n",
       "      <td>0.0</td>\n",
       "      <td>5.000000</td>\n",
       "      <td>6.000000</td>\n",
       "      <td>25.000000</td>\n",
       "      <td>...</td>\n",
       "      <td>1718.750000</td>\n",
       "      <td>177.000000</td>\n",
       "      <td>0.000000</td>\n",
       "      <td>9.000000</td>\n",
       "      <td>20.000000</td>\n",
       "      <td>0.000000</td>\n",
       "      <td>1752.000000</td>\n",
       "      <td>1907.000000</td>\n",
       "      <td>2015.0</td>\n",
       "      <td>74926.750000</td>\n",
       "    </tr>\n",
       "    <tr>\n",
       "      <th>max</th>\n",
       "      <td>1.0</td>\n",
       "      <td>1380.000000</td>\n",
       "      <td>590.000000</td>\n",
       "      <td>676.000000</td>\n",
       "      <td>1384.000000</td>\n",
       "      <td>2400.000000</td>\n",
       "      <td>0.0</td>\n",
       "      <td>7.000000</td>\n",
       "      <td>7.000000</td>\n",
       "      <td>1380.000000</td>\n",
       "      <td>...</td>\n",
       "      <td>2359.000000</td>\n",
       "      <td>718.000000</td>\n",
       "      <td>107.000000</td>\n",
       "      <td>179.000000</td>\n",
       "      <td>176.000000</td>\n",
       "      <td>562.000000</td>\n",
       "      <td>2400.000000</td>\n",
       "      <td>2400.000000</td>\n",
       "      <td>2015.0</td>\n",
       "      <td>99998.000000</td>\n",
       "    </tr>\n",
       "  </tbody>\n",
       "</table>\n",
       "<p>8 rows × 28 columns</p>\n",
       "</div>"
      ],
      "text/plain": [
       "           new  AIRLINE_DELAY  AIR_SYSTEM_DELAY      AIR_TIME  ARRIVAL_DELAY  \\\n",
       "count  97386.0   34625.000000      34625.000000  97386.000000   97386.000000   \n",
       "mean       1.0      17.853921         14.026801    117.098762      18.342575   \n",
       "std        0.0      43.527539         25.965405     74.306678      48.878412   \n",
       "min        1.0       0.000000          0.000000      8.000000     -65.000000   \n",
       "25%        1.0       0.000000          0.000000     62.000000      -8.000000   \n",
       "50%        1.0       4.000000          4.000000     98.000000       4.000000   \n",
       "75%        1.0      19.000000         19.000000    150.000000      27.000000   \n",
       "max        1.0    1380.000000        590.000000    676.000000    1384.000000   \n",
       "\n",
       "       ARRIVAL_TIME  CANCELLED           DAY   DAY_OF_WEEK  DEPARTURE_DELAY  \\\n",
       "count  97386.000000    97386.0  97386.000000  97386.000000     97386.000000   \n",
       "mean    1458.088904        0.0      3.735167      4.109502        19.849023   \n",
       "std      537.848526        0.0      1.815567      2.096948        45.727082   \n",
       "min        1.000000        0.0      1.000000      1.000000       -39.000000   \n",
       "25%     1050.000000        0.0      2.000000      2.000000        -3.000000   \n",
       "50%     1455.000000        0.0      4.000000      4.000000         3.000000   \n",
       "75%     1911.000000        0.0      5.000000      6.000000        25.000000   \n",
       "max     2400.000000        0.0      7.000000      7.000000      1380.000000   \n",
       "\n",
       "           ...       SCHEDULED_DEPARTURE  SCHEDULED_TIME  SECURITY_DELAY  \\\n",
       "count      ...              97386.000000    97386.000000    34625.000000   \n",
       "mean       ...               1306.490420      143.870166        0.070787   \n",
       "std        ...                481.964622       76.477557        1.692526   \n",
       "min        ...                  5.000000       23.000000        0.000000   \n",
       "25%        ...                905.000000       87.000000        0.000000   \n",
       "50%        ...               1300.000000      125.000000        0.000000   \n",
       "75%        ...               1718.750000      177.000000        0.000000   \n",
       "max        ...               2359.000000      718.000000      107.000000   \n",
       "\n",
       "            TAXI_IN      TAXI_OUT  WEATHER_DELAY    WHEELS_OFF     WHEELS_ON  \\\n",
       "count  97386.000000  97386.000000   34625.000000  97386.000000  97386.000000   \n",
       "mean       8.115674     17.149282       2.751971   1348.261896   1454.537747   \n",
       "std        7.553067     10.729890      17.265760    504.108128    532.573888   \n",
       "min        1.000000      1.000000       0.000000      1.000000      1.000000   \n",
       "25%        4.000000     11.000000       0.000000    928.000000   1046.000000   \n",
       "50%        6.000000     14.000000       0.000000   1330.000000   1452.000000   \n",
       "75%        9.000000     20.000000       0.000000   1752.000000   1907.000000   \n",
       "max      179.000000    176.000000     562.000000   2400.000000   2400.000000   \n",
       "\n",
       "          YEAR    auto_index  \n",
       "count  97386.0  97386.000000  \n",
       "mean    2015.0  50018.594829  \n",
       "std        0.0  28851.096818  \n",
       "min     2015.0      0.000000  \n",
       "25%     2015.0  25011.250000  \n",
       "50%     2015.0  49936.500000  \n",
       "75%     2015.0  74926.750000  \n",
       "max     2015.0  99998.000000  \n",
       "\n",
       "[8 rows x 28 columns]"
      ]
     },
     "execution_count": 40,
     "metadata": {},
     "output_type": "execute_result"
    }
   ],
   "source": [
    "a = data.to_pd()\n",
    "a.describe()"
   ]
  },
  {
   "cell_type": "code",
   "execution_count": 42,
   "metadata": {},
   "outputs": [
    {
     "name": "stdout",
     "output_type": "stream",
     "text": [
      "lazyDataFrame\n",
      "tables\n",
      "  red_flights :\n",
      "    YEAR : REAL\n",
      "    MONTH : REAL\n",
      "    DAY : REAL\n",
      "    DAY_OF_WEEK : REAL\n",
      "    AIRLINE : TEXT\n",
      "    FLIGHT_NUMBER : REAL\n",
      "    TAIL_NUMBER : TEXT\n",
      "    ORIGIN_AIRPORT : TEXT\n",
      "    DESTINATION_AIRPORT : TEXT\n",
      "    SCHEDULED_DEPARTURE : REAL\n",
      "    DEPARTURE_TIME : REAL\n",
      "    DEPARTURE_DELAY : REAL\n",
      "    TAXI_OUT : REAL\n",
      "    WHEELS_OFF : REAL\n",
      "    SCHEDULED_TIME : REAL\n",
      "    ELAPSED_TIME : REAL\n",
      "    AIR_TIME : REAL\n",
      "    DISTANCE : REAL\n",
      "    WHEELS_ON : REAL\n",
      "    TAXI_IN : REAL\n",
      "    SCHEDULED_ARRIVAL : REAL\n",
      "    ARRIVAL_TIME : REAL\n",
      "    ARRIVAL_DELAY : REAL\n",
      "    DIVERTED : REAL\n",
      "    CANCELLED : REAL\n",
      "    CANCELLATION_REASON : TEXT\n",
      "    AIR_SYSTEM_DELAY : REAL\n",
      "    SECURITY_DELAY : REAL\n",
      "    AIRLINE_DELAY : REAL\n",
      "    LATE_AIRCRAFT_DELAY : REAL\n",
      "    WEATHER_DELAY : REAL\n",
      "    auto_index : INTEGER\n",
      "\n",
      "  auto_generated_table_new :\n",
      "    new : REAL\n",
      "    auto_index : INTEGER\n",
      "\n"
     ]
    }
   ],
   "source": [
    "data.info()"
   ]
  },
  {
   "cell_type": "code",
   "execution_count": 45,
   "metadata": {},
   "outputs": [
    {
     "name": "stdout",
     "output_type": "stream",
     "text": [
      "caught merge\n",
      "merge ['red_flights', 'auto_generated_table_new'] ['airlines']\n",
      "new_stack\n",
      "140618855494488\n",
      "R: looking for  AIRLINE in red_flights\n",
      "R: looking for  AIRLINE in auto_generated_table_new\n",
      "L: looking for  IATA_CODE in airlines\n",
      "new lzpd stack select airlines.AIRLINE, airlines.IATA_CODE, airlines.auto_index, auto_generated_table_new.new, red_flights.AIRLINE, red_flights.AIRLINE_DELAY, red_flights.AIR_SYSTEM_DELAY, red_flights.AIR_TIME, red_flights.ARRIVAL_DELAY, red_flights.ARRIVAL_TIME, red_flights.CANCELLATION_REASON, red_flights.CANCELLED, red_flights.DAY, red_flights.DAY_OF_WEEK, red_flights.DEPARTURE_DELAY, red_flights.DEPARTURE_TIME, red_flights.DESTINATION_AIRPORT, red_flights.DISTANCE, red_flights.DIVERTED, red_flights.ELAPSED_TIME, red_flights.FLIGHT_NUMBER, red_flights.LATE_AIRCRAFT_DELAY, red_flights.MONTH, red_flights.ORIGIN_AIRPORT, red_flights.SCHEDULED_ARRIVAL, red_flights.SCHEDULED_DEPARTURE, red_flights.SCHEDULED_TIME, red_flights.SECURITY_DELAY, red_flights.TAIL_NUMBER, red_flights.TAXI_IN, red_flights.TAXI_OUT, red_flights.WEATHER_DELAY, red_flights.WHEELS_OFF, red_flights.WHEELS_ON, red_flights.YEAR, red_flights.auto_index\n",
      "from airlines, auto_generated_table_new, red_flights\n",
      "where (AIR_TIME is not null) and (ARRIVAL_DELAY is not null) and (ARRIVAL_TIME is not null) and (DEPARTURE_DELAY is not null) and (DEPARTURE_TIME is not null) and (ELAPSED_TIME is not null) and (SCHEDULED_TIME is not null) and (TAIL_NUMBER is not null) and (TAXI_IN is not null) and (TAXI_OUT is not null) and (WHEELS_OFF is not null) and (WHEELS_ON is not null) and (airlines.IATA_CODE = red_flights.AIRLINE) and (auto_generated_table_new.auto_index = red_flights.auto_index)\n",
      "\n"
     ]
    }
   ],
   "source": [
    "# Merging on AIRLINE and IATA_CODE\n",
    "data2 = data2.merge(airlines, left_on='AIRLINE', right_on='IATA_CODE', how='inner')"
   ]
  },
  {
   "cell_type": "code",
   "execution_count": 46,
   "metadata": {},
   "outputs": [
    {
     "name": "stdout",
     "output_type": "stream",
     "text": [
      "caught get [ AIRLINE ]\n",
      "col_name AIRLINE\n",
      "simple project AIRLINE\n",
      "new lzpd stack select AIRLINE\n",
      "from airlines, auto_generated_table_new, red_flights\n",
      "where (AIR_TIME is not null) and (ARRIVAL_DELAY is not null) and (ARRIVAL_TIME is not null) and (DEPARTURE_DELAY is not null) and (DEPARTURE_TIME is not null) and (ELAPSED_TIME is not null) and (SCHEDULED_TIME is not null) and (TAIL_NUMBER is not null) and (TAXI_IN is not null) and (TAXI_OUT is not null) and (WHEELS_OFF is not null) and (WHEELS_ON is not null) and (airlines.IATA_CODE = red_flights.AIRLINE) and (auto_generated_table_new.auto_index = red_flights.auto_index)\n",
      "\n"
     ]
    },
    {
     "ename": "OperationalError",
     "evalue": "ambiguous column name: AIRLINE",
     "output_type": "error",
     "traceback": [
      "\u001b[0;31m---------------------------------------------------------------------------\u001b[0m",
      "\u001b[0;31mOperationalError\u001b[0m                          Traceback (most recent call last)",
      "\u001b[0;32m~/anaconda3/lib/python3.6/site-packages/IPython/core/formatters.py\u001b[0m in \u001b[0;36m__call__\u001b[0;34m(self, obj)\u001b[0m\n\u001b[1;32m    691\u001b[0m                 \u001b[0mtype_pprinters\u001b[0m\u001b[0;34m=\u001b[0m\u001b[0mself\u001b[0m\u001b[0;34m.\u001b[0m\u001b[0mtype_printers\u001b[0m\u001b[0;34m,\u001b[0m\u001b[0;34m\u001b[0m\u001b[0;34m\u001b[0m\u001b[0m\n\u001b[1;32m    692\u001b[0m                 deferred_pprinters=self.deferred_printers)\n\u001b[0;32m--> 693\u001b[0;31m             \u001b[0mprinter\u001b[0m\u001b[0;34m.\u001b[0m\u001b[0mpretty\u001b[0m\u001b[0;34m(\u001b[0m\u001b[0mobj\u001b[0m\u001b[0;34m)\u001b[0m\u001b[0;34m\u001b[0m\u001b[0;34m\u001b[0m\u001b[0m\n\u001b[0m\u001b[1;32m    694\u001b[0m             \u001b[0mprinter\u001b[0m\u001b[0;34m.\u001b[0m\u001b[0mflush\u001b[0m\u001b[0;34m(\u001b[0m\u001b[0;34m)\u001b[0m\u001b[0;34m\u001b[0m\u001b[0;34m\u001b[0m\u001b[0m\n\u001b[1;32m    695\u001b[0m             \u001b[0;32mreturn\u001b[0m \u001b[0mstream\u001b[0m\u001b[0;34m.\u001b[0m\u001b[0mgetvalue\u001b[0m\u001b[0;34m(\u001b[0m\u001b[0;34m)\u001b[0m\u001b[0;34m\u001b[0m\u001b[0;34m\u001b[0m\u001b[0m\n",
      "\u001b[0;32m~/anaconda3/lib/python3.6/site-packages/IPython/lib/pretty.py\u001b[0m in \u001b[0;36mpretty\u001b[0;34m(self, obj)\u001b[0m\n\u001b[1;32m    378\u001b[0m                             \u001b[0;32mif\u001b[0m \u001b[0mcallable\u001b[0m\u001b[0;34m(\u001b[0m\u001b[0mmeth\u001b[0m\u001b[0;34m)\u001b[0m\u001b[0;34m:\u001b[0m\u001b[0;34m\u001b[0m\u001b[0;34m\u001b[0m\u001b[0m\n\u001b[1;32m    379\u001b[0m                                 \u001b[0;32mreturn\u001b[0m \u001b[0mmeth\u001b[0m\u001b[0;34m(\u001b[0m\u001b[0mobj\u001b[0m\u001b[0;34m,\u001b[0m \u001b[0mself\u001b[0m\u001b[0;34m,\u001b[0m \u001b[0mcycle\u001b[0m\u001b[0;34m)\u001b[0m\u001b[0;34m\u001b[0m\u001b[0;34m\u001b[0m\u001b[0m\n\u001b[0;32m--> 380\u001b[0;31m             \u001b[0;32mreturn\u001b[0m \u001b[0m_default_pprint\u001b[0m\u001b[0;34m(\u001b[0m\u001b[0mobj\u001b[0m\u001b[0;34m,\u001b[0m \u001b[0mself\u001b[0m\u001b[0;34m,\u001b[0m \u001b[0mcycle\u001b[0m\u001b[0;34m)\u001b[0m\u001b[0;34m\u001b[0m\u001b[0;34m\u001b[0m\u001b[0m\n\u001b[0m\u001b[1;32m    381\u001b[0m         \u001b[0;32mfinally\u001b[0m\u001b[0;34m:\u001b[0m\u001b[0;34m\u001b[0m\u001b[0;34m\u001b[0m\u001b[0m\n\u001b[1;32m    382\u001b[0m             \u001b[0mself\u001b[0m\u001b[0;34m.\u001b[0m\u001b[0mend_group\u001b[0m\u001b[0;34m(\u001b[0m\u001b[0;34m)\u001b[0m\u001b[0;34m\u001b[0m\u001b[0;34m\u001b[0m\u001b[0m\n",
      "\u001b[0;32m~/anaconda3/lib/python3.6/site-packages/IPython/lib/pretty.py\u001b[0m in \u001b[0;36m_default_pprint\u001b[0;34m(obj, p, cycle)\u001b[0m\n\u001b[1;32m    493\u001b[0m     \u001b[0;32mif\u001b[0m \u001b[0m_safe_getattr\u001b[0m\u001b[0;34m(\u001b[0m\u001b[0mklass\u001b[0m\u001b[0;34m,\u001b[0m \u001b[0;34m'__repr__'\u001b[0m\u001b[0;34m,\u001b[0m \u001b[0;32mNone\u001b[0m\u001b[0;34m)\u001b[0m \u001b[0;32mis\u001b[0m \u001b[0;32mnot\u001b[0m \u001b[0mobject\u001b[0m\u001b[0;34m.\u001b[0m\u001b[0m__repr__\u001b[0m\u001b[0;34m:\u001b[0m\u001b[0;34m\u001b[0m\u001b[0;34m\u001b[0m\u001b[0m\n\u001b[1;32m    494\u001b[0m         \u001b[0;31m# A user-provided repr. Find newlines and replace them with p.break_()\u001b[0m\u001b[0;34m\u001b[0m\u001b[0;34m\u001b[0m\u001b[0;34m\u001b[0m\u001b[0m\n\u001b[0;32m--> 495\u001b[0;31m         \u001b[0m_repr_pprint\u001b[0m\u001b[0;34m(\u001b[0m\u001b[0mobj\u001b[0m\u001b[0;34m,\u001b[0m \u001b[0mp\u001b[0m\u001b[0;34m,\u001b[0m \u001b[0mcycle\u001b[0m\u001b[0;34m)\u001b[0m\u001b[0;34m\u001b[0m\u001b[0;34m\u001b[0m\u001b[0m\n\u001b[0m\u001b[1;32m    496\u001b[0m         \u001b[0;32mreturn\u001b[0m\u001b[0;34m\u001b[0m\u001b[0;34m\u001b[0m\u001b[0m\n\u001b[1;32m    497\u001b[0m     \u001b[0mp\u001b[0m\u001b[0;34m.\u001b[0m\u001b[0mbegin_group\u001b[0m\u001b[0;34m(\u001b[0m\u001b[0;36m1\u001b[0m\u001b[0;34m,\u001b[0m \u001b[0;34m'<'\u001b[0m\u001b[0;34m)\u001b[0m\u001b[0;34m\u001b[0m\u001b[0;34m\u001b[0m\u001b[0m\n",
      "\u001b[0;32m~/anaconda3/lib/python3.6/site-packages/IPython/lib/pretty.py\u001b[0m in \u001b[0;36m_repr_pprint\u001b[0;34m(obj, p, cycle)\u001b[0m\n\u001b[1;32m    691\u001b[0m     \u001b[0;34m\"\"\"A pprint that just redirects to the normal repr function.\"\"\"\u001b[0m\u001b[0;34m\u001b[0m\u001b[0;34m\u001b[0m\u001b[0m\n\u001b[1;32m    692\u001b[0m     \u001b[0;31m# Find newlines and replace them with p.break_()\u001b[0m\u001b[0;34m\u001b[0m\u001b[0;34m\u001b[0m\u001b[0;34m\u001b[0m\u001b[0m\n\u001b[0;32m--> 693\u001b[0;31m     \u001b[0moutput\u001b[0m \u001b[0;34m=\u001b[0m \u001b[0mrepr\u001b[0m\u001b[0;34m(\u001b[0m\u001b[0mobj\u001b[0m\u001b[0;34m)\u001b[0m\u001b[0;34m\u001b[0m\u001b[0;34m\u001b[0m\u001b[0m\n\u001b[0m\u001b[1;32m    694\u001b[0m     \u001b[0;32mfor\u001b[0m \u001b[0midx\u001b[0m\u001b[0;34m,\u001b[0m\u001b[0moutput_line\u001b[0m \u001b[0;32min\u001b[0m \u001b[0menumerate\u001b[0m\u001b[0;34m(\u001b[0m\u001b[0moutput\u001b[0m\u001b[0;34m.\u001b[0m\u001b[0msplitlines\u001b[0m\u001b[0;34m(\u001b[0m\u001b[0;34m)\u001b[0m\u001b[0;34m)\u001b[0m\u001b[0;34m:\u001b[0m\u001b[0;34m\u001b[0m\u001b[0;34m\u001b[0m\u001b[0m\n\u001b[1;32m    695\u001b[0m         \u001b[0;32mif\u001b[0m \u001b[0midx\u001b[0m\u001b[0;34m:\u001b[0m\u001b[0;34m\u001b[0m\u001b[0;34m\u001b[0m\u001b[0m\n",
      "\u001b[0;32m~/Desktop/DataBases_class/P7/databases_project7/demo_suite/demo8/lazypandas.py\u001b[0m in \u001b[0;36m__repr__\u001b[0;34m(self)\u001b[0m\n\u001b[1;32m    225\u001b[0m         \u001b[0;32mreturn\u001b[0m \u001b[0mself\u001b[0m\u001b[0;34m.\u001b[0m\u001b[0marray\u001b[0m\u001b[0;34m\u001b[0m\u001b[0;34m\u001b[0m\u001b[0m\n\u001b[1;32m    226\u001b[0m     \u001b[0;32mdef\u001b[0m \u001b[0m__repr__\u001b[0m\u001b[0;34m(\u001b[0m\u001b[0mself\u001b[0m\u001b[0;34m)\u001b[0m\u001b[0;34m:\u001b[0m\u001b[0;34m\u001b[0m\u001b[0;34m\u001b[0m\u001b[0m\n\u001b[0;32m--> 227\u001b[0;31m         \u001b[0;32mreturn\u001b[0m \u001b[0mstr\u001b[0m\u001b[0;34m(\u001b[0m\u001b[0mself\u001b[0m\u001b[0;34m.\u001b[0m\u001b[0m__array__\u001b[0m\u001b[0;34m(\u001b[0m\u001b[0;34m)\u001b[0m\u001b[0;34m)\u001b[0m\u001b[0;34m\u001b[0m\u001b[0;34m\u001b[0m\u001b[0m\n\u001b[0m\u001b[1;32m    228\u001b[0m     \u001b[0;31m#    return self._as_string()\u001b[0m\u001b[0;34m\u001b[0m\u001b[0;34m\u001b[0m\u001b[0;34m\u001b[0m\u001b[0m\n\u001b[1;32m    229\u001b[0m     \u001b[0;32mdef\u001b[0m \u001b[0mto_pd\u001b[0m\u001b[0;34m(\u001b[0m\u001b[0mself\u001b[0m\u001b[0;34m)\u001b[0m\u001b[0;34m:\u001b[0m\u001b[0;34m\u001b[0m\u001b[0;34m\u001b[0m\u001b[0m\n",
      "\u001b[0;32m~/Desktop/DataBases_class/P7/databases_project7/demo_suite/demo8/lazypandas.py\u001b[0m in \u001b[0;36m__array__\u001b[0;34m(self, dtype)\u001b[0m\n\u001b[1;32m    223\u001b[0m         \u001b[0;32mreturn\u001b[0m \u001b[0mself\u001b[0m\u001b[0;34m.\u001b[0m\u001b[0m_array\u001b[0m\u001b[0;34m\u001b[0m\u001b[0;34m\u001b[0m\u001b[0m\n\u001b[1;32m    224\u001b[0m     \u001b[0;32mdef\u001b[0m \u001b[0m__array__\u001b[0m\u001b[0;34m(\u001b[0m\u001b[0mself\u001b[0m\u001b[0;34m,\u001b[0m \u001b[0mdtype\u001b[0m\u001b[0;34m=\u001b[0m\u001b[0mfloat\u001b[0m\u001b[0;34m)\u001b[0m\u001b[0;34m:\u001b[0m\u001b[0;34m\u001b[0m\u001b[0;34m\u001b[0m\u001b[0m\n\u001b[0;32m--> 225\u001b[0;31m         \u001b[0;32mreturn\u001b[0m \u001b[0mself\u001b[0m\u001b[0;34m.\u001b[0m\u001b[0marray\u001b[0m\u001b[0;34m\u001b[0m\u001b[0;34m\u001b[0m\u001b[0m\n\u001b[0m\u001b[1;32m    226\u001b[0m     \u001b[0;32mdef\u001b[0m \u001b[0m__repr__\u001b[0m\u001b[0;34m(\u001b[0m\u001b[0mself\u001b[0m\u001b[0;34m)\u001b[0m\u001b[0;34m:\u001b[0m\u001b[0;34m\u001b[0m\u001b[0;34m\u001b[0m\u001b[0m\n\u001b[1;32m    227\u001b[0m         \u001b[0;32mreturn\u001b[0m \u001b[0mstr\u001b[0m\u001b[0;34m(\u001b[0m\u001b[0mself\u001b[0m\u001b[0;34m.\u001b[0m\u001b[0m__array__\u001b[0m\u001b[0;34m(\u001b[0m\u001b[0;34m)\u001b[0m\u001b[0;34m)\u001b[0m\u001b[0;34m\u001b[0m\u001b[0;34m\u001b[0m\u001b[0m\n",
      "\u001b[0;32m~/Desktop/DataBases_class/P7/databases_project7/demo_suite/demo8/lazypandas.py\u001b[0m in \u001b[0;36marray\u001b[0;34m(self)\u001b[0m\n\u001b[1;32m    211\u001b[0m         \u001b[0;32mif\u001b[0m \u001b[0mself\u001b[0m\u001b[0;34m.\u001b[0m\u001b[0m_array\u001b[0m \u001b[0;32mis\u001b[0m \u001b[0;32mNone\u001b[0m\u001b[0;34m:\u001b[0m\u001b[0;34m\u001b[0m\u001b[0;34m\u001b[0m\u001b[0m\n\u001b[1;32m    212\u001b[0m             \u001b[0msql_np_type\u001b[0m \u001b[0;34m=\u001b[0m \u001b[0;34m{\u001b[0m\u001b[0;34m'REAL'\u001b[0m\u001b[0;34m:\u001b[0m\u001b[0mfloat\u001b[0m\u001b[0;34m,\u001b[0m \u001b[0;34m'INTEGER'\u001b[0m\u001b[0;34m:\u001b[0m\u001b[0mint\u001b[0m\u001b[0;34m,\u001b[0m \u001b[0;34m'TEXT'\u001b[0m\u001b[0;34m:\u001b[0m\u001b[0;34m'U16'\u001b[0m\u001b[0;34m}\u001b[0m\u001b[0;34m\u001b[0m\u001b[0;34m\u001b[0m\u001b[0m\n\u001b[0;32m--> 213\u001b[0;31m             \u001b[0mout\u001b[0m \u001b[0;34m=\u001b[0m \u001b[0mself\u001b[0m\u001b[0;34m.\u001b[0m\u001b[0mexecute\u001b[0m\u001b[0;34m(\u001b[0m\u001b[0;34m)\u001b[0m\u001b[0;34m\u001b[0m\u001b[0;34m\u001b[0m\u001b[0m\n\u001b[0m\u001b[1;32m    214\u001b[0m             \u001b[0mlabels\u001b[0m \u001b[0;34m=\u001b[0m \u001b[0;34m[\u001b[0m\u001b[0md\u001b[0m\u001b[0;34m[\u001b[0m\u001b[0;36m0\u001b[0m\u001b[0;34m]\u001b[0m \u001b[0;32mfor\u001b[0m \u001b[0md\u001b[0m \u001b[0;32min\u001b[0m \u001b[0mout\u001b[0m\u001b[0;34m.\u001b[0m\u001b[0mdescription\u001b[0m\u001b[0;34m]\u001b[0m\u001b[0;34m\u001b[0m\u001b[0;34m\u001b[0m\u001b[0m\n\u001b[1;32m    215\u001b[0m             \u001b[0;32mif\u001b[0m \u001b[0mlen\u001b[0m\u001b[0;34m(\u001b[0m\u001b[0mlabels\u001b[0m\u001b[0;34m)\u001b[0m \u001b[0;34m==\u001b[0m \u001b[0;36m1\u001b[0m\u001b[0;34m:\u001b[0m\u001b[0;34m\u001b[0m\u001b[0;34m\u001b[0m\u001b[0m\n",
      "\u001b[0;32m~/Desktop/DataBases_class/P7/databases_project7/demo_suite/demo8/lazypandas.py\u001b[0m in \u001b[0;36mexecute\u001b[0;34m(self, query)\u001b[0m\n\u001b[1;32m    254\u001b[0m         \u001b[0;32mif\u001b[0m \u001b[0mquery\u001b[0m \u001b[0;32mis\u001b[0m \u001b[0;32mNone\u001b[0m\u001b[0;34m:\u001b[0m\u001b[0;34m\u001b[0m\u001b[0;34m\u001b[0m\u001b[0m\n\u001b[1;32m    255\u001b[0m             \u001b[0mquery\u001b[0m \u001b[0;34m=\u001b[0m \u001b[0mself\u001b[0m\u001b[0;34m.\u001b[0m\u001b[0mgenerate_query\u001b[0m\u001b[0;34m(\u001b[0m\u001b[0;34m)\u001b[0m\u001b[0;34m\u001b[0m\u001b[0;34m\u001b[0m\u001b[0m\n\u001b[0;32m--> 256\u001b[0;31m         \u001b[0;32mreturn\u001b[0m \u001b[0mself\u001b[0m\u001b[0;34m.\u001b[0m\u001b[0mcon\u001b[0m\u001b[0;34m.\u001b[0m\u001b[0mexecute\u001b[0m\u001b[0;34m(\u001b[0m\u001b[0mquery\u001b[0m\u001b[0;34m)\u001b[0m\u001b[0;34m\u001b[0m\u001b[0;34m\u001b[0m\u001b[0m\n\u001b[0m\u001b[1;32m    257\u001b[0m     \u001b[0;32mdef\u001b[0m \u001b[0mgenerate_query\u001b[0m\u001b[0;34m(\u001b[0m\u001b[0mself\u001b[0m\u001b[0;34m)\u001b[0m\u001b[0;34m:\u001b[0m\u001b[0;34m\u001b[0m\u001b[0;34m\u001b[0m\u001b[0m\n\u001b[1;32m    258\u001b[0m         \u001b[0;32mreturn\u001b[0m \u001b[0mself\u001b[0m\u001b[0;34m.\u001b[0m\u001b[0mstack\u001b[0m\u001b[0;34m.\u001b[0m\u001b[0mgenerate_query\u001b[0m\u001b[0;34m(\u001b[0m\u001b[0;34m)\u001b[0m\u001b[0;34m\u001b[0m\u001b[0;34m\u001b[0m\u001b[0m\n",
      "\u001b[0;31mOperationalError\u001b[0m: ambiguous column name: AIRLINE"
     ]
    }
   ],
   "source": [
    "data2['AIRLINE']"
   ]
  },
  {
   "cell_type": "code",
   "execution_count": null,
   "metadata": {
    "collapsed": true
   },
   "outputs": [],
   "source": [
    "N = 7\n",
    "L = 101\n",
    "index = 1/(1+np.arange(L))\n"
   ]
  },
  {
   "cell_type": "code",
   "execution_count": null,
   "metadata": {
    "collapsed": true
   },
   "outputs": [],
   "source": []
  }
 ],
 "metadata": {
  "kernelspec": {
   "display_name": "Python 3",
   "language": "python",
   "name": "python3"
  },
  "language_info": {
   "codemirror_mode": {
    "name": "ipython",
    "version": 3
   },
   "file_extension": ".py",
   "mimetype": "text/x-python",
   "name": "python",
   "nbconvert_exporter": "python",
   "pygments_lexer": "ipython3",
   "version": "3.6.7"
  }
 },
 "nbformat": 4,
 "nbformat_minor": 2
}

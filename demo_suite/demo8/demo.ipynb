{
 "cells": [
  {
   "cell_type": "code",
   "execution_count": 1,
   "metadata": {},
   "outputs": [],
   "source": [
    "from pandas import pandas as pd\n",
    "import numpy as np\n",
    "import random\n",
    "import csv, sqlite3\n",
    "import logging\n",
    "import cProfile\n",
    "import lazypandas\n",
    "import matplotlib.pyplot as plt\n",
    "import datetime, warnings, scipy \n"
   ]
  },
  {
   "cell_type": "code",
   "execution_count": 2,
   "metadata": {},
   "outputs": [
    {
     "name": "stdout",
     "output_type": "stream",
     "text": [
      "LZ Creating engine\n"
     ]
    }
   ],
   "source": [
    "lz = lazypandas.lazy_pandas()"
   ]
  },
  {
   "cell_type": "code",
   "execution_count": 3,
   "metadata": {},
   "outputs": [
    {
     "name": "stdout",
     "output_type": "stream",
     "text": [
      "table name airlines\n",
      "new_stack\n",
      "140072035834792\n",
      "new lzpd stack select airlines.AIRLINE, airlines.IATA_CODE, airlines.auto_index\n",
      "from airlines\n",
      "\n",
      "table name airports\n",
      "new_stack\n",
      "140072031766008\n",
      "new lzpd stack select airports.AIRPORT, airports.CITY, airports.COUNTRY, airports.IATA_CODE, airports.LATITUDE, airports.LONGITUDE, airports.STATE, airports.auto_index\n",
      "from airports\n",
      "\n",
      "table name red_flights\n",
      "new_stack\n",
      "140072035982808\n",
      "new lzpd stack select red_flights.AIRLINE, red_flights.AIRLINE_DELAY, red_flights.AIR_SYSTEM_DELAY, red_flights.AIR_TIME, red_flights.ARRIVAL_DELAY, red_flights.ARRIVAL_TIME, red_flights.CANCELLATION_REASON, red_flights.CANCELLED, red_flights.DAY, red_flights.DAY_OF_WEEK, red_flights.DEPARTURE_DELAY, red_flights.DEPARTURE_TIME, red_flights.DESTINATION_AIRPORT, red_flights.DISTANCE, red_flights.DIVERTED, red_flights.ELAPSED_TIME, red_flights.FLIGHT_NUMBER, red_flights.LATE_AIRCRAFT_DELAY, red_flights.MONTH, red_flights.ORIGIN_AIRPORT, red_flights.SCHEDULED_ARRIVAL, red_flights.SCHEDULED_DEPARTURE, red_flights.SCHEDULED_TIME, red_flights.SECURITY_DELAY, red_flights.TAIL_NUMBER, red_flights.TAXI_IN, red_flights.TAXI_OUT, red_flights.WEATHER_DELAY, red_flights.WHEELS_OFF, red_flights.WHEELS_ON, red_flights.YEAR, red_flights.auto_index\n",
      "from red_flights\n",
      "\n"
     ]
    }
   ],
   "source": [
    "airlines = lz.read_csv('../dot/airlines.csv')\n",
    "airports = lz.read_csv('../dot/airports.csv')\n",
    "data  = lz.read_csv('../dot/red_flights.csv')"
   ]
  },
  {
   "cell_type": "code",
   "execution_count": 4,
   "metadata": {},
   "outputs": [
    {
     "data": {
      "text/plain": [
       "[(0,), (1,), (2,), (3,), (4,)]"
      ]
     },
     "execution_count": 4,
     "metadata": {},
     "output_type": "execute_result"
    }
   ],
   "source": [
    "data.execute('select auto_index from red_flights limit 5 ').fetchall()"
   ]
  },
  {
   "cell_type": "code",
   "execution_count": 5,
   "metadata": {},
   "outputs": [
    {
     "name": "stdout",
     "output_type": "stream",
     "text": [
      "caught get [] 2\n",
      "col_name auto_index\n",
      "new lzpd stack select auto_index\n",
      "from red_flights\n",
      "\n"
     ]
    },
    {
     "data": {
      "text/plain": [
       "[    0     1     2 ... 99996 99997 99998]"
      ]
     },
     "execution_count": 5,
     "metadata": {},
     "output_type": "execute_result"
    }
   ],
   "source": [
    "data['auto_index']"
   ]
  },
  {
   "cell_type": "code",
   "execution_count": 6,
   "metadata": {
    "scrolled": true
   },
   "outputs": [
    {
     "name": "stdout",
     "output_type": "stream",
     "text": [
      "caught set [] new 1\n",
      "R: looking for  new in red_flights\n",
      "caught get [] 2\n",
      "col_name red_flights.auto_index\n",
      "new lzpd stack select red_flights.auto_index\n",
      "from red_flights\n",
      "\n",
      "new_stack\n",
      "140072035979392\n",
      "new lzpd stack select auto_generated_table_new.auto_index, auto_generated_table_new.new\n",
      "from auto_generated_table_new\n",
      "\n",
      "caught merge\n",
      "merge ['red_flights'] ['auto_generated_table_new']\n",
      "new_stack\n",
      "140072035981240\n",
      "R: looking for  auto_index in red_flights\n",
      "L: looking for  auto_index in auto_generated_table_new\n",
      "new lzpd stack select auto_generated_table_new.auto_index, auto_generated_table_new.new, red_flights.AIRLINE, red_flights.AIRLINE_DELAY, red_flights.AIR_SYSTEM_DELAY, red_flights.AIR_TIME, red_flights.ARRIVAL_DELAY, red_flights.ARRIVAL_TIME, red_flights.CANCELLATION_REASON, red_flights.CANCELLED, red_flights.DAY, red_flights.DAY_OF_WEEK, red_flights.DEPARTURE_DELAY, red_flights.DEPARTURE_TIME, red_flights.DESTINATION_AIRPORT, red_flights.DISTANCE, red_flights.DIVERTED, red_flights.ELAPSED_TIME, red_flights.FLIGHT_NUMBER, red_flights.LATE_AIRCRAFT_DELAY, red_flights.MONTH, red_flights.ORIGIN_AIRPORT, red_flights.SCHEDULED_ARRIVAL, red_flights.SCHEDULED_DEPARTURE, red_flights.SCHEDULED_TIME, red_flights.SECURITY_DELAY, red_flights.TAIL_NUMBER, red_flights.TAXI_IN, red_flights.TAXI_OUT, red_flights.WEATHER_DELAY, red_flights.WHEELS_OFF, red_flights.WHEELS_ON, red_flights.YEAR, red_flights.auto_index\n",
      "from auto_generated_table_new, red_flights\n",
      "where (auto_generated_table_new.auto_index = red_flights.auto_index)\n",
      "\n",
      "new lzpd stack select auto_generated_table_new.auto_index, auto_generated_table_new.new, red_flights.AIRLINE, red_flights.AIRLINE_DELAY, red_flights.AIR_SYSTEM_DELAY, red_flights.AIR_TIME, red_flights.ARRIVAL_DELAY, red_flights.ARRIVAL_TIME, red_flights.CANCELLATION_REASON, red_flights.CANCELLED, red_flights.DAY, red_flights.DAY_OF_WEEK, red_flights.DEPARTURE_DELAY, red_flights.DEPARTURE_TIME, red_flights.DESTINATION_AIRPORT, red_flights.DISTANCE, red_flights.DIVERTED, red_flights.ELAPSED_TIME, red_flights.FLIGHT_NUMBER, red_flights.LATE_AIRCRAFT_DELAY, red_flights.MONTH, red_flights.ORIGIN_AIRPORT, red_flights.SCHEDULED_ARRIVAL, red_flights.SCHEDULED_DEPARTURE, red_flights.SCHEDULED_TIME, red_flights.SECURITY_DELAY, red_flights.TAIL_NUMBER, red_flights.TAXI_IN, red_flights.TAXI_OUT, red_flights.WEATHER_DELAY, red_flights.WHEELS_OFF, red_flights.WHEELS_ON, red_flights.YEAR, red_flights.auto_index\n",
      "from auto_generated_table_new, red_flights\n",
      "where (auto_generated_table_new.auto_index = red_flights.auto_index)\n",
      "\n"
     ]
    }
   ],
   "source": [
    "data['new'] = 1"
   ]
  },
  {
   "cell_type": "code",
   "execution_count": 16,
   "metadata": {},
   "outputs": [
    {
     "name": "stdout",
     "output_type": "stream",
     "text": [
      "caught groupby ('airline',) {}\n",
      "new lzpd stack select auto_generated_table_new.new, red_flights.AIRLINE, red_flights.AIRLINE_DELAY, red_flights.AIR_SYSTEM_DELAY, red_flights.AIR_TIME, red_flights.ARRIVAL_DELAY, red_flights.ARRIVAL_TIME, red_flights.CANCELLATION_REASON, red_flights.CANCELLED, red_flights.DAY, red_flights.DAY_OF_WEEK, red_flights.DEPARTURE_DELAY, red_flights.DEPARTURE_TIME, red_flights.DESTINATION_AIRPORT, red_flights.DISTANCE, red_flights.DIVERTED, red_flights.ELAPSED_TIME, red_flights.FLIGHT_NUMBER, red_flights.LATE_AIRCRAFT_DELAY, red_flights.MONTH, red_flights.ORIGIN_AIRPORT, red_flights.SCHEDULED_ARRIVAL, red_flights.SCHEDULED_DEPARTURE, red_flights.SCHEDULED_TIME, red_flights.SECURITY_DELAY, red_flights.TAIL_NUMBER, red_flights.TAXI_IN, red_flights.TAXI_OUT, red_flights.WEATHER_DELAY, red_flights.WHEELS_OFF, red_flights.WHEELS_ON, red_flights.YEAR, red_flights.auto_index\n",
      "from auto_generated_table_new, red_flights\n",
      "where (auto_generated_table_new.auto_index = red_flights.auto_index)\n",
      "group by (airline)\n",
      "\n"
     ]
    },
    {
     "data": {
      "text/plain": [
       "'select auto_generated_table_new.new, red_flights.AIRLINE, red_flights.AIRLINE_DELAY, red_flights.AIR_SYSTEM_DELAY, red_flights.AIR_TIME, red_flights.ARRIVAL_DELAY, red_flights.ARRIVAL_TIME, red_flights.CANCELLATION_REASON, red_flights.CANCELLED, red_flights.DAY, red_flights.DAY_OF_WEEK, red_flights.DEPARTURE_DELAY, red_flights.DEPARTURE_TIME, red_flights.DESTINATION_AIRPORT, red_flights.DISTANCE, red_flights.DIVERTED, red_flights.ELAPSED_TIME, red_flights.FLIGHT_NUMBER, red_flights.LATE_AIRCRAFT_DELAY, red_flights.MONTH, red_flights.ORIGIN_AIRPORT, red_flights.SCHEDULED_ARRIVAL, red_flights.SCHEDULED_DEPARTURE, red_flights.SCHEDULED_TIME, red_flights.SECURITY_DELAY, red_flights.TAIL_NUMBER, red_flights.TAXI_IN, red_flights.TAXI_OUT, red_flights.WEATHER_DELAY, red_flights.WHEELS_OFF, red_flights.WHEELS_ON, red_flights.YEAR, red_flights.auto_index\\nfrom auto_generated_table_new, red_flights\\nwhere (auto_generated_table_new.auto_index = red_flights.auto_index)\\ngroup by (airline)\\n'"
      ]
     },
     "execution_count": 16,
     "metadata": {},
     "output_type": "execute_result"
    }
   ],
   "source": [
    "hei = data.groupby('airline')\n",
    "hei.generate_query()"
   ]
  },
  {
   "cell_type": "code",
   "execution_count": 17,
   "metadata": {},
   "outputs": [
    {
     "name": "stdout",
     "output_type": "stream",
     "text": [
      "['airline']\n"
     ]
    }
   ],
   "source": [
    "lol = hei.RA.ra_stack.groupby_stack\n",
    "print(lol)"
   ]
  },
  {
   "cell_type": "code",
   "execution_count": 18,
   "metadata": {},
   "outputs": [
    {
     "name": "stdout",
     "output_type": "stream",
     "text": [
      "caught set [] new 1\n",
      "R: looking for  new in red_flights\n",
      "R: looking for  new in auto_generated_table_new\n"
     ]
    }
   ],
   "source": [
    "data['new'] = 1"
   ]
  },
  {
   "cell_type": "code",
   "execution_count": 10,
   "metadata": {},
   "outputs": [
    {
     "data": {
      "text/plain": [
       "(('auto_index', None, None, None, None, None, None),)"
      ]
     },
     "execution_count": 10,
     "metadata": {},
     "output_type": "execute_result"
    }
   ],
   "source": [
    "data.execute(\"\"\"\n",
    "    select red_flights.auto_index\n",
    "    from red_flights, auto_generated_table_new\n",
    "    where (auto_generated_table_new.auto_index = red_flights.auto_index)\n",
    "    limit 5 \"\"\").description"
   ]
  },
  {
   "cell_type": "code",
   "execution_count": 11,
   "metadata": {},
   "outputs": [
    {
     "data": {
      "text/html": [
       "<div>\n",
       "<style>\n",
       "    .dataframe thead tr:only-child th {\n",
       "        text-align: right;\n",
       "    }\n",
       "\n",
       "    .dataframe thead th {\n",
       "        text-align: left;\n",
       "    }\n",
       "\n",
       "    .dataframe tbody tr th {\n",
       "        vertical-align: top;\n",
       "    }\n",
       "</style>\n",
       "<table border=\"1\" class=\"dataframe\">\n",
       "  <thead>\n",
       "    <tr style=\"text-align: right;\">\n",
       "      <th></th>\n",
       "      <th>new</th>\n",
       "      <th>AIRLINE_DELAY</th>\n",
       "      <th>AIR_SYSTEM_DELAY</th>\n",
       "      <th>AIR_TIME</th>\n",
       "      <th>ARRIVAL_DELAY</th>\n",
       "      <th>ARRIVAL_TIME</th>\n",
       "      <th>CANCELLED</th>\n",
       "      <th>DAY</th>\n",
       "      <th>DAY_OF_WEEK</th>\n",
       "      <th>DEPARTURE_DELAY</th>\n",
       "      <th>...</th>\n",
       "      <th>SCHEDULED_DEPARTURE</th>\n",
       "      <th>SCHEDULED_TIME</th>\n",
       "      <th>SECURITY_DELAY</th>\n",
       "      <th>TAXI_IN</th>\n",
       "      <th>TAXI_OUT</th>\n",
       "      <th>WEATHER_DELAY</th>\n",
       "      <th>WHEELS_OFF</th>\n",
       "      <th>WHEELS_ON</th>\n",
       "      <th>YEAR</th>\n",
       "      <th>auto_index</th>\n",
       "    </tr>\n",
       "  </thead>\n",
       "  <tbody>\n",
       "    <tr>\n",
       "      <th>count</th>\n",
       "      <td>14.0</td>\n",
       "      <td>1.0</td>\n",
       "      <td>1.0</td>\n",
       "      <td>13.000000</td>\n",
       "      <td>13.000000</td>\n",
       "      <td>13.000000</td>\n",
       "      <td>14.000000</td>\n",
       "      <td>14.0</td>\n",
       "      <td>14.0</td>\n",
       "      <td>13.000000</td>\n",
       "      <td>...</td>\n",
       "      <td>14.000000</td>\n",
       "      <td>14.000000</td>\n",
       "      <td>1.0</td>\n",
       "      <td>13.000000</td>\n",
       "      <td>13.000000</td>\n",
       "      <td>1.0</td>\n",
       "      <td>13.000000</td>\n",
       "      <td>13.000000</td>\n",
       "      <td>14.0</td>\n",
       "      <td>14.000000</td>\n",
       "    </tr>\n",
       "    <tr>\n",
       "      <th>mean</th>\n",
       "      <td>1.0</td>\n",
       "      <td>15.0</td>\n",
       "      <td>0.0</td>\n",
       "      <td>183.615385</td>\n",
       "      <td>-2.307692</td>\n",
       "      <td>669.000000</td>\n",
       "      <td>0.071429</td>\n",
       "      <td>1.0</td>\n",
       "      <td>4.0</td>\n",
       "      <td>-2.923077</td>\n",
       "      <td>...</td>\n",
       "      <td>264.500000</td>\n",
       "      <td>196.000000</td>\n",
       "      <td>0.0</td>\n",
       "      <td>6.923077</td>\n",
       "      <td>13.846154</td>\n",
       "      <td>0.0</td>\n",
       "      <td>264.615385</td>\n",
       "      <td>659.000000</td>\n",
       "      <td>2015.0</td>\n",
       "      <td>90.571429</td>\n",
       "    </tr>\n",
       "    <tr>\n",
       "      <th>std</th>\n",
       "      <td>0.0</td>\n",
       "      <td>NaN</td>\n",
       "      <td>NaN</td>\n",
       "      <td>84.973073</td>\n",
       "      <td>13.237476</td>\n",
       "      <td>147.244128</td>\n",
       "      <td>0.267261</td>\n",
       "      <td>0.0</td>\n",
       "      <td>0.0</td>\n",
       "      <td>5.922577</td>\n",
       "      <td>...</td>\n",
       "      <td>258.022882</td>\n",
       "      <td>81.818749</td>\n",
       "      <td>NaN</td>\n",
       "      <td>2.871165</td>\n",
       "      <td>3.715870</td>\n",
       "      <td>NaN</td>\n",
       "      <td>260.546393</td>\n",
       "      <td>149.759251</td>\n",
       "      <td>0.0</td>\n",
       "      <td>182.980333</td>\n",
       "    </tr>\n",
       "    <tr>\n",
       "      <th>min</th>\n",
       "      <td>1.0</td>\n",
       "      <td>15.0</td>\n",
       "      <td>0.0</td>\n",
       "      <td>54.000000</td>\n",
       "      <td>-22.000000</td>\n",
       "      <td>408.000000</td>\n",
       "      <td>0.000000</td>\n",
       "      <td>1.0</td>\n",
       "      <td>4.0</td>\n",
       "      <td>-11.000000</td>\n",
       "      <td>...</td>\n",
       "      <td>5.000000</td>\n",
       "      <td>80.000000</td>\n",
       "      <td>0.0</td>\n",
       "      <td>4.000000</td>\n",
       "      <td>9.000000</td>\n",
       "      <td>0.0</td>\n",
       "      <td>14.000000</td>\n",
       "      <td>404.000000</td>\n",
       "      <td>2015.0</td>\n",
       "      <td>0.000000</td>\n",
       "    </tr>\n",
       "    <tr>\n",
       "      <th>25%</th>\n",
       "      <td>1.0</td>\n",
       "      <td>15.0</td>\n",
       "      <td>0.0</td>\n",
       "      <td>132.000000</td>\n",
       "      <td>-16.000000</td>\n",
       "      <td>610.000000</td>\n",
       "      <td>0.000000</td>\n",
       "      <td>1.0</td>\n",
       "      <td>4.0</td>\n",
       "      <td>-6.000000</td>\n",
       "      <td>...</td>\n",
       "      <td>25.000000</td>\n",
       "      <td>152.500000</td>\n",
       "      <td>0.0</td>\n",
       "      <td>5.000000</td>\n",
       "      <td>11.000000</td>\n",
       "      <td>0.0</td>\n",
       "      <td>34.000000</td>\n",
       "      <td>602.000000</td>\n",
       "      <td>2015.0</td>\n",
       "      <td>5.250000</td>\n",
       "    </tr>\n",
       "    <tr>\n",
       "      <th>50%</th>\n",
       "      <td>1.0</td>\n",
       "      <td>15.0</td>\n",
       "      <td>0.0</td>\n",
       "      <td>169.000000</td>\n",
       "      <td>-2.000000</td>\n",
       "      <td>638.000000</td>\n",
       "      <td>0.000000</td>\n",
       "      <td>1.0</td>\n",
       "      <td>4.0</td>\n",
       "      <td>-4.000000</td>\n",
       "      <td>...</td>\n",
       "      <td>150.000000</td>\n",
       "      <td>193.000000</td>\n",
       "      <td>0.0</td>\n",
       "      <td>6.000000</td>\n",
       "      <td>12.000000</td>\n",
       "      <td>0.0</td>\n",
       "      <td>201.000000</td>\n",
       "      <td>633.000000</td>\n",
       "      <td>2015.0</td>\n",
       "      <td>37.000000</td>\n",
       "    </tr>\n",
       "    <tr>\n",
       "      <th>75%</th>\n",
       "      <td>1.0</td>\n",
       "      <td>15.0</td>\n",
       "      <td>0.0</td>\n",
       "      <td>231.000000</td>\n",
       "      <td>9.000000</td>\n",
       "      <td>752.000000</td>\n",
       "      <td>0.000000</td>\n",
       "      <td>1.0</td>\n",
       "      <td>4.0</td>\n",
       "      <td>-2.000000</td>\n",
       "      <td>...</td>\n",
       "      <td>522.500000</td>\n",
       "      <td>230.750000</td>\n",
       "      <td>0.0</td>\n",
       "      <td>8.000000</td>\n",
       "      <td>16.000000</td>\n",
       "      <td>0.0</td>\n",
       "      <td>532.000000</td>\n",
       "      <td>746.000000</td>\n",
       "      <td>2015.0</td>\n",
       "      <td>79.500000</td>\n",
       "    </tr>\n",
       "    <tr>\n",
       "      <th>max</th>\n",
       "      <td>1.0</td>\n",
       "      <td>15.0</td>\n",
       "      <td>0.0</td>\n",
       "      <td>361.000000</td>\n",
       "      <td>15.000000</td>\n",
       "      <td>923.000000</td>\n",
       "      <td>1.000000</td>\n",
       "      <td>1.0</td>\n",
       "      <td>4.0</td>\n",
       "      <td>13.000000</td>\n",
       "      <td>...</td>\n",
       "      <td>645.000000</td>\n",
       "      <td>370.000000</td>\n",
       "      <td>0.0</td>\n",
       "      <td>14.000000</td>\n",
       "      <td>21.000000</td>\n",
       "      <td>0.0</td>\n",
       "      <td>647.000000</td>\n",
       "      <td>916.000000</td>\n",
       "      <td>2015.0</td>\n",
       "      <td>707.000000</td>\n",
       "    </tr>\n",
       "  </tbody>\n",
       "</table>\n",
       "<p>8 rows × 28 columns</p>\n",
       "</div>"
      ],
      "text/plain": [
       "        new  AIRLINE_DELAY  AIR_SYSTEM_DELAY    AIR_TIME  ARRIVAL_DELAY  \\\n",
       "count  14.0            1.0               1.0   13.000000      13.000000   \n",
       "mean    1.0           15.0               0.0  183.615385      -2.307692   \n",
       "std     0.0            NaN               NaN   84.973073      13.237476   \n",
       "min     1.0           15.0               0.0   54.000000     -22.000000   \n",
       "25%     1.0           15.0               0.0  132.000000     -16.000000   \n",
       "50%     1.0           15.0               0.0  169.000000      -2.000000   \n",
       "75%     1.0           15.0               0.0  231.000000       9.000000   \n",
       "max     1.0           15.0               0.0  361.000000      15.000000   \n",
       "\n",
       "       ARRIVAL_TIME  CANCELLED   DAY  DAY_OF_WEEK  DEPARTURE_DELAY  \\\n",
       "count     13.000000  14.000000  14.0         14.0        13.000000   \n",
       "mean     669.000000   0.071429   1.0          4.0        -2.923077   \n",
       "std      147.244128   0.267261   0.0          0.0         5.922577   \n",
       "min      408.000000   0.000000   1.0          4.0       -11.000000   \n",
       "25%      610.000000   0.000000   1.0          4.0        -6.000000   \n",
       "50%      638.000000   0.000000   1.0          4.0        -4.000000   \n",
       "75%      752.000000   0.000000   1.0          4.0        -2.000000   \n",
       "max      923.000000   1.000000   1.0          4.0        13.000000   \n",
       "\n",
       "          ...      SCHEDULED_DEPARTURE  SCHEDULED_TIME  SECURITY_DELAY  \\\n",
       "count     ...                14.000000       14.000000             1.0   \n",
       "mean      ...               264.500000      196.000000             0.0   \n",
       "std       ...               258.022882       81.818749             NaN   \n",
       "min       ...                 5.000000       80.000000             0.0   \n",
       "25%       ...                25.000000      152.500000             0.0   \n",
       "50%       ...               150.000000      193.000000             0.0   \n",
       "75%       ...               522.500000      230.750000             0.0   \n",
       "max       ...               645.000000      370.000000             0.0   \n",
       "\n",
       "         TAXI_IN   TAXI_OUT  WEATHER_DELAY  WHEELS_OFF   WHEELS_ON    YEAR  \\\n",
       "count  13.000000  13.000000            1.0   13.000000   13.000000    14.0   \n",
       "mean    6.923077  13.846154            0.0  264.615385  659.000000  2015.0   \n",
       "std     2.871165   3.715870            NaN  260.546393  149.759251     0.0   \n",
       "min     4.000000   9.000000            0.0   14.000000  404.000000  2015.0   \n",
       "25%     5.000000  11.000000            0.0   34.000000  602.000000  2015.0   \n",
       "50%     6.000000  12.000000            0.0  201.000000  633.000000  2015.0   \n",
       "75%     8.000000  16.000000            0.0  532.000000  746.000000  2015.0   \n",
       "max    14.000000  21.000000            0.0  647.000000  916.000000  2015.0   \n",
       "\n",
       "       auto_index  \n",
       "count   14.000000  \n",
       "mean    90.571429  \n",
       "std    182.980333  \n",
       "min      0.000000  \n",
       "25%      5.250000  \n",
       "50%     37.000000  \n",
       "75%     79.500000  \n",
       "max    707.000000  \n",
       "\n",
       "[8 rows x 28 columns]"
      ]
     },
     "execution_count": 11,
     "metadata": {},
     "output_type": "execute_result"
    }
   ],
   "source": [
    "data.to_pd().describe()"
   ]
  },
  {
   "cell_type": "code",
   "execution_count": 12,
   "metadata": {},
   "outputs": [
    {
     "data": {
      "text/plain": [
       "'select auto_generated_table_new.new, red_flights.AIRLINE, red_flights.AIRLINE_DELAY, red_flights.AIR_SYSTEM_DELAY, red_flights.AIR_TIME, red_flights.ARRIVAL_DELAY, red_flights.ARRIVAL_TIME, red_flights.CANCELLATION_REASON, red_flights.CANCELLED, red_flights.DAY, red_flights.DAY_OF_WEEK, red_flights.DEPARTURE_DELAY, red_flights.DEPARTURE_TIME, red_flights.DESTINATION_AIRPORT, red_flights.DISTANCE, red_flights.DIVERTED, red_flights.ELAPSED_TIME, red_flights.FLIGHT_NUMBER, red_flights.LATE_AIRCRAFT_DELAY, red_flights.MONTH, red_flights.ORIGIN_AIRPORT, red_flights.SCHEDULED_ARRIVAL, red_flights.SCHEDULED_DEPARTURE, red_flights.SCHEDULED_TIME, red_flights.SECURITY_DELAY, red_flights.TAIL_NUMBER, red_flights.TAXI_IN, red_flights.TAXI_OUT, red_flights.WEATHER_DELAY, red_flights.WHEELS_OFF, red_flights.WHEELS_ON, red_flights.YEAR, red_flights.auto_index\\nfrom auto_generated_table_new, red_flights\\nwhere (auto_generated_table_new.auto_index = red_flights.auto_index)\\ngroup by (airline)\\n'"
      ]
     },
     "execution_count": 12,
     "metadata": {},
     "output_type": "execute_result"
    }
   ],
   "source": [
    "data.generate_query()"
   ]
  },
  {
   "cell_type": "code",
   "execution_count": 13,
   "metadata": {
    "scrolled": true
   },
   "outputs": [
    {
     "name": "stdout",
     "output_type": "stream",
     "text": [
      "lazyDataFrame\n",
      "tables\n",
      "  red_flights :\n",
      "    YEAR : REAL\n",
      "    MONTH : REAL\n",
      "    DAY : REAL\n",
      "    DAY_OF_WEEK : REAL\n",
      "    AIRLINE : TEXT\n",
      "    FLIGHT_NUMBER : REAL\n",
      "    TAIL_NUMBER : TEXT\n",
      "    ORIGIN_AIRPORT : TEXT\n",
      "    DESTINATION_AIRPORT : TEXT\n",
      "    SCHEDULED_DEPARTURE : REAL\n",
      "    DEPARTURE_TIME : REAL\n",
      "    DEPARTURE_DELAY : REAL\n",
      "    TAXI_OUT : REAL\n",
      "    WHEELS_OFF : REAL\n",
      "    SCHEDULED_TIME : REAL\n",
      "    ELAPSED_TIME : REAL\n",
      "    AIR_TIME : REAL\n",
      "    DISTANCE : REAL\n",
      "    WHEELS_ON : REAL\n",
      "    TAXI_IN : REAL\n",
      "    SCHEDULED_ARRIVAL : REAL\n",
      "    ARRIVAL_TIME : REAL\n",
      "    ARRIVAL_DELAY : REAL\n",
      "    DIVERTED : REAL\n",
      "    CANCELLED : REAL\n",
      "    CANCELLATION_REASON : TEXT\n",
      "    AIR_SYSTEM_DELAY : REAL\n",
      "    SECURITY_DELAY : REAL\n",
      "    AIRLINE_DELAY : REAL\n",
      "    LATE_AIRCRAFT_DELAY : REAL\n",
      "    WEATHER_DELAY : REAL\n",
      "    auto_index : INTEGER\n",
      "\n",
      "  auto_generated_table_new :\n",
      "    new : REAL\n",
      "    auto_index : INTEGER\n",
      "\n"
     ]
    }
   ],
   "source": [
    "data.info()"
   ]
  },
  {
   "cell_type": "code",
   "execution_count": 14,
   "metadata": {},
   "outputs": [
    {
     "name": "stdout",
     "output_type": "stream",
     "text": [
      "caught merge\n",
      "merge ['red_flights', 'auto_generated_table_new'] ['airlines']\n",
      "new_stack\n",
      "140072035977984\n",
      "R: looking for  AIRLINE in red_flights\n",
      "R: looking for  AIRLINE in auto_generated_table_new\n",
      "L: looking for  IATA_CODE in airlines\n",
      "new lzpd stack select airlines.AIRLINE, airlines.IATA_CODE, airlines.auto_index, auto_generated_table_new.new, red_flights.AIRLINE, red_flights.AIRLINE_DELAY, red_flights.AIR_SYSTEM_DELAY, red_flights.AIR_TIME, red_flights.ARRIVAL_DELAY, red_flights.ARRIVAL_TIME, red_flights.CANCELLATION_REASON, red_flights.CANCELLED, red_flights.DAY, red_flights.DAY_OF_WEEK, red_flights.DEPARTURE_DELAY, red_flights.DEPARTURE_TIME, red_flights.DESTINATION_AIRPORT, red_flights.DISTANCE, red_flights.DIVERTED, red_flights.ELAPSED_TIME, red_flights.FLIGHT_NUMBER, red_flights.LATE_AIRCRAFT_DELAY, red_flights.MONTH, red_flights.ORIGIN_AIRPORT, red_flights.SCHEDULED_ARRIVAL, red_flights.SCHEDULED_DEPARTURE, red_flights.SCHEDULED_TIME, red_flights.SECURITY_DELAY, red_flights.TAIL_NUMBER, red_flights.TAXI_IN, red_flights.TAXI_OUT, red_flights.WEATHER_DELAY, red_flights.WHEELS_OFF, red_flights.WHEELS_ON, red_flights.YEAR, red_flights.auto_index\n",
      "from airlines, auto_generated_table_new, red_flights\n",
      "where (airlines.IATA_CODE = red_flights.AIRLINE) and (auto_generated_table_new.auto_index = red_flights.auto_index)\n",
      "group by (airline)\n",
      "\n",
      "pre ['airlines.AIRLINE', 'airlines.IATA_CODE', 'airlines.auto_index', 'auto_generated_table_new.new', 'red_flights.AIRLINE', 'red_flights.AIRLINE_DELAY', 'red_flights.AIR_SYSTEM_DELAY', 'red_flights.AIR_TIME', 'red_flights.ARRIVAL_DELAY', 'red_flights.ARRIVAL_TIME', 'red_flights.CANCELLATION_REASON', 'red_flights.CANCELLED', 'red_flights.DAY', 'red_flights.DAY_OF_WEEK', 'red_flights.DEPARTURE_DELAY', 'red_flights.DEPARTURE_TIME', 'red_flights.DESTINATION_AIRPORT', 'red_flights.DISTANCE', 'red_flights.DIVERTED', 'red_flights.ELAPSED_TIME', 'red_flights.FLIGHT_NUMBER', 'red_flights.LATE_AIRCRAFT_DELAY', 'red_flights.MONTH', 'red_flights.ORIGIN_AIRPORT', 'red_flights.SCHEDULED_ARRIVAL', 'red_flights.SCHEDULED_DEPARTURE', 'red_flights.SCHEDULED_TIME', 'red_flights.SECURITY_DELAY', 'red_flights.TAIL_NUMBER', 'red_flights.TAXI_IN', 'red_flights.TAXI_OUT', 'red_flights.WEATHER_DELAY', 'red_flights.WHEELS_OFF', 'red_flights.WHEELS_ON', 'red_flights.YEAR', 'red_flights.auto_index'] ['airlines', 'auto_generated_table_new', 'red_flights'] ['airlines.IATA_CODE = red_flights.AIRLINE', 'auto_generated_table_new.auto_index = red_flights.auto_index']\n",
      "pre select count(*)\n",
      "from airlines, auto_generated_table_new, red_flights\n",
      "where (airlines.IATA_CODE = red_flights.AIRLINE) and (auto_generated_table_new.auto_index = red_flights.auto_index)\n",
      "group by (airline)\n",
      "\n"
     ]
    },
    {
     "ename": "OperationalError",
     "evalue": "ambiguous column name: airline",
     "output_type": "error",
     "traceback": [
      "\u001b[0;31m---------------------------------------------------------------------------\u001b[0m",
      "\u001b[0;31mOperationalError\u001b[0m                          Traceback (most recent call last)",
      "\u001b[0;32m<ipython-input-14-5bd8d13ebda1>\u001b[0m in \u001b[0;36m<module>\u001b[0;34m()\u001b[0m\n\u001b[1;32m      1\u001b[0m \u001b[0mdata2\u001b[0m \u001b[0;34m=\u001b[0m \u001b[0mdata\u001b[0m\u001b[0;34m.\u001b[0m\u001b[0mmerge\u001b[0m\u001b[0;34m(\u001b[0m\u001b[0mairlines\u001b[0m\u001b[0;34m,\u001b[0m \u001b[0mleft_on\u001b[0m\u001b[0;34m=\u001b[0m\u001b[0;34m'AIRLINE'\u001b[0m\u001b[0;34m,\u001b[0m \u001b[0mright_on\u001b[0m\u001b[0;34m=\u001b[0m\u001b[0;34m'IATA_CODE'\u001b[0m\u001b[0;34m)\u001b[0m\u001b[0;34m\u001b[0m\u001b[0;34m\u001b[0m\u001b[0m\n\u001b[0;32m----> 2\u001b[0;31m \u001b[0mdata2\u001b[0m\u001b[0;34m.\u001b[0m\u001b[0mshape\u001b[0m\u001b[0;34m\u001b[0m\u001b[0;34m\u001b[0m\u001b[0m\n\u001b[0m",
      "\u001b[0;32m~/Desktop/DataBases_class/P7/databases_project7/demo_suite/demo8/lazypandas.py\u001b[0m in \u001b[0;36mshape\u001b[0;34m(self)\u001b[0m\n\u001b[1;32m    152\u001b[0m             \u001b[0mprint\u001b[0m\u001b[0;34m(\u001b[0m\u001b[0;34m'pre'\u001b[0m\u001b[0;34m,\u001b[0m \u001b[0mstack\u001b[0m\u001b[0;34m)\u001b[0m\u001b[0;34m\u001b[0m\u001b[0;34m\u001b[0m\u001b[0m\n\u001b[1;32m    153\u001b[0m             \u001b[0mquery\u001b[0m \u001b[0;34m=\u001b[0m \u001b[0mstack\u001b[0m\u001b[0;34m.\u001b[0m\u001b[0mgenerate_query\u001b[0m\u001b[0;34m(\u001b[0m\u001b[0;34m)\u001b[0m\u001b[0;34m\u001b[0m\u001b[0;34m\u001b[0m\u001b[0m\n\u001b[0;32m--> 154\u001b[0;31m             \u001b[0mout\u001b[0m \u001b[0;34m=\u001b[0m \u001b[0mself\u001b[0m\u001b[0;34m.\u001b[0m\u001b[0mexecute\u001b[0m\u001b[0;34m(\u001b[0m \u001b[0mquery\u001b[0m \u001b[0;34m)\u001b[0m\u001b[0;34m\u001b[0m\u001b[0;34m\u001b[0m\u001b[0m\n\u001b[0m\u001b[1;32m    155\u001b[0m             \u001b[0mnrows\u001b[0m \u001b[0;34m=\u001b[0m \u001b[0mout\u001b[0m\u001b[0;34m.\u001b[0m\u001b[0mfetchall\u001b[0m\u001b[0;34m(\u001b[0m\u001b[0;34m)\u001b[0m\u001b[0;34m[\u001b[0m\u001b[0;36m0\u001b[0m\u001b[0;34m]\u001b[0m\u001b[0;34m\u001b[0m\u001b[0;34m\u001b[0m\u001b[0m\n\u001b[1;32m    156\u001b[0m             \u001b[0mself\u001b[0m\u001b[0;34m.\u001b[0m\u001b[0m_shape\u001b[0m \u001b[0;34m=\u001b[0m \u001b[0;34m(\u001b[0m\u001b[0mncols\u001b[0m\u001b[0;34m,\u001b[0m \u001b[0mnrows\u001b[0m\u001b[0;34m)\u001b[0m\u001b[0;34m\u001b[0m\u001b[0;34m\u001b[0m\u001b[0m\n",
      "\u001b[0;32m~/Desktop/DataBases_class/P7/databases_project7/demo_suite/demo8/lazypandas.py\u001b[0m in \u001b[0;36mexecute\u001b[0;34m(self, query)\u001b[0m\n\u001b[1;32m    220\u001b[0m         \u001b[0;32mif\u001b[0m \u001b[0mquery\u001b[0m \u001b[0;32mis\u001b[0m \u001b[0;32mNone\u001b[0m\u001b[0;34m:\u001b[0m\u001b[0;34m\u001b[0m\u001b[0;34m\u001b[0m\u001b[0m\n\u001b[1;32m    221\u001b[0m             \u001b[0mquery\u001b[0m \u001b[0;34m=\u001b[0m \u001b[0mself\u001b[0m\u001b[0;34m.\u001b[0m\u001b[0mgenerate_query\u001b[0m\u001b[0;34m(\u001b[0m\u001b[0;34m)\u001b[0m\u001b[0;34m\u001b[0m\u001b[0;34m\u001b[0m\u001b[0m\n\u001b[0;32m--> 222\u001b[0;31m         \u001b[0;32mreturn\u001b[0m \u001b[0mself\u001b[0m\u001b[0;34m.\u001b[0m\u001b[0mcon\u001b[0m\u001b[0;34m.\u001b[0m\u001b[0mexecute\u001b[0m\u001b[0;34m(\u001b[0m\u001b[0mquery\u001b[0m\u001b[0;34m)\u001b[0m\u001b[0;34m\u001b[0m\u001b[0;34m\u001b[0m\u001b[0m\n\u001b[0m\u001b[1;32m    223\u001b[0m     \u001b[0;32mdef\u001b[0m \u001b[0mgenerate_query\u001b[0m\u001b[0;34m(\u001b[0m\u001b[0mself\u001b[0m\u001b[0;34m)\u001b[0m\u001b[0;34m:\u001b[0m\u001b[0;34m\u001b[0m\u001b[0;34m\u001b[0m\u001b[0m\n\u001b[1;32m    224\u001b[0m         \u001b[0;32mreturn\u001b[0m \u001b[0mself\u001b[0m\u001b[0;34m.\u001b[0m\u001b[0mstack\u001b[0m\u001b[0;34m.\u001b[0m\u001b[0mgenerate_query\u001b[0m\u001b[0;34m(\u001b[0m\u001b[0;34m)\u001b[0m\u001b[0;34m\u001b[0m\u001b[0;34m\u001b[0m\u001b[0m\n",
      "\u001b[0;31mOperationalError\u001b[0m: ambiguous column name: airline"
     ]
    }
   ],
   "source": [
    "data2 = data.merge(airlines, left_on='AIRLINE', right_on='IATA_CODE')\n",
    "data2.shape"
   ]
  },
  {
   "cell_type": "code",
   "execution_count": null,
   "metadata": {
    "scrolled": true
   },
   "outputs": [],
   "source": [
    "airports.shape"
   ]
  },
  {
   "cell_type": "code",
   "execution_count": null,
   "metadata": {},
   "outputs": [],
   "source": [
    "a = data['MONTH'] == 1\n",
    "b = data['DAY']\n",
    "c = data['DAY']\n",
    "print((a))\n",
    "print((b.stack))\n",
    "print((c.stack))\n",
    "print((data.stack))\n"
   ]
  },
  {
   "cell_type": "code",
   "execution_count": null,
   "metadata": {
    "scrolled": true
   },
   "outputs": [],
   "source": [
    "airports = airports.dropna(subset = ['LATITUDE','LONGITUDE'])"
   ]
  },
  {
   "cell_type": "code",
   "execution_count": null,
   "metadata": {},
   "outputs": [],
   "source": [
    "data1 = data.dropna(subset = [\"TAIL_NUMBER\",'DEPARTURE_TIME','DEPARTURE_DELAY','TAXI_OUT','WHEELS_OFF','SCHEDULED_TIME',\n",
    "             'ELAPSED_TIME','AIR_TIME','WHEELS_ON','TAXI_IN','ARRIVAL_TIME','ARRIVAL_DELAY'])"
   ]
  },
  {
   "cell_type": "code",
   "execution_count": null,
   "metadata": {},
   "outputs": [],
   "source": [
    "data11 = data1.dropna(subset = ['AIR_SYSTEM_DELAY','SECURITY_DELAY','AIRLINE_DELAY','LATE_AIRCRAFT_DELAY','WEATHER_DELAY'])\n",
    "data11 = data11.drop(['YEAR','MONTH','DAY','DAY_OF_WEEK','TAIL_NUMBER','SCHEDULED_DEPARTURE','DEPARTURE_TIME','SCHEDULED_TIME',\n",
    "                     'SCHEDULED_ARRIVAL','ARRIVAL_TIME','DIVERTED','CANCELLED','CANCELLATION_REASON','FLIGHT_NUMBER','WHEELS_OFF',\n",
    "                     'WHEELS_ON','AIR_TIME'],axis = 1)"
   ]
  },
  {
   "cell_type": "code",
   "execution_count": null,
   "metadata": {
    "collapsed": true
   },
   "outputs": [],
   "source": [
    "# The other Dataset\n",
    "Flight_Delays = data11"
   ]
  },
  {
   "cell_type": "code",
   "execution_count": null,
   "metadata": {},
   "outputs": [],
   "source": [
    "# Creating Dataset by removing null values by not focussing fully on different types of Delays\n",
    "data2 = data1.drop(['CANCELLATION_REASON','AIR_SYSTEM_DELAY','SECURITY_DELAY','AIRLINE_DELAY',\n",
    "                    'LATE_AIRCRAFT_DELAY','WEATHER_DELAY'],axis = 1)"
   ]
  },
  {
   "cell_type": "code",
   "execution_count": null,
   "metadata": {},
   "outputs": [],
   "source": [
    "data2.shape"
   ]
  },
  {
   "cell_type": "code",
   "execution_count": null,
   "metadata": {
    "scrolled": true
   },
   "outputs": [],
   "source": [
    "data2.info()"
   ]
  },
  {
   "cell_type": "code",
   "execution_count": null,
   "metadata": {
    "collapsed": true
   },
   "outputs": [],
   "source": [
    "# Creating a function to change the way of representation of time in the column\n",
    "@np.vectorize\n",
    "def Format_Hourmin(hours):\n",
    "        if hours == 2400:\n",
    "            hours = 0\n",
    "        else:\n",
    "            hours = \"{0:04d}\".format(int(hours))\n",
    "            Hourmin = datetime.time(int(hours[0:2]), int(hours[2:4]))\n",
    "            return Hourmin"
   ]
  },
  {
   "cell_type": "code",
   "execution_count": null,
   "metadata": {},
   "outputs": [],
   "source": [
    "data1['CANCELLED']"
   ]
  },
  {
   "cell_type": "code",
   "execution_count": null,
   "metadata": {
    "collapsed": true,
    "scrolled": true
   },
   "outputs": [],
   "source": [
    "out = data1.execute('select month, airline, AVG(CANCELLED) from red_flights group by airline, month ').fetchall()\n",
    "m, a, rel = list(map(list, zip(*out)))\n"
   ]
  },
  {
   "cell_type": "code",
   "execution_count": null,
   "metadata": {},
   "outputs": [],
   "source": [
    "print(a)\n",
    "plt.plot(a, rel)\n",
    "plt.show()"
   ]
  },
  {
   "cell_type": "code",
   "execution_count": null,
   "metadata": {
    "scrolled": true
   },
   "outputs": [],
   "source": [
    "x = data1['DEPARTURE_TIME'].apply(Format_Hourmin)\n",
    "#data2['Actual_Departure'] = x\n",
    "x"
   ]
  },
  {
   "cell_type": "code",
   "execution_count": null,
   "metadata": {},
   "outputs": [],
   "source": [
    "plt.plot(data['ELAPSED_TIME'], data['DISTANCE'], '.')\n",
    "plt.show()"
   ]
  },
  {
   "cell_type": "code",
   "execution_count": null,
   "metadata": {},
   "outputs": [],
   "source": [
    "data = data.dropna(['DISTANCE', 'ARRIVAL_DELAY'])\n",
    "type(a)"
   ]
  },
  {
   "cell_type": "code",
   "execution_count": null,
   "metadata": {},
   "outputs": [],
   "source": [
    "x = data['DISTANCE'].to_pd().values.flatten()\n",
    "y = data['ARRIVAL_DELAY'].to_pd().values.flatten()\n",
    "\n",
    "heatmap, xedges, yedges = np.histogram2d(x, y, bins=16)\n",
    "plt.imshow(heatmap.T, origin='lower')\n",
    "plt.show()"
   ]
  },
  {
   "cell_type": "code",
   "execution_count": null,
   "metadata": {},
   "outputs": [],
   "source": [
    "a = data['DISTANCE']\n",
    "a.generate_stack()"
   ]
  },
  {
   "cell_type": "code",
   "execution_count": null,
   "metadata": {},
   "outputs": [],
   "source": [
    "from util import csvToDb, out_to_pd\n",
    "out = data.execute('select min(AIRLINE_DELAY) from red_flights')\n",
    "print(out.description[0])\n",
    "out.fetchone()\n",
    "#data.dotted_datatype"
   ]
  },
  {
   "cell_type": "code",
   "execution_count": null,
   "metadata": {
    "scrolled": true
   },
   "outputs": [],
   "source": [
    "a = data.to_pd()\n",
    "a.describe()"
   ]
  },
  {
   "cell_type": "code",
   "execution_count": null,
   "metadata": {},
   "outputs": [],
   "source": [
    "flights.info()"
   ]
  },
  {
   "cell_type": "code",
   "execution_count": null,
   "metadata": {
    "collapsed": true
   },
   "outputs": [],
   "source": [
    "a = data.DAG.nodes[0].generate_stack()"
   ]
  },
  {
   "cell_type": "code",
   "execution_count": null,
   "metadata": {
    "collapsed": true
   },
   "outputs": [],
   "source": [
    "boh, index = np.unique(a.select_stack, return_inverse=True)\n",
    "boh, boh[index]"
   ]
  },
  {
   "cell_type": "code",
   "execution_count": null,
   "metadata": {
    "collapsed": true
   },
   "outputs": [],
   "source": [
    "a.select_stack"
   ]
  },
  {
   "cell_type": "code",
   "execution_count": null,
   "metadata": {},
   "outputs": [],
   "source": [
    "# Merging on AIRLINE and IATA_CODE\n",
    "data2 = data2.merge(airlines, left_on='AIRLINE', right_on='IATA_CODE', how='inner')"
   ]
  },
  {
   "cell_type": "code",
   "execution_count": null,
   "metadata": {},
   "outputs": [],
   "source": [
    "data2['AIRLINE']"
   ]
  },
  {
   "cell_type": "code",
   "execution_count": null,
   "metadata": {},
   "outputs": [],
   "source": [
    "N = 7\n",
    "L = 101\n",
    "index = 1/(1+np.arange(L))\n"
   ]
  },
  {
   "cell_type": "code",
   "execution_count": null,
   "metadata": {
    "collapsed": true
   },
   "outputs": [],
   "source": []
  }
 ],
 "metadata": {
  "kernelspec": {
   "display_name": "Python 3",
   "language": "python",
   "name": "python3"
  },
  "language_info": {
   "codemirror_mode": {
    "name": "ipython",
    "version": 3
   },
   "file_extension": ".py",
   "mimetype": "text/x-python",
   "name": "python",
   "nbconvert_exporter": "python",
   "pygments_lexer": "ipython3",
   "version": "3.6.7"
  }
 },
 "nbformat": 4,
 "nbformat_minor": 2
}

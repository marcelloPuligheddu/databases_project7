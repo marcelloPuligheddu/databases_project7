{
 "cells": [
  {
   "cell_type": "code",
   "execution_count": 1,
   "metadata": {
    "collapsed": true
   },
   "outputs": [],
   "source": [
    "from pandas import pandas as pd\n",
    "import numpy as np\n",
    "import csv, sqlite3\n",
    "import logging\n",
    "import cProfile"
   ]
  },
  {
   "cell_type": "code",
   "execution_count": 2,
   "metadata": {
    "collapsed": true
   },
   "outputs": [],
   "source": [
    "### utilities\n",
    "\n",
    "def _get_col_datatypes(fin):\n",
    "    \"\"\"from https://stackoverflow.com/questions/2887878/importing-a-csv-file-into-a-sqlite3-database-table-using-python \"\"\"\n",
    "    dr = csv.DictReader(fin) # comma is default delimiter\n",
    "    fieldTypes = {}\n",
    "    for entry in dr:\n",
    "        feildslLeft = [f for f in dr.fieldnames if f not in fieldTypes.keys()]\n",
    "        if not feildslLeft: break # We're done\n",
    "        for field in feildslLeft:\n",
    "            data = entry[field]\n",
    "\n",
    "            # Need data to decide\n",
    "            if len(data) == 0:\n",
    "                continue\n",
    "\n",
    "            if data.isdigit():\n",
    "                fieldTypes[field] = \"INTEGER\"\n",
    "            else:\n",
    "                fieldTypes[field] = \"TEXT\"\n",
    "        # TODO: Currently there's no support for DATE in sqllite\n",
    "\n",
    "    if len(feildslLeft) > 0:\n",
    "        raise Exception(\"Failed to find all the columns data types - Maybe some are empty?\")\n",
    "\n",
    "    return fieldTypes\n",
    "\n",
    "\n",
    "def escapingGenerator(f):\n",
    "    \"\"\"from https://stackoverflow.com/questions/2887878/importing-a-csv-file-into-a-sqlite3-database-table-using-python \"\"\"\n",
    "    for line in f:\n",
    "        yield line.encode(\"ascii\", \"xmlcharrefreplace\").decode(\"ascii\")\n",
    "\n",
    "class lazyDf(pd.DataFrame):\n",
    "    def __init__(self, con):\n",
    "        self.con = con\n",
    "    \n",
    "def csvToDb(csvFile, con=None, table_name=None):\n",
    "    \"\"\" from https://stackoverflow.com/questions/2887878/importing-a-csv-file-into-a-sqlite3-database-table-using-python \n",
    "    with small changes \"\"\"\n",
    "    if table_name is None:\n",
    "        table_name = 'ads'\n",
    "\n",
    "    with open(csvFile,mode='r', encoding=\"ISO-8859-1\") as fin:\n",
    "        dt = _get_col_datatypes(fin)\n",
    "        fin.seek(0)\n",
    "        reader = csv.DictReader(fin)\n",
    "        # Keep the order of the columns name just as in the CSV\n",
    "        fields = reader.fieldnames\n",
    "        cols = []\n",
    "        # Set field and type\n",
    "        for f in fields:\n",
    "            cols.append(\"%s %s\" % (f, dt[f]))\n",
    "        # Generate create table statement:\n",
    "        stmt = \"CREATE TABLE \" + table_name + \" (%s)\" % \",\".join(cols)\n",
    "        if con is None:\n",
    "            print('Creating engine')\n",
    "            con = sqlite3.connect(\":memory:\")\n",
    "        cur = con.cursor()\n",
    "        cur.execute(stmt)\n",
    "        fin.seek(0)\n",
    "        reader = csv.reader(escapingGenerator(fin))\n",
    "        # Generate insert statement:\n",
    "        stmt = \"INSERT INTO \" + table_name + \" VALUES(%s);\" % ','.join('?' * len(cols))\n",
    "        cur.executemany(stmt, reader)\n",
    "        con.commit()\n",
    "    return con\n",
    "\n",
    "class Profiler():\n",
    "    \"\"\" ctxtM for old python without profile\"\"\"\n",
    "    def __init__(self, nlines):\n",
    "        self.nlines = nlines\n",
    "\n",
    "    def __enter__(self):\n",
    "        self.pr = cProfile.Profile()\n",
    "        self.pr.enable()\n",
    "\n",
    "    def __exit__(self, *args):\n",
    "        import pstats, io\n",
    "        self.pr.disable()\n",
    "        s = io.StringIO()\n",
    "        sortby = 'cumulative'\n",
    "        ps = pstats.Stats(self.pr, stream=s).sort_stats(sortby)\n",
    "        ps.print_stats(self.nlines)\n",
    "        print(s.getvalue())\n",
    "### end of utilities"
   ]
  },
  {
   "cell_type": "code",
   "execution_count": 7,
   "metadata": {},
   "outputs": [],
   "source": [
    "class csv_reader():\n",
    "    def __init__(self, con, table_name):\n",
    "        self.con = con\n",
    "        self.table_name = table_name\n",
    "    def __call__(self, filename):\n",
    "        return csvToDb(filename, con=self.con, table_name=self.table_name)\n",
    "\n",
    "class lazy_pandas():\n",
    "    def __init__(self):\n",
    "        self.con = None\n",
    "        self.db = None\n",
    "        \n",
    "    def __getattribute__(self, name, *args, **kwargs):\n",
    "        base = pd\n",
    "        TO_OVERRIDE = ['read_csv', 'con']\n",
    "        if name in TO_OVERRIDE:\n",
    "            print('over', name, args, kwargs)\n",
    "            if name == 'read_csv':\n",
    "                self.con = sqlite3.connect(':memory:')\n",
    "                return csv_reader(con=self.con, table_name='client_info')\n",
    "        else:\n",
    "            ret = base.__getattribute__(name)\n",
    "            return ret"
   ]
  },
  {
   "cell_type": "code",
   "execution_count": 10,
   "metadata": {},
   "outputs": [
    {
     "name": "stdout",
     "output_type": "stream",
     "text": [
      "over read_csv () {}\n",
      "over con () {}\n",
      "Creating engine\n"
     ]
    },
    {
     "ename": "TypeError",
     "evalue": "'sqlite3.Connection' object is not subscriptable",
     "output_type": "error",
     "traceback": [
      "\u001b[0;31m---------------------------------------------------------------------------\u001b[0m",
      "\u001b[0;31mTypeError\u001b[0m                                 Traceback (most recent call last)",
      "\u001b[0;32m<ipython-input-10-ead216303944>\u001b[0m in \u001b[0;36m<module>\u001b[0;34m()\u001b[0m\n\u001b[1;32m      1\u001b[0m \u001b[0mlz\u001b[0m \u001b[0;34m=\u001b[0m \u001b[0mlazy_pandas\u001b[0m\u001b[0;34m(\u001b[0m\u001b[0;34m)\u001b[0m\u001b[0;34m\u001b[0m\u001b[0;34m\u001b[0m\u001b[0m\n\u001b[1;32m      2\u001b[0m \u001b[0mclient_info\u001b[0m \u001b[0;34m=\u001b[0m \u001b[0mlz\u001b[0m\u001b[0;34m.\u001b[0m\u001b[0mread_csv\u001b[0m\u001b[0;34m(\u001b[0m\u001b[0;34m'../MOCK_DATA/mock_data_1.csv'\u001b[0m\u001b[0;34m)\u001b[0m\u001b[0;34m\u001b[0m\u001b[0;34m\u001b[0m\u001b[0m\n\u001b[0;32m----> 3\u001b[0;31m \u001b[0mclient_info\u001b[0m\u001b[0;34m[\u001b[0m\u001b[0;34m'gender'\u001b[0m\u001b[0;34m]\u001b[0m\u001b[0;34m\u001b[0m\u001b[0;34m\u001b[0m\u001b[0m\n\u001b[0m",
      "\u001b[0;31mTypeError\u001b[0m: 'sqlite3.Connection' object is not subscriptable"
     ]
    }
   ],
   "source": [
    "lz = lazy_pandas()\n",
    "client_info = lz.read_csv('../MOCK_DATA/mock_data_1.csv')\n",
    "client_info['gender']"
   ]
  },
  {
   "cell_type": "code",
   "execution_count": null,
   "metadata": {},
   "outputs": [],
   "source": [
    "number_of_test_subjects = 8\n",
    "## pandas\n",
    "with Profiler(2):\n",
    "    client_info = pd.read_csv('../MOCK_DATA/mock_data_1.csv')\n",
    "    male_clients = client_info['gender'] == 'Male'\n",
    "    test_male_client = client_info[ male_clients ][:number_of_test_subjects]\n",
    "    pd_out = test_male_client.ip_address\n",
    "\n",
    "## sqlite3\n",
    "with Profiler(2):\n",
    "    con = sqlite3.connect(':memory:') # or file or ?\n",
    "    con = csvToDb('../MOCK_DATA/mock_data_1.csv', con=con, table_name='client_info')\n",
    "    query = \"\"\"\n",
    "    select ip_address\n",
    "    from client_info\n",
    "    where gender = 'Male'\n",
    "    limit \"\"\" + str(number_of_test_subjects) + \"\"\"\n",
    "    \"\"\"\n",
    "    sql_out = con.execute(query)\n",
    "    sql_label = [description[0] for description in sql_out.description]\n",
    "    sql_data = sql_out.fetchall()\n",
    "\n",
    "## now check\n",
    "for i, (sql_x, pd_x) in enumerate(zip(sql_data, pd_out)):\n",
    "    if i < number_of_test_subjects//2:\n",
    "        print(sql_x[0], '|', pd_x)\n",
    "    assert sql_x[0] == pd_x\n",
    "print('     PASSED')"
   ]
  },
  {
   "cell_type": "code",
   "execution_count": null,
   "metadata": {},
   "outputs": [],
   "source": [
    "client_info = pd.read_csv('../MOCK_DATA/mock_data_1.csv')\n",
    "works_at = pd.read_csv('../MOCK_DATA/mock_data_2.csv')\n",
    "\n",
    "# dumb pandas\n",
    "print('email company name')\n",
    "print('------------------')\n",
    "res = []\n",
    "with Profiler(2):\n",
    "    for id_w, w in enumerate(works_at.email):\n",
    "        for id_c, c in enumerate(client_info.email):\n",
    "            if w == c:\n",
    "                res.append((works_at.email[id_w], works_at.company[id_w], client_info.first_name[id_c]))\n",
    "print(res)"
   ]
  },
  {
   "cell_type": "code",
   "execution_count": null,
   "metadata": {},
   "outputs": [],
   "source": [
    "## pandas\n",
    "print('email company name')\n",
    "print('------------------')\n",
    "res = []\n",
    "with Profiler(2):\n",
    "    matches = works_at.email.isin(client_info.email)\n",
    "    for email, company in zip( works_at[matches].email, works_at[matches].company):\n",
    "        guy = client_info[client_info.email == email]\n",
    "        res.append([email, company, guy.first_name.values[0]])\n",
    "print(res)\n"
   ]
  },
  {
   "cell_type": "code",
   "execution_count": null,
   "metadata": {},
   "outputs": [],
   "source": [
    "## sql\n",
    "con = sqlite3.connect(':memory:') # or file or ?\n",
    "con = csvToDb('../MOCK_DATA/mock_data_1.csv', con=con, table_name='client_info')\n",
    "con = csvToDb('../MOCK_DATA/mock_data_2.csv', con=con, table_name='works_at')\n",
    "with Profiler(2):\n",
    "    query = \"\"\"\n",
    "    select works_at.email, works_at.company, client_info.last_name\n",
    "    from client_info, works_at\n",
    "    where client_info.email = works_at.email\n",
    "    \"\"\"\n",
    "    sql_out = con.execute(query)\n",
    "    sql_label = [description[0] for description in sql_out.description]\n",
    "    sql_data = sql_out.fetchall()\n",
    "print(sql_data)"
   ]
  },
  {
   "cell_type": "code",
   "execution_count": null,
   "metadata": {
    "collapsed": true
   },
   "outputs": [],
   "source": []
  }
 ],
 "metadata": {
  "kernelspec": {
   "display_name": "Python 3",
   "language": "python",
   "name": "python3"
  },
  "language_info": {
   "codemirror_mode": {
    "name": "ipython",
    "version": 3
   },
   "file_extension": ".py",
   "mimetype": "text/x-python",
   "name": "python",
   "nbconvert_exporter": "python",
   "pygments_lexer": "ipython3",
   "version": "3.6.7"
  }
 },
 "nbformat": 4,
 "nbformat_minor": 2
}

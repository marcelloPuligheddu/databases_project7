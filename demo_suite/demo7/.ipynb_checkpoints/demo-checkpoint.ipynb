{
 "cells": [
  {
   "cell_type": "code",
   "execution_count": 1,
   "metadata": {},
   "outputs": [],
   "source": [
    "from pandas import pandas as pd\n",
    "import numpy as np\n",
    "import random\n",
    "import csv, sqlite3\n",
    "import logging\n",
    "import cProfile\n",
    "import lazypandas\n",
    "import matplotlib.pyplot as plt\n",
    "import datetime, warnings, scipy \n"
   ]
  },
  {
   "cell_type": "code",
   "execution_count": 2,
   "metadata": {},
   "outputs": [
    {
     "name": "stdout",
     "output_type": "stream",
     "text": [
      "LZ Creating engine\n"
     ]
    }
   ],
   "source": [
    "lz = lazypandas.lazy_pandas()"
   ]
  },
  {
   "cell_type": "code",
   "execution_count": 3,
   "metadata": {},
   "outputs": [
    {
     "name": "stdout",
     "output_type": "stream",
     "text": [
      "table name airlines\n",
      "[]\n",
      "table name airports\n",
      "['airlines']\n",
      "table name red_flights\n",
      "['airlines', 'airports']\n"
     ]
    }
   ],
   "source": [
    "airlines = lz.read_csv('../dot/airlines.csv')\n",
    "airports = lz.read_csv('../dot/airports.csv')\n",
    "data  = lz.read_csv('../dot/red_flights.csv')"
   ]
  },
  {
   "cell_type": "code",
   "execution_count": 4,
   "metadata": {},
   "outputs": [
    {
     "name": "stdout",
     "output_type": "stream",
     "text": [
      "lazyDataFrame\n",
      "tables\n",
      "  red_flights :\n",
      "    YEAR : REAL\n",
      "    MONTH : REAL\n",
      "    DAY : REAL\n",
      "    DAY_OF_WEEK : REAL\n",
      "    AIRLINE : TEXT\n",
      "    FLIGHT_NUMBER : REAL\n",
      "    TAIL_NUMBER : TEXT\n",
      "    ORIGIN_AIRPORT : TEXT\n",
      "    DESTINATION_AIRPORT : TEXT\n",
      "    SCHEDULED_DEPARTURE : REAL\n",
      "    DEPARTURE_TIME : REAL\n",
      "    DEPARTURE_DELAY : REAL\n",
      "    TAXI_OUT : REAL\n",
      "    WHEELS_OFF : REAL\n",
      "    SCHEDULED_TIME : REAL\n",
      "    ELAPSED_TIME : REAL\n",
      "    AIR_TIME : REAL\n",
      "    DISTANCE : REAL\n",
      "    WHEELS_ON : REAL\n",
      "    TAXI_IN : REAL\n",
      "    SCHEDULED_ARRIVAL : REAL\n",
      "    ARRIVAL_TIME : REAL\n",
      "    ARRIVAL_DELAY : REAL\n",
      "    DIVERTED : REAL\n",
      "    CANCELLED : REAL\n",
      "    CANCELLATION_REASON : TEXT\n",
      "    AIR_SYSTEM_DELAY : REAL\n",
      "    SECURITY_DELAY : REAL\n",
      "    AIRLINE_DELAY : REAL\n",
      "    LATE_AIRCRAFT_DELAY : REAL\n",
      "    WEATHER_DELAY : REAL\n",
      "\n"
     ]
    }
   ],
   "source": [
    "data.info()"
   ]
  },
  {
   "cell_type": "code",
   "execution_count": 5,
   "metadata": {},
   "outputs": [
    {
     "data": {
      "text/plain": [
       "((19999,), 31)"
      ]
     },
     "execution_count": 5,
     "metadata": {},
     "output_type": "execute_result"
    }
   ],
   "source": [
    "data.shape"
   ]
  },
  {
   "cell_type": "code",
   "execution_count": 6,
   "metadata": {
    "scrolled": true
   },
   "outputs": [
    {
     "data": {
      "text/plain": [
       "((322,), 7)"
      ]
     },
     "execution_count": 6,
     "metadata": {},
     "output_type": "execute_result"
    }
   ],
   "source": [
    "airports.shape"
   ]
  },
  {
   "cell_type": "code",
   "execution_count": 7,
   "metadata": {
    "scrolled": true
   },
   "outputs": [
    {
     "name": "stdout",
     "output_type": "stream",
     "text": [
      "caught drop na subset () {'subset': ['LATITUDE', 'LONGITUDE']}\n"
     ]
    }
   ],
   "source": [
    "airports = airports.dropna(subset = ['LATITUDE','LONGITUDE'])"
   ]
  },
  {
   "cell_type": "code",
   "execution_count": 8,
   "metadata": {},
   "outputs": [
    {
     "name": "stdout",
     "output_type": "stream",
     "text": [
      "caught drop na subset () {'subset': ['TAIL_NUMBER', 'DEPARTURE_TIME', 'DEPARTURE_DELAY', 'TAXI_OUT', 'WHEELS_OFF', 'SCHEDULED_TIME', 'ELAPSED_TIME', 'AIR_TIME', 'WHEELS_ON', 'TAXI_IN', 'ARRIVAL_TIME', 'ARRIVAL_DELAY']}\n"
     ]
    }
   ],
   "source": [
    "data1 = data.dropna(subset = [\"TAIL_NUMBER\",'DEPARTURE_TIME','DEPARTURE_DELAY','TAXI_OUT','WHEELS_OFF','SCHEDULED_TIME',\n",
    "             'ELAPSED_TIME','AIR_TIME','WHEELS_ON','TAXI_IN','ARRIVAL_TIME','ARRIVAL_DELAY'])"
   ]
  },
  {
   "cell_type": "code",
   "execution_count": 9,
   "metadata": {},
   "outputs": [
    {
     "name": "stdout",
     "output_type": "stream",
     "text": [
      "caught drop na subset () {'subset': ['AIR_SYSTEM_DELAY', 'SECURITY_DELAY', 'AIRLINE_DELAY', 'LATE_AIRCRAFT_DELAY', 'WEATHER_DELAY']}\n",
      "caught drop  labels (['YEAR', 'MONTH', 'DAY', 'DAY_OF_WEEK', 'TAIL_NUMBER', 'SCHEDULED_DEPARTURE', 'DEPARTURE_TIME', 'SCHEDULED_TIME', 'SCHEDULED_ARRIVAL', 'ARRIVAL_TIME', 'DIVERTED', 'CANCELLED', 'CANCELLATION_REASON', 'FLIGHT_NUMBER', 'WHEELS_OFF', 'WHEELS_ON', 'AIR_TIME'],) {'axis': 1}\n"
     ]
    }
   ],
   "source": [
    "data11 = data1.dropna(subset = ['AIR_SYSTEM_DELAY','SECURITY_DELAY','AIRLINE_DELAY','LATE_AIRCRAFT_DELAY','WEATHER_DELAY'])\n",
    "data11 = data11.drop(['YEAR','MONTH','DAY','DAY_OF_WEEK','TAIL_NUMBER','SCHEDULED_DEPARTURE','DEPARTURE_TIME','SCHEDULED_TIME',\n",
    "                     'SCHEDULED_ARRIVAL','ARRIVAL_TIME','DIVERTED','CANCELLED','CANCELLATION_REASON','FLIGHT_NUMBER','WHEELS_OFF',\n",
    "                     'WHEELS_ON','AIR_TIME'],axis = 1)"
   ]
  },
  {
   "cell_type": "code",
   "execution_count": 10,
   "metadata": {},
   "outputs": [],
   "source": [
    "# The other Dataset\n",
    "Flight_Delays = data11"
   ]
  },
  {
   "cell_type": "code",
   "execution_count": 11,
   "metadata": {},
   "outputs": [
    {
     "name": "stdout",
     "output_type": "stream",
     "text": [
      "caught drop  labels (['CANCELLATION_REASON', 'AIR_SYSTEM_DELAY', 'SECURITY_DELAY', 'AIRLINE_DELAY', 'LATE_AIRCRAFT_DELAY', 'WEATHER_DELAY'],) {'axis': 1}\n"
     ]
    }
   ],
   "source": [
    "# Creating Dataset by removing null values by not focussing fully on different types of Delays\n",
    "data2 = data1.drop(['CANCELLATION_REASON','AIR_SYSTEM_DELAY','SECURITY_DELAY','AIRLINE_DELAY',\n",
    "                    'LATE_AIRCRAFT_DELAY','WEATHER_DELAY'],axis = 1)"
   ]
  },
  {
   "cell_type": "code",
   "execution_count": 12,
   "metadata": {},
   "outputs": [
    {
     "data": {
      "text/plain": [
       "((19559,), 25)"
      ]
     },
     "execution_count": 12,
     "metadata": {},
     "output_type": "execute_result"
    }
   ],
   "source": [
    "data2.shape"
   ]
  },
  {
   "cell_type": "code",
   "execution_count": 13,
   "metadata": {
    "scrolled": true
   },
   "outputs": [
    {
     "name": "stdout",
     "output_type": "stream",
     "text": [
      "lazyDataFrame\n",
      "tables\n",
      "  red_flights :\n",
      "    YEAR : REAL\n",
      "    MONTH : REAL\n",
      "    DAY : REAL\n",
      "    DAY_OF_WEEK : REAL\n",
      "    AIRLINE : TEXT\n",
      "    FLIGHT_NUMBER : REAL\n",
      "    TAIL_NUMBER : TEXT\n",
      "    ORIGIN_AIRPORT : TEXT\n",
      "    DESTINATION_AIRPORT : TEXT\n",
      "    SCHEDULED_DEPARTURE : REAL\n",
      "    DEPARTURE_TIME : REAL\n",
      "    DEPARTURE_DELAY : REAL\n",
      "    TAXI_OUT : REAL\n",
      "    WHEELS_OFF : REAL\n",
      "    SCHEDULED_TIME : REAL\n",
      "    ELAPSED_TIME : REAL\n",
      "    AIR_TIME : REAL\n",
      "    DISTANCE : REAL\n",
      "    WHEELS_ON : REAL\n",
      "    TAXI_IN : REAL\n",
      "    SCHEDULED_ARRIVAL : REAL\n",
      "    ARRIVAL_TIME : REAL\n",
      "    ARRIVAL_DELAY : REAL\n",
      "    DIVERTED : REAL\n",
      "    CANCELLED : REAL\n",
      "    CANCELLATION_REASON : TEXT\n",
      "    AIR_SYSTEM_DELAY : REAL\n",
      "    SECURITY_DELAY : REAL\n",
      "    AIRLINE_DELAY : REAL\n",
      "    LATE_AIRCRAFT_DELAY : REAL\n",
      "    WEATHER_DELAY : REAL\n",
      "\n"
     ]
    }
   ],
   "source": [
    "data2.info()"
   ]
  },
  {
   "cell_type": "code",
   "execution_count": 14,
   "metadata": {},
   "outputs": [],
   "source": [
    "# Creating a function to change the way of representation of time in the column\n",
    "@np.vectorize\n",
    "def Format_Hourmin(hours):\n",
    "        if hours == 2400:\n",
    "            hours = 0\n",
    "        else:\n",
    "            hours = \"{0:04d}\".format(int(hours))\n",
    "            Hourmin = datetime.time(int(hours[0:2]), int(hours[2:4]))\n",
    "            return Hourmin"
   ]
  },
  {
   "cell_type": "code",
   "execution_count": 30,
   "metadata": {},
   "outputs": [
    {
     "name": "stdout",
     "output_type": "stream",
     "text": [
      "lazyDataFrame\n",
      "tables\n",
      "  red_flights :\n",
      "    YEAR : REAL\n",
      "    MONTH : REAL\n",
      "    DAY : REAL\n",
      "    DAY_OF_WEEK : REAL\n",
      "    AIRLINE : TEXT\n",
      "    FLIGHT_NUMBER : REAL\n",
      "    TAIL_NUMBER : TEXT\n",
      "    ORIGIN_AIRPORT : TEXT\n",
      "    DESTINATION_AIRPORT : TEXT\n",
      "    SCHEDULED_DEPARTURE : REAL\n",
      "    DEPARTURE_TIME : REAL\n",
      "    DEPARTURE_DELAY : REAL\n",
      "    TAXI_OUT : REAL\n",
      "    WHEELS_OFF : REAL\n",
      "    SCHEDULED_TIME : REAL\n",
      "    ELAPSED_TIME : REAL\n",
      "    AIR_TIME : REAL\n",
      "    DISTANCE : REAL\n",
      "    WHEELS_ON : REAL\n",
      "    TAXI_IN : REAL\n",
      "    SCHEDULED_ARRIVAL : REAL\n",
      "    ARRIVAL_TIME : REAL\n",
      "    ARRIVAL_DELAY : REAL\n",
      "    DIVERTED : REAL\n",
      "    CANCELLED : REAL\n",
      "    CANCELLATION_REASON : TEXT\n",
      "    AIR_SYSTEM_DELAY : REAL\n",
      "    SECURITY_DELAY : REAL\n",
      "    AIRLINE_DELAY : REAL\n",
      "    LATE_AIRCRAFT_DELAY : REAL\n",
      "    WEATHER_DELAY : REAL\n",
      "\n"
     ]
    }
   ],
   "source": [
    "data1.info()"
   ]
  },
  {
   "cell_type": "code",
   "execution_count": 38,
   "metadata": {
    "scrolled": true
   },
   "outputs": [],
   "source": [
    "m, a, rel_delay = data1.execute('select month, airline, avg(DEPARTURE_DELAY)/avg(ELAPSED_TIME) from red_flights group by airline, month').fetchall()[0]"
   ]
  },
  {
   "cell_type": "code",
   "execution_count": 42,
   "metadata": {},
   "outputs": [
    {
     "name": "stdout",
     "output_type": "stream",
     "text": [
      "AA\n"
     ]
    },
    {
     "data": {
      "image/png": "[encoded data removed]",
      "text/plain": [
       "<Figure size 432x288 with 1 Axes>"
      ]
     },
     "metadata": {},
     "output_type": "display_data"
    }
   ],
   "source": [
    "print(a)\n",
    "plt.plot(a, rel_delay)\n",
    "plt.show()"
   ]
  },
  {
   "cell_type": "code",
   "execution_count": 27,
   "metadata": {
    "scrolled": true
   },
   "outputs": [
    {
     "name": "stdout",
     "output_type": "stream",
     "text": [
      "caught get []\n",
      "col_name DEPARTURE_TIME\n"
     ]
    },
    {
     "data": {
      "text/html": [
       "<div>\n",
       "<style>\n",
       "    .dataframe thead tr:only-child th {\n",
       "        text-align: right;\n",
       "    }\n",
       "\n",
       "    .dataframe thead th {\n",
       "        text-align: left;\n",
       "    }\n",
       "\n",
       "    .dataframe tbody tr th {\n",
       "        vertical-align: top;\n",
       "    }\n",
       "</style>\n",
       "<table border=\"1\" class=\"dataframe\">\n",
       "  <thead>\n",
       "    <tr style=\"text-align: right;\">\n",
       "      <th></th>\n",
       "      <th>DEPARTURE_TIME</th>\n",
       "    </tr>\n",
       "  </thead>\n",
       "  <tbody>\n",
       "    <tr>\n",
       "      <th>0</th>\n",
       "      <td>23:54:00</td>\n",
       "    </tr>\n",
       "    <tr>\n",
       "      <th>1</th>\n",
       "      <td>00:02:00</td>\n",
       "    </tr>\n",
       "    <tr>\n",
       "      <th>2</th>\n",
       "      <td>00:18:00</td>\n",
       "    </tr>\n",
       "    <tr>\n",
       "      <th>3</th>\n",
       "      <td>00:15:00</td>\n",
       "    </tr>\n",
       "    <tr>\n",
       "      <th>4</th>\n",
       "      <td>00:24:00</td>\n",
       "    </tr>\n",
       "    <tr>\n",
       "      <th>5</th>\n",
       "      <td>00:20:00</td>\n",
       "    </tr>\n",
       "    <tr>\n",
       "      <th>6</th>\n",
       "      <td>00:19:00</td>\n",
       "    </tr>\n",
       "    <tr>\n",
       "      <th>7</th>\n",
       "      <td>00:44:00</td>\n",
       "    </tr>\n",
       "    <tr>\n",
       "      <th>8</th>\n",
       "      <td>00:19:00</td>\n",
       "    </tr>\n",
       "    <tr>\n",
       "      <th>9</th>\n",
       "      <td>00:33:00</td>\n",
       "    </tr>\n",
       "    <tr>\n",
       "      <th>10</th>\n",
       "      <td>00:24:00</td>\n",
       "    </tr>\n",
       "    <tr>\n",
       "      <th>11</th>\n",
       "      <td>00:27:00</td>\n",
       "    </tr>\n",
       "    <tr>\n",
       "      <th>12</th>\n",
       "      <td>00:35:00</td>\n",
       "    </tr>\n",
       "    <tr>\n",
       "      <th>13</th>\n",
       "      <td>00:34:00</td>\n",
       "    </tr>\n",
       "    <tr>\n",
       "      <th>14</th>\n",
       "      <td>00:39:00</td>\n",
       "    </tr>\n",
       "    <tr>\n",
       "      <th>15</th>\n",
       "      <td>00:41:00</td>\n",
       "    </tr>\n",
       "    <tr>\n",
       "      <th>16</th>\n",
       "      <td>00:31:00</td>\n",
       "    </tr>\n",
       "    <tr>\n",
       "      <th>17</th>\n",
       "      <td>00:42:00</td>\n",
       "    </tr>\n",
       "    <tr>\n",
       "      <th>18</th>\n",
       "      <td>00:46:00</td>\n",
       "    </tr>\n",
       "    <tr>\n",
       "      <th>19</th>\n",
       "      <td>00:45:00</td>\n",
       "    </tr>\n",
       "    <tr>\n",
       "      <th>20</th>\n",
       "      <td>01:20:00</td>\n",
       "    </tr>\n",
       "    <tr>\n",
       "      <th>21</th>\n",
       "      <td>00:52:00</td>\n",
       "    </tr>\n",
       "    <tr>\n",
       "      <th>22</th>\n",
       "      <td>01:02:00</td>\n",
       "    </tr>\n",
       "    <tr>\n",
       "      <th>23</th>\n",
       "      <td>01:03:00</td>\n",
       "    </tr>\n",
       "    <tr>\n",
       "      <th>24</th>\n",
       "      <td>01:02:00</td>\n",
       "    </tr>\n",
       "    <tr>\n",
       "      <th>25</th>\n",
       "      <td>01:12:00</td>\n",
       "    </tr>\n",
       "    <tr>\n",
       "      <th>26</th>\n",
       "      <td>01:07:00</td>\n",
       "    </tr>\n",
       "    <tr>\n",
       "      <th>27</th>\n",
       "      <td>01:27:00</td>\n",
       "    </tr>\n",
       "    <tr>\n",
       "      <th>28</th>\n",
       "      <td>01:10:00</td>\n",
       "    </tr>\n",
       "    <tr>\n",
       "      <th>29</th>\n",
       "      <td>01:41:00</td>\n",
       "    </tr>\n",
       "    <tr>\n",
       "      <th>...</th>\n",
       "      <td>...</td>\n",
       "    </tr>\n",
       "    <tr>\n",
       "      <th>19529</th>\n",
       "      <td>23:57:00</td>\n",
       "    </tr>\n",
       "    <tr>\n",
       "      <th>19530</th>\n",
       "      <td>23:57:00</td>\n",
       "    </tr>\n",
       "    <tr>\n",
       "      <th>19531</th>\n",
       "      <td>00:11:00</td>\n",
       "    </tr>\n",
       "    <tr>\n",
       "      <th>19532</th>\n",
       "      <td>23:40:00</td>\n",
       "    </tr>\n",
       "    <tr>\n",
       "      <th>19533</th>\n",
       "      <td>23:55:00</td>\n",
       "    </tr>\n",
       "    <tr>\n",
       "      <th>19534</th>\n",
       "      <td>23:50:00</td>\n",
       "    </tr>\n",
       "    <tr>\n",
       "      <th>19535</th>\n",
       "      <td>23:53:00</td>\n",
       "    </tr>\n",
       "    <tr>\n",
       "      <th>19536</th>\n",
       "      <td>23:52:00</td>\n",
       "    </tr>\n",
       "    <tr>\n",
       "      <th>19537</th>\n",
       "      <td>00:11:00</td>\n",
       "    </tr>\n",
       "    <tr>\n",
       "      <th>19538</th>\n",
       "      <td>23:52:00</td>\n",
       "    </tr>\n",
       "    <tr>\n",
       "      <th>19539</th>\n",
       "      <td>23:51:00</td>\n",
       "    </tr>\n",
       "    <tr>\n",
       "      <th>19540</th>\n",
       "      <td>23:54:00</td>\n",
       "    </tr>\n",
       "    <tr>\n",
       "      <th>19541</th>\n",
       "      <td>23:56:00</td>\n",
       "    </tr>\n",
       "    <tr>\n",
       "      <th>19542</th>\n",
       "      <td>00:05:00</td>\n",
       "    </tr>\n",
       "    <tr>\n",
       "      <th>19543</th>\n",
       "      <td>00:01:00</td>\n",
       "    </tr>\n",
       "    <tr>\n",
       "      <th>19544</th>\n",
       "      <td>23:56:00</td>\n",
       "    </tr>\n",
       "    <tr>\n",
       "      <th>19545</th>\n",
       "      <td>23:52:00</td>\n",
       "    </tr>\n",
       "    <tr>\n",
       "      <th>19546</th>\n",
       "      <td>23:57:00</td>\n",
       "    </tr>\n",
       "    <tr>\n",
       "      <th>19547</th>\n",
       "      <td>23:51:00</td>\n",
       "    </tr>\n",
       "    <tr>\n",
       "      <th>19548</th>\n",
       "      <td>23:58:00</td>\n",
       "    </tr>\n",
       "    <tr>\n",
       "      <th>19549</th>\n",
       "      <td>02:38:00</td>\n",
       "    </tr>\n",
       "    <tr>\n",
       "      <th>19550</th>\n",
       "      <td>23:59:00</td>\n",
       "    </tr>\n",
       "    <tr>\n",
       "      <th>19551</th>\n",
       "      <td>00:15:00</td>\n",
       "    </tr>\n",
       "    <tr>\n",
       "      <th>19552</th>\n",
       "      <td>00:06:00</td>\n",
       "    </tr>\n",
       "    <tr>\n",
       "      <th>19553</th>\n",
       "      <td>00:15:00</td>\n",
       "    </tr>\n",
       "    <tr>\n",
       "      <th>19554</th>\n",
       "      <td>23:55:00</td>\n",
       "    </tr>\n",
       "    <tr>\n",
       "      <th>19555</th>\n",
       "      <td>23:55:00</td>\n",
       "    </tr>\n",
       "    <tr>\n",
       "      <th>19556</th>\n",
       "      <td>23:50:00</td>\n",
       "    </tr>\n",
       "    <tr>\n",
       "      <th>19557</th>\n",
       "      <td>23:53:00</td>\n",
       "    </tr>\n",
       "    <tr>\n",
       "      <th>19558</th>\n",
       "      <td>00:14:00</td>\n",
       "    </tr>\n",
       "  </tbody>\n",
       "</table>\n",
       "<p>19559 rows × 1 columns</p>\n",
       "</div>"
      ],
      "text/plain": [
       "      DEPARTURE_TIME\n",
       "0           23:54:00\n",
       "1           00:02:00\n",
       "2           00:18:00\n",
       "3           00:15:00\n",
       "4           00:24:00\n",
       "5           00:20:00\n",
       "6           00:19:00\n",
       "7           00:44:00\n",
       "8           00:19:00\n",
       "9           00:33:00\n",
       "10          00:24:00\n",
       "11          00:27:00\n",
       "12          00:35:00\n",
       "13          00:34:00\n",
       "14          00:39:00\n",
       "15          00:41:00\n",
       "16          00:31:00\n",
       "17          00:42:00\n",
       "18          00:46:00\n",
       "19          00:45:00\n",
       "20          01:20:00\n",
       "21          00:52:00\n",
       "22          01:02:00\n",
       "23          01:03:00\n",
       "24          01:02:00\n",
       "25          01:12:00\n",
       "26          01:07:00\n",
       "27          01:27:00\n",
       "28          01:10:00\n",
       "29          01:41:00\n",
       "...              ...\n",
       "19529       23:57:00\n",
       "19530       23:57:00\n",
       "19531       00:11:00\n",
       "19532       23:40:00\n",
       "19533       23:55:00\n",
       "19534       23:50:00\n",
       "19535       23:53:00\n",
       "19536       23:52:00\n",
       "19537       00:11:00\n",
       "19538       23:52:00\n",
       "19539       23:51:00\n",
       "19540       23:54:00\n",
       "19541       23:56:00\n",
       "19542       00:05:00\n",
       "19543       00:01:00\n",
       "19544       23:56:00\n",
       "19545       23:52:00\n",
       "19546       23:57:00\n",
       "19547       23:51:00\n",
       "19548       23:58:00\n",
       "19549       02:38:00\n",
       "19550       23:59:00\n",
       "19551       00:15:00\n",
       "19552       00:06:00\n",
       "19553       00:15:00\n",
       "19554       23:55:00\n",
       "19555       23:55:00\n",
       "19556       23:50:00\n",
       "19557       23:53:00\n",
       "19558       00:14:00\n",
       "\n",
       "[19559 rows x 1 columns]"
      ]
     },
     "execution_count": 27,
     "metadata": {},
     "output_type": "execute_result"
    }
   ],
   "source": [
    "x = data1['DEPARTURE_TIME'].apply(Format_Hourmin)\n",
    "#data2['Actual_Departure'] = x\n",
    "x"
   ]
  },
  {
   "cell_type": "code",
   "execution_count": 26,
   "metadata": {},
   "outputs": [
    {
     "name": "stdout",
     "output_type": "stream",
     "text": [
      "caught get []\n",
      "col_name ELAPSED_TIME\n",
      "caught get []\n",
      "col_name DISTANCE\n",
      "caught get []\n",
      "col_name (slice(None, None, None), None)\n",
      "caught get []\n",
      "col_name (slice(None, None, None), None)\n",
      "caught get []\n",
      "col_name 0\n",
      "caught get []\n",
      "col_name 0\n",
      "caught get []\n",
      "col_name (slice(None, None, None), None)\n",
      "caught get []\n",
      "col_name (slice(None, None, None), None)\n",
      "caught get []\n",
      "caught get []\n"
     ]
    },
    {
     "data": {
      "image/png": "[encoded data removed]",
      "text/plain": [
       "<Figure size 432x288 with 1 Axes>"
      ]
     },
     "metadata": {},
     "output_type": "display_data"
    }
   ],
   "source": [
    "plt.plot(data['ELAPSED_TIME'], data['DISTANCE'], '.')\n",
    "plt.show()"
   ]
  },
  {
   "cell_type": "code",
   "execution_count": 20,
   "metadata": {},
   "outputs": [
    {
     "name": "stdout",
     "output_type": "stream",
     "text": [
      "caught drop na subset (['DISTANCE', 'ARRIVAL_DELAY'],) {}\n"
     ]
    },
    {
     "data": {
      "text/plain": [
       "lazypandas.lazyDf"
      ]
     },
     "execution_count": 20,
     "metadata": {},
     "output_type": "execute_result"
    }
   ],
   "source": [
    "data = data.dropna(['DISTANCE', 'ARRIVAL_DELAY'])\n",
    "type(a)"
   ]
  },
  {
   "cell_type": "code",
   "execution_count": 21,
   "metadata": {},
   "outputs": [
    {
     "name": "stdout",
     "output_type": "stream",
     "text": [
      "caught get []\n",
      "col_name DISTANCE\n",
      "caught get []\n",
      "col_name ARRIVAL_DELAY\n"
     ]
    },
    {
     "data": {
      "image/png": "[encoded data removed]",
      "text/plain": [
       "<Figure size 432x288 with 1 Axes>"
      ]
     },
     "metadata": {},
     "output_type": "display_data"
    }
   ],
   "source": [
    "x = data['DISTANCE'].to_pd().values.flatten()\n",
    "y = data['ARRIVAL_DELAY'].to_pd().values.flatten()\n",
    "\n",
    "heatmap, xedges, yedges = np.histogram2d(x, y, bins=16)\n",
    "plt.imshow(heatmap.T, origin='lower')\n",
    "plt.show()"
   ]
  },
  {
   "cell_type": "code",
   "execution_count": null,
   "metadata": {},
   "outputs": [],
   "source": [
    "a = data['DISTANCE']\n",
    "a.generate_stack()"
   ]
  },
  {
   "cell_type": "code",
   "execution_count": null,
   "metadata": {},
   "outputs": [],
   "source": [
    "from util import csvToDb, out_to_pd\n",
    "out = data.execute('select min(AIRLINE_DELAY) from red_flights')\n",
    "print(out.description[0])\n",
    "out.fetchone()\n",
    "#data.dotted_datatype"
   ]
  },
  {
   "cell_type": "code",
   "execution_count": null,
   "metadata": {
    "scrolled": true
   },
   "outputs": [],
   "source": [
    "a = data.to_pd()\n",
    "a.describe()"
   ]
  },
  {
   "cell_type": "code",
   "execution_count": null,
   "metadata": {},
   "outputs": [],
   "source": [
    "flights.info()"
   ]
  },
  {
   "cell_type": "code",
   "execution_count": null,
   "metadata": {},
   "outputs": [],
   "source": [
    "a = data.DAG.nodes[0].generate_stack()"
   ]
  },
  {
   "cell_type": "code",
   "execution_count": null,
   "metadata": {},
   "outputs": [],
   "source": [
    "boh, index = np.unique(a.select_stack, return_inverse=True)\n",
    "boh, boh[index]"
   ]
  },
  {
   "cell_type": "code",
   "execution_count": null,
   "metadata": {},
   "outputs": [],
   "source": [
    "a.select_stack"
   ]
  },
  {
   "cell_type": "code",
   "execution_count": null,
   "metadata": {
    "collapsed": true
   },
   "outputs": [],
   "source": []
  }
 ],
 "metadata": {
  "kernelspec": {
   "display_name": "Python 3",
   "language": "python",
   "name": "python3"
  },
  "language_info": {
   "codemirror_mode": {
    "name": "ipython",
    "version": 3
   },
   "file_extension": ".py",
   "mimetype": "text/x-python",
   "name": "python",
   "nbconvert_exporter": "python",
   "pygments_lexer": "ipython3",
   "version": "3.6.7"
  }
 },
 "nbformat": 4,
 "nbformat_minor": 2
}

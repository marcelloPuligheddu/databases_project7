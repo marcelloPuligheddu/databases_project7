{
 "cells": [
  {
   "cell_type": "code",
   "execution_count": 1,
   "metadata": {
    "collapsed": true
   },
   "outputs": [],
   "source": [
    "import numpy as np\n",
    "import random\n",
    "import csv, sqlite3\n",
    "import logging\n",
    "import cProfile\n",
    "import lazypandas\n",
    "import matplotlib.pyplot as plt\n",
    "import datetime, scipy \n",
    "import datetime, warnings, scipy \n",
    "import pandas as pd\n",
    "import numpy as np\n",
    "import seaborn as sns"
   ]
  },
  {
   "cell_type": "code",
   "execution_count": 2,
   "metadata": {},
   "outputs": [
    {
     "name": "stdout",
     "output_type": "stream",
     "text": [
      "LZ Creating engine\n"
     ]
    }
   ],
   "source": [
    "lz = lazypandas.lazy_pandas()"
   ]
  },
  {
   "cell_type": "code",
   "execution_count": 3,
   "metadata": {},
   "outputs": [
    {
     "name": "stdout",
     "output_type": "stream",
     "text": [
      "table name airlines\n",
      "new_stack\n",
      "139628822623456\n",
      "new lzpd stack {'airlines': ['IATA_CODE', 'AIRLINE', 'auto_index']} select airlines.IATA_CODE, airlines.AIRLINE, airlines.auto_index\n",
      "from airlines\n",
      "\n",
      "table name airports\n",
      "new_stack\n",
      "139628776829112\n",
      "new lzpd stack {'airports': ['IATA_CODE', 'AIRPORT', 'CITY', 'STATE', 'COUNTRY', 'LATITUDE', 'LONGITUDE', 'auto_index']} select airports.IATA_CODE, airports.AIRPORT, airports.CITY, airports.STATE, airports.COUNTRY, airports.LATITUDE, airports.LONGITUDE, airports.auto_index\n",
      "from airports\n",
      "\n",
      "table name red_flights\n",
      "new_stack\n",
      "139628776917984\n",
      "new lzpd stack {'red_flights': ['YEAR', 'MONTH', 'DAY', 'DAY_OF_WEEK', 'AIRLINE', 'FLIGHT_NUMBER', 'TAIL_NUMBER', 'ORIGIN_AIRPORT', 'DESTINATION_AIRPORT', 'SCHEDULED_DEPARTURE', 'DEPARTURE_TIME', 'DEPARTURE_DELAY', 'TAXI_OUT', 'WHEELS_OFF', 'SCHEDULED_TIME', 'ELAPSED_TIME', 'AIR_TIME', 'DISTANCE', 'WHEELS_ON', 'TAXI_IN', 'SCHEDULED_ARRIVAL', 'ARRIVAL_TIME', 'ARRIVAL_DELAY', 'DIVERTED', 'CANCELLED', 'CANCELLATION_REASON', 'AIR_SYSTEM_DELAY', 'SECURITY_DELAY', 'AIRLINE_DELAY', 'LATE_AIRCRAFT_DELAY', 'WEATHER_DELAY', 'auto_index']} select red_flights.YEAR, red_flights.MONTH, red_flights.DAY, red_flights.DAY_OF_WEEK, red_flights.AIRLINE, red_flights.FLIGHT_NUMBER, red_flights.TAIL_NUMBER, red_flights.ORIGIN_AIRPORT, red_flights.DESTINATION_AIRPORT, red_flights.SCHEDULED_DEPARTURE, red_flights.DEPARTURE_TIME, red_flights.DEPARTURE_DELAY, red_flights.TAXI_OUT, red_flights.WHEELS_OFF, red_flights.SCHEDULED_TIME, red_flights.ELAPSED_TIME, red_flights.AIR_TIME, red_flights.DISTANCE, red_flights.WHEELS_ON, red_flights.TAXI_IN, red_flights.SCHEDULED_ARRIVAL, red_flights.ARRIVAL_TIME, red_flights.ARRIVAL_DELAY, red_flights.DIVERTED, red_flights.CANCELLED, red_flights.CANCELLATION_REASON, red_flights.AIR_SYSTEM_DELAY, red_flights.SECURITY_DELAY, red_flights.AIRLINE_DELAY, red_flights.LATE_AIRCRAFT_DELAY, red_flights.WEATHER_DELAY, red_flights.auto_index\n",
      "from red_flights\n",
      "\n"
     ]
    }
   ],
   "source": [
    "airlines = lz.read_csv('../dot/airlines.csv')\n",
    "airport = lz.read_csv('../dot/airports.csv')\n",
    "data  = lz.read_csv('../dot/red_flights.csv')"
   ]
  },
  {
   "cell_type": "code",
   "execution_count": 4,
   "metadata": {},
   "outputs": [
    {
     "name": "stdout",
     "output_type": "stream",
     "text": [
      "lazyDataFrame\n",
      "tables\n",
      "  red_flights :\n",
      "    YEAR : REAL\n",
      "    MONTH : REAL\n",
      "    DAY : REAL\n",
      "    DAY_OF_WEEK : REAL\n",
      "    AIRLINE : TEXT\n",
      "    FLIGHT_NUMBER : REAL\n",
      "    TAIL_NUMBER : TEXT\n",
      "    ORIGIN_AIRPORT : TEXT\n",
      "    DESTINATION_AIRPORT : TEXT\n",
      "    SCHEDULED_DEPARTURE : REAL\n",
      "    DEPARTURE_TIME : REAL\n",
      "    DEPARTURE_DELAY : REAL\n",
      "    TAXI_OUT : REAL\n",
      "    WHEELS_OFF : REAL\n",
      "    SCHEDULED_TIME : REAL\n",
      "    ELAPSED_TIME : REAL\n",
      "    AIR_TIME : REAL\n",
      "    DISTANCE : REAL\n",
      "    WHEELS_ON : REAL\n",
      "    TAXI_IN : REAL\n",
      "    SCHEDULED_ARRIVAL : REAL\n",
      "    ARRIVAL_TIME : REAL\n",
      "    ARRIVAL_DELAY : REAL\n",
      "    DIVERTED : REAL\n",
      "    CANCELLED : REAL\n",
      "    CANCELLATION_REASON : TEXT\n",
      "    AIR_SYSTEM_DELAY : REAL\n",
      "    SECURITY_DELAY : REAL\n",
      "    AIRLINE_DELAY : REAL\n",
      "    LATE_AIRCRAFT_DELAY : REAL\n",
      "    WEATHER_DELAY : REAL\n",
      "    auto_index : INTEGER\n",
      "\n"
     ]
    }
   ],
   "source": [
    "data.info()"
   ]
  },
  {
   "cell_type": "code",
   "execution_count": 5,
   "metadata": {},
   "outputs": [
    {
     "data": {
      "text/plain": [
       "(99999, 32)"
      ]
     },
     "execution_count": 5,
     "metadata": {},
     "output_type": "execute_result"
    }
   ],
   "source": [
    "data.shape"
   ]
  },
  {
   "cell_type": "code",
   "execution_count": 6,
   "metadata": {},
   "outputs": [
    {
     "data": {
      "text/html": [
       "<div>\n",
       "<style>\n",
       "    .dataframe thead tr:only-child th {\n",
       "        text-align: right;\n",
       "    }\n",
       "\n",
       "    .dataframe thead th {\n",
       "        text-align: left;\n",
       "    }\n",
       "\n",
       "    .dataframe tbody tr th {\n",
       "        vertical-align: top;\n",
       "    }\n",
       "</style>\n",
       "<table border=\"1\" class=\"dataframe\">\n",
       "  <thead>\n",
       "    <tr style=\"text-align: right;\">\n",
       "      <th></th>\n",
       "      <th>YEAR</th>\n",
       "      <th>MONTH</th>\n",
       "      <th>DAY</th>\n",
       "      <th>DAY_OF_WEEK</th>\n",
       "      <th>FLIGHT_NUMBER</th>\n",
       "      <th>SCHEDULED_DEPARTURE</th>\n",
       "      <th>DEPARTURE_TIME</th>\n",
       "      <th>DEPARTURE_DELAY</th>\n",
       "      <th>TAXI_OUT</th>\n",
       "      <th>WHEELS_OFF</th>\n",
       "      <th>...</th>\n",
       "      <th>ARRIVAL_TIME</th>\n",
       "      <th>ARRIVAL_DELAY</th>\n",
       "      <th>DIVERTED</th>\n",
       "      <th>CANCELLED</th>\n",
       "      <th>AIR_SYSTEM_DELAY</th>\n",
       "      <th>SECURITY_DELAY</th>\n",
       "      <th>AIRLINE_DELAY</th>\n",
       "      <th>LATE_AIRCRAFT_DELAY</th>\n",
       "      <th>WEATHER_DELAY</th>\n",
       "      <th>auto_index</th>\n",
       "    </tr>\n",
       "  </thead>\n",
       "  <tbody>\n",
       "    <tr>\n",
       "      <th>count</th>\n",
       "      <td>99999.0</td>\n",
       "      <td>99999.0</td>\n",
       "      <td>99999.000000</td>\n",
       "      <td>99999.000000</td>\n",
       "      <td>99999.000000</td>\n",
       "      <td>99999.000000</td>\n",
       "      <td>97701.000000</td>\n",
       "      <td>97701.000000</td>\n",
       "      <td>97628.000000</td>\n",
       "      <td>97628.000000</td>\n",
       "      <td>...</td>\n",
       "      <td>97559.000000</td>\n",
       "      <td>97386.000000</td>\n",
       "      <td>99999.000000</td>\n",
       "      <td>99999.000000</td>\n",
       "      <td>34625.000000</td>\n",
       "      <td>34625.000000</td>\n",
       "      <td>34625.000000</td>\n",
       "      <td>34625.000000</td>\n",
       "      <td>34625.000000</td>\n",
       "      <td>99999.000000</td>\n",
       "    </tr>\n",
       "    <tr>\n",
       "      <th>mean</th>\n",
       "      <td>2015.0</td>\n",
       "      <td>1.0</td>\n",
       "      <td>3.733887</td>\n",
       "      <td>4.107321</td>\n",
       "      <td>2240.849648</td>\n",
       "      <td>1306.350254</td>\n",
       "      <td>1326.267930</td>\n",
       "      <td>19.938046</td>\n",
       "      <td>17.155908</td>\n",
       "      <td>1348.428514</td>\n",
       "      <td>...</td>\n",
       "      <td>1458.032442</td>\n",
       "      <td>18.342575</td>\n",
       "      <td>0.002240</td>\n",
       "      <td>0.023890</td>\n",
       "      <td>14.026801</td>\n",
       "      <td>0.070787</td>\n",
       "      <td>17.853921</td>\n",
       "      <td>26.014556</td>\n",
       "      <td>2.751971</td>\n",
       "      <td>49999.000000</td>\n",
       "    </tr>\n",
       "    <tr>\n",
       "      <th>std</th>\n",
       "      <td>0.0</td>\n",
       "      <td>0.0</td>\n",
       "      <td>1.815522</td>\n",
       "      <td>2.098459</td>\n",
       "      <td>1818.708843</td>\n",
       "      <td>482.327514</td>\n",
       "      <td>503.511173</td>\n",
       "      <td>45.843719</td>\n",
       "      <td>10.738428</td>\n",
       "      <td>504.144849</td>\n",
       "      <td>...</td>\n",
       "      <td>538.213952</td>\n",
       "      <td>48.878412</td>\n",
       "      <td>0.047276</td>\n",
       "      <td>0.152708</td>\n",
       "      <td>25.965405</td>\n",
       "      <td>1.692526</td>\n",
       "      <td>43.527539</td>\n",
       "      <td>42.593343</td>\n",
       "      <td>17.265760</td>\n",
       "      <td>28867.369122</td>\n",
       "    </tr>\n",
       "    <tr>\n",
       "      <th>min</th>\n",
       "      <td>2015.0</td>\n",
       "      <td>1.0</td>\n",
       "      <td>1.000000</td>\n",
       "      <td>1.000000</td>\n",
       "      <td>1.000000</td>\n",
       "      <td>5.000000</td>\n",
       "      <td>1.000000</td>\n",
       "      <td>-39.000000</td>\n",
       "      <td>1.000000</td>\n",
       "      <td>1.000000</td>\n",
       "      <td>...</td>\n",
       "      <td>1.000000</td>\n",
       "      <td>-65.000000</td>\n",
       "      <td>0.000000</td>\n",
       "      <td>0.000000</td>\n",
       "      <td>0.000000</td>\n",
       "      <td>0.000000</td>\n",
       "      <td>0.000000</td>\n",
       "      <td>0.000000</td>\n",
       "      <td>0.000000</td>\n",
       "      <td>0.000000</td>\n",
       "    </tr>\n",
       "    <tr>\n",
       "      <th>25%</th>\n",
       "      <td>2015.0</td>\n",
       "      <td>1.0</td>\n",
       "      <td>2.000000</td>\n",
       "      <td>2.000000</td>\n",
       "      <td>759.000000</td>\n",
       "      <td>904.000000</td>\n",
       "      <td>911.000000</td>\n",
       "      <td>-3.000000</td>\n",
       "      <td>11.000000</td>\n",
       "      <td>928.000000</td>\n",
       "      <td>...</td>\n",
       "      <td>1050.000000</td>\n",
       "      <td>-8.000000</td>\n",
       "      <td>0.000000</td>\n",
       "      <td>0.000000</td>\n",
       "      <td>0.000000</td>\n",
       "      <td>0.000000</td>\n",
       "      <td>0.000000</td>\n",
       "      <td>0.000000</td>\n",
       "      <td>0.000000</td>\n",
       "      <td>24999.500000</td>\n",
       "    </tr>\n",
       "    <tr>\n",
       "      <th>50%</th>\n",
       "      <td>2015.0</td>\n",
       "      <td>1.0</td>\n",
       "      <td>4.000000</td>\n",
       "      <td>4.000000</td>\n",
       "      <td>1693.000000</td>\n",
       "      <td>1300.000000</td>\n",
       "      <td>1317.000000</td>\n",
       "      <td>3.000000</td>\n",
       "      <td>14.000000</td>\n",
       "      <td>1330.000000</td>\n",
       "      <td>...</td>\n",
       "      <td>1455.000000</td>\n",
       "      <td>4.000000</td>\n",
       "      <td>0.000000</td>\n",
       "      <td>0.000000</td>\n",
       "      <td>4.000000</td>\n",
       "      <td>0.000000</td>\n",
       "      <td>4.000000</td>\n",
       "      <td>10.000000</td>\n",
       "      <td>0.000000</td>\n",
       "      <td>49999.000000</td>\n",
       "    </tr>\n",
       "    <tr>\n",
       "      <th>75%</th>\n",
       "      <td>2015.0</td>\n",
       "      <td>1.0</td>\n",
       "      <td>5.000000</td>\n",
       "      <td>6.000000</td>\n",
       "      <td>3394.000000</td>\n",
       "      <td>1720.000000</td>\n",
       "      <td>1739.000000</td>\n",
       "      <td>25.000000</td>\n",
       "      <td>20.000000</td>\n",
       "      <td>1753.000000</td>\n",
       "      <td>...</td>\n",
       "      <td>1911.000000</td>\n",
       "      <td>27.000000</td>\n",
       "      <td>0.000000</td>\n",
       "      <td>0.000000</td>\n",
       "      <td>19.000000</td>\n",
       "      <td>0.000000</td>\n",
       "      <td>19.000000</td>\n",
       "      <td>35.000000</td>\n",
       "      <td>0.000000</td>\n",
       "      <td>74998.500000</td>\n",
       "    </tr>\n",
       "    <tr>\n",
       "      <th>max</th>\n",
       "      <td>2015.0</td>\n",
       "      <td>1.0</td>\n",
       "      <td>7.000000</td>\n",
       "      <td>7.000000</td>\n",
       "      <td>7438.000000</td>\n",
       "      <td>2359.000000</td>\n",
       "      <td>2400.000000</td>\n",
       "      <td>1380.000000</td>\n",
       "      <td>176.000000</td>\n",
       "      <td>2400.000000</td>\n",
       "      <td>...</td>\n",
       "      <td>2400.000000</td>\n",
       "      <td>1384.000000</td>\n",
       "      <td>1.000000</td>\n",
       "      <td>1.000000</td>\n",
       "      <td>590.000000</td>\n",
       "      <td>107.000000</td>\n",
       "      <td>1380.000000</td>\n",
       "      <td>891.000000</td>\n",
       "      <td>562.000000</td>\n",
       "      <td>99998.000000</td>\n",
       "    </tr>\n",
       "  </tbody>\n",
       "</table>\n",
       "<p>8 rows × 27 columns</p>\n",
       "</div>"
      ],
      "text/plain": [
       "          YEAR    MONTH           DAY   DAY_OF_WEEK  FLIGHT_NUMBER  \\\n",
       "count  99999.0  99999.0  99999.000000  99999.000000   99999.000000   \n",
       "mean    2015.0      1.0      3.733887      4.107321    2240.849648   \n",
       "std        0.0      0.0      1.815522      2.098459    1818.708843   \n",
       "min     2015.0      1.0      1.000000      1.000000       1.000000   \n",
       "25%     2015.0      1.0      2.000000      2.000000     759.000000   \n",
       "50%     2015.0      1.0      4.000000      4.000000    1693.000000   \n",
       "75%     2015.0      1.0      5.000000      6.000000    3394.000000   \n",
       "max     2015.0      1.0      7.000000      7.000000    7438.000000   \n",
       "\n",
       "       SCHEDULED_DEPARTURE  DEPARTURE_TIME  DEPARTURE_DELAY      TAXI_OUT  \\\n",
       "count         99999.000000    97701.000000     97701.000000  97628.000000   \n",
       "mean           1306.350254     1326.267930        19.938046     17.155908   \n",
       "std             482.327514      503.511173        45.843719     10.738428   \n",
       "min               5.000000        1.000000       -39.000000      1.000000   \n",
       "25%             904.000000      911.000000        -3.000000     11.000000   \n",
       "50%            1300.000000     1317.000000         3.000000     14.000000   \n",
       "75%            1720.000000     1739.000000        25.000000     20.000000   \n",
       "max            2359.000000     2400.000000      1380.000000    176.000000   \n",
       "\n",
       "         WHEELS_OFF      ...       ARRIVAL_TIME  ARRIVAL_DELAY      DIVERTED  \\\n",
       "count  97628.000000      ...       97559.000000   97386.000000  99999.000000   \n",
       "mean    1348.428514      ...        1458.032442      18.342575      0.002240   \n",
       "std      504.144849      ...         538.213952      48.878412      0.047276   \n",
       "min        1.000000      ...           1.000000     -65.000000      0.000000   \n",
       "25%      928.000000      ...        1050.000000      -8.000000      0.000000   \n",
       "50%     1330.000000      ...        1455.000000       4.000000      0.000000   \n",
       "75%     1753.000000      ...        1911.000000      27.000000      0.000000   \n",
       "max     2400.000000      ...        2400.000000    1384.000000      1.000000   \n",
       "\n",
       "          CANCELLED  AIR_SYSTEM_DELAY  SECURITY_DELAY  AIRLINE_DELAY  \\\n",
       "count  99999.000000      34625.000000    34625.000000   34625.000000   \n",
       "mean       0.023890         14.026801        0.070787      17.853921   \n",
       "std        0.152708         25.965405        1.692526      43.527539   \n",
       "min        0.000000          0.000000        0.000000       0.000000   \n",
       "25%        0.000000          0.000000        0.000000       0.000000   \n",
       "50%        0.000000          4.000000        0.000000       4.000000   \n",
       "75%        0.000000         19.000000        0.000000      19.000000   \n",
       "max        1.000000        590.000000      107.000000    1380.000000   \n",
       "\n",
       "       LATE_AIRCRAFT_DELAY  WEATHER_DELAY    auto_index  \n",
       "count         34625.000000   34625.000000  99999.000000  \n",
       "mean             26.014556       2.751971  49999.000000  \n",
       "std              42.593343      17.265760  28867.369122  \n",
       "min               0.000000       0.000000      0.000000  \n",
       "25%               0.000000       0.000000  24999.500000  \n",
       "50%              10.000000       0.000000  49999.000000  \n",
       "75%              35.000000       0.000000  74998.500000  \n",
       "max             891.000000     562.000000  99998.000000  \n",
       "\n",
       "[8 rows x 27 columns]"
      ]
     },
     "execution_count": 6,
     "metadata": {},
     "output_type": "execute_result"
    }
   ],
   "source": [
    "data.describe()"
   ]
  },
  {
   "cell_type": "code",
   "execution_count": 7,
   "metadata": {},
   "outputs": [
    {
     "data": {
      "text/html": [
       "<div>\n",
       "<style>\n",
       "    .dataframe thead tr:only-child th {\n",
       "        text-align: right;\n",
       "    }\n",
       "\n",
       "    .dataframe thead th {\n",
       "        text-align: left;\n",
       "    }\n",
       "\n",
       "    .dataframe tbody tr th {\n",
       "        vertical-align: top;\n",
       "    }\n",
       "</style>\n",
       "<table border=\"1\" class=\"dataframe\">\n",
       "  <thead>\n",
       "    <tr style=\"text-align: right;\">\n",
       "      <th></th>\n",
       "      <th>YEAR</th>\n",
       "      <th>MONTH</th>\n",
       "      <th>DAY</th>\n",
       "      <th>DAY_OF_WEEK</th>\n",
       "      <th>AIRLINE</th>\n",
       "      <th>FLIGHT_NUMBER</th>\n",
       "      <th>TAIL_NUMBER</th>\n",
       "      <th>ORIGIN_AIRPORT</th>\n",
       "      <th>DESTINATION_AIRPORT</th>\n",
       "      <th>SCHEDULED_DEPARTURE</th>\n",
       "      <th>...</th>\n",
       "      <th>ARRIVAL_DELAY</th>\n",
       "      <th>DIVERTED</th>\n",
       "      <th>CANCELLED</th>\n",
       "      <th>CANCELLATION_REASON</th>\n",
       "      <th>AIR_SYSTEM_DELAY</th>\n",
       "      <th>SECURITY_DELAY</th>\n",
       "      <th>AIRLINE_DELAY</th>\n",
       "      <th>LATE_AIRCRAFT_DELAY</th>\n",
       "      <th>WEATHER_DELAY</th>\n",
       "      <th>auto_index</th>\n",
       "    </tr>\n",
       "  </thead>\n",
       "  <tbody>\n",
       "    <tr>\n",
       "      <th>0</th>\n",
       "      <td>2015</td>\n",
       "      <td>1</td>\n",
       "      <td>1</td>\n",
       "      <td>4</td>\n",
       "      <td>AS</td>\n",
       "      <td>98</td>\n",
       "      <td>N407AS</td>\n",
       "      <td>ANC</td>\n",
       "      <td>SEA</td>\n",
       "      <td>5</td>\n",
       "      <td>...</td>\n",
       "      <td>-22.0</td>\n",
       "      <td>0</td>\n",
       "      <td>0</td>\n",
       "      <td>None</td>\n",
       "      <td>None</td>\n",
       "      <td>None</td>\n",
       "      <td>None</td>\n",
       "      <td>None</td>\n",
       "      <td>None</td>\n",
       "      <td>0</td>\n",
       "    </tr>\n",
       "    <tr>\n",
       "      <th>1</th>\n",
       "      <td>2015</td>\n",
       "      <td>1</td>\n",
       "      <td>1</td>\n",
       "      <td>4</td>\n",
       "      <td>AA</td>\n",
       "      <td>2336</td>\n",
       "      <td>N3KUAA</td>\n",
       "      <td>LAX</td>\n",
       "      <td>PBI</td>\n",
       "      <td>10</td>\n",
       "      <td>...</td>\n",
       "      <td>-9.0</td>\n",
       "      <td>0</td>\n",
       "      <td>0</td>\n",
       "      <td>None</td>\n",
       "      <td>None</td>\n",
       "      <td>None</td>\n",
       "      <td>None</td>\n",
       "      <td>None</td>\n",
       "      <td>None</td>\n",
       "      <td>1</td>\n",
       "    </tr>\n",
       "    <tr>\n",
       "      <th>2</th>\n",
       "      <td>2015</td>\n",
       "      <td>1</td>\n",
       "      <td>1</td>\n",
       "      <td>4</td>\n",
       "      <td>US</td>\n",
       "      <td>840</td>\n",
       "      <td>N171US</td>\n",
       "      <td>SFO</td>\n",
       "      <td>CLT</td>\n",
       "      <td>20</td>\n",
       "      <td>...</td>\n",
       "      <td>5.0</td>\n",
       "      <td>0</td>\n",
       "      <td>0</td>\n",
       "      <td>None</td>\n",
       "      <td>None</td>\n",
       "      <td>None</td>\n",
       "      <td>None</td>\n",
       "      <td>None</td>\n",
       "      <td>None</td>\n",
       "      <td>2</td>\n",
       "    </tr>\n",
       "    <tr>\n",
       "      <th>3</th>\n",
       "      <td>2015</td>\n",
       "      <td>1</td>\n",
       "      <td>1</td>\n",
       "      <td>4</td>\n",
       "      <td>AA</td>\n",
       "      <td>258</td>\n",
       "      <td>N3HYAA</td>\n",
       "      <td>LAX</td>\n",
       "      <td>MIA</td>\n",
       "      <td>20</td>\n",
       "      <td>...</td>\n",
       "      <td>-9.0</td>\n",
       "      <td>0</td>\n",
       "      <td>0</td>\n",
       "      <td>None</td>\n",
       "      <td>None</td>\n",
       "      <td>None</td>\n",
       "      <td>None</td>\n",
       "      <td>None</td>\n",
       "      <td>None</td>\n",
       "      <td>3</td>\n",
       "    </tr>\n",
       "    <tr>\n",
       "      <th>4</th>\n",
       "      <td>2015</td>\n",
       "      <td>1</td>\n",
       "      <td>1</td>\n",
       "      <td>4</td>\n",
       "      <td>AS</td>\n",
       "      <td>135</td>\n",
       "      <td>N527AS</td>\n",
       "      <td>SEA</td>\n",
       "      <td>ANC</td>\n",
       "      <td>25</td>\n",
       "      <td>...</td>\n",
       "      <td>-21.0</td>\n",
       "      <td>0</td>\n",
       "      <td>0</td>\n",
       "      <td>None</td>\n",
       "      <td>None</td>\n",
       "      <td>None</td>\n",
       "      <td>None</td>\n",
       "      <td>None</td>\n",
       "      <td>None</td>\n",
       "      <td>4</td>\n",
       "    </tr>\n",
       "  </tbody>\n",
       "</table>\n",
       "<p>5 rows × 32 columns</p>\n",
       "</div>"
      ],
      "text/plain": [
       "   YEAR  MONTH  DAY  DAY_OF_WEEK AIRLINE  FLIGHT_NUMBER TAIL_NUMBER  \\\n",
       "0  2015      1    1            4      AS             98      N407AS   \n",
       "1  2015      1    1            4      AA           2336      N3KUAA   \n",
       "2  2015      1    1            4      US            840      N171US   \n",
       "3  2015      1    1            4      AA            258      N3HYAA   \n",
       "4  2015      1    1            4      AS            135      N527AS   \n",
       "\n",
       "  ORIGIN_AIRPORT DESTINATION_AIRPORT  SCHEDULED_DEPARTURE     ...      \\\n",
       "0            ANC                 SEA                    5     ...       \n",
       "1            LAX                 PBI                   10     ...       \n",
       "2            SFO                 CLT                   20     ...       \n",
       "3            LAX                 MIA                   20     ...       \n",
       "4            SEA                 ANC                   25     ...       \n",
       "\n",
       "   ARRIVAL_DELAY  DIVERTED  CANCELLED  CANCELLATION_REASON  AIR_SYSTEM_DELAY  \\\n",
       "0          -22.0         0          0                 None              None   \n",
       "1           -9.0         0          0                 None              None   \n",
       "2            5.0         0          0                 None              None   \n",
       "3           -9.0         0          0                 None              None   \n",
       "4          -21.0         0          0                 None              None   \n",
       "\n",
       "   SECURITY_DELAY  AIRLINE_DELAY  LATE_AIRCRAFT_DELAY  WEATHER_DELAY  \\\n",
       "0            None           None                 None           None   \n",
       "1            None           None                 None           None   \n",
       "2            None           None                 None           None   \n",
       "3            None           None                 None           None   \n",
       "4            None           None                 None           None   \n",
       "\n",
       "   auto_index  \n",
       "0           0  \n",
       "1           1  \n",
       "2           2  \n",
       "3           3  \n",
       "4           4  \n",
       "\n",
       "[5 rows x 32 columns]"
      ]
     },
     "execution_count": 7,
     "metadata": {},
     "output_type": "execute_result"
    }
   ],
   "source": [
    "data.head()"
   ]
  },
  {
   "cell_type": "code",
   "execution_count": 8,
   "metadata": {},
   "outputs": [
    {
     "data": {
      "text/html": [
       "<div>\n",
       "<style>\n",
       "    .dataframe thead tr:only-child th {\n",
       "        text-align: right;\n",
       "    }\n",
       "\n",
       "    .dataframe thead th {\n",
       "        text-align: left;\n",
       "    }\n",
       "\n",
       "    .dataframe tbody tr th {\n",
       "        vertical-align: top;\n",
       "    }\n",
       "</style>\n",
       "<table border=\"1\" class=\"dataframe\">\n",
       "  <thead>\n",
       "    <tr style=\"text-align: right;\">\n",
       "      <th></th>\n",
       "      <th>YEAR</th>\n",
       "      <th>MONTH</th>\n",
       "      <th>DAY</th>\n",
       "      <th>DAY_OF_WEEK</th>\n",
       "      <th>AIRLINE</th>\n",
       "      <th>FLIGHT_NUMBER</th>\n",
       "      <th>TAIL_NUMBER</th>\n",
       "      <th>ORIGIN_AIRPORT</th>\n",
       "      <th>DESTINATION_AIRPORT</th>\n",
       "      <th>SCHEDULED_DEPARTURE</th>\n",
       "      <th>...</th>\n",
       "      <th>ARRIVAL_DELAY</th>\n",
       "      <th>DIVERTED</th>\n",
       "      <th>CANCELLED</th>\n",
       "      <th>CANCELLATION_REASON</th>\n",
       "      <th>AIR_SYSTEM_DELAY</th>\n",
       "      <th>SECURITY_DELAY</th>\n",
       "      <th>AIRLINE_DELAY</th>\n",
       "      <th>LATE_AIRCRAFT_DELAY</th>\n",
       "      <th>WEATHER_DELAY</th>\n",
       "      <th>auto_index</th>\n",
       "    </tr>\n",
       "  </thead>\n",
       "  <tbody>\n",
       "    <tr>\n",
       "      <th>0</th>\n",
       "      <td>2015</td>\n",
       "      <td>1</td>\n",
       "      <td>7</td>\n",
       "      <td>3</td>\n",
       "      <td>UA</td>\n",
       "      <td>1135</td>\n",
       "      <td>N38473</td>\n",
       "      <td>ORD</td>\n",
       "      <td>MCO</td>\n",
       "      <td>1109</td>\n",
       "      <td>...</td>\n",
       "      <td>-1.0</td>\n",
       "      <td>0</td>\n",
       "      <td>0</td>\n",
       "      <td>None</td>\n",
       "      <td>None</td>\n",
       "      <td>None</td>\n",
       "      <td>None</td>\n",
       "      <td>None</td>\n",
       "      <td>None</td>\n",
       "      <td>99998</td>\n",
       "    </tr>\n",
       "    <tr>\n",
       "      <th>1</th>\n",
       "      <td>2015</td>\n",
       "      <td>1</td>\n",
       "      <td>7</td>\n",
       "      <td>3</td>\n",
       "      <td>OO</td>\n",
       "      <td>5606</td>\n",
       "      <td>N582SW</td>\n",
       "      <td>SFO</td>\n",
       "      <td>BFL</td>\n",
       "      <td>1108</td>\n",
       "      <td>...</td>\n",
       "      <td>7.0</td>\n",
       "      <td>0</td>\n",
       "      <td>0</td>\n",
       "      <td>None</td>\n",
       "      <td>None</td>\n",
       "      <td>None</td>\n",
       "      <td>None</td>\n",
       "      <td>None</td>\n",
       "      <td>None</td>\n",
       "      <td>99997</td>\n",
       "    </tr>\n",
       "    <tr>\n",
       "      <th>2</th>\n",
       "      <td>2015</td>\n",
       "      <td>1</td>\n",
       "      <td>7</td>\n",
       "      <td>3</td>\n",
       "      <td>NK</td>\n",
       "      <td>394</td>\n",
       "      <td>N522NK</td>\n",
       "      <td>LAS</td>\n",
       "      <td>PHL</td>\n",
       "      <td>1108</td>\n",
       "      <td>...</td>\n",
       "      <td>2.0</td>\n",
       "      <td>0</td>\n",
       "      <td>0</td>\n",
       "      <td>None</td>\n",
       "      <td>None</td>\n",
       "      <td>None</td>\n",
       "      <td>None</td>\n",
       "      <td>None</td>\n",
       "      <td>None</td>\n",
       "      <td>99996</td>\n",
       "    </tr>\n",
       "    <tr>\n",
       "      <th>3</th>\n",
       "      <td>2015</td>\n",
       "      <td>1</td>\n",
       "      <td>7</td>\n",
       "      <td>3</td>\n",
       "      <td>EV</td>\n",
       "      <td>4992</td>\n",
       "      <td>N837AS</td>\n",
       "      <td>ATL</td>\n",
       "      <td>BQK</td>\n",
       "      <td>1108</td>\n",
       "      <td>...</td>\n",
       "      <td>-11.0</td>\n",
       "      <td>0</td>\n",
       "      <td>0</td>\n",
       "      <td>None</td>\n",
       "      <td>None</td>\n",
       "      <td>None</td>\n",
       "      <td>None</td>\n",
       "      <td>None</td>\n",
       "      <td>None</td>\n",
       "      <td>99995</td>\n",
       "    </tr>\n",
       "    <tr>\n",
       "      <th>4</th>\n",
       "      <td>2015</td>\n",
       "      <td>1</td>\n",
       "      <td>7</td>\n",
       "      <td>3</td>\n",
       "      <td>OO</td>\n",
       "      <td>4774</td>\n",
       "      <td>N463SW</td>\n",
       "      <td>SLC</td>\n",
       "      <td>PSC</td>\n",
       "      <td>1107</td>\n",
       "      <td>...</td>\n",
       "      <td>-4.0</td>\n",
       "      <td>0</td>\n",
       "      <td>0</td>\n",
       "      <td>None</td>\n",
       "      <td>None</td>\n",
       "      <td>None</td>\n",
       "      <td>None</td>\n",
       "      <td>None</td>\n",
       "      <td>None</td>\n",
       "      <td>99994</td>\n",
       "    </tr>\n",
       "  </tbody>\n",
       "</table>\n",
       "<p>5 rows × 32 columns</p>\n",
       "</div>"
      ],
      "text/plain": [
       "   YEAR  MONTH  DAY  DAY_OF_WEEK AIRLINE  FLIGHT_NUMBER TAIL_NUMBER  \\\n",
       "0  2015      1    7            3      UA           1135      N38473   \n",
       "1  2015      1    7            3      OO           5606      N582SW   \n",
       "2  2015      1    7            3      NK            394      N522NK   \n",
       "3  2015      1    7            3      EV           4992      N837AS   \n",
       "4  2015      1    7            3      OO           4774      N463SW   \n",
       "\n",
       "  ORIGIN_AIRPORT DESTINATION_AIRPORT  SCHEDULED_DEPARTURE     ...      \\\n",
       "0            ORD                 MCO                 1109     ...       \n",
       "1            SFO                 BFL                 1108     ...       \n",
       "2            LAS                 PHL                 1108     ...       \n",
       "3            ATL                 BQK                 1108     ...       \n",
       "4            SLC                 PSC                 1107     ...       \n",
       "\n",
       "   ARRIVAL_DELAY  DIVERTED  CANCELLED  CANCELLATION_REASON  AIR_SYSTEM_DELAY  \\\n",
       "0           -1.0         0          0                 None              None   \n",
       "1            7.0         0          0                 None              None   \n",
       "2            2.0         0          0                 None              None   \n",
       "3          -11.0         0          0                 None              None   \n",
       "4           -4.0         0          0                 None              None   \n",
       "\n",
       "   SECURITY_DELAY  AIRLINE_DELAY  LATE_AIRCRAFT_DELAY  WEATHER_DELAY  \\\n",
       "0            None           None                 None           None   \n",
       "1            None           None                 None           None   \n",
       "2            None           None                 None           None   \n",
       "3            None           None                 None           None   \n",
       "4            None           None                 None           None   \n",
       "\n",
       "   auto_index  \n",
       "0       99998  \n",
       "1       99997  \n",
       "2       99996  \n",
       "3       99995  \n",
       "4       99994  \n",
       "\n",
       "[5 rows x 32 columns]"
      ]
     },
     "execution_count": 8,
     "metadata": {},
     "output_type": "execute_result"
    }
   ],
   "source": [
    "data.tail() ## wrong order and index number"
   ]
  },
  {
   "cell_type": "code",
   "execution_count": 9,
   "metadata": {},
   "outputs": [
    {
     "data": {
      "text/plain": [
       "[[2015 1 1 ... None None 0]\n",
       " [2015 1 1 ... None None 1]\n",
       " [2015 1 1 ... None None 2]\n",
       " ...\n",
       " [2015 1 7 ... None None 99996]\n",
       " [2015 1 7 ... None None 99997]\n",
       " [2015 1 7 ... None None 99998]]"
      ]
     },
     "execution_count": 9,
     "metadata": {},
     "output_type": "execute_result"
    }
   ],
   "source": [
    "data"
   ]
  },
  {
   "cell_type": "code",
   "execution_count": 10,
   "metadata": {},
   "outputs": [
    {
     "name": "stdout",
     "output_type": "stream",
     "text": [
      "caught drop na subset () {'subset': ['LATITUDE', 'LONGITUDE']}\n",
      "new lzpd stack {'airports': ['IATA_CODE', 'AIRPORT', 'CITY', 'STATE', 'COUNTRY', 'LATITUDE', 'LONGITUDE', 'auto_index']} select airports.IATA_CODE, airports.AIRPORT, airports.CITY, airports.STATE, airports.COUNTRY, airports.LATITUDE, airports.LONGITUDE, airports.auto_index\n",
      "from airports\n",
      "where (LATITUDE is not null) and (LONGITUDE is not null)\n",
      "\n"
     ]
    }
   ],
   "source": [
    "airport = airport.dropna(subset = ['LATITUDE','LONGITUDE'])"
   ]
  },
  {
   "cell_type": "code",
   "execution_count": 11,
   "metadata": {},
   "outputs": [
    {
     "data": {
      "text/html": [
       "<div>\n",
       "<style>\n",
       "    .dataframe thead tr:only-child th {\n",
       "        text-align: right;\n",
       "    }\n",
       "\n",
       "    .dataframe thead th {\n",
       "        text-align: left;\n",
       "    }\n",
       "\n",
       "    .dataframe tbody tr th {\n",
       "        vertical-align: top;\n",
       "    }\n",
       "</style>\n",
       "<table border=\"1\" class=\"dataframe\">\n",
       "  <thead>\n",
       "    <tr style=\"text-align: right;\">\n",
       "      <th></th>\n",
       "      <th>IATA_CODE</th>\n",
       "      <th>AIRPORT</th>\n",
       "      <th>CITY</th>\n",
       "      <th>STATE</th>\n",
       "      <th>COUNTRY</th>\n",
       "      <th>LATITUDE</th>\n",
       "      <th>LONGITUDE</th>\n",
       "      <th>auto_index</th>\n",
       "    </tr>\n",
       "  </thead>\n",
       "  <tbody>\n",
       "    <tr>\n",
       "      <th>0</th>\n",
       "      <td>ABE</td>\n",
       "      <td>Lehigh Valley International Airport</td>\n",
       "      <td>Allentown</td>\n",
       "      <td>PA</td>\n",
       "      <td>USA</td>\n",
       "      <td>40.65236</td>\n",
       "      <td>-75.44040</td>\n",
       "      <td>0</td>\n",
       "    </tr>\n",
       "    <tr>\n",
       "      <th>1</th>\n",
       "      <td>ABI</td>\n",
       "      <td>Abilene Regional Airport</td>\n",
       "      <td>Abilene</td>\n",
       "      <td>TX</td>\n",
       "      <td>USA</td>\n",
       "      <td>32.41132</td>\n",
       "      <td>-99.68190</td>\n",
       "      <td>1</td>\n",
       "    </tr>\n",
       "    <tr>\n",
       "      <th>2</th>\n",
       "      <td>ABQ</td>\n",
       "      <td>Albuquerque International Sunport</td>\n",
       "      <td>Albuquerque</td>\n",
       "      <td>NM</td>\n",
       "      <td>USA</td>\n",
       "      <td>35.04022</td>\n",
       "      <td>-106.60919</td>\n",
       "      <td>2</td>\n",
       "    </tr>\n",
       "    <tr>\n",
       "      <th>3</th>\n",
       "      <td>ABR</td>\n",
       "      <td>Aberdeen Regional Airport</td>\n",
       "      <td>Aberdeen</td>\n",
       "      <td>SD</td>\n",
       "      <td>USA</td>\n",
       "      <td>45.44906</td>\n",
       "      <td>-98.42183</td>\n",
       "      <td>3</td>\n",
       "    </tr>\n",
       "    <tr>\n",
       "      <th>4</th>\n",
       "      <td>ABY</td>\n",
       "      <td>Southwest Georgia Regional Airport</td>\n",
       "      <td>Albany</td>\n",
       "      <td>GA</td>\n",
       "      <td>USA</td>\n",
       "      <td>31.53552</td>\n",
       "      <td>-84.19447</td>\n",
       "      <td>4</td>\n",
       "    </tr>\n",
       "    <tr>\n",
       "      <th>5</th>\n",
       "      <td>ACK</td>\n",
       "      <td>Nantucket Memorial Airport</td>\n",
       "      <td>Nantucket</td>\n",
       "      <td>MA</td>\n",
       "      <td>USA</td>\n",
       "      <td>41.25305</td>\n",
       "      <td>-70.06018</td>\n",
       "      <td>5</td>\n",
       "    </tr>\n",
       "    <tr>\n",
       "      <th>6</th>\n",
       "      <td>ACT</td>\n",
       "      <td>Waco Regional Airport</td>\n",
       "      <td>Waco</td>\n",
       "      <td>TX</td>\n",
       "      <td>USA</td>\n",
       "      <td>31.61129</td>\n",
       "      <td>-97.23052</td>\n",
       "      <td>6</td>\n",
       "    </tr>\n",
       "    <tr>\n",
       "      <th>7</th>\n",
       "      <td>ACV</td>\n",
       "      <td>Arcata Airport</td>\n",
       "      <td>Arcata/Eureka</td>\n",
       "      <td>CA</td>\n",
       "      <td>USA</td>\n",
       "      <td>40.97812</td>\n",
       "      <td>-124.10862</td>\n",
       "      <td>7</td>\n",
       "    </tr>\n",
       "    <tr>\n",
       "      <th>8</th>\n",
       "      <td>ACY</td>\n",
       "      <td>Atlantic City International Airport</td>\n",
       "      <td>Atlantic City</td>\n",
       "      <td>NJ</td>\n",
       "      <td>USA</td>\n",
       "      <td>39.45758</td>\n",
       "      <td>-74.57717</td>\n",
       "      <td>8</td>\n",
       "    </tr>\n",
       "    <tr>\n",
       "      <th>9</th>\n",
       "      <td>ADK</td>\n",
       "      <td>Adak Airport</td>\n",
       "      <td>Adak</td>\n",
       "      <td>AK</td>\n",
       "      <td>USA</td>\n",
       "      <td>51.87796</td>\n",
       "      <td>-176.64603</td>\n",
       "      <td>9</td>\n",
       "    </tr>\n",
       "  </tbody>\n",
       "</table>\n",
       "</div>"
      ],
      "text/plain": [
       "  IATA_CODE                              AIRPORT           CITY STATE COUNTRY  \\\n",
       "0       ABE  Lehigh Valley International Airport      Allentown    PA     USA   \n",
       "1       ABI             Abilene Regional Airport        Abilene    TX     USA   \n",
       "2       ABQ    Albuquerque International Sunport    Albuquerque    NM     USA   \n",
       "3       ABR            Aberdeen Regional Airport       Aberdeen    SD     USA   \n",
       "4       ABY   Southwest Georgia Regional Airport         Albany    GA     USA   \n",
       "5       ACK           Nantucket Memorial Airport      Nantucket    MA     USA   \n",
       "6       ACT                Waco Regional Airport           Waco    TX     USA   \n",
       "7       ACV                       Arcata Airport  Arcata/Eureka    CA     USA   \n",
       "8       ACY  Atlantic City International Airport  Atlantic City    NJ     USA   \n",
       "9       ADK                         Adak Airport           Adak    AK     USA   \n",
       "\n",
       "   LATITUDE  LONGITUDE  auto_index  \n",
       "0  40.65236  -75.44040           0  \n",
       "1  32.41132  -99.68190           1  \n",
       "2  35.04022 -106.60919           2  \n",
       "3  45.44906  -98.42183           3  \n",
       "4  31.53552  -84.19447           4  \n",
       "5  41.25305  -70.06018           5  \n",
       "6  31.61129  -97.23052           6  \n",
       "7  40.97812 -124.10862           7  \n",
       "8  39.45758  -74.57717           8  \n",
       "9  51.87796 -176.64603           9  "
      ]
     },
     "execution_count": 11,
     "metadata": {},
     "output_type": "execute_result"
    }
   ],
   "source": [
    "airport.head(10)"
   ]
  },
  {
   "cell_type": "code",
   "execution_count": 12,
   "metadata": {
    "scrolled": true
   },
   "outputs": [
    {
     "data": {
      "text/plain": [
       "[['UA' 'United Air Lines Inc.' '0']\n",
       " ['AA' 'American Airlines Inc.' '1']\n",
       " ['US' 'US Airways Inc.' '2']\n",
       " ['F9' 'Frontier Airlines Inc.' '3']\n",
       " ['B6' 'JetBlue Airways' '4']\n",
       " ['OO' 'Skywest Airlines Inc.' '5']\n",
       " ['AS' 'Alaska Airlines Inc.' '6']\n",
       " ['NK' 'Spirit Air Lines' '7']\n",
       " ['WN' 'Southwest Airlines Co.' '8']\n",
       " ['DL' 'Delta Air Lines Inc.' '9']\n",
       " ['EV' 'Atlantic Southeast Airlines' '10']\n",
       " ['HA' 'Hawaiian Airlines Inc.' '11']\n",
       " ['MQ' 'American Eagle Airlines Inc.' '12']\n",
       " ['VX' 'Virgin America' '13']]"
      ]
     },
     "execution_count": 12,
     "metadata": {},
     "output_type": "execute_result"
    }
   ],
   "source": [
    "airlines"
   ]
  },
  {
   "cell_type": "code",
   "execution_count": 13,
   "metadata": {
    "scrolled": true
   },
   "outputs": [
    {
     "name": "stdout",
     "output_type": "stream",
     "text": [
      "caught drop na subset () {'subset': ['TAIL_NUMBER', 'DEPARTURE_TIME', 'DEPARTURE_DELAY', 'TAXI_OUT', 'WHEELS_OFF', 'SCHEDULED_TIME', 'ELAPSED_TIME', 'AIR_TIME', 'WHEELS_ON', 'TAXI_IN', 'ARRIVAL_TIME', 'ARRIVAL_DELAY']}\n",
      "new lzpd stack {'red_flights': ['YEAR', 'MONTH', 'DAY', 'DAY_OF_WEEK', 'AIRLINE', 'FLIGHT_NUMBER', 'TAIL_NUMBER', 'ORIGIN_AIRPORT', 'DESTINATION_AIRPORT', 'SCHEDULED_DEPARTURE', 'DEPARTURE_TIME', 'DEPARTURE_DELAY', 'TAXI_OUT', 'WHEELS_OFF', 'SCHEDULED_TIME', 'ELAPSED_TIME', 'AIR_TIME', 'DISTANCE', 'WHEELS_ON', 'TAXI_IN', 'SCHEDULED_ARRIVAL', 'ARRIVAL_TIME', 'ARRIVAL_DELAY', 'DIVERTED', 'CANCELLED', 'CANCELLATION_REASON', 'AIR_SYSTEM_DELAY', 'SECURITY_DELAY', 'AIRLINE_DELAY', 'LATE_AIRCRAFT_DELAY', 'WEATHER_DELAY', 'auto_index']} select red_flights.YEAR, red_flights.MONTH, red_flights.DAY, red_flights.DAY_OF_WEEK, red_flights.AIRLINE, red_flights.FLIGHT_NUMBER, red_flights.TAIL_NUMBER, red_flights.ORIGIN_AIRPORT, red_flights.DESTINATION_AIRPORT, red_flights.SCHEDULED_DEPARTURE, red_flights.DEPARTURE_TIME, red_flights.DEPARTURE_DELAY, red_flights.TAXI_OUT, red_flights.WHEELS_OFF, red_flights.SCHEDULED_TIME, red_flights.ELAPSED_TIME, red_flights.AIR_TIME, red_flights.DISTANCE, red_flights.WHEELS_ON, red_flights.TAXI_IN, red_flights.SCHEDULED_ARRIVAL, red_flights.ARRIVAL_TIME, red_flights.ARRIVAL_DELAY, red_flights.DIVERTED, red_flights.CANCELLED, red_flights.CANCELLATION_REASON, red_flights.AIR_SYSTEM_DELAY, red_flights.SECURITY_DELAY, red_flights.AIRLINE_DELAY, red_flights.LATE_AIRCRAFT_DELAY, red_flights.WEATHER_DELAY, red_flights.auto_index\n",
      "from red_flights\n",
      "where (TAIL_NUMBER is not null) and (DEPARTURE_TIME is not null) and (DEPARTURE_DELAY is not null) and (TAXI_OUT is not null) and (WHEELS_OFF is not null) and (SCHEDULED_TIME is not null) and (ELAPSED_TIME is not null) and (AIR_TIME is not null) and (WHEELS_ON is not null) and (TAXI_IN is not null) and (ARRIVAL_TIME is not null) and (ARRIVAL_DELAY is not null)\n",
      "\n"
     ]
    }
   ],
   "source": [
    "# Dropping of subset of null values\n",
    "data1 = data.dropna(subset = [\"TAIL_NUMBER\",'DEPARTURE_TIME','DEPARTURE_DELAY','TAXI_OUT','WHEELS_OFF','SCHEDULED_TIME',\n",
    "             'ELAPSED_TIME','AIR_TIME','WHEELS_ON','TAXI_IN','ARRIVAL_TIME','ARRIVAL_DELAY'])"
   ]
  },
  {
   "cell_type": "code",
   "execution_count": 14,
   "metadata": {},
   "outputs": [
    {
     "data": {
      "text/plain": [
       "(97386, 32)"
      ]
     },
     "execution_count": 14,
     "metadata": {},
     "output_type": "execute_result"
    }
   ],
   "source": [
    "data1.shape"
   ]
  },
  {
   "cell_type": "code",
   "execution_count": 15,
   "metadata": {},
   "outputs": [
    {
     "name": "stdout",
     "output_type": "stream",
     "text": [
      "caught drop na subset () {'subset': ['AIR_SYSTEM_DELAY', 'SECURITY_DELAY', 'AIRLINE_DELAY', 'LATE_AIRCRAFT_DELAY', 'WEATHER_DELAY']}\n",
      "new lzpd stack {'red_flights': ['YEAR', 'MONTH', 'DAY', 'DAY_OF_WEEK', 'AIRLINE', 'FLIGHT_NUMBER', 'TAIL_NUMBER', 'ORIGIN_AIRPORT', 'DESTINATION_AIRPORT', 'SCHEDULED_DEPARTURE', 'DEPARTURE_TIME', 'DEPARTURE_DELAY', 'TAXI_OUT', 'WHEELS_OFF', 'SCHEDULED_TIME', 'ELAPSED_TIME', 'AIR_TIME', 'DISTANCE', 'WHEELS_ON', 'TAXI_IN', 'SCHEDULED_ARRIVAL', 'ARRIVAL_TIME', 'ARRIVAL_DELAY', 'DIVERTED', 'CANCELLED', 'CANCELLATION_REASON', 'AIR_SYSTEM_DELAY', 'SECURITY_DELAY', 'AIRLINE_DELAY', 'LATE_AIRCRAFT_DELAY', 'WEATHER_DELAY', 'auto_index']} select red_flights.YEAR, red_flights.MONTH, red_flights.DAY, red_flights.DAY_OF_WEEK, red_flights.AIRLINE, red_flights.FLIGHT_NUMBER, red_flights.TAIL_NUMBER, red_flights.ORIGIN_AIRPORT, red_flights.DESTINATION_AIRPORT, red_flights.SCHEDULED_DEPARTURE, red_flights.DEPARTURE_TIME, red_flights.DEPARTURE_DELAY, red_flights.TAXI_OUT, red_flights.WHEELS_OFF, red_flights.SCHEDULED_TIME, red_flights.ELAPSED_TIME, red_flights.AIR_TIME, red_flights.DISTANCE, red_flights.WHEELS_ON, red_flights.TAXI_IN, red_flights.SCHEDULED_ARRIVAL, red_flights.ARRIVAL_TIME, red_flights.ARRIVAL_DELAY, red_flights.DIVERTED, red_flights.CANCELLED, red_flights.CANCELLATION_REASON, red_flights.AIR_SYSTEM_DELAY, red_flights.SECURITY_DELAY, red_flights.AIRLINE_DELAY, red_flights.LATE_AIRCRAFT_DELAY, red_flights.WEATHER_DELAY, red_flights.auto_index\n",
      "from red_flights\n",
      "where (TAIL_NUMBER is not null) and (DEPARTURE_TIME is not null) and (DEPARTURE_DELAY is not null) and (TAXI_OUT is not null) and (WHEELS_OFF is not null) and (SCHEDULED_TIME is not null) and (ELAPSED_TIME is not null) and (AIR_TIME is not null) and (WHEELS_ON is not null) and (TAXI_IN is not null) and (ARRIVAL_TIME is not null) and (ARRIVAL_DELAY is not null) and (AIR_SYSTEM_DELAY is not null) and (SECURITY_DELAY is not null) and (AIRLINE_DELAY is not null) and (LATE_AIRCRAFT_DELAY is not null) and (WEATHER_DELAY is not null)\n",
      "\n",
      "caught drop  labels (['YEAR', 'MONTH', 'DAY', 'DAY_OF_WEEK', 'TAIL_NUMBER', 'SCHEDULED_DEPARTURE', 'DEPARTURE_TIME', 'SCHEDULED_TIME', 'SCHEDULED_ARRIVAL', 'ARRIVAL_TIME', 'DIVERTED', 'CANCELLED', 'CANCELLATION_REASON', 'FLIGHT_NUMBER', 'WHEELS_OFF', 'WHEELS_ON', 'AIR_TIME'],) {'axis': 1}\n",
      "new lzpd stack {'red_flights': ['YEAR', 'MONTH', 'DAY', 'DAY_OF_WEEK', 'AIRLINE', 'FLIGHT_NUMBER', 'TAIL_NUMBER', 'ORIGIN_AIRPORT', 'DESTINATION_AIRPORT', 'SCHEDULED_DEPARTURE', 'DEPARTURE_TIME', 'DEPARTURE_DELAY', 'TAXI_OUT', 'WHEELS_OFF', 'SCHEDULED_TIME', 'ELAPSED_TIME', 'AIR_TIME', 'DISTANCE', 'WHEELS_ON', 'TAXI_IN', 'SCHEDULED_ARRIVAL', 'ARRIVAL_TIME', 'ARRIVAL_DELAY', 'DIVERTED', 'CANCELLED', 'CANCELLATION_REASON', 'AIR_SYSTEM_DELAY', 'SECURITY_DELAY', 'AIRLINE_DELAY', 'LATE_AIRCRAFT_DELAY', 'WEATHER_DELAY', 'auto_index']} select red_flights.AIRLINE, red_flights.ORIGIN_AIRPORT, red_flights.DESTINATION_AIRPORT, red_flights.DEPARTURE_DELAY, red_flights.TAXI_OUT, red_flights.ELAPSED_TIME, red_flights.DISTANCE, red_flights.TAXI_IN, red_flights.ARRIVAL_DELAY, red_flights.AIR_SYSTEM_DELAY, red_flights.SECURITY_DELAY, red_flights.AIRLINE_DELAY, red_flights.LATE_AIRCRAFT_DELAY, red_flights.WEATHER_DELAY, red_flights.auto_index\n",
      "from red_flights\n",
      "where (TAIL_NUMBER is not null) and (DEPARTURE_TIME is not null) and (DEPARTURE_DELAY is not null) and (TAXI_OUT is not null) and (WHEELS_OFF is not null) and (SCHEDULED_TIME is not null) and (ELAPSED_TIME is not null) and (AIR_TIME is not null) and (WHEELS_ON is not null) and (TAXI_IN is not null) and (ARRIVAL_TIME is not null) and (ARRIVAL_DELAY is not null) and (AIR_SYSTEM_DELAY is not null) and (SECURITY_DELAY is not null) and (AIRLINE_DELAY is not null) and (LATE_AIRCRAFT_DELAY is not null) and (WEATHER_DELAY is not null)\n",
      "\n"
     ]
    }
   ],
   "source": [
    "# Creting Dataset w.r.t different Types of Delays\n",
    "data11 = data1.dropna(subset = ['AIR_SYSTEM_DELAY','SECURITY_DELAY','AIRLINE_DELAY','LATE_AIRCRAFT_DELAY','WEATHER_DELAY'])\n",
    "data11 = data11.drop(['YEAR','MONTH','DAY','DAY_OF_WEEK','TAIL_NUMBER','SCHEDULED_DEPARTURE','DEPARTURE_TIME','SCHEDULED_TIME',\n",
    "                     'SCHEDULED_ARRIVAL','ARRIVAL_TIME','DIVERTED','CANCELLED','CANCELLATION_REASON','FLIGHT_NUMBER','WHEELS_OFF',\n",
    "                     'WHEELS_ON','AIR_TIME'],axis = 1)"
   ]
  },
  {
   "cell_type": "code",
   "execution_count": 16,
   "metadata": {},
   "outputs": [
    {
     "name": "stdout",
     "output_type": "stream",
     "text": [
      "lazyDataFrame\n",
      "tables\n",
      "  red_flights :\n",
      "    YEAR : REAL\n",
      "    MONTH : REAL\n",
      "    DAY : REAL\n",
      "    DAY_OF_WEEK : REAL\n",
      "    AIRLINE : TEXT\n",
      "    FLIGHT_NUMBER : REAL\n",
      "    TAIL_NUMBER : TEXT\n",
      "    ORIGIN_AIRPORT : TEXT\n",
      "    DESTINATION_AIRPORT : TEXT\n",
      "    SCHEDULED_DEPARTURE : REAL\n",
      "    DEPARTURE_TIME : REAL\n",
      "    DEPARTURE_DELAY : REAL\n",
      "    TAXI_OUT : REAL\n",
      "    WHEELS_OFF : REAL\n",
      "    SCHEDULED_TIME : REAL\n",
      "    ELAPSED_TIME : REAL\n",
      "    AIR_TIME : REAL\n",
      "    DISTANCE : REAL\n",
      "    WHEELS_ON : REAL\n",
      "    TAXI_IN : REAL\n",
      "    SCHEDULED_ARRIVAL : REAL\n",
      "    ARRIVAL_TIME : REAL\n",
      "    ARRIVAL_DELAY : REAL\n",
      "    DIVERTED : REAL\n",
      "    CANCELLED : REAL\n",
      "    CANCELLATION_REASON : TEXT\n",
      "    AIR_SYSTEM_DELAY : REAL\n",
      "    SECURITY_DELAY : REAL\n",
      "    AIRLINE_DELAY : REAL\n",
      "    LATE_AIRCRAFT_DELAY : REAL\n",
      "    WEATHER_DELAY : REAL\n",
      "    auto_index : INTEGER\n",
      "\n"
     ]
    }
   ],
   "source": [
    "data11.info()"
   ]
  },
  {
   "cell_type": "code",
   "execution_count": 17,
   "metadata": {},
   "outputs": [],
   "source": [
    "# The other Dataset\n",
    "Flight_Delays = data11"
   ]
  },
  {
   "cell_type": "code",
   "execution_count": 18,
   "metadata": {},
   "outputs": [
    {
     "name": "stdout",
     "output_type": "stream",
     "text": [
      "caught drop  labels (['CANCELLATION_REASON', 'AIR_SYSTEM_DELAY', 'SECURITY_DELAY', 'AIRLINE_DELAY', 'LATE_AIRCRAFT_DELAY', 'WEATHER_DELAY'],) {'axis': 1}\n",
      "new lzpd stack {'red_flights': ['YEAR', 'MONTH', 'DAY', 'DAY_OF_WEEK', 'AIRLINE', 'FLIGHT_NUMBER', 'TAIL_NUMBER', 'ORIGIN_AIRPORT', 'DESTINATION_AIRPORT', 'SCHEDULED_DEPARTURE', 'DEPARTURE_TIME', 'DEPARTURE_DELAY', 'TAXI_OUT', 'WHEELS_OFF', 'SCHEDULED_TIME', 'ELAPSED_TIME', 'AIR_TIME', 'DISTANCE', 'WHEELS_ON', 'TAXI_IN', 'SCHEDULED_ARRIVAL', 'ARRIVAL_TIME', 'ARRIVAL_DELAY', 'DIVERTED', 'CANCELLED', 'CANCELLATION_REASON', 'AIR_SYSTEM_DELAY', 'SECURITY_DELAY', 'AIRLINE_DELAY', 'LATE_AIRCRAFT_DELAY', 'WEATHER_DELAY', 'auto_index']} select red_flights.YEAR, red_flights.MONTH, red_flights.DAY, red_flights.DAY_OF_WEEK, red_flights.AIRLINE, red_flights.FLIGHT_NUMBER, red_flights.TAIL_NUMBER, red_flights.ORIGIN_AIRPORT, red_flights.DESTINATION_AIRPORT, red_flights.SCHEDULED_DEPARTURE, red_flights.DEPARTURE_TIME, red_flights.DEPARTURE_DELAY, red_flights.TAXI_OUT, red_flights.WHEELS_OFF, red_flights.SCHEDULED_TIME, red_flights.ELAPSED_TIME, red_flights.AIR_TIME, red_flights.DISTANCE, red_flights.WHEELS_ON, red_flights.TAXI_IN, red_flights.SCHEDULED_ARRIVAL, red_flights.ARRIVAL_TIME, red_flights.ARRIVAL_DELAY, red_flights.DIVERTED, red_flights.CANCELLED, red_flights.auto_index\n",
      "from red_flights\n",
      "where (TAIL_NUMBER is not null) and (DEPARTURE_TIME is not null) and (DEPARTURE_DELAY is not null) and (TAXI_OUT is not null) and (WHEELS_OFF is not null) and (SCHEDULED_TIME is not null) and (ELAPSED_TIME is not null) and (AIR_TIME is not null) and (WHEELS_ON is not null) and (TAXI_IN is not null) and (ARRIVAL_TIME is not null) and (ARRIVAL_DELAY is not null)\n",
      "\n"
     ]
    }
   ],
   "source": [
    "# Creating Dataset by removing null values by not focussing fully on different types of Delays\n",
    "data2 = data1.drop(['CANCELLATION_REASON','AIR_SYSTEM_DELAY','SECURITY_DELAY','AIRLINE_DELAY',\n",
    "                    'LATE_AIRCRAFT_DELAY','WEATHER_DELAY'],axis = 1)"
   ]
  },
  {
   "cell_type": "code",
   "execution_count": 19,
   "metadata": {},
   "outputs": [
    {
     "data": {
      "text/plain": [
       "(97386, 26)"
      ]
     },
     "execution_count": 19,
     "metadata": {},
     "output_type": "execute_result"
    }
   ],
   "source": [
    "data2.shape"
   ]
  },
  {
   "cell_type": "code",
   "execution_count": 20,
   "metadata": {},
   "outputs": [
    {
     "name": "stdout",
     "output_type": "stream",
     "text": [
      "lazyDataFrame\n",
      "tables\n",
      "  red_flights :\n",
      "    YEAR : REAL\n",
      "    MONTH : REAL\n",
      "    DAY : REAL\n",
      "    DAY_OF_WEEK : REAL\n",
      "    AIRLINE : TEXT\n",
      "    FLIGHT_NUMBER : REAL\n",
      "    TAIL_NUMBER : TEXT\n",
      "    ORIGIN_AIRPORT : TEXT\n",
      "    DESTINATION_AIRPORT : TEXT\n",
      "    SCHEDULED_DEPARTURE : REAL\n",
      "    DEPARTURE_TIME : REAL\n",
      "    DEPARTURE_DELAY : REAL\n",
      "    TAXI_OUT : REAL\n",
      "    WHEELS_OFF : REAL\n",
      "    SCHEDULED_TIME : REAL\n",
      "    ELAPSED_TIME : REAL\n",
      "    AIR_TIME : REAL\n",
      "    DISTANCE : REAL\n",
      "    WHEELS_ON : REAL\n",
      "    TAXI_IN : REAL\n",
      "    SCHEDULED_ARRIVAL : REAL\n",
      "    ARRIVAL_TIME : REAL\n",
      "    ARRIVAL_DELAY : REAL\n",
      "    DIVERTED : REAL\n",
      "    CANCELLED : REAL\n",
      "    CANCELLATION_REASON : TEXT\n",
      "    AIR_SYSTEM_DELAY : REAL\n",
      "    SECURITY_DELAY : REAL\n",
      "    AIRLINE_DELAY : REAL\n",
      "    LATE_AIRCRAFT_DELAY : REAL\n",
      "    WEATHER_DELAY : REAL\n",
      "    auto_index : INTEGER\n",
      "\n"
     ]
    }
   ],
   "source": [
    "data2.info()"
   ]
  },
  {
   "cell_type": "code",
   "execution_count": 21,
   "metadata": {
    "scrolled": true
   },
   "outputs": [
    {
     "name": "stdout",
     "output_type": "stream",
     "text": [
      "caught get [ DEPARTURE_TIME ]\n",
      "col_name DEPARTURE_TIME\n",
      "simple project DEPARTURE_TIME\n",
      "new lzpd stack {'red_flights': ['YEAR', 'MONTH', 'DAY', 'DAY_OF_WEEK', 'AIRLINE', 'FLIGHT_NUMBER', 'TAIL_NUMBER', 'ORIGIN_AIRPORT', 'DESTINATION_AIRPORT', 'SCHEDULED_DEPARTURE', 'DEPARTURE_TIME', 'DEPARTURE_DELAY', 'TAXI_OUT', 'WHEELS_OFF', 'SCHEDULED_TIME', 'ELAPSED_TIME', 'AIR_TIME', 'DISTANCE', 'WHEELS_ON', 'TAXI_IN', 'SCHEDULED_ARRIVAL', 'ARRIVAL_TIME', 'ARRIVAL_DELAY', 'DIVERTED', 'CANCELLED', 'CANCELLATION_REASON', 'AIR_SYSTEM_DELAY', 'SECURITY_DELAY', 'AIRLINE_DELAY', 'LATE_AIRCRAFT_DELAY', 'WEATHER_DELAY', 'auto_index']} select DEPARTURE_TIME\n",
      "from red_flights\n",
      "where (TAIL_NUMBER is not null) and (DEPARTURE_TIME is not null) and (DEPARTURE_DELAY is not null) and (TAXI_OUT is not null) and (WHEELS_OFF is not null) and (SCHEDULED_TIME is not null) and (ELAPSED_TIME is not null) and (AIR_TIME is not null) and (WHEELS_ON is not null) and (TAXI_IN is not null) and (ARRIVAL_TIME is not null) and (ARRIVAL_DELAY is not null)\n",
      "\n",
      "1D\n"
     ]
    },
    {
     "data": {
      "text/plain": [
       "[2.354e+03 2.000e+00 1.800e+01 ... 1.117e+03 1.101e+03 1.116e+03]"
      ]
     },
     "execution_count": 21,
     "metadata": {},
     "output_type": "execute_result"
    }
   ],
   "source": [
    "data2['DEPARTURE_TIME']"
   ]
  },
  {
   "cell_type": "code",
   "execution_count": 22,
   "metadata": {},
   "outputs": [],
   "source": [
    "# Creating a function to change the way of representation of time in the column\n",
    "def Format_Hourmin(hours):\n",
    "        if hours == 2400:\n",
    "            hours = 0\n",
    "        else:\n",
    "            hours = \"{0:04d}\".format(int(hours))\n",
    "            Hourmin = datetime.time(int(hours[0:2]), int(hours[2:4]))\n",
    "            return Hourmin"
   ]
  },
  {
   "cell_type": "code",
   "execution_count": 23,
   "metadata": {},
   "outputs": [
    {
     "name": "stdout",
     "output_type": "stream",
     "text": [
      "caught get [ DEPARTURE_TIME ]\n",
      "col_name DEPARTURE_TIME\n",
      "simple project DEPARTURE_TIME\n",
      "new lzpd stack {'red_flights': ['YEAR', 'MONTH', 'DAY', 'DAY_OF_WEEK', 'AIRLINE', 'FLIGHT_NUMBER', 'TAIL_NUMBER', 'ORIGIN_AIRPORT', 'DESTINATION_AIRPORT', 'SCHEDULED_DEPARTURE', 'DEPARTURE_TIME', 'DEPARTURE_DELAY', 'TAXI_OUT', 'WHEELS_OFF', 'SCHEDULED_TIME', 'ELAPSED_TIME', 'AIR_TIME', 'DISTANCE', 'WHEELS_ON', 'TAXI_IN', 'SCHEDULED_ARRIVAL', 'ARRIVAL_TIME', 'ARRIVAL_DELAY', 'DIVERTED', 'CANCELLED', 'CANCELLATION_REASON', 'AIR_SYSTEM_DELAY', 'SECURITY_DELAY', 'AIRLINE_DELAY', 'LATE_AIRCRAFT_DELAY', 'WEATHER_DELAY', 'auto_index']} select DEPARTURE_TIME\n",
      "from red_flights\n",
      "where (TAIL_NUMBER is not null) and (DEPARTURE_TIME is not null) and (DEPARTURE_DELAY is not null) and (TAXI_OUT is not null) and (WHEELS_OFF is not null) and (SCHEDULED_TIME is not null) and (ELAPSED_TIME is not null) and (AIR_TIME is not null) and (WHEELS_ON is not null) and (TAXI_IN is not null) and (ARRIVAL_TIME is not null) and (ARRIVAL_DELAY is not null)\n",
      "\n",
      "1D\n"
     ]
    },
    {
     "data": {
      "text/plain": [
       "[2.354e+03 2.000e+00 1.800e+01 ... 1.117e+03 1.101e+03 1.116e+03]"
      ]
     },
     "execution_count": 23,
     "metadata": {},
     "output_type": "execute_result"
    }
   ],
   "source": [
    "data1['DEPARTURE_TIME']"
   ]
  },
  {
   "cell_type": "code",
   "execution_count": 34,
   "metadata": {
    "scrolled": true
   },
   "outputs": [
    {
     "name": "stdout",
     "output_type": "stream",
     "text": [
      "caught get [ DEPARTURE_TIME ]\n",
      "col_name DEPARTURE_TIME\n",
      "simple project DEPARTURE_TIME\n",
      "new lzpd stack {'red_flights': ['YEAR', 'MONTH', 'DAY', 'DAY_OF_WEEK', 'AIRLINE', 'FLIGHT_NUMBER', 'TAIL_NUMBER', 'ORIGIN_AIRPORT', 'DESTINATION_AIRPORT', 'SCHEDULED_DEPARTURE', 'DEPARTURE_TIME', 'DEPARTURE_DELAY', 'TAXI_OUT', 'WHEELS_OFF', 'SCHEDULED_TIME', 'ELAPSED_TIME', 'AIR_TIME', 'DISTANCE', 'WHEELS_ON', 'TAXI_IN', 'SCHEDULED_ARRIVAL', 'ARRIVAL_TIME', 'ARRIVAL_DELAY', 'DIVERTED', 'CANCELLED', 'CANCELLATION_REASON', 'AIR_SYSTEM_DELAY', 'SECURITY_DELAY', 'AIRLINE_DELAY', 'LATE_AIRCRAFT_DELAY', 'WEATHER_DELAY', 'auto_index']} select DEPARTURE_TIME\n",
      "from red_flights\n",
      "where (TAIL_NUMBER is not null) and (DEPARTURE_TIME is not null) and (DEPARTURE_DELAY is not null) and (TAXI_OUT is not null) and (WHEELS_OFF is not null) and (SCHEDULED_TIME is not null) and (ELAPSED_TIME is not null) and (AIR_TIME is not null) and (WHEELS_ON is not null) and (TAXI_IN is not null) and (ARRIVAL_TIME is not null) and (ARRIVAL_DELAY is not null)\n",
      "\n",
      "caught set [] Actual_Departure 0        23:54:00\n",
      "1        00:02:00\n",
      "2        00:18:00\n",
      "3        00:15:00\n",
      "4        00:24:00\n",
      "5        00:20:00\n",
      "6        00:19:00\n",
      "7        00:44:00\n",
      "8        00:19:00\n",
      "9        00:33:00\n",
      "10       00:24:00\n",
      "11       00:27:00\n",
      "12       00:35:00\n",
      "13       00:34:00\n",
      "14       00:39:00\n",
      "15       00:41:00\n",
      "16       00:31:00\n",
      "17       00:42:00\n",
      "18       00:46:00\n",
      "19       00:45:00\n",
      "20       01:20:00\n",
      "21       00:52:00\n",
      "22       01:02:00\n",
      "23       01:03:00\n",
      "24       01:02:00\n",
      "25       01:12:00\n",
      "26       01:07:00\n",
      "27       01:27:00\n",
      "28       01:10:00\n",
      "29       01:41:00\n",
      "           ...   \n",
      "97356    12:00:00\n",
      "97357    11:02:00\n",
      "97358    10:58:00\n",
      "97359    12:06:00\n",
      "97360    13:28:00\n",
      "97361    11:09:00\n",
      "97362    11:06:00\n",
      "97363    11:12:00\n",
      "97364    12:33:00\n",
      "97365    15:23:00\n",
      "97366    11:54:00\n",
      "97367    11:13:00\n",
      "97368    10:58:00\n",
      "97369    11:01:00\n",
      "97370    11:17:00\n",
      "97371    12:47:00\n",
      "97372    10:55:00\n",
      "97373    11:05:00\n",
      "97374    11:05:00\n",
      "97375    12:16:00\n",
      "97376    11:03:00\n",
      "97377    11:04:00\n",
      "97378    11:05:00\n",
      "97379    11:31:00\n",
      "97380    11:01:00\n",
      "97381    11:13:00\n",
      "97382    11:02:00\n",
      "97383    11:17:00\n",
      "97384    11:01:00\n",
      "97385    11:16:00\n",
      "Length: 97386, dtype: object\n",
      "R: looking for  Actual_Departure in red_flights ['YEAR', 'MONTH', 'DAY', 'DAY_OF_WEEK', 'AIRLINE', 'FLIGHT_NUMBER', 'TAIL_NUMBER', 'ORIGIN_AIRPORT', 'DESTINATION_AIRPORT', 'SCHEDULED_DEPARTURE', 'DEPARTURE_TIME', 'DEPARTURE_DELAY', 'TAXI_OUT', 'WHEELS_OFF', 'SCHEDULED_TIME', 'ELAPSED_TIME', 'AIR_TIME', 'DISTANCE', 'WHEELS_ON', 'TAXI_IN', 'SCHEDULED_ARRIVAL', 'ARRIVAL_TIME', 'ARRIVAL_DELAY', 'DIVERTED', 'CANCELLED', 'CANCELLATION_REASON', 'AIR_SYSTEM_DELAY', 'SECURITY_DELAY', 'AIRLINE_DELAY', 'LATE_AIRCRAFT_DELAY', 'WEATHER_DELAY', 'auto_index']\n",
      "R: looking for  Actual_Departure in auto_generated_table_Actual_Departure ['Actual_Departure', 'auto_index']\n",
      "cmd update auto_generated_table_Actual_Departure set Actual_Departure=08:09:00 where auto_generated_table_Actual_Departure.auto_index=1109;\n"
     ]
    },
    {
     "ename": "OperationalError",
     "evalue": "near \":09\": syntax error",
     "output_type": "error",
     "traceback": [
      "\u001b[0;31m---------------------------------------------------------------------------\u001b[0m",
      "\u001b[0;31mOperationalError\u001b[0m                          Traceback (most recent call last)",
      "\u001b[0;32m<ipython-input-34-1e7fbbce8435>\u001b[0m in \u001b[0;36m<module>\u001b[0;34m()\u001b[0m\n\u001b[0;32m----> 1\u001b[0;31m \u001b[0mdata2\u001b[0m\u001b[0;34m[\u001b[0m\u001b[0;34m'Actual_Departure'\u001b[0m\u001b[0;34m]\u001b[0m \u001b[0;34m=\u001b[0m \u001b[0mdata1\u001b[0m\u001b[0;34m[\u001b[0m\u001b[0;34m'DEPARTURE_TIME'\u001b[0m\u001b[0;34m]\u001b[0m\u001b[0;34m.\u001b[0m\u001b[0mapply\u001b[0m\u001b[0;34m(\u001b[0m\u001b[0mFormat_Hourmin\u001b[0m\u001b[0;34m)\u001b[0m\u001b[0;34m\u001b[0m\u001b[0;34m\u001b[0m\u001b[0m\n\u001b[0m\u001b[1;32m      2\u001b[0m \u001b[0mdata2\u001b[0m\u001b[0;34m[\u001b[0m\u001b[0;34m'Actual_Departure'\u001b[0m\u001b[0;34m]\u001b[0m\u001b[0;34m\u001b[0m\u001b[0;34m\u001b[0m\u001b[0m\n",
      "\u001b[0;32m~/Desktop/DataBases_class/P7/databases_project7/demo_suite/demo9/lazypandas.py\u001b[0m in \u001b[0;36m__setitem__\u001b[0;34m(self, attribute, value)\u001b[0m\n\u001b[1;32m     56\u001b[0m             \u001b[0mtable\u001b[0m \u001b[0;34m=\u001b[0m \u001b[0mself\u001b[0m\u001b[0;34m.\u001b[0m\u001b[0mfind_table\u001b[0m\u001b[0;34m(\u001b[0m\u001b[0mattribute\u001b[0m\u001b[0;34m)\u001b[0m\u001b[0;34m\u001b[0m\u001b[0;34m\u001b[0m\u001b[0m\n\u001b[1;32m     57\u001b[0m             \u001b[0;32mif\u001b[0m \u001b[0mtable\u001b[0m \u001b[0;32mis\u001b[0m \u001b[0;32mnot\u001b[0m \u001b[0;32mNone\u001b[0m\u001b[0;34m:\u001b[0m \u001b[0;31m# if it is a know column\u001b[0m\u001b[0;34m\u001b[0m\u001b[0;34m\u001b[0m\u001b[0m\n\u001b[0;32m---> 58\u001b[0;31m                 \u001b[0mupdate_sql_data\u001b[0m\u001b[0;34m(\u001b[0m\u001b[0mtable\u001b[0m\u001b[0;34m,\u001b[0m \u001b[0mattribute\u001b[0m\u001b[0;34m,\u001b[0m \u001b[0mself\u001b[0m\u001b[0;34m.\u001b[0m\u001b[0mindex\u001b[0m\u001b[0;34m,\u001b[0m \u001b[0mvalue\u001b[0m\u001b[0;34m,\u001b[0m \u001b[0mcon\u001b[0m\u001b[0;34m=\u001b[0m\u001b[0mself\u001b[0m\u001b[0;34m.\u001b[0m\u001b[0mcon\u001b[0m\u001b[0;34m)\u001b[0m\u001b[0;34m\u001b[0m\u001b[0;34m\u001b[0m\u001b[0m\n\u001b[0m\u001b[1;32m     59\u001b[0m             \u001b[0;32melse\u001b[0m\u001b[0;34m:\u001b[0m \u001b[0;31m# if it is (?) a new column\u001b[0m\u001b[0;34m\u001b[0m\u001b[0;34m\u001b[0m\u001b[0m\n\u001b[1;32m     60\u001b[0m                 \u001b[0msqltype\u001b[0m \u001b[0;34m=\u001b[0m \u001b[0mget_types\u001b[0m\u001b[0;34m(\u001b[0m\u001b[0mstr\u001b[0m\u001b[0;34m(\u001b[0m\u001b[0mvalue\u001b[0m\u001b[0;34m)\u001b[0m\u001b[0;34m)\u001b[0m\u001b[0;34m\u001b[0m\u001b[0;34m\u001b[0m\u001b[0m\n",
      "\u001b[0;32m~/Desktop/DataBases_class/P7/databases_project7/demo_suite/demo9/util.py\u001b[0m in \u001b[0;36mupdate_sql_data\u001b[0;34m(table, attribute, index, value, con)\u001b[0m\n\u001b[1;32m    119\u001b[0m                     \u001b[0;34m\" where \"\u001b[0m \u001b[0;34m+\u001b[0m \u001b[0mtable\u001b[0m \u001b[0;34m+\u001b[0m \u001b[0;34m\".auto_index=\"\u001b[0m \u001b[0;34m+\u001b[0m \u001b[0mstr\u001b[0m\u001b[0;34m(\u001b[0m\u001b[0midx\u001b[0m\u001b[0;34m)\u001b[0m \u001b[0;34m+\u001b[0m \u001b[0;34m\";\"\u001b[0m\u001b[0;34m\u001b[0m\u001b[0;34m\u001b[0m\u001b[0m\n\u001b[1;32m    120\u001b[0m             \u001b[0mprint\u001b[0m\u001b[0;34m(\u001b[0m\u001b[0;34m'cmd'\u001b[0m\u001b[0;34m,\u001b[0m \u001b[0mcmd\u001b[0m\u001b[0;34m)\u001b[0m\u001b[0;34m\u001b[0m\u001b[0;34m\u001b[0m\u001b[0m\n\u001b[0;32m--> 121\u001b[0;31m             \u001b[0mcon\u001b[0m\u001b[0;34m.\u001b[0m\u001b[0mexecutescript\u001b[0m\u001b[0;34m(\u001b[0m\u001b[0mcmd\u001b[0m\u001b[0;34m)\u001b[0m\u001b[0;34m\u001b[0m\u001b[0;34m\u001b[0m\u001b[0m\n\u001b[0m\u001b[1;32m    122\u001b[0m \u001b[0;34m\u001b[0m\u001b[0m\n\u001b[1;32m    123\u001b[0m \u001b[0;34m\u001b[0m\u001b[0m\n",
      "\u001b[0;31mOperationalError\u001b[0m: near \":09\": syntax error"
     ]
    }
   ],
   "source": [
    "data2['Actual_Departure'] = data1['DEPARTURE_TIME'].apply(Format_Hourmin)\n",
    "data2['Actual_Departure']"
   ]
  },
  {
   "cell_type": "code",
   "execution_count": 25,
   "metadata": {
    "scrolled": true
   },
   "outputs": [
    {
     "name": "stdout",
     "output_type": "stream",
     "text": [
      "lazyDataFrame\n",
      "tables\n",
      "  red_flights :\n",
      "    YEAR : REAL\n",
      "    MONTH : REAL\n",
      "    DAY : REAL\n",
      "    DAY_OF_WEEK : REAL\n",
      "    AIRLINE : TEXT\n",
      "    FLIGHT_NUMBER : REAL\n",
      "    TAIL_NUMBER : TEXT\n",
      "    ORIGIN_AIRPORT : TEXT\n",
      "    DESTINATION_AIRPORT : TEXT\n",
      "    SCHEDULED_DEPARTURE : REAL\n",
      "    DEPARTURE_TIME : REAL\n",
      "    DEPARTURE_DELAY : REAL\n",
      "    TAXI_OUT : REAL\n",
      "    WHEELS_OFF : REAL\n",
      "    SCHEDULED_TIME : REAL\n",
      "    ELAPSED_TIME : REAL\n",
      "    AIR_TIME : REAL\n",
      "    DISTANCE : REAL\n",
      "    WHEELS_ON : REAL\n",
      "    TAXI_IN : REAL\n",
      "    SCHEDULED_ARRIVAL : REAL\n",
      "    ARRIVAL_TIME : REAL\n",
      "    ARRIVAL_DELAY : REAL\n",
      "    DIVERTED : REAL\n",
      "    CANCELLED : REAL\n",
      "    CANCELLATION_REASON : TEXT\n",
      "    AIR_SYSTEM_DELAY : REAL\n",
      "    SECURITY_DELAY : REAL\n",
      "    AIRLINE_DELAY : REAL\n",
      "    LATE_AIRCRAFT_DELAY : REAL\n",
      "    WEATHER_DELAY : REAL\n",
      "    auto_index : INTEGER\n",
      "\n",
      "  auto_generated_table_Actual_Departure :\n",
      "    Actual_Departure : TEXT\n",
      "    auto_index : INTEGER\n",
      "\n"
     ]
    }
   ],
   "source": [
    "data2.info()"
   ]
  },
  {
   "cell_type": "code",
   "execution_count": 26,
   "metadata": {},
   "outputs": [
    {
     "name": "stdout",
     "output_type": "stream",
     "text": [
      "caught get [ DEPARTURE_TIME ]\n",
      "col_name DEPARTURE_TIME\n",
      "simple project DEPARTURE_TIME\n",
      "new lzpd stack {'red_flights': ['YEAR', 'MONTH', 'DAY', 'DAY_OF_WEEK', 'AIRLINE', 'FLIGHT_NUMBER', 'TAIL_NUMBER', 'ORIGIN_AIRPORT', 'DESTINATION_AIRPORT', 'SCHEDULED_DEPARTURE', 'DEPARTURE_TIME', 'DEPARTURE_DELAY', 'TAXI_OUT', 'WHEELS_OFF', 'SCHEDULED_TIME', 'ELAPSED_TIME', 'AIR_TIME', 'DISTANCE', 'WHEELS_ON', 'TAXI_IN', 'SCHEDULED_ARRIVAL', 'ARRIVAL_TIME', 'ARRIVAL_DELAY', 'DIVERTED', 'CANCELLED', 'CANCELLATION_REASON', 'AIR_SYSTEM_DELAY', 'SECURITY_DELAY', 'AIRLINE_DELAY', 'LATE_AIRCRAFT_DELAY', 'WEATHER_DELAY', 'auto_index']} select DEPARTURE_TIME\n",
      "from red_flights\n",
      "where (TAIL_NUMBER is not null) and (DEPARTURE_TIME is not null) and (DEPARTURE_DELAY is not null) and (TAXI_OUT is not null) and (WHEELS_OFF is not null) and (SCHEDULED_TIME is not null) and (ELAPSED_TIME is not null) and (AIR_TIME is not null) and (WHEELS_ON is not null) and (TAXI_IN is not null) and (ARRIVAL_TIME is not null) and (ARRIVAL_DELAY is not null)\n",
      "\n",
      "caught set [] Actual_Departure 0        23:54:00\n",
      "1        00:02:00\n",
      "2        00:18:00\n",
      "3        00:15:00\n",
      "4        00:24:00\n",
      "5        00:20:00\n",
      "6        00:19:00\n",
      "7        00:44:00\n",
      "8        00:19:00\n",
      "9        00:33:00\n",
      "10       00:24:00\n",
      "11       00:27:00\n",
      "12       00:35:00\n",
      "13       00:34:00\n",
      "14       00:39:00\n",
      "15       00:41:00\n",
      "16       00:31:00\n",
      "17       00:42:00\n",
      "18       00:46:00\n",
      "19       00:45:00\n",
      "20       01:20:00\n",
      "21       00:52:00\n",
      "22       01:02:00\n",
      "23       01:03:00\n",
      "24       01:02:00\n",
      "25       01:12:00\n",
      "26       01:07:00\n",
      "27       01:27:00\n",
      "28       01:10:00\n",
      "29       01:41:00\n",
      "           ...   \n",
      "97356    12:00:00\n",
      "97357    11:02:00\n",
      "97358    10:58:00\n",
      "97359    12:06:00\n",
      "97360    13:28:00\n",
      "97361    11:09:00\n",
      "97362    11:06:00\n",
      "97363    11:12:00\n",
      "97364    12:33:00\n",
      "97365    15:23:00\n",
      "97366    11:54:00\n",
      "97367    11:13:00\n",
      "97368    10:58:00\n",
      "97369    11:01:00\n",
      "97370    11:17:00\n",
      "97371    12:47:00\n",
      "97372    10:55:00\n",
      "97373    11:05:00\n",
      "97374    11:05:00\n",
      "97375    12:16:00\n",
      "97376    11:03:00\n",
      "97377    11:04:00\n",
      "97378    11:05:00\n",
      "97379    11:31:00\n",
      "97380    11:01:00\n",
      "97381    11:13:00\n",
      "97382    11:02:00\n",
      "97383    11:17:00\n",
      "97384    11:01:00\n",
      "97385    11:16:00\n",
      "Length: 97386, dtype: object\n",
      "R: looking for  Actual_Departure in red_flights ['YEAR', 'MONTH', 'DAY', 'DAY_OF_WEEK', 'AIRLINE', 'FLIGHT_NUMBER', 'TAIL_NUMBER', 'ORIGIN_AIRPORT', 'DESTINATION_AIRPORT', 'SCHEDULED_DEPARTURE', 'DEPARTURE_TIME', 'DEPARTURE_DELAY', 'TAXI_OUT', 'WHEELS_OFF', 'SCHEDULED_TIME', 'ELAPSED_TIME', 'AIR_TIME', 'DISTANCE', 'WHEELS_ON', 'TAXI_IN', 'SCHEDULED_ARRIVAL', 'ARRIVAL_TIME', 'ARRIVAL_DELAY', 'DIVERTED', 'CANCELLED', 'CANCELLATION_REASON', 'AIR_SYSTEM_DELAY', 'SECURITY_DELAY', 'AIRLINE_DELAY', 'LATE_AIRCRAFT_DELAY', 'WEATHER_DELAY', 'auto_index']\n",
      "R: looking for  Actual_Departure in auto_generated_table_Actual_Departure ['Actual_Departure', 'auto_index']\n",
      "caught get [ red_flights.auto_index ]\n",
      "col_name red_flights.auto_index\n",
      "simple project red_flights.auto_index\n",
      "new lzpd stack {'red_flights': ['YEAR', 'MONTH', 'DAY', 'DAY_OF_WEEK', 'AIRLINE', 'FLIGHT_NUMBER', 'TAIL_NUMBER', 'ORIGIN_AIRPORT', 'DESTINATION_AIRPORT', 'SCHEDULED_DEPARTURE', 'DEPARTURE_TIME', 'DEPARTURE_DELAY', 'TAXI_OUT', 'WHEELS_OFF', 'SCHEDULED_TIME', 'ELAPSED_TIME', 'AIR_TIME', 'DISTANCE', 'WHEELS_ON', 'TAXI_IN', 'SCHEDULED_ARRIVAL', 'ARRIVAL_TIME', 'ARRIVAL_DELAY', 'DIVERTED', 'CANCELLED', 'CANCELLATION_REASON', 'AIR_SYSTEM_DELAY', 'SECURITY_DELAY', 'AIRLINE_DELAY', 'LATE_AIRCRAFT_DELAY', 'WEATHER_DELAY', 'auto_index'], 'auto_generated_table_Actual_Departure': ['Actual_Departure', 'auto_index']} select red_flights.auto_index\n",
      "from red_flights, auto_generated_table_Actual_Departure\n",
      "where (TAIL_NUMBER is not null) and (DEPARTURE_TIME is not null) and (DEPARTURE_DELAY is not null) and (TAXI_OUT is not null) and (WHEELS_OFF is not null) and (SCHEDULED_TIME is not null) and (ELAPSED_TIME is not null) and (AIR_TIME is not null) and (WHEELS_ON is not null) and (TAXI_IN is not null) and (ARRIVAL_TIME is not null) and (ARRIVAL_DELAY is not null) and (auto_generated_table_Actual_Departure.auto_index = red_flights.auto_index)\n",
      "\n",
      "1D\n",
      "cmd update auto_generated_table_Actual_Departure set Actual_Departure=08:09:00 where auto_generated_table_Actual_Departure.auto_index=1109;\n"
     ]
    },
    {
     "ename": "OperationalError",
     "evalue": "near \":09\": syntax error",
     "output_type": "error",
     "traceback": [
      "\u001b[0;31m---------------------------------------------------------------------------\u001b[0m",
      "\u001b[0;31mOperationalError\u001b[0m                          Traceback (most recent call last)",
      "\u001b[0;32m<ipython-input-26-0d0904053a97>\u001b[0m in \u001b[0;36m<module>\u001b[0;34m()\u001b[0m\n\u001b[1;32m      1\u001b[0m \u001b[0;31m# Applying the function to required variables in the dataset\u001b[0m\u001b[0;34m\u001b[0m\u001b[0;34m\u001b[0m\u001b[0;34m\u001b[0m\u001b[0m\n\u001b[0;32m----> 2\u001b[0;31m \u001b[0mdata2\u001b[0m\u001b[0;34m[\u001b[0m\u001b[0;34m'Actual_Departure'\u001b[0m\u001b[0;34m]\u001b[0m \u001b[0;34m=\u001b[0m\u001b[0mdata1\u001b[0m\u001b[0;34m[\u001b[0m\u001b[0;34m'DEPARTURE_TIME'\u001b[0m\u001b[0;34m]\u001b[0m\u001b[0;34m.\u001b[0m\u001b[0mapply\u001b[0m\u001b[0;34m(\u001b[0m\u001b[0mFormat_Hourmin\u001b[0m\u001b[0;34m)\u001b[0m\u001b[0;34m\u001b[0m\u001b[0;34m\u001b[0m\u001b[0m\n\u001b[0m\u001b[1;32m      3\u001b[0m \u001b[0mdata2\u001b[0m\u001b[0;34m[\u001b[0m\u001b[0;34m'Scheduled_Arrival'\u001b[0m\u001b[0;34m]\u001b[0m \u001b[0;34m=\u001b[0m\u001b[0mdata1\u001b[0m\u001b[0;34m[\u001b[0m\u001b[0;34m'SCHEDULED_ARRIVAL'\u001b[0m\u001b[0;34m]\u001b[0m\u001b[0;34m.\u001b[0m\u001b[0mapply\u001b[0m\u001b[0;34m(\u001b[0m\u001b[0mFormat_Hourmin\u001b[0m\u001b[0;34m)\u001b[0m\u001b[0;34m\u001b[0m\u001b[0;34m\u001b[0m\u001b[0m\n\u001b[1;32m      4\u001b[0m \u001b[0mdata2\u001b[0m\u001b[0;34m[\u001b[0m\u001b[0;34m'Scheduled_Departure'\u001b[0m\u001b[0;34m]\u001b[0m \u001b[0;34m=\u001b[0m\u001b[0mdata1\u001b[0m\u001b[0;34m[\u001b[0m\u001b[0;34m'SCHEDULED_DEPARTURE'\u001b[0m\u001b[0;34m]\u001b[0m\u001b[0;34m.\u001b[0m\u001b[0mapply\u001b[0m\u001b[0;34m(\u001b[0m\u001b[0mFormat_Hourmin\u001b[0m\u001b[0;34m)\u001b[0m\u001b[0;34m\u001b[0m\u001b[0;34m\u001b[0m\u001b[0m\n\u001b[1;32m      5\u001b[0m \u001b[0mdata2\u001b[0m\u001b[0;34m[\u001b[0m\u001b[0;34m'Actual_Arrival'\u001b[0m\u001b[0;34m]\u001b[0m \u001b[0;34m=\u001b[0m\u001b[0mdata1\u001b[0m\u001b[0;34m[\u001b[0m\u001b[0;34m'ARRIVAL_TIME'\u001b[0m\u001b[0;34m]\u001b[0m\u001b[0;34m.\u001b[0m\u001b[0mapply\u001b[0m\u001b[0;34m(\u001b[0m\u001b[0mFormat_Hourmin\u001b[0m\u001b[0;34m)\u001b[0m\u001b[0;34m\u001b[0m\u001b[0;34m\u001b[0m\u001b[0m\n",
      "\u001b[0;32m~/Desktop/DataBases_class/P7/databases_project7/demo_suite/demo9/lazypandas.py\u001b[0m in \u001b[0;36m__setitem__\u001b[0;34m(self, attribute, value)\u001b[0m\n\u001b[1;32m     56\u001b[0m             \u001b[0mtable\u001b[0m \u001b[0;34m=\u001b[0m \u001b[0mself\u001b[0m\u001b[0;34m.\u001b[0m\u001b[0mfind_table\u001b[0m\u001b[0;34m(\u001b[0m\u001b[0mattribute\u001b[0m\u001b[0;34m)\u001b[0m\u001b[0;34m\u001b[0m\u001b[0;34m\u001b[0m\u001b[0m\n\u001b[1;32m     57\u001b[0m             \u001b[0;32mif\u001b[0m \u001b[0mtable\u001b[0m \u001b[0;32mis\u001b[0m \u001b[0;32mnot\u001b[0m \u001b[0;32mNone\u001b[0m\u001b[0;34m:\u001b[0m \u001b[0;31m# if it is a know column\u001b[0m\u001b[0;34m\u001b[0m\u001b[0;34m\u001b[0m\u001b[0m\n\u001b[0;32m---> 58\u001b[0;31m                 \u001b[0mupdate_sql_data\u001b[0m\u001b[0;34m(\u001b[0m\u001b[0mtable\u001b[0m\u001b[0;34m,\u001b[0m \u001b[0mattribute\u001b[0m\u001b[0;34m,\u001b[0m \u001b[0mself\u001b[0m\u001b[0;34m.\u001b[0m\u001b[0mindex\u001b[0m\u001b[0;34m,\u001b[0m \u001b[0mvalue\u001b[0m\u001b[0;34m,\u001b[0m \u001b[0mcon\u001b[0m\u001b[0;34m=\u001b[0m\u001b[0mself\u001b[0m\u001b[0;34m.\u001b[0m\u001b[0mcon\u001b[0m\u001b[0;34m)\u001b[0m\u001b[0;34m\u001b[0m\u001b[0;34m\u001b[0m\u001b[0m\n\u001b[0m\u001b[1;32m     59\u001b[0m             \u001b[0;32melse\u001b[0m\u001b[0;34m:\u001b[0m \u001b[0;31m# if it is (?) a new column\u001b[0m\u001b[0;34m\u001b[0m\u001b[0;34m\u001b[0m\u001b[0m\n\u001b[1;32m     60\u001b[0m                 \u001b[0msqltype\u001b[0m \u001b[0;34m=\u001b[0m \u001b[0mget_types\u001b[0m\u001b[0;34m(\u001b[0m\u001b[0mstr\u001b[0m\u001b[0;34m(\u001b[0m\u001b[0mvalue\u001b[0m\u001b[0;34m)\u001b[0m\u001b[0;34m)\u001b[0m\u001b[0;34m\u001b[0m\u001b[0;34m\u001b[0m\u001b[0m\n",
      "\u001b[0;32m~/Desktop/DataBases_class/P7/databases_project7/demo_suite/demo9/util.py\u001b[0m in \u001b[0;36mupdate_sql_data\u001b[0;34m(table, attribute, index, value, con)\u001b[0m\n\u001b[1;32m    119\u001b[0m                     \u001b[0;34m\" where \"\u001b[0m \u001b[0;34m+\u001b[0m \u001b[0mtable\u001b[0m \u001b[0;34m+\u001b[0m \u001b[0;34m\".auto_index=\"\u001b[0m \u001b[0;34m+\u001b[0m \u001b[0mstr\u001b[0m\u001b[0;34m(\u001b[0m\u001b[0midx\u001b[0m\u001b[0;34m)\u001b[0m \u001b[0;34m+\u001b[0m \u001b[0;34m\";\"\u001b[0m\u001b[0;34m\u001b[0m\u001b[0;34m\u001b[0m\u001b[0m\n\u001b[1;32m    120\u001b[0m             \u001b[0mprint\u001b[0m\u001b[0;34m(\u001b[0m\u001b[0;34m'cmd'\u001b[0m\u001b[0;34m,\u001b[0m \u001b[0mcmd\u001b[0m\u001b[0;34m)\u001b[0m\u001b[0;34m\u001b[0m\u001b[0;34m\u001b[0m\u001b[0m\n\u001b[0;32m--> 121\u001b[0;31m             \u001b[0mcon\u001b[0m\u001b[0;34m.\u001b[0m\u001b[0mexecutescript\u001b[0m\u001b[0;34m(\u001b[0m\u001b[0mcmd\u001b[0m\u001b[0;34m)\u001b[0m\u001b[0;34m\u001b[0m\u001b[0;34m\u001b[0m\u001b[0m\n\u001b[0m\u001b[1;32m    122\u001b[0m \u001b[0;34m\u001b[0m\u001b[0m\n\u001b[1;32m    123\u001b[0m \u001b[0;34m\u001b[0m\u001b[0m\n",
      "\u001b[0;31mOperationalError\u001b[0m: near \":09\": syntax error"
     ]
    }
   ],
   "source": [
    "# Applying the function to required variables in the dataset\n",
    "data2['Actual_Departure'] =data1['DEPARTURE_TIME'].apply(Format_Hourmin)\n",
    "data2['Scheduled_Arrival'] =data1['SCHEDULED_ARRIVAL'].apply(Format_Hourmin)\n",
    "data2['Scheduled_Departure'] =data1['SCHEDULED_DEPARTURE'].apply(Format_Hourmin)\n",
    "data2['Actual_Arrival'] =data1['ARRIVAL_TIME'].apply(Format_Hourmin)\n"
   ]
  },
  {
   "cell_type": "code",
   "execution_count": null,
   "metadata": {
    "scrolled": true
   },
   "outputs": [],
   "source": [
    "airports = airports.dropna(subset = ['LATITUDE','LONGITUDE'])"
   ]
  },
  {
   "cell_type": "code",
   "execution_count": null,
   "metadata": {},
   "outputs": [],
   "source": [
    "data1 = data.dropna(subset = [\"TAIL_NUMBER\",'DEPARTURE_TIME','DEPARTURE_DELAY','TAXI_OUT','WHEELS_OFF','SCHEDULED_TIME',\n",
    "             'ELAPSED_TIME','AIR_TIME','WHEELS_ON','TAXI_IN','ARRIVAL_TIME','ARRIVAL_DELAY'])"
   ]
  },
  {
   "cell_type": "code",
   "execution_count": null,
   "metadata": {},
   "outputs": [],
   "source": [
    "data11 = data1.dropna(subset = ['AIR_SYSTEM_DELAY','SECURITY_DELAY','AIRLINE_DELAY','LATE_AIRCRAFT_DELAY','WEATHER_DELAY'])\n",
    "data11 = data11.drop(['YEAR','MONTH','DAY','DAY_OF_WEEK','TAIL_NUMBER','SCHEDULED_DEPARTURE','DEPARTURE_TIME','SCHEDULED_TIME',\n",
    "                     'SCHEDULED_ARRIVAL','ARRIVAL_TIME','DIVERTED','CANCELLED','CANCELLATION_REASON','FLIGHT_NUMBER','WHEELS_OFF',\n",
    "                     'WHEELS_ON','AIR_TIME'],axis = 1)"
   ]
  },
  {
   "cell_type": "code",
   "execution_count": null,
   "metadata": {
    "collapsed": true
   },
   "outputs": [],
   "source": [
    "# The other Dataset\n",
    "Flight_Delays = data11"
   ]
  },
  {
   "cell_type": "code",
   "execution_count": null,
   "metadata": {},
   "outputs": [],
   "source": [
    "# Creating Dataset by removing null values by not focussing fully on different types of Delays\n",
    "data2 = data1.drop(['CANCELLATION_REASON','AIR_SYSTEM_DELAY','SECURITY_DELAY','AIRLINE_DELAY',\n",
    "                    'LATE_AIRCRAFT_DELAY','WEATHER_DELAY'],axis = 1)"
   ]
  },
  {
   "cell_type": "code",
   "execution_count": null,
   "metadata": {},
   "outputs": [],
   "source": [
    "data2.shape"
   ]
  },
  {
   "cell_type": "code",
   "execution_count": null,
   "metadata": {
    "scrolled": true
   },
   "outputs": [],
   "source": [
    "data2.info()"
   ]
  },
  {
   "cell_type": "code",
   "execution_count": null,
   "metadata": {
    "collapsed": true
   },
   "outputs": [],
   "source": [
    "# Creating a function to change the way of representation of time in the column\n",
    "@np.vectorize\n",
    "def Format_Hourmin(hours):\n",
    "        if hours == 2400:\n",
    "            hours = 0\n",
    "        else:\n",
    "            hours = \"{0:04d}\".format(int(hours))\n",
    "            Hourmin = datetime.time(int(hours[0:2]), int(hours[2:4]))\n",
    "            return Hourmin"
   ]
  },
  {
   "cell_type": "code",
   "execution_count": null,
   "metadata": {},
   "outputs": [],
   "source": [
    "data1['CANCELLED']"
   ]
  },
  {
   "cell_type": "code",
   "execution_count": null,
   "metadata": {
    "collapsed": true,
    "scrolled": true
   },
   "outputs": [],
   "source": [
    "out = data1.execute('select month, airline, AVG(CANCELLED) from red_flights group by airline, month ').fetchall()\n",
    "m, a, rel = list(map(list, zip(*out)))\n"
   ]
  },
  {
   "cell_type": "code",
   "execution_count": null,
   "metadata": {},
   "outputs": [],
   "source": [
    "print(a)\n",
    "plt.plot(a, rel)\n",
    "plt.show()"
   ]
  },
  {
   "cell_type": "code",
   "execution_count": null,
   "metadata": {
    "scrolled": true
   },
   "outputs": [],
   "source": [
    "x = data1['DEPARTURE_TIME'].apply(Format_Hourmin)\n",
    "#data2['Actual_Departure'] = x\n",
    "x"
   ]
  },
  {
   "cell_type": "code",
   "execution_count": null,
   "metadata": {},
   "outputs": [],
   "source": [
    "plt.plot(data['ELAPSED_TIME'].array, data['DISTANCE'].array, '.')\n",
    "plt.show()"
   ]
  },
  {
   "cell_type": "code",
   "execution_count": null,
   "metadata": {},
   "outputs": [],
   "source": [
    "data = data.dropna(['DISTANCE', 'ARRIVAL_DELAY'])\n",
    "type(a)"
   ]
  },
  {
   "cell_type": "code",
   "execution_count": null,
   "metadata": {},
   "outputs": [],
   "source": [
    "x = data['DISTANCE'].to_pd().values.flatten()\n",
    "y = data['ARRIVAL_DELAY'].to_pd().values.flatten()\n",
    "\n",
    "heatmap, xedges, yedges = np.histogram2d(x, y, bins=16)\n",
    "plt.imshow(heatmap.T, origin='lower')\n",
    "plt.show()"
   ]
  },
  {
   "cell_type": "code",
   "execution_count": null,
   "metadata": {},
   "outputs": [],
   "source": [
    "a = data['DISTANCE']\n",
    "a.generate_stack()"
   ]
  },
  {
   "cell_type": "code",
   "execution_count": null,
   "metadata": {},
   "outputs": [],
   "source": [
    "from util import csvToDb, out_to_pd\n",
    "out = data.execute('select min(AIRLINE_DELAY) from red_flights')\n",
    "print(out.description[0])\n",
    "out.fetchone()\n",
    "#data.dotted_datatype"
   ]
  },
  {
   "cell_type": "code",
   "execution_count": null,
   "metadata": {
    "scrolled": true
   },
   "outputs": [],
   "source": [
    "a = data.to_pd()\n",
    "a.describe()"
   ]
  },
  {
   "cell_type": "code",
   "execution_count": null,
   "metadata": {},
   "outputs": [],
   "source": [
    "data.info()"
   ]
  },
  {
   "cell_type": "code",
   "execution_count": null,
   "metadata": {},
   "outputs": [],
   "source": [
    "# Merging on AIRLINE and IATA_CODE\n",
    "data2 = data2.merge(airlines, left_on='AIRLINE', right_on='IATA_CODE', how='inner')"
   ]
  },
  {
   "cell_type": "code",
   "execution_count": null,
   "metadata": {},
   "outputs": [],
   "source": [
    "data2['airlines.AIRLINE']"
   ]
  },
  {
   "cell_type": "code",
   "execution_count": null,
   "metadata": {
    "collapsed": true
   },
   "outputs": [],
   "source": []
  }
 ],
 "metadata": {
  "kernelspec": {
   "display_name": "Python 3",
   "language": "python",
   "name": "python3"
  },
  "language_info": {
   "codemirror_mode": {
    "name": "ipython",
    "version": 3
   },
   "file_extension": ".py",
   "mimetype": "text/x-python",
   "name": "python",
   "nbconvert_exporter": "python",
   "pygments_lexer": "ipython3",
   "version": "3.6.7"
  }
 },
 "nbformat": 4,
 "nbformat_minor": 2
}

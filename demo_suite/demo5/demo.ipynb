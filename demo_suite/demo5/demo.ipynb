{
 "cells": [
  {
   "cell_type": "code",
   "execution_count": 1,
   "metadata": {
    "collapsed": true
   },
   "outputs": [],
   "source": [
    "from pandas import pandas as pd\n",
    "import numpy as np\n",
    "import csv, sqlite3\n",
    "import logging\n",
    "import cProfile\n",
    "import mplib as mp"
   ]
  },
  {
   "cell_type": "code",
   "execution_count": 2,
   "metadata": {},
   "outputs": [
    {
     "name": "stdout",
     "output_type": "stream",
     "text": [
      "over read_csv () {}\n",
      "over con () {}\n",
      "Creating engine\n",
      "caught []\n",
      "caught eq\n",
      "caught []\n",
      "caught []\n",
      " lazy Df <sqlite3.Connection object at 0x7fae14a2c8f0>\n",
      "project gender \n",
      "predicate equal Male \n",
      "project df \n",
      "project slice(None, 4, None) \n",
      "\n",
      "\n",
      "True\n"
     ]
    }
   ],
   "source": [
    "number_of_test_subjects = 4\n",
    "lz = mp.lazy_pandas()\n",
    "client_info = lz.read_csv('../MOCK_DATA/mock_data_1.csv')\n",
    "male_clients = client_info['gender'] == 'Male'\n",
    "test_male_client = client_info[ male_clients ][:number_of_test_subjects]\n",
    "print(test_male_client)\n",
    "\n",
    "print(client_info is male_clients)"
   ]
  },
  {
   "cell_type": "code",
   "execution_count": 7,
   "metadata": {},
   "outputs": [
    {
     "name": "stdout",
     "output_type": "stream",
     "text": [
      "0     False\n",
      "1      True\n",
      "2     False\n",
      "3      True\n",
      "4      True\n",
      "5     False\n",
      "6      True\n",
      "7      True\n",
      "8      True\n",
      "9     False\n",
      "10    False\n",
      "11    False\n",
      "12    False\n",
      "13     True\n",
      "14    False\n",
      "15     True\n",
      "16    False\n",
      "17     True\n",
      "18     True\n",
      "19     True\n",
      "20     True\n",
      "21    False\n",
      "22     True\n",
      "23    False\n",
      "24    False\n",
      "25    False\n",
      "26    False\n",
      "27    False\n",
      "28    False\n",
      "29     True\n",
      "      ...  \n",
      "70     True\n",
      "71     True\n",
      "72    False\n",
      "73     True\n",
      "74     True\n",
      "75    False\n",
      "76    False\n",
      "77    False\n",
      "78    False\n",
      "79    False\n",
      "80    False\n",
      "81    False\n",
      "82    False\n",
      "83     True\n",
      "84    False\n",
      "85     True\n",
      "86    False\n",
      "87     True\n",
      "88     True\n",
      "89    False\n",
      "90    False\n",
      "91     True\n",
      "92    False\n",
      "93    False\n",
      "94    False\n",
      "95     True\n",
      "96    False\n",
      "97     True\n",
      "98    False\n",
      "99     True\n",
      "Name: gender, Length: 100, dtype: bool\n",
      "         6961 function calls (6915 primitive calls) in 0.011 seconds\n",
      "\n",
      "   Ordered by: cumulative time\n",
      "   List reduced from 494 to 2 due to restriction <2>\n",
      "\n",
      "   ncalls  tottime  percall  cumtime  percall filename:lineno(function)\n",
      "        1    0.000    0.000    0.006    0.006 {built-in method builtins.print}\n",
      "        1    0.000    0.000    0.006    0.006 /home/marcello/anaconda3/lib/python3.6/site-packages/pandas/core/base.py:42(__str__)\n",
      "\n",
      "\n",
      "\n",
      "         394 function calls in 0.001 seconds\n",
      "\n",
      "   Ordered by: cumulative time\n",
      "   List reduced from 37 to 2 due to restriction <2>\n",
      "\n",
      "   ncalls  tottime  percall  cumtime  percall filename:lineno(function)\n",
      "        1    0.000    0.000    0.001    0.001 /home/marcello/Desktop/DataBases_class/P7/databases_project7/demo_suite/demo5/mplib.py:85(csvToDb)\n",
      "        1    0.000    0.000    0.001    0.001 {method 'executemany' of 'sqlite3.Cursor' objects}\n",
      "\n",
      "\n",
      "\n",
      "61.75.73.233 | 61.75.73.233\n",
      "140.135.125.62 | 140.135.125.62\n",
      "198.116.8.254 | 198.116.8.254\n",
      "240.193.252.193 | 240.193.252.193\n",
      "     PASSED\n"
     ]
    }
   ],
   "source": [
    "number_of_test_subjects = 8\n",
    "## pandas\n",
    "with mp.Profiler(2):\n",
    "    client_info = pd.read_csv('../MOCK_DATA/mock_data_1.csv')\n",
    "    male_clients = client_info['gender'] == 'Male'\n",
    "    test_male_client = client_info[ male_clients ][:number_of_test_subjects]\n",
    "    pd_out = test_male_client.ip_address\n",
    "\n",
    "## sqlite3\n",
    "with mp.Profiler(2):\n",
    "    con = sqlite3.connect(':memory:') # or file or ?\n",
    "    db = mp.csvToDb('../MOCK_DATA/mock_data_1.csv', con=con, table_name='client_info')\n",
    "    query = \"\"\"\n",
    "    select ip_address\n",
    "    from client_info\n",
    "    where gender = 'Male'\n",
    "    limit \"\"\" + str(number_of_test_subjects) + \"\"\"\n",
    "    \"\"\"\n",
    "    sql_out = db.execute(query)\n",
    "    sql_label = [description[0] for description in sql_out.description]\n",
    "    sql_data = sql_out.fetchall()\n",
    "\n",
    "## now check\n",
    "for i, (sql_x, pd_x) in enumerate(zip(sql_data, pd_out)):\n",
    "    if i < number_of_test_subjects//2:\n",
    "        print(sql_x[0], '|', pd_x)\n",
    "    assert sql_x[0] == pd_x\n",
    "print('     PASSED')"
   ]
  },
  {
   "cell_type": "code",
   "execution_count": 4,
   "metadata": {},
   "outputs": [
    {
     "name": "stdout",
     "output_type": "stream",
     "text": [
      "email company name\n",
      "------------------\n",
      "         160777 function calls (160773 primitive calls) in 0.104 seconds\n",
      "\n",
      "   Ordered by: cumulative time\n",
      "   List reduced from 89 to 2 due to restriction <2>\n",
      "\n",
      "   ncalls  tottime  percall  cumtime  percall filename:lineno(function)\n",
      "     2001    0.003    0.000    0.077    0.000 /home/marcello/anaconda3/lib/python3.6/site-packages/pandas/core/series.py:1049(__iter__)\n",
      "     2001    0.004    0.000    0.070    0.000 /home/marcello/anaconda3/lib/python3.6/site-packages/pandas/core/dtypes/common.py:609(is_datetimelike)\n",
      "\n",
      "\n",
      "\n",
      "[('keble29@usatoday.com', 'Wordware', 'Karly'), ('dkobud@google.es', 'Wikivu', 'Durand'), ('keble29@usatoday.com', 'Dabshots', 'Karly')]\n"
     ]
    }
   ],
   "source": [
    "client_info = pd.read_csv('../MOCK_DATA/mock_data_1.csv')\n",
    "works_at = pd.read_csv('../MOCK_DATA/mock_data_2.csv')\n",
    "\n",
    "# dumb pandas\n",
    "print('email company name')\n",
    "print('------------------')\n",
    "res = []\n",
    "with mp.Profiler(2):\n",
    "    for id_w, w in enumerate(works_at.email):\n",
    "        for id_c, c in enumerate(client_info.email):\n",
    "            if w == c:\n",
    "                res.append((works_at.email[id_w], works_at.company[id_w], client_info.first_name[id_c]))\n",
    "print(res)"
   ]
  },
  {
   "cell_type": "code",
   "execution_count": 5,
   "metadata": {},
   "outputs": [
    {
     "name": "stdout",
     "output_type": "stream",
     "text": [
      "email company name\n",
      "------------------\n",
      "         4167 function calls (4099 primitive calls) in 0.009 seconds\n",
      "\n",
      "   Ordered by: cumulative time\n",
      "   List reduced from 257 to 2 due to restriction <2>\n",
      "\n",
      "   ncalls  tottime  percall  cumtime  percall filename:lineno(function)\n",
      "       15    0.000    0.000    0.006    0.000 /home/marcello/anaconda3/lib/python3.6/site-packages/pandas/core/frame.py:1940(__getitem__)\n",
      "        5    0.000    0.000    0.005    0.001 /home/marcello/anaconda3/lib/python3.6/site-packages/pandas/core/frame.py:1983(_getitem_array)\n",
      "\n",
      "\n",
      "\n",
      "[['keble29@usatoday.com', 'Wordware', 'Karly'], ['dkobud@google.es', 'Wikivu', 'Durand'], ['keble29@usatoday.com', 'Dabshots', 'Karly']]\n"
     ]
    }
   ],
   "source": [
    "## pandas\n",
    "print('email company name')\n",
    "print('------------------')\n",
    "res = []\n",
    "with mp.Profiler(2):\n",
    "    matches = works_at.email.isin(client_info.email)\n",
    "    for email, company in zip( works_at[matches].email, works_at[matches].company):\n",
    "        guy = client_info[client_info.email == email]\n",
    "        res.append([email, company, guy.first_name.values[0]])\n",
    "print(res)\n"
   ]
  },
  {
   "cell_type": "code",
   "execution_count": 6,
   "metadata": {},
   "outputs": [
    {
     "name": "stdout",
     "output_type": "stream",
     "text": [
      "         5 function calls in 0.003 seconds\n",
      "\n",
      "   Ordered by: cumulative time\n",
      "   List reduced from 5 to 2 due to restriction <2>\n",
      "\n",
      "   ncalls  tottime  percall  cumtime  percall filename:lineno(function)\n",
      "        1    0.002    0.002    0.002    0.002 {method 'execute' of 'sqlite3.Connection' objects}\n",
      "        1    0.000    0.000    0.000    0.000 {method 'fetchall' of 'sqlite3.Cursor' objects}\n",
      "\n",
      "\n",
      "\n",
      "[('email', 'company', 'last_name'), ('dkobud@google.es', 'Wikivu', 'Kobu'), ('keble29@usatoday.com', 'Dabshots', 'Eble'), ('keble29@usatoday.com', 'Wordware', 'Eble')]\n"
     ]
    }
   ],
   "source": [
    "## sql\n",
    "con = sqlite3.connect(':memory:') # or file or ?\n",
    "a = mp.csvToDb('../MOCK_DATA/mock_data_1.csv', con=con, table_name='client_info')\n",
    "b = mp.csvToDb('../MOCK_DATA/mock_data_2.csv', con=con, table_name='works_at')\n",
    "with mp.Profiler(2):\n",
    "    query = \"\"\"\n",
    "    select works_at.email, works_at.company, client_info.last_name\n",
    "    from client_info, works_at\n",
    "    where client_info.email = works_at.email\n",
    "    \"\"\"\n",
    "    sql_out = con.execute(query)\n",
    "    sql_label = [description[0] for description in sql_out.description]\n",
    "    sql_data = sql_out.fetchall()\n",
    "print(sql_data)"
   ]
  },
  {
   "cell_type": "code",
   "execution_count": null,
   "metadata": {
    "collapsed": true
   },
   "outputs": [],
   "source": []
  },
  {
   "cell_type": "code",
   "execution_count": null,
   "metadata": {
    "collapsed": true
   },
   "outputs": [],
   "source": []
  }
 ],
 "metadata": {
  "kernelspec": {
   "display_name": "Python 3",
   "language": "python",
   "name": "python3"
  },
  "language_info": {
   "codemirror_mode": {
    "name": "ipython",
    "version": 3
   },
   "file_extension": ".py",
   "mimetype": "text/x-python",
   "name": "python",
   "nbconvert_exporter": "python",
   "pygments_lexer": "ipython3",
   "version": "3.6.7"
  }
 },
 "nbformat": 4,
 "nbformat_minor": 2
}

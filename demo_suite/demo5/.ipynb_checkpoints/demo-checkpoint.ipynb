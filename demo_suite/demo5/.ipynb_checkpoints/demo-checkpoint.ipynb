{
 "cells": [
  {
   "cell_type": "code",
   "execution_count": 1,
   "metadata": {
    "collapsed": true
   },
   "outputs": [],
   "source": [
    "from pandas import pandas as pd\n",
    "import numpy as np\n",
    "import csv, sqlite3\n",
    "import logging\n",
    "import cProfile"
   ]
  },
  {
   "cell_type": "code",
   "execution_count": 104,
   "metadata": {
    "collapsed": true
   },
   "outputs": [],
   "source": []
  },
  {
   "cell_type": "code",
   "execution_count": 105,
   "metadata": {
    "collapsed": true
   },
   "outputs": [],
   "source": []
  },
  {
   "cell_type": "code",
   "execution_count": 106,
   "metadata": {},
   "outputs": [
    {
     "name": "stdout",
     "output_type": "stream",
     "text": [
      "over read_csv () {}\n",
      "over con () {}\n",
      "Creating engine\n",
      "caught []\n",
      "caught eq\n",
      "caught []\n",
      "caught []\n",
      " lazy Df <sqlite3.Connection object at 0x7f04976b3570>\n",
      "project gender \n",
      "predicate equal Male \n",
      "project df \n",
      "project slice(None, 4, None) \n",
      "\n",
      "\n",
      "True\n"
     ]
    }
   ],
   "source": [
    "number_of_test_subjects = 4\n",
    "lz = lazy_pandas()\n",
    "client_info = lz.read_csv('../MOCK_DATA/mock_data_1.csv')\n",
    "male_clients = client_info['gender'] == 'Male'\n",
    "test_male_client = client_info[ male_clients ][:number_of_test_subjects]\n",
    "print(test_male_client)\n",
    "\n",
    "print(client_info is male_clients)"
   ]
  },
  {
   "cell_type": "code",
   "execution_count": 107,
   "metadata": {},
   "outputs": [
    {
     "name": "stdout",
     "output_type": "stream",
     "text": [
      "         2630 function calls (2607 primitive calls) in 0.004 seconds\n",
      "\n",
      "   Ordered by: cumulative time\n",
      "   List reduced from 345 to 2 due to restriction <2>\n",
      "\n",
      "   ncalls  tottime  percall  cumtime  percall filename:lineno(function)\n",
      "        1    0.000    0.000    0.003    0.003 /home/marcello/anaconda3/lib/python3.6/site-packages/pandas/io/parsers.py:503(parser_f)\n",
      "        1    0.000    0.000    0.003    0.003 /home/marcello/anaconda3/lib/python3.6/site-packages/pandas/io/parsers.py:382(_read)\n",
      "\n",
      "\n",
      "\n",
      "         394 function calls in 0.001 seconds\n",
      "\n",
      "   Ordered by: cumulative time\n",
      "   List reduced from 37 to 2 due to restriction <2>\n",
      "\n",
      "   ncalls  tottime  percall  cumtime  percall filename:lineno(function)\n",
      "        1    0.000    0.000    0.001    0.001 <ipython-input-104-2f80e3514661>:80(csvToDb)\n",
      "        1    0.000    0.000    0.001    0.001 {method 'executemany' of 'sqlite3.Cursor' objects}\n",
      "\n",
      "\n",
      "\n",
      "61.75.73.233 | 61.75.73.233\n",
      "140.135.125.62 | 140.135.125.62\n",
      "198.116.8.254 | 198.116.8.254\n",
      "240.193.252.193 | 240.193.252.193\n",
      "     PASSED\n"
     ]
    }
   ],
   "source": [
    "number_of_test_subjects = 8\n",
    "## pandas\n",
    "with Profiler(2):\n",
    "    client_info = pd.read_csv('../MOCK_DATA/mock_data_1.csv')\n",
    "    male_clients = client_info['gender'] == 'Male'\n",
    "    test_male_client = client_info[ male_clients ][:number_of_test_subjects]\n",
    "    pd_out = test_male_client.ip_address\n",
    "\n",
    "## sqlite3\n",
    "with Profiler(2):\n",
    "    con = sqlite3.connect(':memory:') # or file or ?\n",
    "    db = csvToDb('../MOCK_DATA/mock_data_1.csv', con=con, table_name='client_info')\n",
    "    query = \"\"\"\n",
    "    select ip_address\n",
    "    from client_info\n",
    "    where gender = 'Male'\n",
    "    limit \"\"\" + str(number_of_test_subjects) + \"\"\"\n",
    "    \"\"\"\n",
    "    sql_out = db.execute(query)\n",
    "    sql_label = [description[0] for description in sql_out.description]\n",
    "    sql_data = sql_out.fetchall()\n",
    "\n",
    "## now check\n",
    "for i, (sql_x, pd_x) in enumerate(zip(sql_data, pd_out)):\n",
    "    if i < number_of_test_subjects//2:\n",
    "        print(sql_x[0], '|', pd_x)\n",
    "    assert sql_x[0] == pd_x\n",
    "print('     PASSED')"
   ]
  },
  {
   "cell_type": "code",
   "execution_count": 108,
   "metadata": {},
   "outputs": [
    {
     "name": "stdout",
     "output_type": "stream",
     "text": [
      "email company name\n",
      "------------------\n",
      "         160777 function calls (160773 primitive calls) in 0.100 seconds\n",
      "\n",
      "   Ordered by: cumulative time\n",
      "   List reduced from 89 to 2 due to restriction <2>\n",
      "\n",
      "   ncalls  tottime  percall  cumtime  percall filename:lineno(function)\n",
      "     2001    0.003    0.000    0.074    0.000 /home/marcello/anaconda3/lib/python3.6/site-packages/pandas/core/series.py:1049(__iter__)\n",
      "     2001    0.004    0.000    0.067    0.000 /home/marcello/anaconda3/lib/python3.6/site-packages/pandas/core/dtypes/common.py:609(is_datetimelike)\n",
      "\n",
      "\n",
      "\n",
      "[('keble29@usatoday.com', 'Wordware', 'Karly'), ('dkobud@google.es', 'Wikivu', 'Durand'), ('keble29@usatoday.com', 'Dabshots', 'Karly')]\n"
     ]
    }
   ],
   "source": [
    "client_info = pd.read_csv('../MOCK_DATA/mock_data_1.csv')\n",
    "works_at = pd.read_csv('../MOCK_DATA/mock_data_2.csv')\n",
    "\n",
    "# dumb pandas\n",
    "print('email company name')\n",
    "print('------------------')\n",
    "res = []\n",
    "with Profiler(2):\n",
    "    for id_w, w in enumerate(works_at.email):\n",
    "        for id_c, c in enumerate(client_info.email):\n",
    "            if w == c:\n",
    "                res.append((works_at.email[id_w], works_at.company[id_w], client_info.first_name[id_c]))\n",
    "print(res)"
   ]
  },
  {
   "cell_type": "code",
   "execution_count": 109,
   "metadata": {},
   "outputs": [
    {
     "name": "stdout",
     "output_type": "stream",
     "text": [
      "email company name\n",
      "------------------\n",
      "         4167 function calls (4099 primitive calls) in 0.005 seconds\n",
      "\n",
      "   Ordered by: cumulative time\n",
      "   List reduced from 257 to 2 due to restriction <2>\n",
      "\n",
      "   ncalls  tottime  percall  cumtime  percall filename:lineno(function)\n",
      "       15    0.000    0.000    0.003    0.000 /home/marcello/anaconda3/lib/python3.6/site-packages/pandas/core/frame.py:1940(__getitem__)\n",
      "        5    0.000    0.000    0.003    0.001 /home/marcello/anaconda3/lib/python3.6/site-packages/pandas/core/frame.py:1983(_getitem_array)\n",
      "\n",
      "\n",
      "\n",
      "[['keble29@usatoday.com', 'Wordware', 'Karly'], ['dkobud@google.es', 'Wikivu', 'Durand'], ['keble29@usatoday.com', 'Dabshots', 'Karly']]\n"
     ]
    }
   ],
   "source": [
    "## pandas\n",
    "print('email company name')\n",
    "print('------------------')\n",
    "res = []\n",
    "with Profiler(2):\n",
    "    matches = works_at.email.isin(client_info.email)\n",
    "    for email, company in zip( works_at[matches].email, works_at[matches].company):\n",
    "        guy = client_info[client_info.email == email]\n",
    "        res.append([email, company, guy.first_name.values[0]])\n",
    "print(res)\n"
   ]
  },
  {
   "cell_type": "code",
   "execution_count": 111,
   "metadata": {},
   "outputs": [
    {
     "name": "stdout",
     "output_type": "stream",
     "text": [
      "         5 function calls in 0.002 seconds\n",
      "\n",
      "   Ordered by: cumulative time\n",
      "   List reduced from 5 to 2 due to restriction <2>\n",
      "\n",
      "   ncalls  tottime  percall  cumtime  percall filename:lineno(function)\n",
      "        1    0.002    0.002    0.002    0.002 {method 'execute' of 'sqlite3.Connection' objects}\n",
      "        1    0.000    0.000    0.000    0.000 {method 'fetchall' of 'sqlite3.Cursor' objects}\n",
      "\n",
      "\n",
      "\n",
      "[('email', 'company', 'last_name'), ('dkobud@google.es', 'Wikivu', 'Kobu'), ('keble29@usatoday.com', 'Dabshots', 'Eble'), ('keble29@usatoday.com', 'Wordware', 'Eble')]\n"
     ]
    }
   ],
   "source": [
    "## sql\n",
    "con = sqlite3.connect(':memory:') # or file or ?\n",
    "a = csvToDb('../MOCK_DATA/mock_data_1.csv', con=con, table_name='client_info')\n",
    "b = csvToDb('../MOCK_DATA/mock_data_2.csv', con=con, table_name='works_at')\n",
    "with Profiler(2):\n",
    "    query = \"\"\"\n",
    "    select works_at.email, works_at.company, client_info.last_name\n",
    "    from client_info, works_at\n",
    "    where client_info.email = works_at.email\n",
    "    \"\"\"\n",
    "    sql_out = con.execute(query)\n",
    "    sql_label = [description[0] for description in sql_out.description]\n",
    "    sql_data = sql_out.fetchall()\n",
    "print(sql_data)"
   ]
  },
  {
   "cell_type": "code",
   "execution_count": null,
   "metadata": {
    "collapsed": true
   },
   "outputs": [],
   "source": []
  },
  {
   "cell_type": "code",
   "execution_count": null,
   "metadata": {
    "collapsed": true
   },
   "outputs": [],
   "source": []
  }
 ],
 "metadata": {
  "kernelspec": {
   "display_name": "Python 3",
   "language": "python",
   "name": "python3"
  },
  "language_info": {
   "codemirror_mode": {
    "name": "ipython",
    "version": 3
   },
   "file_extension": ".py",
   "mimetype": "text/x-python",
   "name": "python",
   "nbconvert_exporter": "python",
   "pygments_lexer": "ipython3",
   "version": "3.6.7"
  }
 },
 "nbformat": 4,
 "nbformat_minor": 2
}

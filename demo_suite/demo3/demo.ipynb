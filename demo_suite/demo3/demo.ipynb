{
 "cells": [
  {
   "cell_type": "code",
   "execution_count": 1,
   "metadata": {
    "collapsed": true
   },
   "outputs": [],
   "source": [
    "import pandas as pd\n",
    "import numpy as np\n",
    "import csv, sqlite3\n",
    "import logging\n",
    "import cProfile"
   ]
  },
  {
   "cell_type": "code",
   "execution_count": 2,
   "metadata": {
    "collapsed": true
   },
   "outputs": [],
   "source": [
    "### utilities\n",
    "\n",
    "def _get_col_datatypes(fin):\n",
    "    \"\"\"from https://stackoverflow.com/questions/2887878/importing-a-csv-file-into-a-sqlite3-database-table-using-python \"\"\"\n",
    "    dr = csv.DictReader(fin) # comma is default delimiter\n",
    "    fieldTypes = {}\n",
    "    for entry in dr:\n",
    "        feildslLeft = [f for f in dr.fieldnames if f not in fieldTypes.keys()]\n",
    "        if not feildslLeft: break # We're done\n",
    "        for field in feildslLeft:\n",
    "            data = entry[field]\n",
    "\n",
    "            # Need data to decide\n",
    "            if len(data) == 0:\n",
    "                continue\n",
    "\n",
    "            if data.isdigit():\n",
    "                fieldTypes[field] = \"INTEGER\"\n",
    "            else:\n",
    "                fieldTypes[field] = \"TEXT\"\n",
    "        # TODO: Currently there's no support for DATE in sqllite\n",
    "\n",
    "    if len(feildslLeft) > 0:\n",
    "        raise Exception(\"Failed to find all the columns data types - Maybe some are empty?\")\n",
    "\n",
    "    return fieldTypes\n",
    "\n",
    "\n",
    "def escapingGenerator(f):\n",
    "    \"\"\"from https://stackoverflow.com/questions/2887878/importing-a-csv-file-into-a-sqlite3-database-table-using-python \"\"\"\n",
    "    for line in f:\n",
    "        yield line.encode(\"ascii\", \"xmlcharrefreplace\").decode(\"ascii\")\n",
    "\n",
    "\n",
    "def csvToDb(csvFile, outputToFile = False, con=None, table_name=None):\n",
    "    \"\"\" from https://stackoverflow.com/questions/2887878/importing-a-csv-file-into-a-sqlite3-database-table-using-python \n",
    "    with small changes \"\"\"\n",
    "    # TODO: implement output to file\n",
    "    if table_name is None:\n",
    "        table_name = 'ads'\n",
    "\n",
    "    with open(csvFile,mode='r', encoding=\"ISO-8859-1\") as fin:\n",
    "        dt = _get_col_datatypes(fin)\n",
    "\n",
    "        fin.seek(0)\n",
    "\n",
    "        reader = csv.DictReader(fin)\n",
    "\n",
    "        # Keep the order of the columns name just as in the CSV\n",
    "        fields = reader.fieldnames\n",
    "        cols = []\n",
    "\n",
    "        # Set field and type\n",
    "        for f in fields:\n",
    "            cols.append(\"%s %s\" % (f, dt[f]))\n",
    "\n",
    "        # Generate create table statement:\n",
    "        stmt = \"CREATE TABLE \" + table_name + \" (%s)\" % \",\".join(cols)\n",
    "        if con is None:\n",
    "            print('Creating engine')\n",
    "            con = sqlite3.connect(\":memory:\")\n",
    "        cur = con.cursor()\n",
    "        cur.execute(stmt)\n",
    "\n",
    "        fin.seek(0)\n",
    "\n",
    "\n",
    "        reader = csv.reader(escapingGenerator(fin))\n",
    "\n",
    "        # Generate insert statement:\n",
    "        stmt = \"INSERT INTO \" + table_name + \" VALUES(%s);\" % ','.join('?' * len(cols))\n",
    "\n",
    "        cur.executemany(stmt, reader)\n",
    "        con.commit()\n",
    "\n",
    "    return con\n",
    "\n",
    "class Profiler():\n",
    "    \"\"\" ctxtM for old python without profile\"\"\"\n",
    "    def __init__(self, nlines):\n",
    "        self.nlines = nlines\n",
    "\n",
    "    def __enter__(self):\n",
    "        self.pr = cProfile.Profile()\n",
    "        self.pr.enable()\n",
    "\n",
    "    def __exit__(self, *args):\n",
    "        import pstats, io\n",
    "        self.pr.disable()\n",
    "        s = io.StringIO()\n",
    "        sortby = 'cumulative'\n",
    "        ps = pstats.Stats(self.pr, stream=s).sort_stats(sortby)\n",
    "        ps.print_stats(self.nlines)\n",
    "        print(s.getvalue())\n",
    "### end of utilities"
   ]
  },
  {
   "cell_type": "code",
   "execution_count": 3,
   "metadata": {},
   "outputs": [
    {
     "name": "stdout",
     "output_type": "stream",
     "text": [
      "         2633 function calls (2610 primitive calls) in 0.006 seconds\n",
      "\n",
      "   Ordered by: cumulative time\n",
      "   List reduced from 346 to 2 due to restriction <2>\n",
      "\n",
      "   ncalls  tottime  percall  cumtime  percall filename:lineno(function)\n",
      "        1    0.000    0.000    0.003    0.003 /home/marcello/anaconda3/lib/python3.6/site-packages/pandas/io/parsers.py:503(parser_f)\n",
      "        1    0.000    0.000    0.003    0.003 /home/marcello/anaconda3/lib/python3.6/site-packages/pandas/io/parsers.py:382(_read)\n",
      "\n",
      "\n",
      "\n",
      "         423 function calls in 0.002 seconds\n",
      "\n",
      "   Ordered by: cumulative time\n",
      "   List reduced from 44 to 2 due to restriction <2>\n",
      "\n",
      "   ncalls  tottime  percall  cumtime  percall filename:lineno(function)\n",
      "        1    0.000    0.000    0.001    0.001 <ipython-input-2-798a2db6f8e2>:35(csvToDb)\n",
      "        1    0.000    0.000    0.001    0.001 {method 'executemany' of 'sqlite3.Cursor' objects}\n",
      "\n",
      "\n",
      "\n",
      "61.75.73.233 | 61.75.73.233\n",
      "140.135.125.62 | 140.135.125.62\n",
      "198.116.8.254 | 198.116.8.254\n",
      "240.193.252.193 | 240.193.252.193\n",
      "     PASSED\n"
     ]
    }
   ],
   "source": [
    "number_of_test_subjects = 8\n",
    "## pandas\n",
    "with Profiler(2):\n",
    "    client_info = pd.read_csv('../MOCK_DATA/mock_data_1.csv')\n",
    "    male_clients = client_info['gender'] == 'Male'\n",
    "    test_male_client = client_info[ male_clients ][:number_of_test_subjects]\n",
    "    pd_out = test_male_client.ip_address\n",
    "\n",
    "## sqlite3\n",
    "with Profiler(2):\n",
    "    con = sqlite3.connect(':memory:') # or file or ?\n",
    "    con = csvToDb('../MOCK_DATA/mock_data_1.csv', con=con, table_name='client_info')\n",
    "    query = \"\"\"\n",
    "    select ip_address\n",
    "    from client_info\n",
    "    where gender = 'Male'\n",
    "    limit \"\"\" + str(number_of_test_subjects) + \"\"\"\n",
    "    \"\"\"\n",
    "    sql_out = con.execute(query)\n",
    "    sql_label = [description[0] for description in sql_out.description]\n",
    "    sql_data = sql_out.fetchall()\n",
    "\n",
    "## now check\n",
    "for i, (sql_x, pd_x) in enumerate(zip(sql_data, pd_out)):\n",
    "    if i < number_of_test_subjects//2:\n",
    "        print(sql_x[0], '|', pd_x)\n",
    "    assert sql_x[0] == pd_x\n",
    "print('     PASSED')"
   ]
  },
  {
   "cell_type": "code",
   "execution_count": 4,
   "metadata": {},
   "outputs": [
    {
     "name": "stdout",
     "output_type": "stream",
     "text": [
      "email company name\n",
      "------------------\n",
      "keble29@usatoday.com Wordware Karly\n",
      "dkobud@google.es Wikivu Durand\n",
      "keble29@usatoday.com Dabshots Karly\n",
      "         81050 function calls (81046 primitive calls) in 0.059 seconds\n",
      "\n",
      "   Ordered by: cumulative time\n",
      "   List reduced from 100 to 2 due to restriction <2>\n",
      "\n",
      "   ncalls  tottime  percall  cumtime  percall filename:lineno(function)\n",
      "     1001    0.001    0.000    0.043    0.000 /home/marcello/anaconda3/lib/python3.6/site-packages/pandas/core/series.py:1049(__iter__)\n",
      "     1001    0.002    0.000    0.039    0.000 /home/marcello/anaconda3/lib/python3.6/site-packages/pandas/core/dtypes/common.py:609(is_datetimelike)\n",
      "\n",
      "\n",
      "\n"
     ]
    }
   ],
   "source": [
    "client_info = pd.read_csv('../MOCK_DATA/mock_data_1.csv')\n",
    "works_at = pd.read_csv('../MOCK_DATA/mock_data_2.csv')\n",
    "\n",
    "# dumb pandas\n",
    "with Profiler(2):\n",
    "    print('email company name')\n",
    "    print('------------------')\n",
    "    for id_w, w in enumerate(works_at.email):\n",
    "        for id_c, c in enumerate(client_info.email):\n",
    "            if w == c:\n",
    "                print(works_at.email[id_w], works_at.company[id_w], client_info.first_name[id_c])"
   ]
  },
  {
   "cell_type": "code",
   "execution_count": 5,
   "metadata": {},
   "outputs": [
    {
     "name": "stdout",
     "output_type": "stream",
     "text": [
      "email company name\n",
      "------------------\n",
      "keble29@usatoday.com Wordware Karly\n",
      "dkobud@google.es Wikivu Durand\n",
      "keble29@usatoday.com Dabshots Karly\n",
      "         4440 function calls (4372 primitive calls) in 0.009 seconds\n",
      "\n",
      "   Ordered by: cumulative time\n",
      "   List reduced from 268 to 2 due to restriction <2>\n",
      "\n",
      "   ncalls  tottime  percall  cumtime  percall filename:lineno(function)\n",
      "       15    0.000    0.000    0.004    0.000 /home/marcello/anaconda3/lib/python3.6/site-packages/pandas/core/frame.py:1940(__getitem__)\n",
      "        5    0.000    0.000    0.003    0.001 /home/marcello/anaconda3/lib/python3.6/site-packages/pandas/core/frame.py:1983(_getitem_array)\n",
      "\n",
      "\n",
      "\n"
     ]
    }
   ],
   "source": [
    "## pandas\n",
    "with Profiler(2):\n",
    "    matches = works_at.email.isin(client_info.email)\n",
    "    print('email company name')\n",
    "    print('------------------')\n",
    "    for email, company in zip( works_at[matches].email, works_at[matches].company):\n",
    "        guy = client_info[client_info.email == email]\n",
    "        print(email, company, guy.first_name.values[0])\n"
   ]
  },
  {
   "cell_type": "code",
   "execution_count": 6,
   "metadata": {},
   "outputs": [
    {
     "name": "stdout",
     "output_type": "stream",
     "text": [
      "[('email', 'company', 'last_name'), ('dkobud@google.es', 'Wikivu', 'Kobu'), ('keble29@usatoday.com', 'Dabshots', 'Eble'), ('keble29@usatoday.com', 'Wordware', 'Eble')]\n",
      "         3499 function calls in 0.008 seconds\n",
      "\n",
      "   Ordered by: cumulative time\n",
      "   List reduced from 46 to 2 due to restriction <2>\n",
      "\n",
      "   ncalls  tottime  percall  cumtime  percall filename:lineno(function)\n",
      "        2    0.000    0.000    0.007    0.003 <ipython-input-2-798a2db6f8e2>:35(csvToDb)\n",
      "        2    0.004    0.002    0.006    0.003 {method 'executemany' of 'sqlite3.Cursor' objects}\n",
      "\n",
      "\n",
      "\n"
     ]
    }
   ],
   "source": [
    "## sql\n",
    "with Profiler(2):\n",
    "    con = sqlite3.connect(':memory:') # or file or ?\n",
    "    con = csvToDb('../MOCK_DATA/mock_data_1.csv', con=con, table_name='client_info')\n",
    "    con = csvToDb('../MOCK_DATA/mock_data_2.csv', con=con, table_name='works_at')\n",
    "    query = \"\"\"\n",
    "    select works_at.email, works_at.company, client_info.last_name\n",
    "    from client_info, works_at\n",
    "    where client_info.email = works_at.email\n",
    "    \"\"\"\n",
    "    sql_out = con.execute(query)\n",
    "    sql_label = [description[0] for description in sql_out.description]\n",
    "    sql_data = sql_out.fetchall()\n",
    "    print(sql_data)"
   ]
  },
  {
   "cell_type": "code",
   "execution_count": null,
   "metadata": {
    "collapsed": true
   },
   "outputs": [],
   "source": []
  }
 ],
 "metadata": {
  "kernelspec": {
   "display_name": "Python 3",
   "language": "python",
   "name": "python3"
  },
  "language_info": {
   "codemirror_mode": {
    "name": "ipython",
    "version": 3
   },
   "file_extension": ".py",
   "mimetype": "text/x-python",
   "name": "python",
   "nbconvert_exporter": "python",
   "pygments_lexer": "ipython3",
   "version": "3.6.7"
  }
 },
 "nbformat": 4,
 "nbformat_minor": 2
}

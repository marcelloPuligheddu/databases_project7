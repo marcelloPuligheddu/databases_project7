{
 "cells": [
  {
   "cell_type": "code",
   "execution_count": 1,
   "metadata": {},
   "outputs": [],
   "source": [
    "from pandas import pandas as pd\n",
    "import numpy as np\n",
    "import random\n",
    "import csv, sqlite3\n",
    "import logging\n",
    "import cProfile\n",
    "import lazypandas\n",
    "import matplotlib.pyplot as plt"
   ]
  },
  {
   "cell_type": "code",
   "execution_count": 2,
   "metadata": {},
   "outputs": [
    {
     "name": "stdout",
     "output_type": "stream",
     "text": [
      "LZ Creating engine\n"
     ]
    }
   ],
   "source": [
    "lz = lazypandas.lazy_pandas()"
   ]
  },
  {
   "cell_type": "code",
   "execution_count": 3,
   "metadata": {},
   "outputs": [
    {
     "name": "stdout",
     "output_type": "stream",
     "text": [
      "insert table student <sqlite3.Connection object at 0x7fd41cc70f10>\n",
      "insert table instructors <sqlite3.Connection object at 0x7fd41cc70f10>\n",
      "insert table advises <sqlite3.Connection object at 0x7fd41cc70f10>\n"
     ]
    }
   ],
   "source": [
    "students = lz.read_csv('student.csv')\n",
    "instructors = lz.read_csv('instructors.csv')\n",
    "advises = lz.read_csv('advises.csv')"
   ]
  },
  {
   "cell_type": "code",
   "execution_count": 4,
   "metadata": {},
   "outputs": [
    {
     "data": {
      "text/plain": [
       "lzdf 0\n",
       "  ('table', 'advises')"
      ]
     },
     "execution_count": 4,
     "metadata": {},
     "output_type": "execute_result"
    }
   ],
   "source": [
    "advises"
   ]
  },
  {
   "cell_type": "code",
   "execution_count": 5,
   "metadata": {
    "collapsed": true
   },
   "outputs": [],
   "source": [
    "## 3 relations, students, instructors, advises"
   ]
  },
  {
   "cell_type": "code",
   "execution_count": 6,
   "metadata": {
    "collapsed": true
   },
   "outputs": [],
   "source": [
    "## select i.name, mean(s.GPA)\n",
    "## from s, i, a\n",
    "## where s.id == a.s_id and i.id == a.i_id\n",
    "## group by i.id"
   ]
  },
  {
   "cell_type": "code",
   "execution_count": 7,
   "metadata": {},
   "outputs": [
    {
     "name": "stdout",
     "output_type": "stream",
     "text": [
      "caught merge\n",
      "caught groupby ('i_id',) {}\n",
      "caught sort_values ('GPA',) {}\n",
      "caught merge\n"
     ]
    }
   ],
   "source": [
    "advises_plus_gpa = advises.merge( students, left_on='s_id', right_on='id')\n",
    "ave_gpa = advises_plus_gpa.groupby('i_id')\n",
    "ave_gpa_sorted = ave_gpa.sort_values('GPA')\n",
    "ave_gpa_sorted_plus_name = ave_gpa_sorted.merge( instructors, left_on='i_id', right_on='id' )"
   ]
  },
  {
   "cell_type": "code",
   "execution_count": 8,
   "metadata": {},
   "outputs": [
    {
     "data": {
      "text/plain": [
       "lzdf 0\n",
       "rajo 2\n",
       "    Join id i_id\n",
       "lzdf 3\n",
       "              ('table', 'instructors')\n",
       "\n",
       "lzdf 3\n",
       "      raso 5\n",
       "          sort on GPA\n",
       "lzdf 6\n",
       "            ragr 8\n",
       "                group by i_id\n",
       "lzdf 9\n",
       "                  rajo 11\n",
       "                      Join id s_id\n",
       "lzdf 12\n",
       "                                                  ('table', 'student')\n",
       "\n",
       "lzdf 12\n",
       "                                                  ('table', 'advises')\n",
       "\n",
       "\n",
       "\n",
       "\n",
       "\n",
       "\n",
       "\n",
       "\n",
       "\n",
       "\n",
       "\n"
      ]
     },
     "execution_count": 8,
     "metadata": {},
     "output_type": "execute_result"
    }
   ],
   "source": [
    "ave_gpa_sorted_plus_name"
   ]
  },
  {
   "cell_type": "code",
   "execution_count": 9,
   "metadata": {},
   "outputs": [
    {
     "name": "stdout",
     "output_type": "stream",
     "text": [
      "caught get []\n",
      "caught get []\n"
     ]
    },
    {
     "data": {
      "image/png": "[encoded data removed]",
      "text/plain": [
       "<Figure size 432x288 with 1 Axes>"
      ]
     },
     "metadata": {},
     "output_type": "display_data"
    }
   ],
   "source": [
    "plt.plot(ave_gpa_sorted_plus_name['name'], ave_gpa_sorted_plus_name['avg_GPA'])\n",
    "plt.show()"
   ]
  },
  {
   "cell_type": "code",
   "execution_count": 10,
   "metadata": {},
   "outputs": [
    {
     "name": "stdout",
     "output_type": "stream",
     "text": [
      "caught get []\n",
      "caught get []\n"
     ]
    },
    {
     "data": {
      "text/plain": [
       "lzdf 0\n",
       "raop 2\n",
       "    project\n",
       "lzdf 3\n",
       "      raop 5\n",
       "          project\n",
       "lzdf 6\n",
       "            rajo 8\n",
       "                Join id i_id\n",
       "lzdf 9\n",
       "                                      ('table', 'instructors')\n",
       "\n",
       "lzdf 9\n",
       "                  raso 11\n",
       "                      sort on GPA\n",
       "lzdf 12\n",
       "                        ragr 14\n",
       "                            group by i_id\n",
       "lzdf 15\n",
       "                              rajo 17\n",
       "                                  Join id s_id\n",
       "lzdf 18\n",
       "                                                                          ('table', 'student')\n",
       "\n",
       "lzdf 18\n",
       "                                                                          ('table', 'advises')\n",
       "\n",
       "\n",
       "\n",
       "\n",
       "\n",
       "\n",
       "\n",
       "\n",
       "\n",
       "\n",
       "\n",
       "\n",
       "          name\n",
       "\n",
       "\n",
       "    slice(None, None, None)\n",
       "\n"
      ]
     },
     "execution_count": 10,
     "metadata": {},
     "output_type": "execute_result"
    }
   ],
   "source": [
    "ave_gpa_sorted_plus_name['name'][:]"
   ]
  },
  {
   "cell_type": "code",
   "execution_count": null,
   "metadata": {
    "collapsed": true
   },
   "outputs": [],
   "source": []
  }
 ],
 "metadata": {
  "kernelspec": {
   "display_name": "Python 3",
   "language": "python",
   "name": "python3"
  },
  "language_info": {
   "codemirror_mode": {
    "name": "ipython",
    "version": 3
   },
   "file_extension": ".py",
   "mimetype": "text/x-python",
   "name": "python",
   "nbconvert_exporter": "python",
   "pygments_lexer": "ipython3",
   "version": "3.6.7"
  }
 },
 "nbformat": 4,
 "nbformat_minor": 2
}

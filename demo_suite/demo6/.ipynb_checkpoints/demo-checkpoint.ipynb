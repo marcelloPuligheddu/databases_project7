{
 "cells": [
  {
   "cell_type": "code",
   "execution_count": 1,
   "metadata": {},
   "outputs": [],
   "source": [
    "from pandas import pandas as pd\n",
    "import numpy as np\n",
    "import random\n",
    "import csv, sqlite3\n",
    "import logging\n",
    "import cProfile\n",
    "import mplib as mp\n",
    "import matplotlib.pyplot as plt"
   ]
  },
  {
   "cell_type": "code",
   "execution_count": 2,
   "metadata": {},
   "outputs": [
    {
     "data": {
      "text/plain": [
       "\"\\nsname = [(np.random.randint(Ns*Ns*100), '%030x' % random.randrange(16**30), np.random.normal()+3) for x in range(Ns)]\\niname = [(4111, 'X'), (111, 'Y'), (11, 'Z'), (1, 'W')]\\nstudents = pd.DataFrame(columns=('id','name','GPA'), data=sname)\\ninstructors = pd.DataFrame(columns=('id','name') ,data=iname)\\nstudents.to_csv('student.csv')\\ninstructors.to_csv('instructors.csv')\\na = []\\nfor si in np.random.permutation(len(sname)):\\n    ii = np.random.choice(len(instructors))\\n    a.append((students['id'][si], instructors['id'][ii]))\\nadvises = pd.DataFrame(a, columns=('s_id', 'i_id'))\\nadvises.to_csv('advises.csv')\\n\""
      ]
     },
     "execution_count": 2,
     "metadata": {},
     "output_type": "execute_result"
    }
   ],
   "source": [
    "\"\"\"\n",
    "sname = [(np.random.randint(Ns*Ns*100), '%030x' % random.randrange(16**30), np.random.normal()+3) for x in range(Ns)]\n",
    "iname = [(4111, 'X'), (111, 'Y'), (11, 'Z'), (1, 'W')]\n",
    "students = pd.DataFrame(columns=('id','name','GPA'), data=sname)\n",
    "instructors = pd.DataFrame(columns=('id','name') ,data=iname)\n",
    "students.to_csv('student.csv')\n",
    "instructors.to_csv('instructors.csv')\n",
    "a = []\n",
    "for si in np.random.permutation(len(sname)):\n",
    "    ii = np.random.choice(len(instructors))\n",
    "    a.append((students['id'][si], instructors['id'][ii]))\n",
    "advises = pd.DataFrame(a, columns=('s_id', 'i_id'))\n",
    "advises.to_csv('advises.csv')\n",
    "\"\"\""
   ]
  },
  {
   "cell_type": "code",
   "execution_count": 3,
   "metadata": {},
   "outputs": [
    {
     "name": "stdout",
     "output_type": "stream",
     "text": [
      "LZ Creating engine\n"
     ]
    }
   ],
   "source": [
    "lz = mp.lazy_pandas()"
   ]
  },
  {
   "cell_type": "code",
   "execution_count": 4,
   "metadata": {},
   "outputs": [
    {
     "name": "stdout",
     "output_type": "stream",
     "text": [
      "insert table student <sqlite3.Connection object at 0x7f8ea0020f10>\n",
      "insert table instructors <sqlite3.Connection object at 0x7f8ea0020f10>\n",
      "insert table advises <sqlite3.Connection object at 0x7f8ea0020f10>\n"
     ]
    }
   ],
   "source": [
    "students = lz.read_csv('student.csv')\n",
    "instructors = lz.read_csv('instructors.csv')\n",
    "advises = lz.read_csv('advises.csv')"
   ]
  },
  {
   "cell_type": "code",
   "execution_count": 5,
   "metadata": {},
   "outputs": [
    {
     "data": {
      "text/plain": [
       "lazy Df: \n",
       "  con: \n",
       "<sqlite3.Connection object at 0x7f8ea0020f10>\n",
       "  DAG: \n",
       "('table', 'advises')\n"
      ]
     },
     "execution_count": 5,
     "metadata": {},
     "output_type": "execute_result"
    }
   ],
   "source": [
    "advises"
   ]
  },
  {
   "cell_type": "code",
   "execution_count": 6,
   "metadata": {
    "collapsed": true
   },
   "outputs": [],
   "source": [
    "## 3 relations, students, instructors, advises"
   ]
  },
  {
   "cell_type": "code",
   "execution_count": 7,
   "metadata": {
    "collapsed": true
   },
   "outputs": [],
   "source": [
    "## select i.name, mean(s.GPA)\n",
    "## from s, i, a\n",
    "## where s.id == a.s_id and i.id == a.i_id\n",
    "## group by i.id"
   ]
  },
  {
   "cell_type": "code",
   "execution_count": 8,
   "metadata": {},
   "outputs": [
    {
     "name": "stdout",
     "output_type": "stream",
     "text": [
      "caught merge\n"
     ]
    }
   ],
   "source": [
    "advises_plus_gpa = advises.merge( students, left_on='s_id', right_on='id')\n",
    "ave_gpa = advises_plus_gpa.groupby('i_id').mean().reset_index()\n",
    "#ave_gpa['avg_GPA'] = ave_gpa['GPA']\n",
    "#ave_gpa_sorted = ave_gpa.sort_values('avg_GPA')\n",
    "#ave_gpa_sorted_plus_name = ave_gpa_sorted.merge( instructors, left_on='i_id', right_on='id' )"
   ]
  },
  {
   "cell_type": "code",
   "execution_count": 9,
   "metadata": {},
   "outputs": [
    {
     "data": {
      "text/plain": [
       "lazy Df: \n",
       "  con: \n",
       "<sqlite3.Connection object at 0x7f8ea0020f10>\n",
       "  DAG: \n",
       "join df df {'left_on': 's_id', 'right_on': 'id'} \n"
      ]
     },
     "execution_count": 9,
     "metadata": {},
     "output_type": "execute_result"
    }
   ],
   "source": [
    "advises_plus_gpa"
   ]
  },
  {
   "cell_type": "code",
   "execution_count": 10,
   "metadata": {},
   "outputs": [
    {
     "ename": "NameError",
     "evalue": "name 'ave_gpa_sorted_plus_name' is not defined",
     "output_type": "error",
     "traceback": [
      "\u001b[0;31m---------------------------------------------------------------------------\u001b[0m",
      "\u001b[0;31mNameError\u001b[0m                                 Traceback (most recent call last)",
      "\u001b[0;32m<ipython-input-10-930a3b79f5e3>\u001b[0m in \u001b[0;36m<module>\u001b[0;34m()\u001b[0m\n\u001b[0;32m----> 1\u001b[0;31m \u001b[0mplt\u001b[0m\u001b[0;34m.\u001b[0m\u001b[0mplot\u001b[0m\u001b[0;34m(\u001b[0m\u001b[0mave_gpa_sorted_plus_name\u001b[0m\u001b[0;34m[\u001b[0m\u001b[0;34m'name'\u001b[0m\u001b[0;34m]\u001b[0m\u001b[0;34m,\u001b[0m \u001b[0mave_gpa_sorted_plus_name\u001b[0m\u001b[0;34m[\u001b[0m\u001b[0;34m'avg_GPA'\u001b[0m\u001b[0;34m]\u001b[0m\u001b[0;34m)\u001b[0m\u001b[0;34m\u001b[0m\u001b[0;34m\u001b[0m\u001b[0m\n\u001b[0m\u001b[1;32m      2\u001b[0m \u001b[0mplt\u001b[0m\u001b[0;34m.\u001b[0m\u001b[0mshow\u001b[0m\u001b[0;34m(\u001b[0m\u001b[0;34m)\u001b[0m\u001b[0;34m\u001b[0m\u001b[0;34m\u001b[0m\u001b[0m\n",
      "\u001b[0;31mNameError\u001b[0m: name 'ave_gpa_sorted_plus_name' is not defined"
     ]
    }
   ],
   "source": [
    "plt.plot(ave_gpa_sorted_plus_name['name'], ave_gpa_sorted_plus_name['avg_GPA'])\n",
    "plt.show()"
   ]
  },
  {
   "cell_type": "code",
   "execution_count": null,
   "metadata": {
    "collapsed": true
   },
   "outputs": [],
   "source": []
  }
 ],
 "metadata": {
  "kernelspec": {
   "display_name": "Python 3",
   "language": "python",
   "name": "python3"
  },
  "language_info": {
   "codemirror_mode": {
    "name": "ipython",
    "version": 3
   },
   "file_extension": ".py",
   "mimetype": "text/x-python",
   "name": "python",
   "nbconvert_exporter": "python",
   "pygments_lexer": "ipython3",
   "version": "3.6.7"
  }
 },
 "nbformat": 4,
 "nbformat_minor": 2
}
